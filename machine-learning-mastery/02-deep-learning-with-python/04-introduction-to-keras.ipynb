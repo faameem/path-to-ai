{
 "cells": [
  {
   "cell_type": "code",
   "execution_count": 1,
   "metadata": {
    "collapsed": true
   },
   "outputs": [],
   "source": [
    "# - Keras Python library that provides a clean and convenient way to create a range \n",
    "# of deep learning models on top of Theano or TensorFlow. "
   ]
  },
  {
   "cell_type": "code",
   "execution_count": 2,
   "metadata": {
    "collapsed": true
   },
   "outputs": [],
   "source": [
    "# 4.1 What is Keras?"
   ]
  },
  {
   "cell_type": "code",
   "execution_count": 3,
   "metadata": {
    "collapsed": true
   },
   "outputs": [],
   "source": [
    "# - Keras is a minimalist Python library for deep learning that can run on top of \n",
    "# Theano or TensorFlow. \n",
    "\n",
    "# - It was developed to make developing deep learning models as fast and easy as \n",
    "# possible for research and development. \n",
    "\n",
    "# - It runs on Python 2.7 or 3.5 and can seamlessly execute on GPUs and CPUs given \n",
    "# the underlying frameworks. \n",
    "\n",
    "# - It is released under the permissive MIT license. \n",
    "\n",
    "# - Keras was developed and maintained by Franc ̧ois Chollet, a Google engineer using \n",
    "# four guiding principles:\n",
    "    # - Modularity: A model can be understood as a sequence or a graph alone. \n",
    "    # All the concerns of a deep learning model are discrete components that \n",
    "    # can be combined in arbitrary ways.\n",
    "    \n",
    "    # - Minimalism: The library provides just enough to achieve an outcome, \n",
    "    # no frills and maximizing readability.\n",
    "  \n",
    "    # - Extensibility: New components are intentionally easy to add and use \n",
    "    # within the frame- work, intended for developers to trial and explore new ideas.\n",
    "  \n",
    "    # - Python: No separate model files with custom file formats. \n",
    "    # Everything is native Python."
   ]
  },
  {
   "cell_type": "code",
   "execution_count": 4,
   "metadata": {
    "collapsed": true
   },
   "outputs": [],
   "source": [
    "# 4.2 How to Install Keras"
   ]
  },
  {
   "cell_type": "code",
   "execution_count": 5,
   "metadata": {
    "collapsed": true
   },
   "outputs": [],
   "source": [
    "# - $ sudo pip install keras"
   ]
  },
  {
   "cell_type": "code",
   "execution_count": 6,
   "metadata": {
    "collapsed": true
   },
   "outputs": [],
   "source": [
    "# - $ sudo pip install --upgrade keras"
   ]
  },
  {
   "cell_type": "code",
   "execution_count": 7,
   "metadata": {
    "collapsed": false
   },
   "outputs": [
    {
     "name": "stderr",
     "output_type": "stream",
     "text": [
      "Using TensorFlow backend.\n"
     ]
    }
   ],
   "source": [
    "import keras"
   ]
  },
  {
   "cell_type": "code",
   "execution_count": 8,
   "metadata": {
    "collapsed": false
   },
   "outputs": [
    {
     "data": {
      "text/plain": [
       "'2.0.4'"
      ]
     },
     "execution_count": 8,
     "metadata": {},
     "output_type": "execute_result"
    }
   ],
   "source": [
    "keras.__version__"
   ]
  },
  {
   "cell_type": "code",
   "execution_count": 9,
   "metadata": {
    "collapsed": true
   },
   "outputs": [],
   "source": [
    "# 4.3 Theano and TensorFlow Backends for Keras"
   ]
  },
  {
   "cell_type": "code",
   "execution_count": 10,
   "metadata": {
    "collapsed": true
   },
   "outputs": [],
   "source": [
    "# - To change Keras backend\n",
    "\n",
    "# - $ cat ~/.keras/keras.json\n",
    "\n",
    "# - toggle \"backend\" property between \"tensorflow\" (default) or \"theano\""
   ]
  },
  {
   "cell_type": "code",
   "execution_count": 11,
   "metadata": {
    "collapsed": true
   },
   "outputs": [],
   "source": [
    "from keras import backend"
   ]
  },
  {
   "cell_type": "code",
   "execution_count": 12,
   "metadata": {
    "collapsed": false
   },
   "outputs": [
    {
     "name": "stdout",
     "output_type": "stream",
     "text": [
      "tensorflow\n"
     ]
    }
   ],
   "source": [
    "print(backend._BACKEND)"
   ]
  },
  {
   "cell_type": "code",
   "execution_count": 13,
   "metadata": {
    "collapsed": true
   },
   "outputs": [],
   "source": [
    "# 4.4 Build Deep Learning Models in Keras"
   ]
  },
  {
   "cell_type": "code",
   "execution_count": 14,
   "metadata": {
    "collapsed": true
   },
   "outputs": [],
   "source": [
    "# - We can summarize the construction of deep learning models in Keras as follows:\n",
    "    # 1. Define your model. Create a Sequential model and add configured layers.\n",
    "    \n",
    "    # 2. Compile your model. Specify loss function and optimizers and call the compile() \n",
    "    # function on the model.\n",
    "\n",
    "    # 3. Fit your model. Train the model on a sample of data by calling the fit() function\n",
    "    # on the model.\n",
    "\n",
    "    # 4. Make predictions. Use the model to generate predictions on new data by calling \n",
    "    # functions such as evaluate() or predict() on the model."
   ]
  },
  {
   "cell_type": "code",
   "execution_count": null,
   "metadata": {
    "collapsed": true
   },
   "outputs": [],
   "source": []
  }
 ],
 "metadata": {
  "kernelspec": {
   "display_name": "Python 3",
   "language": "python",
   "name": "python3"
  },
  "language_info": {
   "codemirror_mode": {
    "name": "ipython",
    "version": 3
   },
   "file_extension": ".py",
   "mimetype": "text/x-python",
   "name": "python",
   "nbconvert_exporter": "python",
   "pygments_lexer": "ipython3",
   "version": "3.6.0"
  }
 },
 "nbformat": 4,
 "nbformat_minor": 2
}
