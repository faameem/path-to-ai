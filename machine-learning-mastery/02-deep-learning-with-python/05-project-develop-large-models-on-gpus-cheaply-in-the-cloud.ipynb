{
 "cells": [
  {
   "cell_type": "code",
   "execution_count": 1,
   "metadata": {
    "collapsed": true
   },
   "outputs": [],
   "source": [
    "# 5.1 Project Overview"
   ]
  },
  {
   "cell_type": "code",
   "execution_count": 2,
   "metadata": {
    "collapsed": true
   },
   "outputs": [],
   "source": [
    "# - Setup your aws account.\n",
    "\n",
    "# - Launch your server instance.\n",
    "\n",
    "# - Login and run your code.\n",
    "\n",
    "# - close your server instance (to avoid un-necassary charges)"
   ]
  },
  {
   "cell_type": "code",
   "execution_count": 3,
   "metadata": {
    "collapsed": true
   },
   "outputs": [],
   "source": [
    "# 5.2 Setup your aws account"
   ]
  },
  {
   "cell_type": "code",
   "execution_count": 4,
   "metadata": {
    "collapsed": true
   },
   "outputs": [],
   "source": [
    "# - Use a new account or use an existing one to sign-in"
   ]
  },
  {
   "cell_type": "code",
   "execution_count": 5,
   "metadata": {
    "collapsed": true
   },
   "outputs": [],
   "source": [
    "# 5.3 Launch your server instance"
   ]
  },
  {
   "cell_type": "code",
   "execution_count": 7,
   "metadata": {
    "collapsed": true
   },
   "outputs": [],
   "source": [
    "# - Use [Deep Learning AMI Amazon Linux Version] image to launch an EC2 virtual server instance\n",
    "# on which to run Keras\n",
    "\n",
    "# - 1. Login to your AWS console2 if you have not already.\n",
    "\n",
    "# - 2. Click on EC2 for launching a new virtual server.\n",
    "\n",
    "# - 3. Select US West Orgeon from the drop-down in the top right hand corner. \n",
    "# This is important otherwise you will not be able to find the image we plan to use.\n",
    "  \n",
    "# - 4. Click the Launch Instance button.\n",
    "  \n",
    "# - 5. Click Community AMIs. \n",
    "# An AMI is an Amazon Machine Image. \n",
    "# It is a frozen instance of a server that you can select and instantiate on a new virtual server."
   ]
  },
  {
   "cell_type": "code",
   "execution_count": null,
   "metadata": {
    "collapsed": true
   },
   "outputs": [],
   "source": []
  }
 ],
 "metadata": {
  "kernelspec": {
   "display_name": "Python 3",
   "language": "python",
   "name": "python3"
  },
  "language_info": {
   "codemirror_mode": {
    "name": "ipython",
    "version": 3
   },
   "file_extension": ".py",
   "mimetype": "text/x-python",
   "name": "python",
   "nbconvert_exporter": "python",
   "pygments_lexer": "ipython3",
   "version": "3.6.0"
  }
 },
 "nbformat": 4,
 "nbformat_minor": 2
}
