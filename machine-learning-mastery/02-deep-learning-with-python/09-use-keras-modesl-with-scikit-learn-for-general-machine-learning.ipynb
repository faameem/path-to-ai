{
 "cells": [
  {
   "cell_type": "code",
   "execution_count": 1,
   "metadata": {
    "collapsed": true
   },
   "outputs": [],
   "source": [
    "# Evaluate models with cross-validation via sklearn"
   ]
  },
  {
   "cell_type": "code",
   "execution_count": 2,
   "metadata": {},
   "outputs": [
    {
     "name": "stderr",
     "output_type": "stream",
     "text": [
      "Using TensorFlow backend.\n",
      "C:\\Program Files\\Anaconda3\\lib\\site-packages\\nbformat\\current.py:19: UserWarning: nbformat.current is deprecated.\n",
      "\n",
      "- use nbformat for read/write/validate public API\n",
      "- use nbformat.vX directly to composing notebooks of a particular version\n",
      "\n",
      "  \"\"\")\n"
     ]
    }
   ],
   "source": [
    "from keras.models import Sequential\n",
    "from keras.layers import Dense\n",
    "from keras.wrappers.scikit_learn import KerasClassifier\n",
    "\n",
    "from sklearn.model_selection import StratifiedKFold\n",
    "from sklearn.model_selection import cross_val_score\n",
    "from sklearn.model_selection import GridSearchCV\n",
    "\n",
    "import run_notebook\n",
    "import time"
   ]
  },
  {
   "cell_type": "code",
   "execution_count": 3,
   "metadata": {},
   "outputs": [
    {
     "name": "stdout",
     "output_type": "stream",
     "text": [
      "6.000 148.000 72.000 35.000 0.000 33.600 0.627 50.000 1.000\n",
      "1.000 85.000 66.000 29.000 0.000 26.600 0.351 31.000 0.000\n",
      "8.000 183.000 64.000 0.000 0.000 23.300 0.672 32.000 1.000\n",
      "1.000 89.000 66.000 23.000 94.000 28.100 0.167 21.000 0.000\n",
      "0.000 137.000 40.000 35.000 168.000 43.100 2.288 33.000 1.000\n",
      "6.000 148.000 72.000 35.000 0.000 33.600 0.627 50.000\n",
      "1.000 85.000 66.000 29.000 0.000 26.600 0.351 31.000\n",
      "8.000 183.000 64.000 0.000 0.000 23.300 0.672 32.000\n",
      "1.000 89.000 66.000 23.000 94.000 28.100 0.167 21.000\n",
      "0.000 137.000 40.000 35.000 168.000 43.100 2.288 33.000\n",
      "1.000\n",
      "0.000\n",
      "1.000\n",
      "0.000\n",
      "1.000\n",
      "[ 1.  0.  1.  0.  1.]\n"
     ]
    }
   ],
   "source": [
    "run_notebook.execute_notebook('./data/dataset-pima-indians-diabetes.ipynb')"
   ]
  },
  {
   "cell_type": "code",
   "execution_count": 4,
   "metadata": {
    "collapsed": true
   },
   "outputs": [],
   "source": [
    "def create_model(_optimizer='adam', _init='glorot_uniform'):\n",
    "    _model = Sequential()\n",
    "    _model.add(Dense(12, input_dim=8, kernel_initializer=_init, activation='relu'))\n",
    "    _model.add(Dense(8, kernel_initializer=_init, activation='relu'))\n",
    "    _model.add(Dense(1, kernel_initializer=_init, activation='sigmoid'))\n",
    "    _model.compile(loss='binary_crossentropy', optimizer=_optimizer, metrics=['accuracy'])\n",
    "    return _model"
   ]
  },
  {
   "cell_type": "code",
   "execution_count": 5,
   "metadata": {
    "collapsed": true
   },
   "outputs": [],
   "source": [
    "_seed = 7\n",
    "numpy.random.seed(_seed)"
   ]
  },
  {
   "cell_type": "code",
   "execution_count": 6,
   "metadata": {
    "collapsed": true
   },
   "outputs": [],
   "source": [
    "_model = KerasClassifier(build_fn=create_model, epochs=150, batch_size=10, verbose=0)"
   ]
  },
  {
   "cell_type": "code",
   "execution_count": 7,
   "metadata": {
    "collapsed": true
   },
   "outputs": [],
   "source": [
    "_kfold = StratifiedKFold(n_splits=10, shuffle=True, random_state=_seed)"
   ]
  },
  {
   "cell_type": "code",
   "execution_count": 8,
   "metadata": {},
   "outputs": [
    {
     "name": "stdout",
     "output_type": "stream",
     "text": [
      "time: 88.67086625099182\n"
     ]
    }
   ],
   "source": [
    "_start = time.time()\n",
    "_results = cross_val_score(_model, _X, _Y, cv=_kfold)\n",
    "_end = time.time()\n",
    "print('time: {}'.format(_end - _start))"
   ]
  },
  {
   "cell_type": "code",
   "execution_count": 9,
   "metadata": {},
   "outputs": [
    {
     "name": "stdout",
     "output_type": "stream",
     "text": [
      "0.692635000703\n"
     ]
    }
   ],
   "source": [
    "print(_results.mean())"
   ]
  },
  {
   "cell_type": "code",
   "execution_count": 10,
   "metadata": {
    "collapsed": true
   },
   "outputs": [],
   "source": [
    "# Grid Search Deep Learning Model Parameters"
   ]
  },
  {
   "cell_type": "code",
   "execution_count": 20,
   "metadata": {
    "collapsed": true
   },
   "outputs": [],
   "source": [
    "_optimizers = ['rmsprop', 'adam']\n",
    "_inits = ['glorot_uniform', 'normal', 'uniform']\n",
    "_epochs = [50, 100, 150]\n",
    "_batches = [5, 10, 20]\n",
    "_param_grid = dict(_optimizer=_optimizers, epochs=_epochs, batch_size=_batches, _init=_inits)"
   ]
  },
  {
   "cell_type": "code",
   "execution_count": 21,
   "metadata": {
    "collapsed": true
   },
   "outputs": [],
   "source": [
    "_model = KerasClassifier(build_fn=create_model, verbose=0)"
   ]
  },
  {
   "cell_type": "code",
   "execution_count": 22,
   "metadata": {
    "collapsed": true
   },
   "outputs": [],
   "source": [
    "_grid = GridSearchCV(estimator=_model, param_grid=_param_grid)"
   ]
  },
  {
   "cell_type": "code",
   "execution_count": 23,
   "metadata": {},
   "outputs": [
    {
     "name": "stdout",
     "output_type": "stream",
     "text": [
      "time: 1610.1009938716888\n"
     ]
    }
   ],
   "source": [
    "_start = time.time()\n",
    "_grid_result = _grid.fit(_X, _Y)\n",
    "_end = time.time()\n",
    "print('time: {}'.format(_end - _start))"
   ]
  },
  {
   "cell_type": "code",
   "execution_count": 24,
   "metadata": {},
   "outputs": [
    {
     "name": "stdout",
     "output_type": "stream",
     "text": [
      "Best: 0.7447916688397527 using {'_init': 'normal', 'batch_size': 20, 'epochs': 150, '_optimizer': 'rmsprop'}\n",
      "0.6744791795887674 (0.004871950157948154) with: {'_init': 'glorot_uniform', 'batch_size': 5, 'epochs': 50, '_optimizer': 'rmsprop'}\n",
      "0.7018229289290806 (0.006639347567765096) with: {'_init': 'glorot_uniform', 'batch_size': 5, 'epochs': 100, '_optimizer': 'rmsprop'}\n",
      "0.6861979284052117 (0.04944488920473057) with: {'_init': 'glorot_uniform', 'batch_size': 5, 'epochs': 150, '_optimizer': 'rmsprop'}\n",
      "0.5859375037446929 (0.1339564681494006) with: {'_init': 'glorot_uniform', 'batch_size': 10, 'epochs': 50, '_optimizer': 'rmsprop'}\n",
      "0.7018229198486855 (0.01841423722752396) with: {'_init': 'glorot_uniform', 'batch_size': 10, 'epochs': 100, '_optimizer': 'rmsprop'}\n",
      "0.6614583344974866 (0.03669011119504826) with: {'_init': 'glorot_uniform', 'batch_size': 10, 'epochs': 150, '_optimizer': 'rmsprop'}\n",
      "0.6588541655801237 (0.030145408413290196) with: {'_init': 'glorot_uniform', 'batch_size': 20, 'epochs': 50, '_optimizer': 'rmsprop'}\n",
      "0.684895834264656 (0.003682849135769658) with: {'_init': 'glorot_uniform', 'batch_size': 20, 'epochs': 100, '_optimizer': 'rmsprop'}\n",
      "0.6783854163562258 (0.004871951381738122) with: {'_init': 'glorot_uniform', 'batch_size': 20, 'epochs': 150, '_optimizer': 'rmsprop'}\n",
      "0.6848958456345523 (0.026748227407204048) with: {'_init': 'glorot_uniform', 'batch_size': 5, 'epochs': 50, '_optimizer': 'adam'}\n",
      "0.7161458447420349 (0.021236335023814078) with: {'_init': 'glorot_uniform', 'batch_size': 5, 'epochs': 100, '_optimizer': 'adam'}\n",
      "0.7031250110206505 (0.06085063176414065) with: {'_init': 'glorot_uniform', 'batch_size': 5, 'epochs': 150, '_optimizer': 'adam'}\n",
      "0.6861979209352285 (0.004871948871932068) with: {'_init': 'glorot_uniform', 'batch_size': 10, 'epochs': 50, '_optimizer': 'adam'}\n",
      "0.6796875051222742 (0.01461584674024817) with: {'_init': 'glorot_uniform', 'batch_size': 10, 'epochs': 100, '_optimizer': 'adam'}\n",
      "0.5807291714590974 (0.13998455411336358) with: {'_init': 'glorot_uniform', 'batch_size': 10, 'epochs': 150, '_optimizer': 'adam'}\n",
      "0.470052082130375 (0.14717574104993425) with: {'_init': 'glorot_uniform', 'batch_size': 20, 'epochs': 50, '_optimizer': 'adam'}\n",
      "0.6992187504656613 (0.04499258315764762) with: {'_init': 'glorot_uniform', 'batch_size': 20, 'epochs': 100, '_optimizer': 'adam'}\n",
      "0.722656245653828 (0.01390244703628809) with: {'_init': 'glorot_uniform', 'batch_size': 20, 'epochs': 150, '_optimizer': 'adam'}\n",
      "0.7018229276679145 (0.02558187890056376) with: {'_init': 'normal', 'batch_size': 5, 'epochs': 50, '_optimizer': 'rmsprop'}\n",
      "0.7291666777843299 (0.006639348473391632) with: {'_init': 'normal', 'batch_size': 5, 'epochs': 100, '_optimizer': 'rmsprop'}\n",
      "0.720052094606217 (0.024773824480724203) with: {'_init': 'normal', 'batch_size': 5, 'epochs': 150, '_optimizer': 'rmsprop'}\n",
      "0.694010415696539 (0.011200942648459023) with: {'_init': 'normal', 'batch_size': 10, 'epochs': 50, '_optimizer': 'rmsprop'}\n",
      "0.7057291702367365 (0.034400637864486404) with: {'_init': 'normal', 'batch_size': 10, 'epochs': 100, '_optimizer': 'rmsprop'}\n",
      "0.7031250033372393 (0.013902444921048775) with: {'_init': 'normal', 'batch_size': 10, 'epochs': 150, '_optimizer': 'rmsprop'}\n",
      "0.6835937506208817 (0.0031894401494690326) with: {'_init': 'normal', 'batch_size': 20, 'epochs': 50, '_optimizer': 'rmsprop'}\n",
      "0.7044270802289248 (0.006639345463515367) with: {'_init': 'normal', 'batch_size': 20, 'epochs': 100, '_optimizer': 'rmsprop'}\n",
      "0.7447916688397527 (0.03064740139028358) with: {'_init': 'normal', 'batch_size': 20, 'epochs': 150, '_optimizer': 'rmsprop'}\n",
      "0.7057291785798346 (0.009743899589919221) with: {'_init': 'normal', 'batch_size': 5, 'epochs': 50, '_optimizer': 'adam'}\n",
      "0.7083333454987345 (0.015733133317655572) with: {'_init': 'normal', 'batch_size': 5, 'epochs': 100, '_optimizer': 'adam'}\n",
      "0.7421875109236377 (0.022097087145314134) with: {'_init': 'normal', 'batch_size': 5, 'epochs': 150, '_optimizer': 'adam'}\n",
      "0.6901041701591263 (0.018688413089913043) with: {'_init': 'normal', 'batch_size': 10, 'epochs': 50, '_optimizer': 'adam'}\n",
      "0.7252604161233952 (0.02876395500270824) with: {'_init': 'normal', 'batch_size': 10, 'epochs': 100, '_optimizer': 'adam'}\n",
      "0.7317708326348414 (0.01948779658706345) with: {'_init': 'normal', 'batch_size': 10, 'epochs': 150, '_optimizer': 'adam'}\n",
      "0.679687497826914 (0.01390244572789246) with: {'_init': 'normal', 'batch_size': 20, 'epochs': 50, '_optimizer': 'adam'}\n",
      "0.7161458327124516 (0.025581885615998896) with: {'_init': 'normal', 'batch_size': 20, 'epochs': 100, '_optimizer': 'adam'}\n",
      "0.7356770802289248 (0.01636693099419868) with: {'_init': 'normal', 'batch_size': 20, 'epochs': 150, '_optimizer': 'adam'}\n",
      "0.7200520940241404 (0.006639348682675088) with: {'_init': 'uniform', 'batch_size': 5, 'epochs': 50, '_optimizer': 'rmsprop'}\n",
      "0.7356770944509966 (0.012075023994803057) with: {'_init': 'uniform', 'batch_size': 5, 'epochs': 100, '_optimizer': 'rmsprop'}\n",
      "0.71875001086543 (0.022097086678845097) with: {'_init': 'uniform', 'batch_size': 5, 'epochs': 150, '_optimizer': 'rmsprop'}\n",
      "0.7044270818587393 (0.010252613098514426) with: {'_init': 'uniform', 'batch_size': 10, 'epochs': 50, '_optimizer': 'rmsprop'}\n",
      "0.7161458364377419 (0.028586586603400764) with: {'_init': 'uniform', 'batch_size': 10, 'epochs': 100, '_optimizer': 'rmsprop'}\n",
      "0.7343750012417635 (0.008438461217662641) with: {'_init': 'uniform', 'batch_size': 10, 'epochs': 150, '_optimizer': 'rmsprop'}\n",
      "0.6966145820915699 (0.013278699328809615) with: {'_init': 'uniform', 'batch_size': 20, 'epochs': 50, '_optimizer': 'rmsprop'}\n",
      "0.716145833954215 (0.025581883135238105) with: {'_init': 'uniform', 'batch_size': 20, 'epochs': 100, '_optimizer': 'rmsprop'}\n",
      "0.7278645792976022 (0.020751795620102813) with: {'_init': 'uniform', 'batch_size': 20, 'epochs': 150, '_optimizer': 'rmsprop'}\n",
      "0.7096354286574448 (0.023938511027214737) with: {'_init': 'uniform', 'batch_size': 5, 'epochs': 50, '_optimizer': 'adam'}\n",
      "0.729166678172381 (0.012889967222303147) with: {'_init': 'uniform', 'batch_size': 5, 'epochs': 100, '_optimizer': 'adam'}\n",
      "0.7330729278425375 (0.00736569530808762) with: {'_init': 'uniform', 'batch_size': 5, 'epochs': 150, '_optimizer': 'adam'}\n",
      "0.6901041670547178 (0.01120094415964433) with: {'_init': 'uniform', 'batch_size': 10, 'epochs': 50, '_optimizer': 'adam'}\n",
      "0.7070312530656034 (0.024910322536658733) with: {'_init': 'uniform', 'batch_size': 10, 'epochs': 100, '_optimizer': 'adam'}\n",
      "0.7317708337213844 (0.022401891738628256) with: {'_init': 'uniform', 'batch_size': 10, 'epochs': 150, '_optimizer': 'adam'}\n",
      "0.6979166685293118 (0.027498323773052953) with: {'_init': 'uniform', 'batch_size': 20, 'epochs': 50, '_optimizer': 'adam'}\n",
      "0.6953124962747097 (0.02923169908089078) with: {'_init': 'uniform', 'batch_size': 20, 'epochs': 100, '_optimizer': 'adam'}\n",
      "0.7161458370586237 (0.022627797705110916) with: {'_init': 'uniform', 'batch_size': 20, 'epochs': 150, '_optimizer': 'adam'}\n"
     ]
    }
   ],
   "source": [
    "print('Best: {} using {}'.format(_grid_result.best_score_, _grid_result.best_params_))\n",
    "_means = _grid_result.cv_results_['mean_test_score']\n",
    "_stds = _grid_result.cv_results_['std_test_score']\n",
    "_params = _grid_result.cv_results_['params']\n",
    "for _mean, _std, _param in zip(_means, _stds, _params):\n",
    "    print('{} ({}) with: {}'.format(_mean, _std, _param))"
   ]
  },
  {
   "cell_type": "code",
   "execution_count": 26,
   "metadata": {},
   "outputs": [
    {
     "name": "stdout",
     "output_type": "stream",
     "text": [
      "time: 26.835016564528146 minutes\n"
     ]
    }
   ],
   "source": [
    "print('time: {} minutes'.format((_end - _start)/60))"
   ]
  },
  {
   "cell_type": "code",
   "execution_count": 27,
   "metadata": {},
   "outputs": [
    {
     "data": {
      "text/plain": [
       "1.4778333333333333"
      ]
     },
     "execution_count": 27,
     "metadata": {},
     "output_type": "execute_result"
    }
   ],
   "source": [
    "88.67/60"
   ]
  },
  {
   "cell_type": "code",
   "execution_count": null,
   "metadata": {
    "collapsed": true
   },
   "outputs": [],
   "source": []
  }
 ],
 "metadata": {
  "kernelspec": {
   "display_name": "Python [conda root]",
   "language": "python",
   "name": "conda-root-py"
  },
  "language_info": {
   "codemirror_mode": {
    "name": "ipython",
    "version": 3
   },
   "file_extension": ".py",
   "mimetype": "text/x-python",
   "name": "python",
   "nbconvert_exporter": "python",
   "pygments_lexer": "ipython3",
   "version": "3.5.3"
  }
 },
 "nbformat": 4,
 "nbformat_minor": 2
}
