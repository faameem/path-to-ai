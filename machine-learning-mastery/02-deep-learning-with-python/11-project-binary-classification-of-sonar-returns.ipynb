{
 "cells": [
  {
   "cell_type": "code",
   "execution_count": 1,
   "metadata": {},
   "outputs": [
    {
     "name": "stderr",
     "output_type": "stream",
     "text": [
      "Using TensorFlow backend.\n"
     ]
    }
   ],
   "source": [
    "from keras.models import Sequential\n",
    "from keras.layers import Dense\n",
    "from keras.wrappers.scikit_learn import KerasClassifier\n",
    "\n",
    "from sklearn.model_selection import cross_val_score\n",
    "from sklearn.model_selection import StratifiedKFold\n",
    "from sklearn.preprocessing import StandardScaler\n",
    "from sklearn.pipeline import Pipeline\n",
    "\n",
    "from time import time\n",
    "\n",
    "from run_notebook import execute_notebook"
   ]
  },
  {
   "cell_type": "code",
   "execution_count": 2,
   "metadata": {},
   "outputs": [
    {
     "name": "stdout",
     "output_type": "stream",
     "text": [
      "====================================================================================================\n",
      "Shape:\n",
      "(207, 61)\n",
      "====================================================================================================\n",
      "_array:\n",
      "[[0.0453 0.0523 0.0843 0.0689 0.1183 0.2583 0.2156 0.3481 0.3337 0.2872\n",
      "  0.4918 0.6552 0.6919 0.7797 0.7464 0.9444 1.0 0.8874 0.8024 0.7818 0.5212\n",
      "  0.4052 0.3957 0.3914 0.325 0.32 0.3271 0.2767 0.4423 0.2028 0.3788 0.2947\n",
      "  0.1984 0.2341 0.1306 0.4182 0.3835 0.1057 0.184 0.197 0.1674 0.0583\n",
      "  0.1401 0.1628 0.0621 0.0203 0.053 0.0742 0.0409 0.0061 0.0125 0.0084\n",
      "  0.0089 0.0048 0.0094 0.0191 0.014 0.0049 0.0052 0.0044 'R']\n",
      " [0.0262 0.0582 0.1099 0.1083 0.0974 0.228 0.2431 0.3771 0.5598 0.6194\n",
      "  0.6333 0.706 0.5544 0.532 0.6479 0.6931 0.6759 0.7551 0.8929 0.8619\n",
      "  0.7974 0.6737 0.4293 0.3648 0.5331 0.2413 0.507 0.8533 0.6036 0.8514\n",
      "  0.8512 0.5045 0.1862 0.2709 0.4232 0.3043 0.6116 0.6756 0.5375 0.4719\n",
      "  0.4647 0.2587 0.2129 0.2222 0.2111 0.0176 0.1348 0.0744 0.013 0.0106\n",
      "  0.0033 0.0232 0.0166 0.0095 0.018 0.0244 0.0316 0.0164 0.0095 0.0078 'R']\n",
      " [0.01 0.0171 0.0623 0.0205 0.0205 0.0368 0.1098 0.1276 0.0598 0.1264\n",
      "  0.0881 0.1992 0.0184 0.2261 0.1729 0.2131 0.0693 0.2281 0.406 0.3973\n",
      "  0.2741 0.369 0.5556 0.4846 0.314 0.5334 0.5256 0.252 0.209 0.3559 0.626\n",
      "  0.734 0.612 0.3497 0.3953 0.3012 0.5408 0.8814 0.9857 0.9167 0.6121\n",
      "  0.5006 0.321 0.3202 0.4295 0.3654 0.2655 0.1576 0.0681 0.0294 0.0241\n",
      "  0.0121 0.0036 0.015 0.0085 0.0073 0.005 0.0044 0.004 0.0117 'R']\n",
      " [0.0762 0.0666 0.0481 0.0394 0.059 0.0649 0.1209 0.2467 0.3564 0.4459\n",
      "  0.4152 0.3952 0.4256 0.4135 0.4528 0.5326 0.7306 0.6193 0.2032 0.4636\n",
      "  0.4148 0.4292 0.573 0.5399 0.3161 0.2285 0.6995 1.0 0.7262 0.4724 0.5103\n",
      "  0.5459 0.2881 0.0981 0.1951 0.4181 0.4604 0.3217 0.2828 0.243 0.1979\n",
      "  0.2444 0.1847 0.0841 0.0692 0.0528 0.0357 0.0085 0.023 0.0046 0.0156\n",
      "  0.0031 0.0054 0.0105 0.011 0.0015 0.0072 0.0048 0.0107 0.0094 'R']\n",
      " [0.0286 0.0453 0.0277 0.0174 0.0384 0.099 0.1201 0.1833 0.2105 0.3039\n",
      "  0.2988 0.425 0.6343 0.8198 1.0 0.9988 0.9508 0.9025 0.7234 0.5122 0.2074\n",
      "  0.3985 0.589 0.2872 0.2043 0.5782 0.5389 0.375 0.3411 0.5067 0.558 0.4778\n",
      "  0.3299 0.2198 0.1407 0.2856 0.3807 0.4158 0.4054 0.3296 0.2707 0.265\n",
      "  0.0723 0.1238 0.1192 0.1089 0.0623 0.0494 0.0264 0.0081 0.0104 0.0045\n",
      "  0.0014 0.0038 0.0013 0.0089 0.0057 0.0027 0.0051 0.0062 'R']]\n",
      "====================================================================================================\n",
      "_X\n",
      "[[0.0453 0.0523 0.0843 0.0689 0.1183 0.2583 0.2156 0.3481 0.3337 0.2872\n",
      "  0.4918 0.6552 0.6919 0.7797 0.7464 0.9444 1.0 0.8874 0.8024 0.7818 0.5212\n",
      "  0.4052 0.3957 0.3914 0.325 0.32 0.3271 0.2767 0.4423 0.2028 0.3788 0.2947\n",
      "  0.1984 0.2341 0.1306 0.4182 0.3835 0.1057 0.184 0.197 0.1674 0.0583\n",
      "  0.1401 0.1628 0.0621 0.0203 0.053 0.0742 0.0409 0.0061 0.0125 0.0084\n",
      "  0.0089 0.0048 0.0094 0.0191 0.014 0.0049 0.0052 0.0044]\n",
      " [0.0262 0.0582 0.1099 0.1083 0.0974 0.228 0.2431 0.3771 0.5598 0.6194\n",
      "  0.6333 0.706 0.5544 0.532 0.6479 0.6931 0.6759 0.7551 0.8929 0.8619\n",
      "  0.7974 0.6737 0.4293 0.3648 0.5331 0.2413 0.507 0.8533 0.6036 0.8514\n",
      "  0.8512 0.5045 0.1862 0.2709 0.4232 0.3043 0.6116 0.6756 0.5375 0.4719\n",
      "  0.4647 0.2587 0.2129 0.2222 0.2111 0.0176 0.1348 0.0744 0.013 0.0106\n",
      "  0.0033 0.0232 0.0166 0.0095 0.018 0.0244 0.0316 0.0164 0.0095 0.0078]\n",
      " [0.01 0.0171 0.0623 0.0205 0.0205 0.0368 0.1098 0.1276 0.0598 0.1264\n",
      "  0.0881 0.1992 0.0184 0.2261 0.1729 0.2131 0.0693 0.2281 0.406 0.3973\n",
      "  0.2741 0.369 0.5556 0.4846 0.314 0.5334 0.5256 0.252 0.209 0.3559 0.626\n",
      "  0.734 0.612 0.3497 0.3953 0.3012 0.5408 0.8814 0.9857 0.9167 0.6121\n",
      "  0.5006 0.321 0.3202 0.4295 0.3654 0.2655 0.1576 0.0681 0.0294 0.0241\n",
      "  0.0121 0.0036 0.015 0.0085 0.0073 0.005 0.0044 0.004 0.0117]\n",
      " [0.0762 0.0666 0.0481 0.0394 0.059 0.0649 0.1209 0.2467 0.3564 0.4459\n",
      "  0.4152 0.3952 0.4256 0.4135 0.4528 0.5326 0.7306 0.6193 0.2032 0.4636\n",
      "  0.4148 0.4292 0.573 0.5399 0.3161 0.2285 0.6995 1.0 0.7262 0.4724 0.5103\n",
      "  0.5459 0.2881 0.0981 0.1951 0.4181 0.4604 0.3217 0.2828 0.243 0.1979\n",
      "  0.2444 0.1847 0.0841 0.0692 0.0528 0.0357 0.0085 0.023 0.0046 0.0156\n",
      "  0.0031 0.0054 0.0105 0.011 0.0015 0.0072 0.0048 0.0107 0.0094]\n",
      " [0.0286 0.0453 0.0277 0.0174 0.0384 0.099 0.1201 0.1833 0.2105 0.3039\n",
      "  0.2988 0.425 0.6343 0.8198 1.0 0.9988 0.9508 0.9025 0.7234 0.5122 0.2074\n",
      "  0.3985 0.589 0.2872 0.2043 0.5782 0.5389 0.375 0.3411 0.5067 0.558 0.4778\n",
      "  0.3299 0.2198 0.1407 0.2856 0.3807 0.4158 0.4054 0.3296 0.2707 0.265\n",
      "  0.0723 0.1238 0.1192 0.1089 0.0623 0.0494 0.0264 0.0081 0.0104 0.0045\n",
      "  0.0014 0.0038 0.0013 0.0089 0.0057 0.0027 0.0051 0.0062]]\n",
      "====================================================================================================\n",
      "_Y\n",
      "[['R']\n",
      " ['R']\n",
      " ['R']\n",
      " ['R']\n",
      " ['R']]\n",
      "====================================================================================================\n",
      "_Y raveled\n",
      "['R' 'R' 'R' 'R' 'R']\n",
      "====================================================================================================\n",
      "_Y_encoded\n",
      "[1 1 1 1 1]\n",
      "====================================================================================================\n"
     ]
    }
   ],
   "source": [
    "execute_notebook('./data/dataset-sonar.ipynb')"
   ]
  },
  {
   "cell_type": "code",
   "execution_count": 3,
   "metadata": {
    "collapsed": true
   },
   "outputs": [],
   "source": [
    "def create_baseline():\n",
    "    _model = Sequential()\n",
    "    _model.add(Dense(60, input_dim=60, kernel_initializer='normal', activation='relu'))\n",
    "    _model.add(Dense(1, kernel_initializer='normal', activation='sigmoid'))\n",
    "    _model.compile(loss='binary_crossentropy', optimizer='adam', metrics=['accuracy'])\n",
    "    return _model\n",
    "\n",
    "def create_smaller():\n",
    "    _model = Sequential()\n",
    "    _model.add(Dense(30, input_dim=60, kernel_initializer='normal', activation='relu'))\n",
    "    _model.add(Dense(1, kernel_initializer='normal', activation='sigmoid'))\n",
    "    _model.compile(loss='binary_crossentropy', optimizer='adam', metrics=['accuracy'])\n",
    "    return _model   \n",
    "\n",
    "def create_larger():\n",
    "    _model = Sequential()\n",
    "    _model.add(Dense(60, input_dim=60, kernel_initializer='normal', activation='relu'))\n",
    "    _model.add(Dense(30, kernel_initializer='normal', activation='relu'))\n",
    "    _model.add(Dense(1, kernel_initializer='normal', activation='sigmoid'))\n",
    "    _model.compile(loss='binary_crossentropy', optimizer='adam', metrics=['accuracy'])\n",
    "    return _model   "
   ]
  },
  {
   "cell_type": "code",
   "execution_count": 4,
   "metadata": {},
   "outputs": [],
   "source": [
    "_estimator = KerasClassifier(build_fn=create_baseline, epochs=100, batch_size=5, verbose=0)"
   ]
  },
  {
   "cell_type": "code",
   "execution_count": 5,
   "metadata": {},
   "outputs": [],
   "source": [
    "_kfold = StratifiedKFold(n_splits=10, shuffle=True, random_state=_seed)"
   ]
  },
  {
   "cell_type": "code",
   "execution_count": 6,
   "metadata": {},
   "outputs": [
    {
     "name": "stdout",
     "output_type": "stream",
     "text": [
      "time: 0.92 minutes\n"
     ]
    }
   ],
   "source": [
    "_start = time()\n",
    "_results = cross_val_score(_estimator, _X, _Y_encoded, cv=_kfold)\n",
    "_end = time()\n",
    "print('time: {:.2f} minutes'.format((_end-_start)/60))"
   ]
  },
  {
   "cell_type": "code",
   "execution_count": 7,
   "metadata": {},
   "outputs": [
    {
     "name": "stdout",
     "output_type": "stream",
     "text": [
      "Baseline: 81.09% (9.23%)\n"
     ]
    }
   ],
   "source": [
    "print('Baseline: {:.2%} ({:.2%})'.format(_results.mean(), _results.std()))"
   ]
  },
  {
   "cell_type": "code",
   "execution_count": 8,
   "metadata": {},
   "outputs": [],
   "source": [
    "# It is a good practice to prepare your data before modeling. \n",
    "# Neural network models are especially suitable to having consistent input values, both in scale and distribution. \n",
    "# An effective data preparation scheme for tabular data when building neural network models is standardization. \n",
    "# This is where the data is rescaled such that the mean value for each attribute is 0 and the standard deviation is 1.\n",
    "# This preserves Gaussian and Gaussian-like distributions whilst normalizing the central tendencies for each attribute."
   ]
  },
  {
   "cell_type": "code",
   "execution_count": 9,
   "metadata": {
    "collapsed": true
   },
   "outputs": [],
   "source": [
    "_estimators = []"
   ]
  },
  {
   "cell_type": "code",
   "execution_count": 10,
   "metadata": {
    "collapsed": true
   },
   "outputs": [],
   "source": [
    "_estimators.append(('Standardize', StandardScaler()))"
   ]
  },
  {
   "cell_type": "code",
   "execution_count": 11,
   "metadata": {},
   "outputs": [],
   "source": [
    "_estimators.append(('mlp', _estimator))"
   ]
  },
  {
   "cell_type": "code",
   "execution_count": 12,
   "metadata": {
    "collapsed": true
   },
   "outputs": [],
   "source": [
    "_pipeline = Pipeline(_estimators)"
   ]
  },
  {
   "cell_type": "code",
   "execution_count": 13,
   "metadata": {},
   "outputs": [
    {
     "name": "stderr",
     "output_type": "stream",
     "text": [
      "/Users/faisalmemon/ai/anaconda/lib/python3.6/site-packages/sklearn/utils/validation.py:429: DataConversionWarning: Data with input dtype object was converted to float64 by StandardScaler.\n",
      "  warnings.warn(msg, _DataConversionWarning)\n",
      "/Users/faisalmemon/ai/anaconda/lib/python3.6/site-packages/sklearn/utils/validation.py:429: DataConversionWarning: Data with input dtype object was converted to float64 by StandardScaler.\n",
      "  warnings.warn(msg, _DataConversionWarning)\n",
      "/Users/faisalmemon/ai/anaconda/lib/python3.6/site-packages/sklearn/utils/validation.py:429: DataConversionWarning: Data with input dtype object was converted to float64 by StandardScaler.\n",
      "  warnings.warn(msg, _DataConversionWarning)\n",
      "/Users/faisalmemon/ai/anaconda/lib/python3.6/site-packages/sklearn/utils/validation.py:429: DataConversionWarning: Data with input dtype object was converted to float64 by StandardScaler.\n",
      "  warnings.warn(msg, _DataConversionWarning)\n",
      "/Users/faisalmemon/ai/anaconda/lib/python3.6/site-packages/sklearn/utils/validation.py:429: DataConversionWarning: Data with input dtype object was converted to float64 by StandardScaler.\n",
      "  warnings.warn(msg, _DataConversionWarning)\n",
      "/Users/faisalmemon/ai/anaconda/lib/python3.6/site-packages/sklearn/utils/validation.py:429: DataConversionWarning: Data with input dtype object was converted to float64 by StandardScaler.\n",
      "  warnings.warn(msg, _DataConversionWarning)\n",
      "/Users/faisalmemon/ai/anaconda/lib/python3.6/site-packages/sklearn/utils/validation.py:429: DataConversionWarning: Data with input dtype object was converted to float64 by StandardScaler.\n",
      "  warnings.warn(msg, _DataConversionWarning)\n",
      "/Users/faisalmemon/ai/anaconda/lib/python3.6/site-packages/sklearn/utils/validation.py:429: DataConversionWarning: Data with input dtype object was converted to float64 by StandardScaler.\n",
      "  warnings.warn(msg, _DataConversionWarning)\n",
      "/Users/faisalmemon/ai/anaconda/lib/python3.6/site-packages/sklearn/utils/validation.py:429: DataConversionWarning: Data with input dtype object was converted to float64 by StandardScaler.\n",
      "  warnings.warn(msg, _DataConversionWarning)\n",
      "/Users/faisalmemon/ai/anaconda/lib/python3.6/site-packages/sklearn/utils/validation.py:429: DataConversionWarning: Data with input dtype object was converted to float64 by StandardScaler.\n",
      "  warnings.warn(msg, _DataConversionWarning)\n"
     ]
    },
    {
     "name": "stdout",
     "output_type": "stream",
     "text": [
      "time: 0.95 minutes\n"
     ]
    }
   ],
   "source": [
    "_start = time()\n",
    "_results = cross_val_score(_pipeline, _X, _Y_encoded, cv=_kfold)\n",
    "_end = time()\n",
    "print('time: {:.2f} minutes'.format((_end-_start)/60))"
   ]
  },
  {
   "cell_type": "code",
   "execution_count": 14,
   "metadata": {},
   "outputs": [
    {
     "name": "stdout",
     "output_type": "stream",
     "text": [
      "Standardized: 83.54% (5.44%)\n"
     ]
    }
   ],
   "source": [
    "print('Standardized: {:.2%} ({:.2%})'.format(_results.mean(), _results.std()))"
   ]
  },
  {
   "cell_type": "code",
   "execution_count": 15,
   "metadata": {
    "collapsed": true
   },
   "outputs": [],
   "source": [
    "# There are many things to tune on a neural network, such as the weight initialization, activation functions,\n",
    "# optimization procedure and so on. \n",
    "# One aspect that may have an outsized effect is the structure of the network itself called the network topology. \n",
    "# In this section we take a look at two experiments on the structure of the network: \n",
    "# making it smaller and making it larger."
   ]
  },
  {
   "cell_type": "code",
   "execution_count": 16,
   "metadata": {
    "collapsed": true
   },
   "outputs": [],
   "source": [
    "# I suspect that there is a lot of redundancy in the input variables for this problem. \n",
    "# The data describes the same signal from different angles. \n",
    "# Perhaps some of those angles are more relevant than others. \n",
    "# We can force a type of feature extraction by the network by restricting the representational space in the \n",
    "# first hidden layer.\n",
    "\n",
    "# In this experiment we take our baseline model with 60 neurons in the hidden layer and reduce it by half to 30. \n",
    "# This will put pressure on the network during training to pick out the most important structure in the input data \n",
    "#to model."
   ]
  },
  {
   "cell_type": "code",
   "execution_count": 17,
   "metadata": {
    "collapsed": true
   },
   "outputs": [],
   "source": [
    "_estimators_small = []"
   ]
  },
  {
   "cell_type": "code",
   "execution_count": 18,
   "metadata": {},
   "outputs": [],
   "source": [
    "_estimators_small.append(('Standardize', StandardScaler()))\n",
    "_estimators_small.append(('mlp', KerasClassifier(build_fn=create_smaller, epochs=100, batch_size=5, verbose=0)))"
   ]
  },
  {
   "cell_type": "code",
   "execution_count": 19,
   "metadata": {},
   "outputs": [],
   "source": [
    "_pipeline_small = Pipeline(_estimators_small)"
   ]
  },
  {
   "cell_type": "code",
   "execution_count": 20,
   "metadata": {},
   "outputs": [
    {
     "name": "stderr",
     "output_type": "stream",
     "text": [
      "/Users/faisalmemon/ai/anaconda/lib/python3.6/site-packages/sklearn/utils/validation.py:429: DataConversionWarning: Data with input dtype object was converted to float64 by StandardScaler.\n",
      "  warnings.warn(msg, _DataConversionWarning)\n",
      "/Users/faisalmemon/ai/anaconda/lib/python3.6/site-packages/sklearn/utils/validation.py:429: DataConversionWarning: Data with input dtype object was converted to float64 by StandardScaler.\n",
      "  warnings.warn(msg, _DataConversionWarning)\n",
      "/Users/faisalmemon/ai/anaconda/lib/python3.6/site-packages/sklearn/utils/validation.py:429: DataConversionWarning: Data with input dtype object was converted to float64 by StandardScaler.\n",
      "  warnings.warn(msg, _DataConversionWarning)\n",
      "/Users/faisalmemon/ai/anaconda/lib/python3.6/site-packages/sklearn/utils/validation.py:429: DataConversionWarning: Data with input dtype object was converted to float64 by StandardScaler.\n",
      "  warnings.warn(msg, _DataConversionWarning)\n",
      "/Users/faisalmemon/ai/anaconda/lib/python3.6/site-packages/sklearn/utils/validation.py:429: DataConversionWarning: Data with input dtype object was converted to float64 by StandardScaler.\n",
      "  warnings.warn(msg, _DataConversionWarning)\n",
      "/Users/faisalmemon/ai/anaconda/lib/python3.6/site-packages/sklearn/utils/validation.py:429: DataConversionWarning: Data with input dtype object was converted to float64 by StandardScaler.\n",
      "  warnings.warn(msg, _DataConversionWarning)\n",
      "/Users/faisalmemon/ai/anaconda/lib/python3.6/site-packages/sklearn/utils/validation.py:429: DataConversionWarning: Data with input dtype object was converted to float64 by StandardScaler.\n",
      "  warnings.warn(msg, _DataConversionWarning)\n",
      "/Users/faisalmemon/ai/anaconda/lib/python3.6/site-packages/sklearn/utils/validation.py:429: DataConversionWarning: Data with input dtype object was converted to float64 by StandardScaler.\n",
      "  warnings.warn(msg, _DataConversionWarning)\n",
      "/Users/faisalmemon/ai/anaconda/lib/python3.6/site-packages/sklearn/utils/validation.py:429: DataConversionWarning: Data with input dtype object was converted to float64 by StandardScaler.\n",
      "  warnings.warn(msg, _DataConversionWarning)\n",
      "/Users/faisalmemon/ai/anaconda/lib/python3.6/site-packages/sklearn/utils/validation.py:429: DataConversionWarning: Data with input dtype object was converted to float64 by StandardScaler.\n",
      "  warnings.warn(msg, _DataConversionWarning)\n"
     ]
    },
    {
     "name": "stdout",
     "output_type": "stream",
     "text": [
      "time: 0.99 minutes\n"
     ]
    }
   ],
   "source": [
    "_start = time()\n",
    "_results = cross_val_score(_pipeline_small, _X, _Y_encoded, cv=_kfold)\n",
    "_end = time()\n",
    "print('time: {:.2f} minutes'.format((_end-_start)/60))"
   ]
  },
  {
   "cell_type": "code",
   "execution_count": 21,
   "metadata": {},
   "outputs": [
    {
     "name": "stdout",
     "output_type": "stream",
     "text": [
      "Small: 83.99% (6.26%)\n"
     ]
    }
   ],
   "source": [
    "print('Small: {:.2%} ({:.2%})'.format(_results.mean(), _results.std()))"
   ]
  },
  {
   "cell_type": "code",
   "execution_count": 22,
   "metadata": {
    "collapsed": true
   },
   "outputs": [],
   "source": [
    "# A neural network topology with more layers offers more opportunity for the network to extract key features \n",
    "# and recombine them in useful nonlinear ways\n",
    "# The idea here is that the network is given the opportunity to model all input variables before being bottlenecked \n",
    "# and forced to halve the representational capacity, much like we did in the experiment above with the smaller network. Instead of squeezing the representation of the inputs themselves, we have an additional hidden layer to aid in the process."
   ]
  },
  {
   "cell_type": "code",
   "execution_count": 23,
   "metadata": {},
   "outputs": [],
   "source": [
    "_estimators_large = []\n",
    "_estimators_large.append(('Standardize', StandardScaler()))\n",
    "_estimators_large.append(('mlp', KerasClassifier(build_fn=create_larger, epochs=100, batch_size=5, verbose=0)))"
   ]
  },
  {
   "cell_type": "code",
   "execution_count": 24,
   "metadata": {
    "collapsed": true
   },
   "outputs": [],
   "source": [
    "_pipeline_large = Pipeline(_estimators_large)"
   ]
  },
  {
   "cell_type": "code",
   "execution_count": 25,
   "metadata": {},
   "outputs": [
    {
     "name": "stderr",
     "output_type": "stream",
     "text": [
      "/Users/faisalmemon/ai/anaconda/lib/python3.6/site-packages/sklearn/utils/validation.py:429: DataConversionWarning: Data with input dtype object was converted to float64 by StandardScaler.\n",
      "  warnings.warn(msg, _DataConversionWarning)\n",
      "/Users/faisalmemon/ai/anaconda/lib/python3.6/site-packages/sklearn/utils/validation.py:429: DataConversionWarning: Data with input dtype object was converted to float64 by StandardScaler.\n",
      "  warnings.warn(msg, _DataConversionWarning)\n",
      "/Users/faisalmemon/ai/anaconda/lib/python3.6/site-packages/sklearn/utils/validation.py:429: DataConversionWarning: Data with input dtype object was converted to float64 by StandardScaler.\n",
      "  warnings.warn(msg, _DataConversionWarning)\n",
      "/Users/faisalmemon/ai/anaconda/lib/python3.6/site-packages/sklearn/utils/validation.py:429: DataConversionWarning: Data with input dtype object was converted to float64 by StandardScaler.\n",
      "  warnings.warn(msg, _DataConversionWarning)\n",
      "/Users/faisalmemon/ai/anaconda/lib/python3.6/site-packages/sklearn/utils/validation.py:429: DataConversionWarning: Data with input dtype object was converted to float64 by StandardScaler.\n",
      "  warnings.warn(msg, _DataConversionWarning)\n",
      "/Users/faisalmemon/ai/anaconda/lib/python3.6/site-packages/sklearn/utils/validation.py:429: DataConversionWarning: Data with input dtype object was converted to float64 by StandardScaler.\n",
      "  warnings.warn(msg, _DataConversionWarning)\n",
      "/Users/faisalmemon/ai/anaconda/lib/python3.6/site-packages/sklearn/utils/validation.py:429: DataConversionWarning: Data with input dtype object was converted to float64 by StandardScaler.\n",
      "  warnings.warn(msg, _DataConversionWarning)\n",
      "/Users/faisalmemon/ai/anaconda/lib/python3.6/site-packages/sklearn/utils/validation.py:429: DataConversionWarning: Data with input dtype object was converted to float64 by StandardScaler.\n",
      "  warnings.warn(msg, _DataConversionWarning)\n",
      "/Users/faisalmemon/ai/anaconda/lib/python3.6/site-packages/sklearn/utils/validation.py:429: DataConversionWarning: Data with input dtype object was converted to float64 by StandardScaler.\n",
      "  warnings.warn(msg, _DataConversionWarning)\n",
      "/Users/faisalmemon/ai/anaconda/lib/python3.6/site-packages/sklearn/utils/validation.py:429: DataConversionWarning: Data with input dtype object was converted to float64 by StandardScaler.\n",
      "  warnings.warn(msg, _DataConversionWarning)\n"
     ]
    },
    {
     "name": "stdout",
     "output_type": "stream",
     "text": [
      "time: 1.16 minutes\n"
     ]
    }
   ],
   "source": [
    "_start = time()\n",
    "_results = cross_val_score(_pipeline_large, _X, _Y_encoded, cv=_kfold)\n",
    "_end = time()\n",
    "print('time: {:.2f} minutes'.format((_end-_start)/60))"
   ]
  },
  {
   "cell_type": "code",
   "execution_count": 26,
   "metadata": {},
   "outputs": [
    {
     "name": "stdout",
     "output_type": "stream",
     "text": [
      "Small: 83.54% (5.44%)\n"
     ]
    }
   ],
   "source": [
    "print('Small: {:.2%} ({:.2%})'.format(_results.mean(), _results.std()))"
   ]
  },
  {
   "cell_type": "code",
   "execution_count": null,
   "metadata": {
    "collapsed": true
   },
   "outputs": [],
   "source": []
  }
 ],
 "metadata": {
  "kernelspec": {
   "display_name": "Python 3",
   "language": "python",
   "name": "python3"
  },
  "language_info": {
   "codemirror_mode": {
    "name": "ipython",
    "version": 3
   },
   "file_extension": ".py",
   "mimetype": "text/x-python",
   "name": "python",
   "nbconvert_exporter": "python",
   "pygments_lexer": "ipython3",
   "version": "3.6.1"
  }
 },
 "nbformat": 4,
 "nbformat_minor": 2
}
