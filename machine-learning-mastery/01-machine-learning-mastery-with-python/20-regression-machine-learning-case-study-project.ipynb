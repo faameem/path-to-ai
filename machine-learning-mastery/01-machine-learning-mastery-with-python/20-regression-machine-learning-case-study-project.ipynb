{
 "cells": [
  {
   "cell_type": "code",
   "execution_count": 1,
   "metadata": {
    "collapsed": true
   },
   "outputs": [],
   "source": [
    "# 20.1 Problem Definition"
   ]
  },
  {
   "cell_type": "code",
   "execution_count": 2,
   "metadata": {
    "collapsed": true
   },
   "outputs": [],
   "source": [
    "# - Investigate Boston House Price dataset"
   ]
  },
  {
   "cell_type": "code",
   "execution_count": 3,
   "metadata": {
    "collapsed": true
   },
   "outputs": [],
   "source": [
    "# - Attributes:\n",
    "\n",
    "# - 1. CRIM: per capita crime rate by town\n",
    "# - 2. ZN: proportion of residential land zoned for lots over 25,000 sq.ft.\n",
    "# - 3. INDUS: proportion of non-retail business acres per town\n",
    "# - 4. CHAS: Charles River dummy variable (= 1 if tract bounds river; 0 otherwise)\n",
    "# - 5. NOX: nitric oxides concentration (parts per 10 million)\n",
    "# - 6. RM: average number of rooms per dwelling\n",
    "# - 7. AGE: proportion of owner-occupied units built prior to 1940 \n",
    "# - 8. DIS: weighted distances to five Boston employment centers \n",
    "# - 9. RAD: index of accessibility to radial highways\n",
    "# - 10. TAX: full-value property-tax rate per $10,000\n",
    "# - 11. PTRATIO: pupil-teacher ratio by town\n",
    "# - 12. B: 1000(Bk − 0.63)2 where Bk is the proportion of blacks by town \n",
    "# - 13. LSTAT: % lower status of the population\n",
    "# - 14. MEDV: Median value of owner-occupied homes in $1000s\n",
    "\n",
    "# - We can see that the input attributes have a mixture of units."
   ]
  },
  {
   "cell_type": "code",
   "execution_count": 4,
   "metadata": {
    "collapsed": true
   },
   "outputs": [],
   "source": [
    "# 20.2 Load the Dataset"
   ]
  },
  {
   "cell_type": "code",
   "execution_count": 5,
   "metadata": {
    "collapsed": true
   },
   "outputs": [],
   "source": [
    "# Load libraries\n",
    "import numpy\n",
    "from numpy import arange\n",
    "from matplotlib import pyplot\n",
    "from pandas import read_csv\n",
    "from pandas import set_option\n",
    "from pandas.tools.plotting import scatter_matrix\n",
    "from sklearn.preprocessing import StandardScaler\n",
    "from sklearn.model_selection import train_test_split\n",
    "from sklearn.model_selection import KFold\n",
    "from sklearn.model_selection import cross_val_score\n",
    "from sklearn.model_selection import GridSearchCV\n",
    "from sklearn.linear_model import LinearRegression\n",
    "from sklearn.linear_model import Lasso\n",
    "from sklearn.linear_model import ElasticNet\n",
    "from sklearn.tree import DecisionTreeRegressor\n",
    "from sklearn.neighbors import KNeighborsRegressor\n",
    "from sklearn.svm import SVR\n",
    "from sklearn.pipeline import Pipeline\n",
    "from sklearn.ensemble import RandomForestRegressor\n",
    "from sklearn.ensemble import GradientBoostingRegressor\n",
    "from sklearn.ensemble import ExtraTreesRegressor\n",
    "from sklearn.ensemble import AdaBoostRegressor\n",
    "from sklearn.metrics import mean_squared_error"
   ]
  },
  {
   "cell_type": "code",
   "execution_count": 6,
   "metadata": {
    "collapsed": true
   },
   "outputs": [],
   "source": [
    "# Load dataset\n",
    "_uri = 'https://archive.ics.uci.edu/ml/machine-learning-databases/housing/housing.data'"
   ]
  },
  {
   "cell_type": "code",
   "execution_count": 7,
   "metadata": {
    "collapsed": true
   },
   "outputs": [],
   "source": [
    "_names = ['CRIM', 'ZN', 'INDUS', 'CHAS', 'NOX', 'RM', 'AGE', 'DIS', 'RAD', 'TAX', 'PTRATIO','B', 'LSTAT', 'MEDV']"
   ]
  },
  {
   "cell_type": "code",
   "execution_count": 8,
   "metadata": {
    "collapsed": true
   },
   "outputs": [],
   "source": [
    "_dataset = read_csv(_uri, delim_whitespace=True, names=_names)"
   ]
  },
  {
   "cell_type": "code",
   "execution_count": 9,
   "metadata": {
    "collapsed": true
   },
   "outputs": [],
   "source": [
    "# 20.3 Analyze Data"
   ]
  },
  {
   "cell_type": "code",
   "execution_count": 10,
   "metadata": {
    "collapsed": true
   },
   "outputs": [],
   "source": [
    "# 20.3.1 Descriptive Statistics"
   ]
  },
  {
   "cell_type": "code",
   "execution_count": 11,
   "metadata": {
    "collapsed": false
   },
   "outputs": [
    {
     "data": {
      "text/plain": [
       "(506, 14)"
      ]
     },
     "execution_count": 11,
     "metadata": {},
     "output_type": "execute_result"
    }
   ],
   "source": [
    "_dataset.shape"
   ]
  },
  {
   "cell_type": "code",
   "execution_count": 12,
   "metadata": {
    "collapsed": false
   },
   "outputs": [
    {
     "data": {
      "text/plain": [
       "CRIM       float64\n",
       "ZN         float64\n",
       "INDUS      float64\n",
       "CHAS         int64\n",
       "NOX        float64\n",
       "RM         float64\n",
       "AGE        float64\n",
       "DIS        float64\n",
       "RAD          int64\n",
       "TAX        float64\n",
       "PTRATIO    float64\n",
       "B          float64\n",
       "LSTAT      float64\n",
       "MEDV       float64\n",
       "dtype: object"
      ]
     },
     "execution_count": 12,
     "metadata": {},
     "output_type": "execute_result"
    }
   ],
   "source": [
    "# - We can see that all of the attributes are numeric, mostly real values (float) and some have been \n",
    "# interpreted as integers (int).\n",
    "_dataset.dtypes"
   ]
  },
  {
   "cell_type": "code",
   "execution_count": 13,
   "metadata": {
    "collapsed": false
   },
   "outputs": [
    {
     "data": {
      "text/html": [
       "<div>\n",
       "<table border=\"1\" class=\"dataframe\">\n",
       "  <thead>\n",
       "    <tr style=\"text-align: right;\">\n",
       "      <th></th>\n",
       "      <th>CRIM</th>\n",
       "      <th>ZN</th>\n",
       "      <th>INDUS</th>\n",
       "      <th>CHAS</th>\n",
       "      <th>NOX</th>\n",
       "      <th>RM</th>\n",
       "      <th>AGE</th>\n",
       "      <th>DIS</th>\n",
       "      <th>RAD</th>\n",
       "      <th>TAX</th>\n",
       "      <th>PTRATIO</th>\n",
       "      <th>B</th>\n",
       "      <th>LSTAT</th>\n",
       "      <th>MEDV</th>\n",
       "    </tr>\n",
       "  </thead>\n",
       "  <tbody>\n",
       "    <tr>\n",
       "      <th>0</th>\n",
       "      <td>0.00632</td>\n",
       "      <td>18.0</td>\n",
       "      <td>2.31</td>\n",
       "      <td>0</td>\n",
       "      <td>0.538</td>\n",
       "      <td>6.575</td>\n",
       "      <td>65.2</td>\n",
       "      <td>4.0900</td>\n",
       "      <td>1</td>\n",
       "      <td>296.0</td>\n",
       "      <td>15.3</td>\n",
       "      <td>396.90</td>\n",
       "      <td>4.98</td>\n",
       "      <td>24.0</td>\n",
       "    </tr>\n",
       "    <tr>\n",
       "      <th>1</th>\n",
       "      <td>0.02731</td>\n",
       "      <td>0.0</td>\n",
       "      <td>7.07</td>\n",
       "      <td>0</td>\n",
       "      <td>0.469</td>\n",
       "      <td>6.421</td>\n",
       "      <td>78.9</td>\n",
       "      <td>4.9671</td>\n",
       "      <td>2</td>\n",
       "      <td>242.0</td>\n",
       "      <td>17.8</td>\n",
       "      <td>396.90</td>\n",
       "      <td>9.14</td>\n",
       "      <td>21.6</td>\n",
       "    </tr>\n",
       "    <tr>\n",
       "      <th>2</th>\n",
       "      <td>0.02729</td>\n",
       "      <td>0.0</td>\n",
       "      <td>7.07</td>\n",
       "      <td>0</td>\n",
       "      <td>0.469</td>\n",
       "      <td>7.185</td>\n",
       "      <td>61.1</td>\n",
       "      <td>4.9671</td>\n",
       "      <td>2</td>\n",
       "      <td>242.0</td>\n",
       "      <td>17.8</td>\n",
       "      <td>392.83</td>\n",
       "      <td>4.03</td>\n",
       "      <td>34.7</td>\n",
       "    </tr>\n",
       "    <tr>\n",
       "      <th>3</th>\n",
       "      <td>0.03237</td>\n",
       "      <td>0.0</td>\n",
       "      <td>2.18</td>\n",
       "      <td>0</td>\n",
       "      <td>0.458</td>\n",
       "      <td>6.998</td>\n",
       "      <td>45.8</td>\n",
       "      <td>6.0622</td>\n",
       "      <td>3</td>\n",
       "      <td>222.0</td>\n",
       "      <td>18.7</td>\n",
       "      <td>394.63</td>\n",
       "      <td>2.94</td>\n",
       "      <td>33.4</td>\n",
       "    </tr>\n",
       "    <tr>\n",
       "      <th>4</th>\n",
       "      <td>0.06905</td>\n",
       "      <td>0.0</td>\n",
       "      <td>2.18</td>\n",
       "      <td>0</td>\n",
       "      <td>0.458</td>\n",
       "      <td>7.147</td>\n",
       "      <td>54.2</td>\n",
       "      <td>6.0622</td>\n",
       "      <td>3</td>\n",
       "      <td>222.0</td>\n",
       "      <td>18.7</td>\n",
       "      <td>396.90</td>\n",
       "      <td>5.33</td>\n",
       "      <td>36.2</td>\n",
       "    </tr>\n",
       "    <tr>\n",
       "      <th>5</th>\n",
       "      <td>0.02985</td>\n",
       "      <td>0.0</td>\n",
       "      <td>2.18</td>\n",
       "      <td>0</td>\n",
       "      <td>0.458</td>\n",
       "      <td>6.430</td>\n",
       "      <td>58.7</td>\n",
       "      <td>6.0622</td>\n",
       "      <td>3</td>\n",
       "      <td>222.0</td>\n",
       "      <td>18.7</td>\n",
       "      <td>394.12</td>\n",
       "      <td>5.21</td>\n",
       "      <td>28.7</td>\n",
       "    </tr>\n",
       "    <tr>\n",
       "      <th>6</th>\n",
       "      <td>0.08829</td>\n",
       "      <td>12.5</td>\n",
       "      <td>7.87</td>\n",
       "      <td>0</td>\n",
       "      <td>0.524</td>\n",
       "      <td>6.012</td>\n",
       "      <td>66.6</td>\n",
       "      <td>5.5605</td>\n",
       "      <td>5</td>\n",
       "      <td>311.0</td>\n",
       "      <td>15.2</td>\n",
       "      <td>395.60</td>\n",
       "      <td>12.43</td>\n",
       "      <td>22.9</td>\n",
       "    </tr>\n",
       "    <tr>\n",
       "      <th>7</th>\n",
       "      <td>0.14455</td>\n",
       "      <td>12.5</td>\n",
       "      <td>7.87</td>\n",
       "      <td>0</td>\n",
       "      <td>0.524</td>\n",
       "      <td>6.172</td>\n",
       "      <td>96.1</td>\n",
       "      <td>5.9505</td>\n",
       "      <td>5</td>\n",
       "      <td>311.0</td>\n",
       "      <td>15.2</td>\n",
       "      <td>396.90</td>\n",
       "      <td>19.15</td>\n",
       "      <td>27.1</td>\n",
       "    </tr>\n",
       "    <tr>\n",
       "      <th>8</th>\n",
       "      <td>0.21124</td>\n",
       "      <td>12.5</td>\n",
       "      <td>7.87</td>\n",
       "      <td>0</td>\n",
       "      <td>0.524</td>\n",
       "      <td>5.631</td>\n",
       "      <td>100.0</td>\n",
       "      <td>6.0821</td>\n",
       "      <td>5</td>\n",
       "      <td>311.0</td>\n",
       "      <td>15.2</td>\n",
       "      <td>386.63</td>\n",
       "      <td>29.93</td>\n",
       "      <td>16.5</td>\n",
       "    </tr>\n",
       "    <tr>\n",
       "      <th>9</th>\n",
       "      <td>0.17004</td>\n",
       "      <td>12.5</td>\n",
       "      <td>7.87</td>\n",
       "      <td>0</td>\n",
       "      <td>0.524</td>\n",
       "      <td>6.004</td>\n",
       "      <td>85.9</td>\n",
       "      <td>6.5921</td>\n",
       "      <td>5</td>\n",
       "      <td>311.0</td>\n",
       "      <td>15.2</td>\n",
       "      <td>386.71</td>\n",
       "      <td>17.10</td>\n",
       "      <td>18.9</td>\n",
       "    </tr>\n",
       "    <tr>\n",
       "      <th>10</th>\n",
       "      <td>0.22489</td>\n",
       "      <td>12.5</td>\n",
       "      <td>7.87</td>\n",
       "      <td>0</td>\n",
       "      <td>0.524</td>\n",
       "      <td>6.377</td>\n",
       "      <td>94.3</td>\n",
       "      <td>6.3467</td>\n",
       "      <td>5</td>\n",
       "      <td>311.0</td>\n",
       "      <td>15.2</td>\n",
       "      <td>392.52</td>\n",
       "      <td>20.45</td>\n",
       "      <td>15.0</td>\n",
       "    </tr>\n",
       "    <tr>\n",
       "      <th>11</th>\n",
       "      <td>0.11747</td>\n",
       "      <td>12.5</td>\n",
       "      <td>7.87</td>\n",
       "      <td>0</td>\n",
       "      <td>0.524</td>\n",
       "      <td>6.009</td>\n",
       "      <td>82.9</td>\n",
       "      <td>6.2267</td>\n",
       "      <td>5</td>\n",
       "      <td>311.0</td>\n",
       "      <td>15.2</td>\n",
       "      <td>396.90</td>\n",
       "      <td>13.27</td>\n",
       "      <td>18.9</td>\n",
       "    </tr>\n",
       "    <tr>\n",
       "      <th>12</th>\n",
       "      <td>0.09378</td>\n",
       "      <td>12.5</td>\n",
       "      <td>7.87</td>\n",
       "      <td>0</td>\n",
       "      <td>0.524</td>\n",
       "      <td>5.889</td>\n",
       "      <td>39.0</td>\n",
       "      <td>5.4509</td>\n",
       "      <td>5</td>\n",
       "      <td>311.0</td>\n",
       "      <td>15.2</td>\n",
       "      <td>390.50</td>\n",
       "      <td>15.71</td>\n",
       "      <td>21.7</td>\n",
       "    </tr>\n",
       "    <tr>\n",
       "      <th>13</th>\n",
       "      <td>0.62976</td>\n",
       "      <td>0.0</td>\n",
       "      <td>8.14</td>\n",
       "      <td>0</td>\n",
       "      <td>0.538</td>\n",
       "      <td>5.949</td>\n",
       "      <td>61.8</td>\n",
       "      <td>4.7075</td>\n",
       "      <td>4</td>\n",
       "      <td>307.0</td>\n",
       "      <td>21.0</td>\n",
       "      <td>396.90</td>\n",
       "      <td>8.26</td>\n",
       "      <td>20.4</td>\n",
       "    </tr>\n",
       "    <tr>\n",
       "      <th>14</th>\n",
       "      <td>0.63796</td>\n",
       "      <td>0.0</td>\n",
       "      <td>8.14</td>\n",
       "      <td>0</td>\n",
       "      <td>0.538</td>\n",
       "      <td>6.096</td>\n",
       "      <td>84.5</td>\n",
       "      <td>4.4619</td>\n",
       "      <td>4</td>\n",
       "      <td>307.0</td>\n",
       "      <td>21.0</td>\n",
       "      <td>380.02</td>\n",
       "      <td>10.26</td>\n",
       "      <td>18.2</td>\n",
       "    </tr>\n",
       "    <tr>\n",
       "      <th>15</th>\n",
       "      <td>0.62739</td>\n",
       "      <td>0.0</td>\n",
       "      <td>8.14</td>\n",
       "      <td>0</td>\n",
       "      <td>0.538</td>\n",
       "      <td>5.834</td>\n",
       "      <td>56.5</td>\n",
       "      <td>4.4986</td>\n",
       "      <td>4</td>\n",
       "      <td>307.0</td>\n",
       "      <td>21.0</td>\n",
       "      <td>395.62</td>\n",
       "      <td>8.47</td>\n",
       "      <td>19.9</td>\n",
       "    </tr>\n",
       "    <tr>\n",
       "      <th>16</th>\n",
       "      <td>1.05393</td>\n",
       "      <td>0.0</td>\n",
       "      <td>8.14</td>\n",
       "      <td>0</td>\n",
       "      <td>0.538</td>\n",
       "      <td>5.935</td>\n",
       "      <td>29.3</td>\n",
       "      <td>4.4986</td>\n",
       "      <td>4</td>\n",
       "      <td>307.0</td>\n",
       "      <td>21.0</td>\n",
       "      <td>386.85</td>\n",
       "      <td>6.58</td>\n",
       "      <td>23.1</td>\n",
       "    </tr>\n",
       "    <tr>\n",
       "      <th>17</th>\n",
       "      <td>0.78420</td>\n",
       "      <td>0.0</td>\n",
       "      <td>8.14</td>\n",
       "      <td>0</td>\n",
       "      <td>0.538</td>\n",
       "      <td>5.990</td>\n",
       "      <td>81.7</td>\n",
       "      <td>4.2579</td>\n",
       "      <td>4</td>\n",
       "      <td>307.0</td>\n",
       "      <td>21.0</td>\n",
       "      <td>386.75</td>\n",
       "      <td>14.67</td>\n",
       "      <td>17.5</td>\n",
       "    </tr>\n",
       "    <tr>\n",
       "      <th>18</th>\n",
       "      <td>0.80271</td>\n",
       "      <td>0.0</td>\n",
       "      <td>8.14</td>\n",
       "      <td>0</td>\n",
       "      <td>0.538</td>\n",
       "      <td>5.456</td>\n",
       "      <td>36.6</td>\n",
       "      <td>3.7965</td>\n",
       "      <td>4</td>\n",
       "      <td>307.0</td>\n",
       "      <td>21.0</td>\n",
       "      <td>288.99</td>\n",
       "      <td>11.69</td>\n",
       "      <td>20.2</td>\n",
       "    </tr>\n",
       "    <tr>\n",
       "      <th>19</th>\n",
       "      <td>0.72580</td>\n",
       "      <td>0.0</td>\n",
       "      <td>8.14</td>\n",
       "      <td>0</td>\n",
       "      <td>0.538</td>\n",
       "      <td>5.727</td>\n",
       "      <td>69.5</td>\n",
       "      <td>3.7965</td>\n",
       "      <td>4</td>\n",
       "      <td>307.0</td>\n",
       "      <td>21.0</td>\n",
       "      <td>390.95</td>\n",
       "      <td>11.28</td>\n",
       "      <td>18.2</td>\n",
       "    </tr>\n",
       "  </tbody>\n",
       "</table>\n",
       "</div>"
      ],
      "text/plain": [
       "       CRIM    ZN  INDUS  CHAS    NOX     RM    AGE     DIS  RAD    TAX  \\\n",
       "0   0.00632  18.0   2.31     0  0.538  6.575   65.2  4.0900    1  296.0   \n",
       "1   0.02731   0.0   7.07     0  0.469  6.421   78.9  4.9671    2  242.0   \n",
       "2   0.02729   0.0   7.07     0  0.469  7.185   61.1  4.9671    2  242.0   \n",
       "3   0.03237   0.0   2.18     0  0.458  6.998   45.8  6.0622    3  222.0   \n",
       "4   0.06905   0.0   2.18     0  0.458  7.147   54.2  6.0622    3  222.0   \n",
       "5   0.02985   0.0   2.18     0  0.458  6.430   58.7  6.0622    3  222.0   \n",
       "6   0.08829  12.5   7.87     0  0.524  6.012   66.6  5.5605    5  311.0   \n",
       "7   0.14455  12.5   7.87     0  0.524  6.172   96.1  5.9505    5  311.0   \n",
       "8   0.21124  12.5   7.87     0  0.524  5.631  100.0  6.0821    5  311.0   \n",
       "9   0.17004  12.5   7.87     0  0.524  6.004   85.9  6.5921    5  311.0   \n",
       "10  0.22489  12.5   7.87     0  0.524  6.377   94.3  6.3467    5  311.0   \n",
       "11  0.11747  12.5   7.87     0  0.524  6.009   82.9  6.2267    5  311.0   \n",
       "12  0.09378  12.5   7.87     0  0.524  5.889   39.0  5.4509    5  311.0   \n",
       "13  0.62976   0.0   8.14     0  0.538  5.949   61.8  4.7075    4  307.0   \n",
       "14  0.63796   0.0   8.14     0  0.538  6.096   84.5  4.4619    4  307.0   \n",
       "15  0.62739   0.0   8.14     0  0.538  5.834   56.5  4.4986    4  307.0   \n",
       "16  1.05393   0.0   8.14     0  0.538  5.935   29.3  4.4986    4  307.0   \n",
       "17  0.78420   0.0   8.14     0  0.538  5.990   81.7  4.2579    4  307.0   \n",
       "18  0.80271   0.0   8.14     0  0.538  5.456   36.6  3.7965    4  307.0   \n",
       "19  0.72580   0.0   8.14     0  0.538  5.727   69.5  3.7965    4  307.0   \n",
       "\n",
       "    PTRATIO       B  LSTAT  MEDV  \n",
       "0      15.3  396.90   4.98  24.0  \n",
       "1      17.8  396.90   9.14  21.6  \n",
       "2      17.8  392.83   4.03  34.7  \n",
       "3      18.7  394.63   2.94  33.4  \n",
       "4      18.7  396.90   5.33  36.2  \n",
       "5      18.7  394.12   5.21  28.7  \n",
       "6      15.2  395.60  12.43  22.9  \n",
       "7      15.2  396.90  19.15  27.1  \n",
       "8      15.2  386.63  29.93  16.5  \n",
       "9      15.2  386.71  17.10  18.9  \n",
       "10     15.2  392.52  20.45  15.0  \n",
       "11     15.2  396.90  13.27  18.9  \n",
       "12     15.2  390.50  15.71  21.7  \n",
       "13     21.0  396.90   8.26  20.4  \n",
       "14     21.0  380.02  10.26  18.2  \n",
       "15     21.0  395.62   8.47  19.9  \n",
       "16     21.0  386.85   6.58  23.1  \n",
       "17     21.0  386.75  14.67  17.5  \n",
       "18     21.0  288.99  11.69  20.2  \n",
       "19     21.0  390.95  11.28  18.2  "
      ]
     },
     "execution_count": 13,
     "metadata": {},
     "output_type": "execute_result"
    }
   ],
   "source": [
    "_dataset.head(20)"
   ]
  },
  {
   "cell_type": "code",
   "execution_count": 14,
   "metadata": {
    "collapsed": false
   },
   "outputs": [
    {
     "data": {
      "text/html": [
       "<div>\n",
       "<table border=\"1\" class=\"dataframe\">\n",
       "  <thead>\n",
       "    <tr style=\"text-align: right;\">\n",
       "      <th></th>\n",
       "      <th>CRIM</th>\n",
       "      <th>ZN</th>\n",
       "      <th>INDUS</th>\n",
       "      <th>CHAS</th>\n",
       "      <th>NOX</th>\n",
       "      <th>RM</th>\n",
       "      <th>AGE</th>\n",
       "      <th>DIS</th>\n",
       "      <th>RAD</th>\n",
       "      <th>TAX</th>\n",
       "      <th>PTRATIO</th>\n",
       "      <th>B</th>\n",
       "      <th>LSTAT</th>\n",
       "      <th>MEDV</th>\n",
       "    </tr>\n",
       "  </thead>\n",
       "  <tbody>\n",
       "    <tr>\n",
       "      <th>count</th>\n",
       "      <td>5.06e+02</td>\n",
       "      <td>506.00</td>\n",
       "      <td>506.00</td>\n",
       "      <td>506.00</td>\n",
       "      <td>506.00</td>\n",
       "      <td>506.00</td>\n",
       "      <td>506.00</td>\n",
       "      <td>506.00</td>\n",
       "      <td>506.00</td>\n",
       "      <td>506.00</td>\n",
       "      <td>506.00</td>\n",
       "      <td>506.00</td>\n",
       "      <td>506.00</td>\n",
       "      <td>506.00</td>\n",
       "    </tr>\n",
       "    <tr>\n",
       "      <th>mean</th>\n",
       "      <td>3.61e+00</td>\n",
       "      <td>11.36</td>\n",
       "      <td>11.14</td>\n",
       "      <td>0.07</td>\n",
       "      <td>0.55</td>\n",
       "      <td>6.28</td>\n",
       "      <td>68.57</td>\n",
       "      <td>3.80</td>\n",
       "      <td>9.55</td>\n",
       "      <td>408.24</td>\n",
       "      <td>18.46</td>\n",
       "      <td>356.67</td>\n",
       "      <td>12.65</td>\n",
       "      <td>22.53</td>\n",
       "    </tr>\n",
       "    <tr>\n",
       "      <th>std</th>\n",
       "      <td>8.60e+00</td>\n",
       "      <td>23.32</td>\n",
       "      <td>6.86</td>\n",
       "      <td>0.25</td>\n",
       "      <td>0.12</td>\n",
       "      <td>0.70</td>\n",
       "      <td>28.15</td>\n",
       "      <td>2.11</td>\n",
       "      <td>8.71</td>\n",
       "      <td>168.54</td>\n",
       "      <td>2.16</td>\n",
       "      <td>91.29</td>\n",
       "      <td>7.14</td>\n",
       "      <td>9.20</td>\n",
       "    </tr>\n",
       "    <tr>\n",
       "      <th>min</th>\n",
       "      <td>6.32e-03</td>\n",
       "      <td>0.00</td>\n",
       "      <td>0.46</td>\n",
       "      <td>0.00</td>\n",
       "      <td>0.39</td>\n",
       "      <td>3.56</td>\n",
       "      <td>2.90</td>\n",
       "      <td>1.13</td>\n",
       "      <td>1.00</td>\n",
       "      <td>187.00</td>\n",
       "      <td>12.60</td>\n",
       "      <td>0.32</td>\n",
       "      <td>1.73</td>\n",
       "      <td>5.00</td>\n",
       "    </tr>\n",
       "    <tr>\n",
       "      <th>25%</th>\n",
       "      <td>8.20e-02</td>\n",
       "      <td>0.00</td>\n",
       "      <td>5.19</td>\n",
       "      <td>0.00</td>\n",
       "      <td>0.45</td>\n",
       "      <td>5.89</td>\n",
       "      <td>45.02</td>\n",
       "      <td>2.10</td>\n",
       "      <td>4.00</td>\n",
       "      <td>279.00</td>\n",
       "      <td>17.40</td>\n",
       "      <td>375.38</td>\n",
       "      <td>6.95</td>\n",
       "      <td>17.02</td>\n",
       "    </tr>\n",
       "    <tr>\n",
       "      <th>50%</th>\n",
       "      <td>2.57e-01</td>\n",
       "      <td>0.00</td>\n",
       "      <td>9.69</td>\n",
       "      <td>0.00</td>\n",
       "      <td>0.54</td>\n",
       "      <td>6.21</td>\n",
       "      <td>77.50</td>\n",
       "      <td>3.21</td>\n",
       "      <td>5.00</td>\n",
       "      <td>330.00</td>\n",
       "      <td>19.05</td>\n",
       "      <td>391.44</td>\n",
       "      <td>11.36</td>\n",
       "      <td>21.20</td>\n",
       "    </tr>\n",
       "    <tr>\n",
       "      <th>75%</th>\n",
       "      <td>3.68e+00</td>\n",
       "      <td>12.50</td>\n",
       "      <td>18.10</td>\n",
       "      <td>0.00</td>\n",
       "      <td>0.62</td>\n",
       "      <td>6.62</td>\n",
       "      <td>94.07</td>\n",
       "      <td>5.19</td>\n",
       "      <td>24.00</td>\n",
       "      <td>666.00</td>\n",
       "      <td>20.20</td>\n",
       "      <td>396.23</td>\n",
       "      <td>16.96</td>\n",
       "      <td>25.00</td>\n",
       "    </tr>\n",
       "    <tr>\n",
       "      <th>max</th>\n",
       "      <td>8.90e+01</td>\n",
       "      <td>100.00</td>\n",
       "      <td>27.74</td>\n",
       "      <td>1.00</td>\n",
       "      <td>0.87</td>\n",
       "      <td>8.78</td>\n",
       "      <td>100.00</td>\n",
       "      <td>12.13</td>\n",
       "      <td>24.00</td>\n",
       "      <td>711.00</td>\n",
       "      <td>22.00</td>\n",
       "      <td>396.90</td>\n",
       "      <td>37.97</td>\n",
       "      <td>50.00</td>\n",
       "    </tr>\n",
       "  </tbody>\n",
       "</table>\n",
       "</div>"
      ],
      "text/plain": [
       "           CRIM      ZN   INDUS    CHAS     NOX      RM     AGE     DIS  \\\n",
       "count  5.06e+02  506.00  506.00  506.00  506.00  506.00  506.00  506.00   \n",
       "mean   3.61e+00   11.36   11.14    0.07    0.55    6.28   68.57    3.80   \n",
       "std    8.60e+00   23.32    6.86    0.25    0.12    0.70   28.15    2.11   \n",
       "min    6.32e-03    0.00    0.46    0.00    0.39    3.56    2.90    1.13   \n",
       "25%    8.20e-02    0.00    5.19    0.00    0.45    5.89   45.02    2.10   \n",
       "50%    2.57e-01    0.00    9.69    0.00    0.54    6.21   77.50    3.21   \n",
       "75%    3.68e+00   12.50   18.10    0.00    0.62    6.62   94.07    5.19   \n",
       "max    8.90e+01  100.00   27.74    1.00    0.87    8.78  100.00   12.13   \n",
       "\n",
       "          RAD     TAX  PTRATIO       B   LSTAT    MEDV  \n",
       "count  506.00  506.00   506.00  506.00  506.00  506.00  \n",
       "mean     9.55  408.24    18.46  356.67   12.65   22.53  \n",
       "std      8.71  168.54     2.16   91.29    7.14    9.20  \n",
       "min      1.00  187.00    12.60    0.32    1.73    5.00  \n",
       "25%      4.00  279.00    17.40  375.38    6.95   17.02  \n",
       "50%      5.00  330.00    19.05  391.44   11.36   21.20  \n",
       "75%     24.00  666.00    20.20  396.23   16.96   25.00  \n",
       "max     24.00  711.00    22.00  396.90   37.97   50.00  "
      ]
     },
     "execution_count": 14,
     "metadata": {},
     "output_type": "execute_result"
    }
   ],
   "source": [
    "# - We now have a better feeling for how different the attributes are. \n",
    "# - The min and max values as well are the means vary a lot. \n",
    "# - We are likely going to get better results by rescaling the data in some way.\n",
    "set_option('precision',2)\n",
    "_dataset.describe()"
   ]
  },
  {
   "cell_type": "code",
   "execution_count": 15,
   "metadata": {
    "collapsed": false
   },
   "outputs": [
    {
     "data": {
      "text/html": [
       "<div>\n",
       "<table border=\"1\" class=\"dataframe\">\n",
       "  <thead>\n",
       "    <tr style=\"text-align: right;\">\n",
       "      <th></th>\n",
       "      <th>CRIM</th>\n",
       "      <th>ZN</th>\n",
       "      <th>INDUS</th>\n",
       "      <th>CHAS</th>\n",
       "      <th>NOX</th>\n",
       "      <th>RM</th>\n",
       "      <th>AGE</th>\n",
       "      <th>DIS</th>\n",
       "      <th>RAD</th>\n",
       "      <th>TAX</th>\n",
       "      <th>PTRATIO</th>\n",
       "      <th>B</th>\n",
       "      <th>LSTAT</th>\n",
       "      <th>MEDV</th>\n",
       "    </tr>\n",
       "  </thead>\n",
       "  <tbody>\n",
       "    <tr>\n",
       "      <th>CRIM</th>\n",
       "      <td>1.00</td>\n",
       "      <td>-0.20</td>\n",
       "      <td>0.41</td>\n",
       "      <td>-5.59e-02</td>\n",
       "      <td>0.42</td>\n",
       "      <td>-0.22</td>\n",
       "      <td>0.35</td>\n",
       "      <td>-0.38</td>\n",
       "      <td>6.26e-01</td>\n",
       "      <td>0.58</td>\n",
       "      <td>0.29</td>\n",
       "      <td>-0.39</td>\n",
       "      <td>0.46</td>\n",
       "      <td>-0.39</td>\n",
       "    </tr>\n",
       "    <tr>\n",
       "      <th>ZN</th>\n",
       "      <td>-0.20</td>\n",
       "      <td>1.00</td>\n",
       "      <td>-0.53</td>\n",
       "      <td>-4.27e-02</td>\n",
       "      <td>-0.52</td>\n",
       "      <td>0.31</td>\n",
       "      <td>-0.57</td>\n",
       "      <td>0.66</td>\n",
       "      <td>-3.12e-01</td>\n",
       "      <td>-0.31</td>\n",
       "      <td>-0.39</td>\n",
       "      <td>0.18</td>\n",
       "      <td>-0.41</td>\n",
       "      <td>0.36</td>\n",
       "    </tr>\n",
       "    <tr>\n",
       "      <th>INDUS</th>\n",
       "      <td>0.41</td>\n",
       "      <td>-0.53</td>\n",
       "      <td>1.00</td>\n",
       "      <td>6.29e-02</td>\n",
       "      <td>0.76</td>\n",
       "      <td>-0.39</td>\n",
       "      <td>0.64</td>\n",
       "      <td>-0.71</td>\n",
       "      <td>5.95e-01</td>\n",
       "      <td>0.72</td>\n",
       "      <td>0.38</td>\n",
       "      <td>-0.36</td>\n",
       "      <td>0.60</td>\n",
       "      <td>-0.48</td>\n",
       "    </tr>\n",
       "    <tr>\n",
       "      <th>CHAS</th>\n",
       "      <td>-0.06</td>\n",
       "      <td>-0.04</td>\n",
       "      <td>0.06</td>\n",
       "      <td>1.00e+00</td>\n",
       "      <td>0.09</td>\n",
       "      <td>0.09</td>\n",
       "      <td>0.09</td>\n",
       "      <td>-0.10</td>\n",
       "      <td>-7.37e-03</td>\n",
       "      <td>-0.04</td>\n",
       "      <td>-0.12</td>\n",
       "      <td>0.05</td>\n",
       "      <td>-0.05</td>\n",
       "      <td>0.18</td>\n",
       "    </tr>\n",
       "    <tr>\n",
       "      <th>NOX</th>\n",
       "      <td>0.42</td>\n",
       "      <td>-0.52</td>\n",
       "      <td>0.76</td>\n",
       "      <td>9.12e-02</td>\n",
       "      <td>1.00</td>\n",
       "      <td>-0.30</td>\n",
       "      <td>0.73</td>\n",
       "      <td>-0.77</td>\n",
       "      <td>6.11e-01</td>\n",
       "      <td>0.67</td>\n",
       "      <td>0.19</td>\n",
       "      <td>-0.38</td>\n",
       "      <td>0.59</td>\n",
       "      <td>-0.43</td>\n",
       "    </tr>\n",
       "    <tr>\n",
       "      <th>RM</th>\n",
       "      <td>-0.22</td>\n",
       "      <td>0.31</td>\n",
       "      <td>-0.39</td>\n",
       "      <td>9.13e-02</td>\n",
       "      <td>-0.30</td>\n",
       "      <td>1.00</td>\n",
       "      <td>-0.24</td>\n",
       "      <td>0.21</td>\n",
       "      <td>-2.10e-01</td>\n",
       "      <td>-0.29</td>\n",
       "      <td>-0.36</td>\n",
       "      <td>0.13</td>\n",
       "      <td>-0.61</td>\n",
       "      <td>0.70</td>\n",
       "    </tr>\n",
       "    <tr>\n",
       "      <th>AGE</th>\n",
       "      <td>0.35</td>\n",
       "      <td>-0.57</td>\n",
       "      <td>0.64</td>\n",
       "      <td>8.65e-02</td>\n",
       "      <td>0.73</td>\n",
       "      <td>-0.24</td>\n",
       "      <td>1.00</td>\n",
       "      <td>-0.75</td>\n",
       "      <td>4.56e-01</td>\n",
       "      <td>0.51</td>\n",
       "      <td>0.26</td>\n",
       "      <td>-0.27</td>\n",
       "      <td>0.60</td>\n",
       "      <td>-0.38</td>\n",
       "    </tr>\n",
       "    <tr>\n",
       "      <th>DIS</th>\n",
       "      <td>-0.38</td>\n",
       "      <td>0.66</td>\n",
       "      <td>-0.71</td>\n",
       "      <td>-9.92e-02</td>\n",
       "      <td>-0.77</td>\n",
       "      <td>0.21</td>\n",
       "      <td>-0.75</td>\n",
       "      <td>1.00</td>\n",
       "      <td>-4.95e-01</td>\n",
       "      <td>-0.53</td>\n",
       "      <td>-0.23</td>\n",
       "      <td>0.29</td>\n",
       "      <td>-0.50</td>\n",
       "      <td>0.25</td>\n",
       "    </tr>\n",
       "    <tr>\n",
       "      <th>RAD</th>\n",
       "      <td>0.63</td>\n",
       "      <td>-0.31</td>\n",
       "      <td>0.60</td>\n",
       "      <td>-7.37e-03</td>\n",
       "      <td>0.61</td>\n",
       "      <td>-0.21</td>\n",
       "      <td>0.46</td>\n",
       "      <td>-0.49</td>\n",
       "      <td>1.00e+00</td>\n",
       "      <td>0.91</td>\n",
       "      <td>0.46</td>\n",
       "      <td>-0.44</td>\n",
       "      <td>0.49</td>\n",
       "      <td>-0.38</td>\n",
       "    </tr>\n",
       "    <tr>\n",
       "      <th>TAX</th>\n",
       "      <td>0.58</td>\n",
       "      <td>-0.31</td>\n",
       "      <td>0.72</td>\n",
       "      <td>-3.56e-02</td>\n",
       "      <td>0.67</td>\n",
       "      <td>-0.29</td>\n",
       "      <td>0.51</td>\n",
       "      <td>-0.53</td>\n",
       "      <td>9.10e-01</td>\n",
       "      <td>1.00</td>\n",
       "      <td>0.46</td>\n",
       "      <td>-0.44</td>\n",
       "      <td>0.54</td>\n",
       "      <td>-0.47</td>\n",
       "    </tr>\n",
       "    <tr>\n",
       "      <th>PTRATIO</th>\n",
       "      <td>0.29</td>\n",
       "      <td>-0.39</td>\n",
       "      <td>0.38</td>\n",
       "      <td>-1.22e-01</td>\n",
       "      <td>0.19</td>\n",
       "      <td>-0.36</td>\n",
       "      <td>0.26</td>\n",
       "      <td>-0.23</td>\n",
       "      <td>4.65e-01</td>\n",
       "      <td>0.46</td>\n",
       "      <td>1.00</td>\n",
       "      <td>-0.18</td>\n",
       "      <td>0.37</td>\n",
       "      <td>-0.51</td>\n",
       "    </tr>\n",
       "    <tr>\n",
       "      <th>B</th>\n",
       "      <td>-0.39</td>\n",
       "      <td>0.18</td>\n",
       "      <td>-0.36</td>\n",
       "      <td>4.88e-02</td>\n",
       "      <td>-0.38</td>\n",
       "      <td>0.13</td>\n",
       "      <td>-0.27</td>\n",
       "      <td>0.29</td>\n",
       "      <td>-4.44e-01</td>\n",
       "      <td>-0.44</td>\n",
       "      <td>-0.18</td>\n",
       "      <td>1.00</td>\n",
       "      <td>-0.37</td>\n",
       "      <td>0.33</td>\n",
       "    </tr>\n",
       "    <tr>\n",
       "      <th>LSTAT</th>\n",
       "      <td>0.46</td>\n",
       "      <td>-0.41</td>\n",
       "      <td>0.60</td>\n",
       "      <td>-5.39e-02</td>\n",
       "      <td>0.59</td>\n",
       "      <td>-0.61</td>\n",
       "      <td>0.60</td>\n",
       "      <td>-0.50</td>\n",
       "      <td>4.89e-01</td>\n",
       "      <td>0.54</td>\n",
       "      <td>0.37</td>\n",
       "      <td>-0.37</td>\n",
       "      <td>1.00</td>\n",
       "      <td>-0.74</td>\n",
       "    </tr>\n",
       "    <tr>\n",
       "      <th>MEDV</th>\n",
       "      <td>-0.39</td>\n",
       "      <td>0.36</td>\n",
       "      <td>-0.48</td>\n",
       "      <td>1.75e-01</td>\n",
       "      <td>-0.43</td>\n",
       "      <td>0.70</td>\n",
       "      <td>-0.38</td>\n",
       "      <td>0.25</td>\n",
       "      <td>-3.82e-01</td>\n",
       "      <td>-0.47</td>\n",
       "      <td>-0.51</td>\n",
       "      <td>0.33</td>\n",
       "      <td>-0.74</td>\n",
       "      <td>1.00</td>\n",
       "    </tr>\n",
       "  </tbody>\n",
       "</table>\n",
       "</div>"
      ],
      "text/plain": [
       "         CRIM    ZN  INDUS      CHAS   NOX    RM   AGE   DIS       RAD   TAX  \\\n",
       "CRIM     1.00 -0.20   0.41 -5.59e-02  0.42 -0.22  0.35 -0.38  6.26e-01  0.58   \n",
       "ZN      -0.20  1.00  -0.53 -4.27e-02 -0.52  0.31 -0.57  0.66 -3.12e-01 -0.31   \n",
       "INDUS    0.41 -0.53   1.00  6.29e-02  0.76 -0.39  0.64 -0.71  5.95e-01  0.72   \n",
       "CHAS    -0.06 -0.04   0.06  1.00e+00  0.09  0.09  0.09 -0.10 -7.37e-03 -0.04   \n",
       "NOX      0.42 -0.52   0.76  9.12e-02  1.00 -0.30  0.73 -0.77  6.11e-01  0.67   \n",
       "RM      -0.22  0.31  -0.39  9.13e-02 -0.30  1.00 -0.24  0.21 -2.10e-01 -0.29   \n",
       "AGE      0.35 -0.57   0.64  8.65e-02  0.73 -0.24  1.00 -0.75  4.56e-01  0.51   \n",
       "DIS     -0.38  0.66  -0.71 -9.92e-02 -0.77  0.21 -0.75  1.00 -4.95e-01 -0.53   \n",
       "RAD      0.63 -0.31   0.60 -7.37e-03  0.61 -0.21  0.46 -0.49  1.00e+00  0.91   \n",
       "TAX      0.58 -0.31   0.72 -3.56e-02  0.67 -0.29  0.51 -0.53  9.10e-01  1.00   \n",
       "PTRATIO  0.29 -0.39   0.38 -1.22e-01  0.19 -0.36  0.26 -0.23  4.65e-01  0.46   \n",
       "B       -0.39  0.18  -0.36  4.88e-02 -0.38  0.13 -0.27  0.29 -4.44e-01 -0.44   \n",
       "LSTAT    0.46 -0.41   0.60 -5.39e-02  0.59 -0.61  0.60 -0.50  4.89e-01  0.54   \n",
       "MEDV    -0.39  0.36  -0.48  1.75e-01 -0.43  0.70 -0.38  0.25 -3.82e-01 -0.47   \n",
       "\n",
       "         PTRATIO     B  LSTAT  MEDV  \n",
       "CRIM        0.29 -0.39   0.46 -0.39  \n",
       "ZN         -0.39  0.18  -0.41  0.36  \n",
       "INDUS       0.38 -0.36   0.60 -0.48  \n",
       "CHAS       -0.12  0.05  -0.05  0.18  \n",
       "NOX         0.19 -0.38   0.59 -0.43  \n",
       "RM         -0.36  0.13  -0.61  0.70  \n",
       "AGE         0.26 -0.27   0.60 -0.38  \n",
       "DIS        -0.23  0.29  -0.50  0.25  \n",
       "RAD         0.46 -0.44   0.49 -0.38  \n",
       "TAX         0.46 -0.44   0.54 -0.47  \n",
       "PTRATIO     1.00 -0.18   0.37 -0.51  \n",
       "B          -0.18  1.00  -0.37  0.33  \n",
       "LSTAT       0.37 -0.37   1.00 -0.74  \n",
       "MEDV       -0.51  0.33  -0.74  1.00  "
      ]
     },
     "execution_count": 15,
     "metadata": {},
     "output_type": "execute_result"
    }
   ],
   "source": [
    "_dataset.corr(method='pearson')\n",
    "\n",
    "# - We can see that many of the attributes have a strong correlation (> 0.70 or < −0.70). \n",
    "# - For example:   \n",
    "    # - NOX and INDUS with 0.77.\n",
    "    # - DIS and INDUS with -0.71.\n",
    "    # - TAX and INDUS with 0.72.\n",
    "    # - AGE and NOX with 0.73.\n",
    "    # - DIS and NOX with -0.78.\n",
    "    # - It also looks like LSTAT has a good negative correlation with the output variable MEDV with a value of -0.74."
   ]
  },
  {
   "cell_type": "code",
   "execution_count": 16,
   "metadata": {
    "collapsed": true
   },
   "outputs": [],
   "source": [
    "# 20.4 Data Visualizations"
   ]
  },
  {
   "cell_type": "code",
   "execution_count": 17,
   "metadata": {
    "collapsed": true
   },
   "outputs": [],
   "source": [
    "# 20.4.1 Unimodal Data Visualizations"
   ]
  },
  {
   "cell_type": "code",
   "execution_count": 18,
   "metadata": {
    "collapsed": false
   },
   "outputs": [
    {
     "data": {
      "text/plain": [
       "array([[<matplotlib.axes._subplots.AxesSubplot object at 0x10cbcea58>,\n",
       "        <matplotlib.axes._subplots.AxesSubplot object at 0x110fd6da0>,\n",
       "        <matplotlib.axes._subplots.AxesSubplot object at 0x111045c88>,\n",
       "        <matplotlib.axes._subplots.AxesSubplot object at 0x1110a0d30>],\n",
       "       [<matplotlib.axes._subplots.AxesSubplot object at 0x11110f048>,\n",
       "        <matplotlib.axes._subplots.AxesSubplot object at 0x11110f080>,\n",
       "        <matplotlib.axes._subplots.AxesSubplot object at 0x1111c9f60>,\n",
       "        <matplotlib.axes._subplots.AxesSubplot object at 0x1112229b0>],\n",
       "       [<matplotlib.axes._subplots.AxesSubplot object at 0x111288eb8>,\n",
       "        <matplotlib.axes._subplots.AxesSubplot object at 0x1112a84e0>,\n",
       "        <matplotlib.axes._subplots.AxesSubplot object at 0x11134bcf8>,\n",
       "        <matplotlib.axes._subplots.AxesSubplot object at 0x1113bc048>],\n",
       "       [<matplotlib.axes._subplots.AxesSubplot object at 0x11140f940>,\n",
       "        <matplotlib.axes._subplots.AxesSubplot object at 0x111476c50>,\n",
       "        <matplotlib.axes._subplots.AxesSubplot object at 0x1114d07b8>,\n",
       "        <matplotlib.axes._subplots.AxesSubplot object at 0x1115387f0>]], dtype=object)"
      ]
     },
     "execution_count": 18,
     "metadata": {},
     "output_type": "execute_result"
    }
   ],
   "source": [
    "_dataset.hist(sharex=False, sharey=False, xlabelsize=1, ylabelsize=1)"
   ]
  },
  {
   "cell_type": "code",
   "execution_count": 19,
   "metadata": {
    "collapsed": false
   },
   "outputs": [
    {
     "data": {
      "image/png": "[encoded data removed]",
      "text/plain": [
       "<matplotlib.figure.Figure at 0x10cbce5f8>"
      ]
     },
     "metadata": {},
     "output_type": "display_data"
    }
   ],
   "source": [
    "pyplot.show()"
   ]
  },
  {
   "cell_type": "code",
   "execution_count": 20,
   "metadata": {
    "collapsed": true
   },
   "outputs": [],
   "source": [
    "# - We can see that:\n",
    "    # - some attributes may have an exponential distribution, such as CRIM, ZN, AGE and B. \n",
    "    # - others may have a bimodal distribution such as RAD and TAX."
   ]
  },
  {
   "cell_type": "code",
   "execution_count": 21,
   "metadata": {
    "collapsed": false
   },
   "outputs": [
    {
     "data": {
      "text/plain": [
       "array([[<matplotlib.axes._subplots.AxesSubplot object at 0x111a1cb38>,\n",
       "        <matplotlib.axes._subplots.AxesSubplot object at 0x111a33240>,\n",
       "        <matplotlib.axes._subplots.AxesSubplot object at 0x1118b91d0>,\n",
       "        <matplotlib.axes._subplots.AxesSubplot object at 0x111a9d240>],\n",
       "       [<matplotlib.axes._subplots.AxesSubplot object at 0x111b05550>,\n",
       "        <matplotlib.axes._subplots.AxesSubplot object at 0x111b05588>,\n",
       "        <matplotlib.axes._subplots.AxesSubplot object at 0x111bc2f98>,\n",
       "        <matplotlib.axes._subplots.AxesSubplot object at 0x111c1eda0>],\n",
       "       [<matplotlib.axes._subplots.AxesSubplot object at 0x111c85ef0>,\n",
       "        <matplotlib.axes._subplots.AxesSubplot object at 0x111ce2be0>,\n",
       "        <matplotlib.axes._subplots.AxesSubplot object at 0x111d54048>,\n",
       "        <matplotlib.axes._subplots.AxesSubplot object at 0x111da1a20>],\n",
       "       [<matplotlib.axes._subplots.AxesSubplot object at 0x111e16048>,\n",
       "        <matplotlib.axes._subplots.AxesSubplot object at 0x111e20828>,\n",
       "        <matplotlib.axes._subplots.AxesSubplot object at 0x111ed2d68>,\n",
       "        <matplotlib.axes._subplots.AxesSubplot object at 0x111f430b8>]], dtype=object)"
      ]
     },
     "execution_count": 21,
     "metadata": {},
     "output_type": "execute_result"
    }
   ],
   "source": [
    "_dataset.plot(kind='density', subplots=True, layout=(4,4), sharex=False, sharey=False, fontsize=1)"
   ]
  },
  {
   "cell_type": "code",
   "execution_count": 22,
   "metadata": {
    "collapsed": false
   },
   "outputs": [
    {
     "data": {
      "image/png": "[encoded data removed]",
      "text/plain": [
       "<matplotlib.figure.Figure at 0x1110bcdd8>"
      ]
     },
     "metadata": {},
     "output_type": "display_data"
    }
   ],
   "source": [
    "pyplot.show()"
   ]
  },
  {
   "cell_type": "code",
   "execution_count": 23,
   "metadata": {
    "collapsed": true
   },
   "outputs": [],
   "source": [
    "# - This perhaps adds more evidence to our suspicion about possible exponential and bimodal distributions. \n",
    "\n",
    "# - It also looks like NOX, RM and LSTAT may be skewed Gaussian distributions, which might be helpful later \n",
    "# with transforms."
   ]
  },
  {
   "cell_type": "code",
   "execution_count": 24,
   "metadata": {
    "collapsed": false
   },
   "outputs": [
    {
     "data": {
      "text/plain": [
       "CRIM           Axes(0.125,0.71587;0.168478x0.16413)\n",
       "ZN          Axes(0.327174,0.71587;0.168478x0.16413)\n",
       "INDUS       Axes(0.529348,0.71587;0.168478x0.16413)\n",
       "CHAS        Axes(0.731522,0.71587;0.168478x0.16413)\n",
       "NOX           Axes(0.125,0.518913;0.168478x0.16413)\n",
       "RM         Axes(0.327174,0.518913;0.168478x0.16413)\n",
       "AGE        Axes(0.529348,0.518913;0.168478x0.16413)\n",
       "DIS        Axes(0.731522,0.518913;0.168478x0.16413)\n",
       "RAD           Axes(0.125,0.321957;0.168478x0.16413)\n",
       "TAX        Axes(0.327174,0.321957;0.168478x0.16413)\n",
       "PTRATIO    Axes(0.529348,0.321957;0.168478x0.16413)\n",
       "B          Axes(0.731522,0.321957;0.168478x0.16413)\n",
       "LSTAT            Axes(0.125,0.125;0.168478x0.16413)\n",
       "MEDV          Axes(0.327174,0.125;0.168478x0.16413)\n",
       "dtype: object"
      ]
     },
     "execution_count": 24,
     "metadata": {},
     "output_type": "execute_result"
    }
   ],
   "source": [
    "_dataset.plot(kind='box', subplots=True, layout=(4,4), sharex=False, sharey=False, fontsize=8)"
   ]
  },
  {
   "cell_type": "code",
   "execution_count": 25,
   "metadata": {
    "collapsed": false
   },
   "outputs": [
    {
     "data": {
      "image/png": "[encoded data removed]",
      "text/plain": [
       "<matplotlib.figure.Figure at 0x1120c2e10>"
      ]
     },
     "metadata": {},
     "output_type": "display_data"
    }
   ],
   "source": [
    "pyplot.show()"
   ]
  },
  {
   "cell_type": "code",
   "execution_count": 26,
   "metadata": {
    "collapsed": true
   },
   "outputs": [],
   "source": [
    "# - This helps point out the skew in many distributions so much so that data looks like outliers \n",
    "# (e.g. beyond the whisker of the plots)."
   ]
  },
  {
   "cell_type": "code",
   "execution_count": 27,
   "metadata": {
    "collapsed": true
   },
   "outputs": [],
   "source": [
    "# 20.4.2 Multimodal Data Visualizations"
   ]
  },
  {
   "cell_type": "code",
   "execution_count": 28,
   "metadata": {
    "collapsed": false
   },
   "outputs": [
    {
     "data": {
      "text/plain": [
       "array([[<matplotlib.axes._subplots.AxesSubplot object at 0x1124efc88>,\n",
       "        <matplotlib.axes._subplots.AxesSubplot object at 0x112a2c080>,\n",
       "        <matplotlib.axes._subplots.AxesSubplot object at 0x1129b8ef0>,\n",
       "        <matplotlib.axes._subplots.AxesSubplot object at 0x112b6a7f0>,\n",
       "        <matplotlib.axes._subplots.AxesSubplot object at 0x112bd3a20>,\n",
       "        <matplotlib.axes._subplots.AxesSubplot object at 0x112bd3a58>,\n",
       "        <matplotlib.axes._subplots.AxesSubplot object at 0x112c98ef0>,\n",
       "        <matplotlib.axes._subplots.AxesSubplot object at 0x112cfa208>,\n",
       "        <matplotlib.axes._subplots.AxesSubplot object at 0x112d64630>,\n",
       "        <matplotlib.axes._subplots.AxesSubplot object at 0x112dc08d0>,\n",
       "        <matplotlib.axes._subplots.AxesSubplot object at 0x112e26dd8>,\n",
       "        <matplotlib.axes._subplots.AxesSubplot object at 0x112e84710>,\n",
       "        <matplotlib.axes._subplots.AxesSubplot object at 0x112eedc18>,\n",
       "        <matplotlib.axes._subplots.AxesSubplot object at 0x112f4a550>],\n",
       "       [<matplotlib.axes._subplots.AxesSubplot object at 0x112fae940>,\n",
       "        <matplotlib.axes._subplots.AxesSubplot object at 0x112fcb940>,\n",
       "        <matplotlib.axes._subplots.AxesSubplot object at 0x113072780>,\n",
       "        <matplotlib.axes._subplots.AxesSubplot object at 0x1130dda90>,\n",
       "        <matplotlib.axes._subplots.AxesSubplot object at 0x1131384e0>,\n",
       "        <matplotlib.axes._subplots.AxesSubplot object at 0x1131a07f0>,\n",
       "        <matplotlib.axes._subplots.AxesSubplot object at 0x1131fc358>,\n",
       "        <matplotlib.axes._subplots.AxesSubplot object at 0x1132662b0>,\n",
       "        <matplotlib.axes._subplots.AxesSubplot object at 0x1132c0cf8>,\n",
       "        <matplotlib.axes._subplots.AxesSubplot object at 0x113332080>,\n",
       "        <matplotlib.axes._subplots.AxesSubplot object at 0x11338c400>,\n",
       "        <matplotlib.axes._subplots.AxesSubplot object at 0x1133f5908>,\n",
       "        <matplotlib.axes._subplots.AxesSubplot object at 0x112d79080>,\n",
       "        <matplotlib.axes._subplots.AxesSubplot object at 0x11348fbe0>],\n",
       "       [<matplotlib.axes._subplots.AxesSubplot object at 0x1134a0f98>,\n",
       "        <matplotlib.axes._subplots.AxesSubplot object at 0x1135580f0>,\n",
       "        <matplotlib.axes._subplots.AxesSubplot object at 0x11357eb70>,\n",
       "        <matplotlib.axes._subplots.AxesSubplot object at 0x1136169e8>,\n",
       "        <matplotlib.axes._subplots.AxesSubplot object at 0x113680cf8>,\n",
       "        <matplotlib.axes._subplots.AxesSubplot object at 0x1136d9668>,\n",
       "        <matplotlib.axes._subplots.AxesSubplot object at 0x113743978>,\n",
       "        <matplotlib.axes._subplots.AxesSubplot object at 0x11379e4e0>,\n",
       "        <matplotlib.axes._subplots.AxesSubplot object at 0x113808438>,\n",
       "        <matplotlib.axes._subplots.AxesSubplot object at 0x113862e80>,\n",
       "        <matplotlib.axes._subplots.AxesSubplot object at 0x1138d4208>,\n",
       "        <matplotlib.axes._subplots.AxesSubplot object at 0x11392e588>,\n",
       "        <matplotlib.axes._subplots.AxesSubplot object at 0x113998a90>,\n",
       "        <matplotlib.axes._subplots.AxesSubplot object at 0x1139f43c8>],\n",
       "       [<matplotlib.axes._subplots.AxesSubplot object at 0x113a5a9b0>,\n",
       "        <matplotlib.axes._subplots.AxesSubplot object at 0x113ab9208>,\n",
       "        <matplotlib.axes._subplots.AxesSubplot object at 0x113b216d8>,\n",
       "        <matplotlib.axes._subplots.AxesSubplot object at 0x113b3ec50>,\n",
       "        <matplotlib.axes._subplots.AxesSubplot object at 0x113be5550>,\n",
       "        <matplotlib.axes._subplots.AxesSubplot object at 0x113c4e860>,\n",
       "        <matplotlib.axes._subplots.AxesSubplot object at 0x113ca8198>,\n",
       "        <matplotlib.axes._subplots.AxesSubplot object at 0x113d134a8>,\n",
       "        <matplotlib.axes._subplots.AxesSubplot object at 0x113d65fd0>,\n",
       "        <matplotlib.axes._subplots.AxesSubplot object at 0x113dcff28>,\n",
       "        <matplotlib.axes._subplots.AxesSubplot object at 0x113e339b0>,\n",
       "        <matplotlib.axes._subplots.AxesSubplot object at 0x113e99cf8>,\n",
       "        <matplotlib.axes._subplots.AxesSubplot object at 0x113efe0b8>,\n",
       "        <matplotlib.axes._subplots.AxesSubplot object at 0x113f665c0>],\n",
       "       [<matplotlib.axes._subplots.AxesSubplot object at 0x113fbbeb8>,\n",
       "        <matplotlib.axes._subplots.AxesSubplot object at 0x11402b4e0>,\n",
       "        <matplotlib.axes._subplots.AxesSubplot object at 0x113eab7b8>,\n",
       "        <matplotlib.axes._subplots.AxesSubplot object at 0x1140cd080>,\n",
       "        <matplotlib.axes._subplots.AxesSubplot object at 0x114135978>,\n",
       "        <matplotlib.axes._subplots.AxesSubplot object at 0x114190470>,\n",
       "        <matplotlib.axes._subplots.AxesSubplot object at 0x114200358>,\n",
       "        <matplotlib.axes._subplots.AxesSubplot object at 0x11424ccc0>,\n",
       "        <matplotlib.axes._subplots.AxesSubplot object at 0x1142b5fd0>,\n",
       "        <matplotlib.axes._subplots.AxesSubplot object at 0x114310a20>,\n",
       "        <matplotlib.axes._subplots.AxesSubplot object at 0x11437b978>,\n",
       "        <matplotlib.axes._subplots.AxesSubplot object at 0x1143dd400>,\n",
       "        <matplotlib.axes._subplots.AxesSubplot object at 0x114446748>,\n",
       "        <matplotlib.axes._subplots.AxesSubplot object at 0x1144a3ac8>],\n",
       "       [<matplotlib.axes._subplots.AxesSubplot object at 0x114509fd0>,\n",
       "        <matplotlib.axes._subplots.AxesSubplot object at 0x114567908>,\n",
       "        <matplotlib.axes._subplots.AxesSubplot object at 0x1145ccef0>,\n",
       "        <matplotlib.axes._subplots.AxesSubplot object at 0x11462b748>,\n",
       "        <matplotlib.axes._subplots.AxesSubplot object at 0x114691c18>,\n",
       "        <matplotlib.axes._subplots.AxesSubplot object at 0x1146af2b0>,\n",
       "        <matplotlib.axes._subplots.AxesSubplot object at 0x114756a90>,\n",
       "        <matplotlib.axes._subplots.AxesSubplot object at 0x1147beda0>,\n",
       "        <matplotlib.axes._subplots.AxesSubplot object at 0x11481a6d8>,\n",
       "        <matplotlib.axes._subplots.AxesSubplot object at 0x1148839e8>,\n",
       "        <matplotlib.axes._subplots.AxesSubplot object at 0x1148e1550>,\n",
       "        <matplotlib.axes._subplots.AxesSubplot object at 0x1149494a8>,\n",
       "        <matplotlib.axes._subplots.AxesSubplot object at 0x1149a3ef0>,\n",
       "        <matplotlib.axes._subplots.AxesSubplot object at 0x114a13278>],\n",
       "       [<matplotlib.axes._subplots.AxesSubplot object at 0x114a705f8>,\n",
       "        <matplotlib.axes._subplots.AxesSubplot object at 0x114ad5b00>,\n",
       "        <matplotlib.axes._subplots.AxesSubplot object at 0x114b36438>,\n",
       "        <matplotlib.axes._subplots.AxesSubplot object at 0x114b9ea20>,\n",
       "        <matplotlib.axes._subplots.AxesSubplot object at 0x114bfa278>,\n",
       "        <matplotlib.axes._subplots.AxesSubplot object at 0x114c61748>,\n",
       "        <matplotlib.axes._subplots.AxesSubplot object at 0x114c7ecc0>,\n",
       "        <matplotlib.axes._subplots.AxesSubplot object at 0x114d245c0>,\n",
       "        <matplotlib.axes._subplots.AxesSubplot object at 0x114d8e8d0>,\n",
       "        <matplotlib.axes._subplots.AxesSubplot object at 0x114dea208>,\n",
       "        <matplotlib.axes._subplots.AxesSubplot object at 0x114e52518>,\n",
       "        <matplotlib.axes._subplots.AxesSubplot object at 0x114eaf080>,\n",
       "        <matplotlib.axes._subplots.AxesSubplot object at 0x114f0ef98>,\n",
       "        <matplotlib.axes._subplots.AxesSubplot object at 0x11438b208>],\n",
       "       [<matplotlib.axes._subplots.AxesSubplot object at 0x114fa8c88>,\n",
       "        <matplotlib.axes._subplots.AxesSubplot object at 0x1150047b8>,\n",
       "        <matplotlib.axes._subplots.AxesSubplot object at 0x11506cda0>,\n",
       "        <matplotlib.axes._subplots.AxesSubplot object at 0x1150c95f8>,\n",
       "        <matplotlib.axes._subplots.AxesSubplot object at 0x115130ac8>,\n",
       "        <matplotlib.axes._subplots.AxesSubplot object at 0x11514f160>,\n",
       "        <matplotlib.axes._subplots.AxesSubplot object at 0x1151f4940>,\n",
       "        <matplotlib.axes._subplots.AxesSubplot object at 0x11525ec50>,\n",
       "        <matplotlib.axes._subplots.AxesSubplot object at 0x1152b9588>,\n",
       "        <matplotlib.axes._subplots.AxesSubplot object at 0x115323898>,\n",
       "        <matplotlib.axes._subplots.AxesSubplot object at 0x11537e400>,\n",
       "        <matplotlib.axes._subplots.AxesSubplot object at 0x1153e8358>,\n",
       "        <matplotlib.axes._subplots.AxesSubplot object at 0x115443da0>,\n",
       "        <matplotlib.axes._subplots.AxesSubplot object at 0x1154b3128>],\n",
       "       [<matplotlib.axes._subplots.AxesSubplot object at 0x11550f4a8>,\n",
       "        <matplotlib.axes._subplots.AxesSubplot object at 0x1155769b0>,\n",
       "        <matplotlib.axes._subplots.AxesSubplot object at 0x1155d22e8>,\n",
       "        <matplotlib.axes._subplots.AxesSubplot object at 0x11563b8d0>,\n",
       "        <matplotlib.axes._subplots.AxesSubplot object at 0x115699128>,\n",
       "        <matplotlib.axes._subplots.AxesSubplot object at 0x1157025f8>,\n",
       "        <matplotlib.axes._subplots.AxesSubplot object at 0x11571dc18>,\n",
       "        <matplotlib.axes._subplots.AxesSubplot object at 0x1157c3470>,\n",
       "        <matplotlib.axes._subplots.AxesSubplot object at 0x11582c780>,\n",
       "        <matplotlib.axes._subplots.AxesSubplot object at 0x1158890b8>,\n",
       "        <matplotlib.axes._subplots.AxesSubplot object at 0x1158f13c8>,\n",
       "        <matplotlib.axes._subplots.AxesSubplot object at 0x115946ef0>,\n",
       "        <matplotlib.axes._subplots.AxesSubplot object at 0x1159ace48>,\n",
       "        <matplotlib.axes._subplots.AxesSubplot object at 0x115a118d0>],\n",
       "       [<matplotlib.axes._subplots.AxesSubplot object at 0x115a78c18>,\n",
       "        <matplotlib.axes._subplots.AxesSubplot object at 0x115ad5f98>,\n",
       "        <matplotlib.axes._subplots.AxesSubplot object at 0x115b454e0>,\n",
       "        <matplotlib.axes._subplots.AxesSubplot object at 0x115b99dd8>,\n",
       "        <matplotlib.axes._subplots.AxesSubplot object at 0x115c0b400>,\n",
       "        <matplotlib.axes._subplots.AxesSubplot object at 0x115c5ac18>,\n",
       "        <matplotlib.axes._subplots.AxesSubplot object at 0x115ccd128>,\n",
       "        <matplotlib.axes._subplots.AxesSubplot object at 0x115cebc88>,\n",
       "        <matplotlib.axes._subplots.AxesSubplot object at 0x115dd4f60>,\n",
       "        <matplotlib.axes._subplots.AxesSubplot object at 0x115e452b0>,\n",
       "        <matplotlib.axes._subplots.AxesSubplot object at 0x115e98ba8>,\n",
       "        <matplotlib.axes._subplots.AxesSubplot object at 0x115f00eb8>,\n",
       "        <matplotlib.axes._subplots.AxesSubplot object at 0x115f5da20>,\n",
       "        <matplotlib.axes._subplots.AxesSubplot object at 0x115fc4978>],\n",
       "       [<matplotlib.axes._subplots.AxesSubplot object at 0x116029400>,\n",
       "        <matplotlib.axes._subplots.AxesSubplot object at 0x116092748>,\n",
       "        <matplotlib.axes._subplots.AxesSubplot object at 0x1160ecac8>,\n",
       "        <matplotlib.axes._subplots.AxesSubplot object at 0x116153fd0>,\n",
       "        <matplotlib.axes._subplots.AxesSubplot object at 0x1161b2908>,\n",
       "        <matplotlib.axes._subplots.AxesSubplot object at 0x11621aef0>,\n",
       "        <matplotlib.axes._subplots.AxesSubplot object at 0x1160ca5f8>,\n",
       "        <matplotlib.axes._subplots.AxesSubplot object at 0x1162ad710>,\n",
       "        <matplotlib.axes._subplots.AxesSubplot object at 0x1162d1c50>,\n",
       "        <matplotlib.axes._subplots.AxesSubplot object at 0x116370128>,\n",
       "        <matplotlib.axes._subplots.AxesSubplot object at 0x1163d9438>,\n",
       "        <matplotlib.axes._subplots.AxesSubplot object at 0x11642ad68>,\n",
       "        <matplotlib.axes._subplots.AxesSubplot object at 0x11649c0b8>,\n",
       "        <matplotlib.axes._subplots.AxesSubplot object at 0x1164f1be0>],\n",
       "       [<matplotlib.axes._subplots.AxesSubplot object at 0x116559b38>,\n",
       "        <matplotlib.axes._subplots.AxesSubplot object at 0x1165bc5c0>,\n",
       "        <matplotlib.axes._subplots.AxesSubplot object at 0x116626908>,\n",
       "        <matplotlib.axes._subplots.AxesSubplot object at 0x116682c88>,\n",
       "        <matplotlib.axes._subplots.AxesSubplot object at 0x1166f11d0>,\n",
       "        <matplotlib.axes._subplots.AxesSubplot object at 0x116747ac8>,\n",
       "        <matplotlib.axes._subplots.AxesSubplot object at 0x1167b70f0>,\n",
       "        <matplotlib.axes._subplots.AxesSubplot object at 0x116804908>,\n",
       "        <matplotlib.axes._subplots.AxesSubplot object at 0x11686fdd8>,\n",
       "        <matplotlib.axes._subplots.AxesSubplot object at 0x11688f0b8>,\n",
       "        <matplotlib.axes._subplots.AxesSubplot object at 0x116936c50>,\n",
       "        <matplotlib.axes._subplots.AxesSubplot object at 0x11699ff60>,\n",
       "        <matplotlib.axes._subplots.AxesSubplot object at 0x1169fa898>,\n",
       "        <matplotlib.axes._subplots.AxesSubplot object at 0x116a62ba8>],\n",
       "       [<matplotlib.axes._subplots.AxesSubplot object at 0x116abd710>,\n",
       "        <matplotlib.axes._subplots.AxesSubplot object at 0x116b2a668>,\n",
       "        <matplotlib.axes._subplots.AxesSubplot object at 0x116b8c0f0>,\n",
       "        <matplotlib.axes._subplots.AxesSubplot object at 0x116bf3438>,\n",
       "        <matplotlib.axes._subplots.AxesSubplot object at 0x116c4f7b8>,\n",
       "        <matplotlib.axes._subplots.AxesSubplot object at 0x116cb9cc0>,\n",
       "        <matplotlib.axes._subplots.AxesSubplot object at 0x116d175f8>,\n",
       "        <matplotlib.axes._subplots.AxesSubplot object at 0x116d7bbe0>,\n",
       "        <matplotlib.axes._subplots.AxesSubplot object at 0x116dd9438>,\n",
       "        <matplotlib.axes._subplots.AxesSubplot object at 0x116e40908>,\n",
       "        <matplotlib.axes._subplots.AxesSubplot object at 0x116e57240>,\n",
       "        <matplotlib.axes._subplots.AxesSubplot object at 0x116f04780>,\n",
       "        <matplotlib.axes._subplots.AxesSubplot object at 0x116f6da90>,\n",
       "        <matplotlib.axes._subplots.AxesSubplot object at 0x116fc73c8>],\n",
       "       [<matplotlib.axes._subplots.AxesSubplot object at 0x1170326d8>,\n",
       "        <matplotlib.axes._subplots.AxesSubplot object at 0x117090240>,\n",
       "        <matplotlib.axes._subplots.AxesSubplot object at 0x1170f7198>,\n",
       "        <matplotlib.axes._subplots.AxesSubplot object at 0x117152be0>,\n",
       "        <matplotlib.axes._subplots.AxesSubplot object at 0x1171baf28>,\n",
       "        <matplotlib.axes._subplots.AxesSubplot object at 0x11721f2e8>,\n",
       "        <matplotlib.axes._subplots.AxesSubplot object at 0x1172847f0>,\n",
       "        <matplotlib.axes._subplots.AxesSubplot object at 0x1172e3128>,\n",
       "        <matplotlib.axes._subplots.AxesSubplot object at 0x11734a710>,\n",
       "        <matplotlib.axes._subplots.AxesSubplot object at 0x117399f28>,\n",
       "        <matplotlib.axes._subplots.AxesSubplot object at 0x117410438>,\n",
       "        <matplotlib.axes._subplots.AxesSubplot object at 0x11742d358>,\n",
       "        <matplotlib.axes._subplots.AxesSubplot object at 0x1174d42b0>,\n",
       "        <matplotlib.axes._subplots.AxesSubplot object at 0x11753c5c0>]], dtype=object)"
      ]
     },
     "execution_count": 28,
     "metadata": {},
     "output_type": "execute_result"
    }
   ],
   "source": [
    "scatter_matrix(_dataset)"
   ]
  },
  {
   "cell_type": "code",
   "execution_count": 29,
   "metadata": {
    "collapsed": false
   },
   "outputs": [
    {
     "data": {
      "image/png": "[encoded data removed]",
      "text/plain": [
       "<matplotlib.figure.Figure at 0x112442860>"
      ]
     },
     "metadata": {},
     "output_type": "display_data"
    }
   ],
   "source": [
    "pyplot.show()"
   ]
  },
  {
   "cell_type": "code",
   "execution_count": 30,
   "metadata": {
    "collapsed": true
   },
   "outputs": [],
   "source": [
    "# - We can see that some of the higher correlated attributes do show good structure in their relationship. \n",
    "\n",
    "# - Not linear, but nice predictable curved relationships."
   ]
  },
  {
   "cell_type": "code",
   "execution_count": 31,
   "metadata": {
    "collapsed": false
   },
   "outputs": [
    {
     "data": {
      "image/png": "[encoded data removed]",
      "text/plain": [
       "<matplotlib.figure.Figure at 0x11814f2e8>"
      ]
     },
     "metadata": {},
     "output_type": "display_data"
    }
   ],
   "source": [
    "# correlation matrix\n",
    "fig = pyplot.figure()\n",
    "ax = fig.add_subplot(111)\n",
    "cax = ax.matshow(_dataset.corr(), vmin=-1, vmax=1, interpolation='none') \n",
    "fig.colorbar(cax)\n",
    "ticks = numpy.arange(0,14,1)\n",
    "ax.set_xticks(ticks)\n",
    "ax.set_yticks(ticks)\n",
    "ax.set_xticklabels(_names)\n",
    "ax.set_yticklabels(_names)\n",
    "pyplot.show()"
   ]
  },
  {
   "cell_type": "code",
   "execution_count": 32,
   "metadata": {
    "collapsed": true
   },
   "outputs": [],
   "source": [
    "# - We can also see some dark yellow and dark blue that suggest candidates for removal to better improve \n",
    "# accuracy of models later on."
   ]
  },
  {
   "cell_type": "code",
   "execution_count": 33,
   "metadata": {
    "collapsed": true
   },
   "outputs": [],
   "source": [
    "# 20.4.3 Summary of Ideas"
   ]
  },
  {
   "cell_type": "code",
   "execution_count": 34,
   "metadata": {
    "collapsed": true
   },
   "outputs": [],
   "source": [
    "# - There is a lot of structure in this dataset. \n",
    "\n",
    "# - We need to think about transforms that we could use later to better expose the structure which in turn \n",
    "# may improve modeling accuracy. \n",
    "\n",
    "# - So far it would be worth trying:\n",
    "    # - Feature selection and removing the most correlated attributes.\n",
    "    # - Normalizing the dataset to reduce the effect of differing scales.\n",
    "    # - Standardizing the dataset to reduce the effects of differing distributions.\n",
    "\n",
    "# - With lots of additional time I would also explore the possibility of binning (discretization) of the data. \n",
    "# This can often improve accuracy for decision tree algorithms."
   ]
  },
  {
   "cell_type": "code",
   "execution_count": 35,
   "metadata": {
    "collapsed": true
   },
   "outputs": [],
   "source": [
    "# 20.5 Validation Dataset"
   ]
  },
  {
   "cell_type": "code",
   "execution_count": 36,
   "metadata": {
    "collapsed": true
   },
   "outputs": [],
   "source": [
    "_array = _dataset.values"
   ]
  },
  {
   "cell_type": "code",
   "execution_count": 37,
   "metadata": {
    "collapsed": true
   },
   "outputs": [],
   "source": [
    "_X = _array[:,0:13]"
   ]
  },
  {
   "cell_type": "code",
   "execution_count": 38,
   "metadata": {
    "collapsed": true
   },
   "outputs": [],
   "source": [
    "_Y = _array[:,13]"
   ]
  },
  {
   "cell_type": "code",
   "execution_count": 39,
   "metadata": {
    "collapsed": true
   },
   "outputs": [],
   "source": [
    "_test_size = 0.20"
   ]
  },
  {
   "cell_type": "code",
   "execution_count": 40,
   "metadata": {
    "collapsed": false
   },
   "outputs": [],
   "source": [
    "_seed = 7"
   ]
  },
  {
   "cell_type": "code",
   "execution_count": 41,
   "metadata": {
    "collapsed": true
   },
   "outputs": [],
   "source": [
    "_X_train, _X_test, _Y_train, _Y_test = train_test_split(_X, _Y, test_size=_test_size, random_state=_seed)"
   ]
  },
  {
   "cell_type": "code",
   "execution_count": 42,
   "metadata": {
    "collapsed": true
   },
   "outputs": [],
   "source": [
    "# 20.6 Evaluate Algorithms: Baseline"
   ]
  },
  {
   "cell_type": "code",
   "execution_count": 43,
   "metadata": {
    "collapsed": true
   },
   "outputs": [],
   "source": [
    "_num_folds = 10"
   ]
  },
  {
   "cell_type": "code",
   "execution_count": 44,
   "metadata": {
    "collapsed": true
   },
   "outputs": [],
   "source": [
    "_scoring = 'neg_mean_squared_error' # 0 is perfect"
   ]
  },
  {
   "cell_type": "code",
   "execution_count": 45,
   "metadata": {
    "collapsed": true
   },
   "outputs": [],
   "source": [
    "# Spot-Check Algorithms\n",
    "models = []\n",
    "\n",
    "# linear algorithms\n",
    "models.append(('LR', LinearRegression())) \n",
    "models.append(('LASSO', Lasso())) \n",
    "models.append(('EN', ElasticNet()))\n",
    "\n",
    "# nonlinear algorithms\n",
    "models.append(('KNN', KNeighborsRegressor())) \n",
    "models.append(('CART', DecisionTreeRegressor())) \n",
    "models.append(('SVR', SVR()))"
   ]
  },
  {
   "cell_type": "code",
   "execution_count": 46,
   "metadata": {
    "collapsed": false
   },
   "outputs": [
    {
     "name": "stdout",
     "output_type": "stream",
     "text": [
      "LR: -21.379856 (9.414264)\n",
      "LASSO: -26.423561 (11.651110)\n",
      "EN: -27.502259 (12.305022)\n",
      "KNN: -41.896488 (13.901688)\n",
      "CART: -24.942835 (12.672227)\n",
      "SVR: -85.518342 (31.994798)\n"
     ]
    }
   ],
   "source": [
    "# evaluate each model in turn\n",
    "results = []\n",
    "names = []\n",
    "for name, model in models:\n",
    "    kfold = KFold(n_splits=_num_folds, random_state=_seed)\n",
    "    cv_results = cross_val_score(model, _X_train, _Y_train, cv=kfold, scoring=_scoring)\n",
    "    results.append(cv_results)\n",
    "    names.append(name)\n",
    "    msg = \"%s: %f (%f)\" % (name, cv_results.mean(), cv_results.std())\n",
    "    print(msg)"
   ]
  },
  {
   "cell_type": "code",
   "execution_count": 47,
   "metadata": {
    "collapsed": true
   },
   "outputs": [],
   "source": [
    "# LR and then CART"
   ]
  },
  {
   "cell_type": "code",
   "execution_count": 48,
   "metadata": {
    "collapsed": false
   },
   "outputs": [
    {
     "data": {
      "image/png": "[encoded data removed]",
      "text/plain": [
       "<matplotlib.figure.Figure at 0x1180af160>"
      ]
     },
     "metadata": {},
     "output_type": "display_data"
    }
   ],
   "source": [
    "# Compare Algorithms\n",
    "fig = pyplot.figure() \n",
    "fig.suptitle('Algorithm Comparison') \n",
    "ax = fig.add_subplot(111) \n",
    "pyplot.boxplot(results) \n",
    "ax.set_xticklabels(names) \n",
    "pyplot.show()"
   ]
  },
  {
   "cell_type": "code",
   "execution_count": 49,
   "metadata": {
    "collapsed": true
   },
   "outputs": [],
   "source": [
    "# - The differing scales of the data is probably hurting the skill of all of the algorithms and perhaps \n",
    "# more so for SVR and KNN."
   ]
  },
  {
   "cell_type": "code",
   "execution_count": 50,
   "metadata": {
    "collapsed": true
   },
   "outputs": [],
   "source": [
    "# 20.7 Evaluate Algorithms: Standardization"
   ]
  },
  {
   "cell_type": "code",
   "execution_count": 51,
   "metadata": {
    "collapsed": true
   },
   "outputs": [],
   "source": [
    "# - Standardization is where the data is transformed such that each attribute has a mean value of zero and \n",
    "# a standard deviation of 1. \n",
    "\n",
    "# - We also need to avoid data leakage when we transform the data. \n",
    "\n",
    "# - A good way to avoid leakage is to use pipelines that standardize the data and build the model for each \n",
    "# fold in the cross-validation test harness. "
   ]
  },
  {
   "cell_type": "code",
   "execution_count": 52,
   "metadata": {
    "collapsed": true
   },
   "outputs": [],
   "source": [
    "# Standardize the dataset\n",
    "pipelines = []\n",
    "pipelines.append(('ScaledLR', Pipeline([('Scaler', StandardScaler()),('LR', LinearRegression())])))\n",
    "pipelines.append(('ScaledLASSO', Pipeline([('Scaler', StandardScaler()),('LASSO', Lasso())])))\n",
    "pipelines.append(('ScaledEN', Pipeline([('Scaler', StandardScaler()),('EN', ElasticNet())])))\n",
    "pipelines.append(('ScaledKNN', Pipeline([('Scaler', StandardScaler()),('KNN', KNeighborsRegressor())])))\n",
    "pipelines.append(('ScaledCART', Pipeline([('Scaler', StandardScaler()),('CART', DecisionTreeRegressor())])))\n",
    "pipelines.append(('ScaledSVR', Pipeline([('Scaler', StandardScaler()),('SVR', SVR())])))"
   ]
  },
  {
   "cell_type": "code",
   "execution_count": 53,
   "metadata": {
    "collapsed": false
   },
   "outputs": [
    {
     "name": "stdout",
     "output_type": "stream",
     "text": [
      "ScaledLR: -21.379856 (9.414264)\n",
      "ScaledLASSO: -26.607314 (8.978761)\n",
      "ScaledEN: -27.932372 (10.587490)\n",
      "ScaledKNN: -20.107620 (12.376949)\n",
      "ScaledCART: -22.221297 (8.951462)\n",
      "ScaledSVR: -29.633086 (17.009186)\n"
     ]
    }
   ],
   "source": [
    "results = []\n",
    "names = []\n",
    "for name, model in pipelines:\n",
    "    kfold = KFold(n_splits=_num_folds, random_state=_seed)\n",
    "    cv_results = cross_val_score(model, _X_train, _Y_train, cv=kfold, scoring=_scoring)\n",
    "    results.append(cv_results)\n",
    "    names.append(name)\n",
    "    msg = \"%s: %f (%f)\" % (name, cv_results.mean(), cv_results.std())\n",
    "    print(msg)"
   ]
  },
  {
   "cell_type": "code",
   "execution_count": 54,
   "metadata": {
    "collapsed": true
   },
   "outputs": [],
   "source": [
    "# - We can see that scaling did have an effect on KNN, driving the error lower than the other models."
   ]
  },
  {
   "cell_type": "code",
   "execution_count": 55,
   "metadata": {
    "collapsed": false
   },
   "outputs": [
    {
     "data": {
      "image/png": "[encoded data removed]",
      "text/plain": [
       "<matplotlib.figure.Figure at 0x1187178d0>"
      ]
     },
     "metadata": {},
     "output_type": "display_data"
    }
   ],
   "source": [
    "# Compare Algorithms\n",
    "fig = pyplot.figure()\n",
    "fig.suptitle('Scaled Algorithm Comparison') \n",
    "ax = fig.add_subplot(111) \n",
    "pyplot.boxplot(results) \n",
    "ax.set_xticklabels(names)\n",
    "pyplot.show()"
   ]
  },
  {
   "cell_type": "code",
   "execution_count": 56,
   "metadata": {
    "collapsed": true
   },
   "outputs": [],
   "source": [
    "# 20.8 Improve Results With Tuning"
   ]
  },
  {
   "cell_type": "code",
   "execution_count": 57,
   "metadata": {
    "collapsed": true
   },
   "outputs": [],
   "source": [
    "# - We know from the results in the previous section that KNN achieves good results on a scaled version \n",
    "# of the dataset. \n",
    "\n",
    "# - But can it do better. \n",
    "\n",
    "# - The default value for the number of neighbors in KNN is 7. \n",
    "\n",
    "# - We can use a grid search to try a set of different numbers of neighbors and see if we can improve the score."
   ]
  },
  {
   "cell_type": "code",
   "execution_count": 58,
   "metadata": {
    "collapsed": false
   },
   "outputs": [],
   "source": [
    "# KNN Algorithm tuning\n",
    "scaler = StandardScaler().fit(_X_train)\n",
    "rescaledX = scaler.transform(_X_train)\n",
    "k_values = numpy.array([1,3,5,7,9,11,13,15,17,19,21])\n",
    "param_grid = dict(n_neighbors=k_values)\n",
    "model = KNeighborsRegressor()\n",
    "kfold = KFold(n_splits=_num_folds, random_state=_seed)\n",
    "grid = GridSearchCV(estimator=model, param_grid=param_grid, scoring=_scoring, cv=kfold)\n",
    "grid_result = grid.fit(rescaledX, _Y_train)"
   ]
  },
  {
   "cell_type": "code",
   "execution_count": 59,
   "metadata": {
    "collapsed": false
   },
   "outputs": [
    {
     "name": "stdout",
     "output_type": "stream",
     "text": [
      "Best: -18.172137 using {'n_neighbors': 3}\n",
      "-20.208663 (15.029652) with: {'n_neighbors': 1}\n",
      "-18.172137 (12.950570) with: {'n_neighbors': 3}\n",
      "-20.131163 (12.203697) with: {'n_neighbors': 5}\n",
      "-20.575845 (12.345886) with: {'n_neighbors': 7}\n",
      "-20.368264 (11.621738) with: {'n_neighbors': 9}\n",
      "-21.009204 (11.610012) with: {'n_neighbors': 11}\n",
      "-21.151809 (11.943318) with: {'n_neighbors': 13}\n",
      "-21.557400 (11.536339) with: {'n_neighbors': 15}\n",
      "-22.789938 (11.566861) with: {'n_neighbors': 17}\n",
      "-23.871873 (11.340389) with: {'n_neighbors': 19}\n",
      "-24.361362 (11.914786) with: {'n_neighbors': 21}\n"
     ]
    }
   ],
   "source": [
    "print(\"Best: %f using %s\" % (grid_result.best_score_, grid_result.best_params_)) \n",
    "means = grid_result.cv_results_['mean_test_score']\n",
    "stds = grid_result.cv_results_['std_test_score']\n",
    "params = grid_result.cv_results_['params']\n",
    "for mean, stdev, param in zip(means, stds, params):\n",
    "    print(\"%f (%f) with: %r\" % (mean, stdev, param))"
   ]
  },
  {
   "cell_type": "code",
   "execution_count": 60,
   "metadata": {
    "collapsed": true
   },
   "outputs": [],
   "source": [
    "# 20.9 Ensemble Methods"
   ]
  },
  {
   "cell_type": "code",
   "execution_count": 61,
   "metadata": {
    "collapsed": true
   },
   "outputs": [],
   "source": [
    "# - Another way that we can improve the performance of algorithms on this problem is by using ensemble methods."
   ]
  },
  {
   "cell_type": "code",
   "execution_count": 62,
   "metadata": {
    "collapsed": true
   },
   "outputs": [],
   "source": [
    "# ensembles\n",
    "ensembles = []\n",
    "ensembles.append(('ScaledAB', Pipeline([('Scaler', StandardScaler()),('AB', AdaBoostRegressor())])))\n",
    "ensembles.append(('ScaledGBM', Pipeline([('Scaler', StandardScaler()),('GBM', GradientBoostingRegressor())])))\n",
    "ensembles.append(('ScaledRF', Pipeline([('Scaler', StandardScaler()),('RF', RandomForestRegressor())])))\n",
    "ensembles.append(('ScaledET', Pipeline([('Scaler', StandardScaler()),('ET', ExtraTreesRegressor())])))"
   ]
  },
  {
   "cell_type": "code",
   "execution_count": 63,
   "metadata": {
    "collapsed": false
   },
   "outputs": [
    {
     "name": "stdout",
     "output_type": "stream",
     "text": [
      "ScaledAB: -14.887553 (6.119162)\n",
      "ScaledGBM: -10.166619 (4.504687)\n",
      "ScaledRF: -12.689299 (6.399766)\n",
      "ScaledET: -11.033590 (6.139193)\n"
     ]
    }
   ],
   "source": [
    "results = []\n",
    "names = []\n",
    "for name, model in ensembles:\n",
    "    kfold = KFold(n_splits=_num_folds, random_state=_seed)\n",
    "    cv_results = cross_val_score(model, _X_train, _Y_train, cv=kfold, scoring=_scoring)\n",
    "    results.append(cv_results)\n",
    "    names.append(name)\n",
    "    msg = \"%s: %f (%f)\" % (name, cv_results.mean(), cv_results.std())\n",
    "    print(msg)"
   ]
  },
  {
   "cell_type": "code",
   "execution_count": 64,
   "metadata": {
    "collapsed": false
   },
   "outputs": [
    {
     "data": {
      "image/png": "[encoded data removed]",
      "text/plain": [
       "<matplotlib.figure.Figure at 0x11949b668>"
      ]
     },
     "metadata": {},
     "output_type": "display_data"
    }
   ],
   "source": [
    "# Compare Algorithms\n",
    "fig = pyplot.figure()\n",
    "fig.suptitle('Scaled Ensemble Algorithm Comparison') \n",
    "ax = fig.add_subplot(111)\n",
    "pyplot.boxplot(results)\n",
    "ax.set_xticklabels(names)\n",
    "pyplot.show()"
   ]
  },
  {
   "cell_type": "code",
   "execution_count": 65,
   "metadata": {
    "collapsed": true
   },
   "outputs": [],
   "source": [
    "# - It looks like Gradient Boosting has a better mean score.\n",
    "\n",
    "# - It also looks like Extra Trees has a similar distribution and perhaps a better median score."
   ]
  },
  {
   "cell_type": "code",
   "execution_count": 66,
   "metadata": {
    "collapsed": true
   },
   "outputs": [],
   "source": [
    "# 20.10 Tune Ensemble Methods"
   ]
  },
  {
   "cell_type": "code",
   "execution_count": 67,
   "metadata": {
    "collapsed": true
   },
   "outputs": [],
   "source": [
    "# - The default number of boosting stages to perform (n estimators) is 100. \n",
    "\n",
    "# - This is a good candidate parameter of Gradient Boosting to tune. \n",
    "\n",
    "# - Often, the larger the number of boosting stages, the better the performance but the longer the training time. \n",
    "\n",
    "# - In this section we will look at tuning the number of stages for gradient boosting."
   ]
  },
  {
   "cell_type": "code",
   "execution_count": 68,
   "metadata": {
    "collapsed": true
   },
   "outputs": [],
   "source": [
    "# Tune scaled GBM\n",
    "scaler = StandardScaler().fit(_X_train)\n",
    "rescaledX = scaler.transform(_X_train)\n",
    "param_grid = dict(n_estimators=numpy.array([50,100,150,200,250,300,350,400]))\n",
    "model = GradientBoostingRegressor(random_state=_seed)\n",
    "kfold = KFold(n_splits=_num_folds, random_state=_seed)\n",
    "grid = GridSearchCV(estimator=model, param_grid=param_grid, scoring=_scoring, cv=kfold)\n",
    "grid_result = grid.fit(rescaledX, _Y_train)"
   ]
  },
  {
   "cell_type": "code",
   "execution_count": 69,
   "metadata": {
    "collapsed": false
   },
   "outputs": [
    {
     "name": "stdout",
     "output_type": "stream",
     "text": [
      "Best: -9.356471 using {'n_estimators': 400}\n",
      "-10.812167 (4.724394) with: {'n_estimators': 50}\n",
      "-10.040857 (4.441758) with: {'n_estimators': 100}\n",
      "-9.694096 (4.275762) with: {'n_estimators': 150}\n",
      "-9.539706 (4.270637) with: {'n_estimators': 200}\n",
      "-9.448764 (4.262603) with: {'n_estimators': 250}\n",
      "-9.429946 (4.273791) with: {'n_estimators': 300}\n",
      "-9.369824 (4.254108) with: {'n_estimators': 350}\n",
      "-9.356471 (4.267837) with: {'n_estimators': 400}\n"
     ]
    }
   ],
   "source": [
    "print(\"Best: %f using %s\" % (grid_result.best_score_, grid_result.best_params_)) \n",
    "means = grid_result.cv_results_['mean_test_score']\n",
    "stds = grid_result.cv_results_['std_test_score']\n",
    "params = grid_result.cv_results_['params']\n",
    "for mean, stdev, param in zip(means, stds, params):\n",
    "    print(\"%f (%f) with: %r\" % (mean, stdev, param))"
   ]
  },
  {
   "cell_type": "code",
   "execution_count": 70,
   "metadata": {
    "collapsed": true
   },
   "outputs": [],
   "source": [
    "# - We can see that the best configuration was n estimators=400 resulting in a mean squared error of -9.356471, \n",
    "# about 0.65 units better than the untuned method"
   ]
  },
  {
   "cell_type": "code",
   "execution_count": 71,
   "metadata": {
    "collapsed": true
   },
   "outputs": [],
   "source": [
    "# 20.11 Finalize Model"
   ]
  },
  {
   "cell_type": "code",
   "execution_count": 72,
   "metadata": {
    "collapsed": false
   },
   "outputs": [
    {
     "data": {
      "text/plain": [
       "GradientBoostingRegressor(alpha=0.9, criterion='friedman_mse', init=None,\n",
       "             learning_rate=0.1, loss='ls', max_depth=3, max_features=None,\n",
       "             max_leaf_nodes=None, min_impurity_split=1e-07,\n",
       "             min_samples_leaf=1, min_samples_split=2,\n",
       "             min_weight_fraction_leaf=0.0, n_estimators=400,\n",
       "             presort='auto', random_state=7, subsample=1.0, verbose=0,\n",
       "             warm_start=False)"
      ]
     },
     "execution_count": 72,
     "metadata": {},
     "output_type": "execute_result"
    }
   ],
   "source": [
    "# prepare the model\n",
    "scaler = StandardScaler().fit(_X_train)\n",
    "rescaledX = scaler.transform(_X_train)\n",
    "model = GradientBoostingRegressor(random_state=_seed, n_estimators=400)\n",
    "model.fit(rescaledX, _Y_train)"
   ]
  },
  {
   "cell_type": "code",
   "execution_count": 73,
   "metadata": {
    "collapsed": false
   },
   "outputs": [
    {
     "name": "stdout",
     "output_type": "stream",
     "text": [
      "11.8752520792\n"
     ]
    }
   ],
   "source": [
    "# transform the validation dataset\n",
    "rescaledValidationX = scaler.transform(_X_test)\n",
    "predictions = model.predict(rescaledValidationX)\n",
    "print(mean_squared_error(_Y_test, predictions))"
   ]
  },
  {
   "cell_type": "code",
   "execution_count": 74,
   "metadata": {
    "collapsed": true
   },
   "outputs": [],
   "source": [
    "# - We can see that the estimated mean squared error is 11.8, close to our estimate of -9.3."
   ]
  },
  {
   "cell_type": "code",
   "execution_count": null,
   "metadata": {
    "collapsed": true
   },
   "outputs": [],
   "source": []
  }
 ],
 "metadata": {
  "kernelspec": {
   "display_name": "Python 3",
   "language": "python",
   "name": "python3"
  },
  "language_info": {
   "codemirror_mode": {
    "name": "ipython",
    "version": 3
   },
   "file_extension": ".py",
   "mimetype": "text/x-python",
   "name": "python",
   "nbconvert_exporter": "python",
   "pygments_lexer": "ipython3",
   "version": "3.6.0"
  }
 },
 "nbformat": 4,
 "nbformat_minor": 2
}
