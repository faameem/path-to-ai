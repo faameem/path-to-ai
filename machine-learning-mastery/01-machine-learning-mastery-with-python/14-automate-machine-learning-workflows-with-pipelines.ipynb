{
 "cells": [
  {
   "cell_type": "code",
   "execution_count": 1,
   "metadata": {
    "collapsed": true
   },
   "outputs": [],
   "source": [
    "# - How to use pipelines to minimize data leakage.\n",
    "\n",
    "# - How to construct a data preparation and modeling pipeline.\n",
    "\n",
    "# - How to construct a feature extraction and modeling pipelin."
   ]
  },
  {
   "cell_type": "code",
   "execution_count": 2,
   "metadata": {
    "collapsed": true
   },
   "outputs": [],
   "source": [
    "# 14.1 Automating Machine Learning Workflows"
   ]
  },
  {
   "cell_type": "code",
   "execution_count": 3,
   "metadata": {
    "collapsed": true
   },
   "outputs": [],
   "source": [
    "# - Pipelines work by allowing for a linear sequence of data transforms to be chained together culminating in a \n",
    "# modeling process that can be evaluated.\n",
    "\n",
    "# - The goal is to ensure that all of the steps in the pipeline are constrained to the data available for the \n",
    "# evaluation, such as the training dataset or each fold of the cross-validation procedure.\n",
    "\n",
    "# - http://scikit-learn.org/stable/modules/pipeline.html"
   ]
  },
  {
   "cell_type": "code",
   "execution_count": null,
   "metadata": {
    "collapsed": true
   },
   "outputs": [],
   "source": []
  }
 ],
 "metadata": {
  "anaconda-cloud": {},
  "kernelspec": {
   "display_name": "Python 3",
   "language": "python",
   "name": "python3"
  },
  "language_info": {
   "codemirror_mode": {
    "name": "ipython",
    "version": 3
   },
   "file_extension": ".py",
   "mimetype": "text/x-python",
   "name": "python",
   "nbconvert_exporter": "python",
   "pygments_lexer": "ipython3",
   "version": "3.5.2"
  }
 },
 "nbformat": 4,
 "nbformat_minor": 1
}
