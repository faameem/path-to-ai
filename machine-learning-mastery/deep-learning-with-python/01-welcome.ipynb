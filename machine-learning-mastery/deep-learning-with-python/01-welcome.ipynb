{
 "cells": [
  {
   "cell_type": "code",
   "execution_count": 1,
   "metadata": {
    "collapsed": true
   },
   "outputs": [],
   "source": [
    "# - From the applied perspective, deep learning is quite a shallow field and a motivated developer \n",
    "# can quickly pick it up and start making very real and impactful contributions."
   ]
  },
  {
   "cell_type": "code",
   "execution_count": 2,
   "metadata": {
    "collapsed": true
   },
   "outputs": [],
   "source": [
    "# - If you are interested in deep learning, start by developing and evaluating deep learning models. \n",
    "# Then if you discover you really like it or have a knack for it, later you can step deeper and deeper \n",
    "# into the background and theory, as you need it in order to serve you in developing better and more \n",
    "# valuable results. "
   ]
  },
  {
   "cell_type": "code",
   "execution_count": 3,
   "metadata": {
    "collapsed": true
   },
   "outputs": [],
   "source": [
    "# - There are two top numerical platforms for developing deep learning models, they are:\n",
    "    # - Theano developed by the University of Montreal \n",
    "    # - TensorFlow developed at Google. \n",
    "\n",
    "# - Both were developed for use in Python and both can be leveraged by the super simple to use Keras library."
   ]
  },
  {
   "cell_type": "code",
   "execution_count": 4,
   "metadata": {
    "collapsed": true
   },
   "outputs": [],
   "source": [
    "# - To get the very most from this book, I recommend taking each lesson and project \n",
    "# and build upon them. Attempt to improve the results, apply the method to a similar \n",
    "# but different problem, and so on. Write up what you tried or learned and share it \n",
    "# on your blog, social media or send me an email at jason@MachineLearningMastery.com. \n",
    "# This book is really what you make of it and by putting in a little extra, you can \n",
    "# quickly become a true force in applied deep learning."
   ]
  },
  {
   "cell_type": "code",
   "execution_count": null,
   "metadata": {
    "collapsed": true
   },
   "outputs": [],
   "source": []
  }
 ],
 "metadata": {
  "kernelspec": {
   "display_name": "Python 3",
   "language": "python",
   "name": "python3"
  },
  "language_info": {
   "codemirror_mode": {
    "name": "ipython",
    "version": 3
   },
   "file_extension": ".py",
   "mimetype": "text/x-python",
   "name": "python",
   "nbconvert_exporter": "python",
   "pygments_lexer": "ipython3",
   "version": "3.6.0"
  }
 },
 "nbformat": 4,
 "nbformat_minor": 2
}
