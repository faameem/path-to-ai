{
 "cells": [
  {
   "cell_type": "code",
   "execution_count": 1,
   "metadata": {
    "collapsed": true
   },
   "outputs": [],
   "source": [
    "# 3.1 What is TensorFlow?"
   ]
  },
  {
   "cell_type": "code",
   "execution_count": 2,
   "metadata": {
    "collapsed": true
   },
   "outputs": [],
   "source": [
    "# - TensorFlow is an open source library for fast numerical computing. \n",
    "\n",
    "# - It was created and is maintained by Google and released under the Apache 2.0 \n",
    "# open source license. \n",
    "\n",
    "# - The API is nominally for the Python programming language, although there is \n",
    "# access to the underlying C++ API. \n",
    "\n",
    "# - Unlike other numerical libraries intended for use in Deep Learning like Theano, \n",
    "# TensorFlow was designed for use both in research and development and in production \n",
    "# systems, not least RankBrain in Google search1 and the fun DeepDream project2. \n",
    "\n",
    "# - It can run on single CPU systems, GPUs as well as mobile devices and large scale \n",
    "# distributed systems of hundreds of machines."
   ]
  },
  {
   "cell_type": "code",
   "execution_count": 3,
   "metadata": {
    "collapsed": true
   },
   "outputs": [],
   "source": [
    "# 3.2 How to Install TensorFlow"
   ]
  },
  {
   "cell_type": "code",
   "execution_count": 4,
   "metadata": {
    "collapsed": true
   },
   "outputs": [],
   "source": [
    "# - $ sudo pip install tensorflow"
   ]
  },
  {
   "cell_type": "code",
   "execution_count": 5,
   "metadata": {
    "collapsed": true
   },
   "outputs": [],
   "source": [
    "# 3.3 Your First Examples in TensorFlow"
   ]
  },
  {
   "cell_type": "code",
   "execution_count": 6,
   "metadata": {
    "collapsed": true
   },
   "outputs": [],
   "source": [
    "# - Computation is described in terms of data flow and operations in the structure \n",
    "# of a directed graph.\n",
    "\n",
    "    # - Nodes: Nodes perform computation and have zero or more inputs and outputs. \n",
    "    # Data that moves between nodes are known as tensors, which are multi-dimensional \n",
    "    # arrays of real values.\n",
    "  \n",
    "    # - Edges: The graph defines the flow of data, branching, looping and updates to \n",
    "    # state. Special edges can be used to synchronize behavior within the graph, for \n",
    "    # example waiting for computation on a number of inputs to complete.\n",
    "\n",
    "    # - Operation: An operation is a named abstract computation which can take input \n",
    "    # attributes and produce output attributes. For example, you could define an add \n",
    "    # or multiply operation."
   ]
  },
  {
   "cell_type": "code",
   "execution_count": 7,
   "metadata": {
    "collapsed": true
   },
   "outputs": [],
   "source": [
    "# 3.4 Simple TensorFlow Example"
   ]
  },
  {
   "cell_type": "code",
   "execution_count": 8,
   "metadata": {
    "collapsed": true
   },
   "outputs": [],
   "source": [
    "import tensorflow as tf"
   ]
  },
  {
   "cell_type": "code",
   "execution_count": 9,
   "metadata": {
    "collapsed": true
   },
   "outputs": [],
   "source": [
    "_a = tf.placeholder(tf.float32)"
   ]
  },
  {
   "cell_type": "code",
   "execution_count": 10,
   "metadata": {
    "collapsed": true
   },
   "outputs": [],
   "source": [
    "_b = tf.placeholder(tf.float32)"
   ]
  },
  {
   "cell_type": "code",
   "execution_count": 11,
   "metadata": {
    "collapsed": false
   },
   "outputs": [],
   "source": [
    "_add = tf.add(_a, _b)"
   ]
  },
  {
   "cell_type": "code",
   "execution_count": 12,
   "metadata": {
    "collapsed": true
   },
   "outputs": [],
   "source": [
    "_session = tf.Session()"
   ]
  },
  {
   "cell_type": "code",
   "execution_count": 13,
   "metadata": {
    "collapsed": true
   },
   "outputs": [],
   "source": [
    "_binding = {_a:1.5, _b:2.5}"
   ]
  },
  {
   "cell_type": "code",
   "execution_count": 14,
   "metadata": {
    "collapsed": true
   },
   "outputs": [],
   "source": [
    "_c = _session.run(_add, feed_dict=_binding)"
   ]
  },
  {
   "cell_type": "code",
   "execution_count": 15,
   "metadata": {
    "collapsed": false
   },
   "outputs": [
    {
     "name": "stdout",
     "output_type": "stream",
     "text": [
      "4.0\n"
     ]
    }
   ],
   "source": [
    "print(_c)"
   ]
  },
  {
   "cell_type": "code",
   "execution_count": 16,
   "metadata": {
    "collapsed": true
   },
   "outputs": [],
   "source": [
    "# 3.5 More Deep Learning Models"
   ]
  },
  {
   "cell_type": "code",
   "execution_count": 17,
   "metadata": {
    "collapsed": true
   },
   "outputs": [],
   "source": [
    "# - TensorFlow installation comes with a number of Deep Learning models that you can use \n",
    "# and experiment with directly. \n",
    "\n",
    "# - Firstly, you need to find out where TensorFlow was installed on your system. \n",
    "# For example, you can use the following Python script:\n",
    "# python -c 'import os; import inspect; import tensorflow; \n",
    "# print(os.path.dirname(inspect.getfile(tensorflow)))'\n",
    "\n",
    "# Change to this directory and take note of the models/ subdirectory. \n",
    "# Included are a number of deep learning models with tutorial-like comments, such as:\n",
    "    # - Multi-threaded word2vec mini-batched skip-gram model.\n",
    "    # - Multi-threaded word2vec unbatched skip-gram model.\n",
    "    # - CNN for the CIFAR-10 network.\n",
    "    # - Simple, end-to-end, LeNet-5-like convolutional MNIST model example.   \n",
    "    # - Sequence-to-sequence model with an attention mechanism.\n",
    "\n",
    "# - Also check the examples directory as it contains an example using the MNIST dataset. \n",
    "\n",
    "# - There is also an excellent list of tutorials on the main TensorFlow website4. \n",
    "# They show how to use different network types, different datasets and how to use the \n",
    "# framework in various different ways. \n",
    "\n",
    "# - Finally, there is the TensorFlow playground5 where you can experiment with small \n",
    "# networks right in your web browser."
   ]
  },
  {
   "cell_type": "code",
   "execution_count": null,
   "metadata": {
    "collapsed": true
   },
   "outputs": [],
   "source": []
  }
 ],
 "metadata": {
  "kernelspec": {
   "display_name": "Python 3",
   "language": "python",
   "name": "python3"
  },
  "language_info": {
   "codemirror_mode": {
    "name": "ipython",
    "version": 3
   },
   "file_extension": ".py",
   "mimetype": "text/x-python",
   "name": "python",
   "nbconvert_exporter": "python",
   "pygments_lexer": "ipython3",
   "version": "3.6.0"
  }
 },
 "nbformat": 4,
 "nbformat_minor": 2
}
