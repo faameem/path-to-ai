{
 "cells": [
  {
   "cell_type": "code",
   "execution_count": 1,
   "metadata": {
    "collapsed": true
   },
   "outputs": [],
   "source": [
    "# - Applied machine learning is an empirical skill. \n",
    "\n",
    "# - You cannot get better at it by reading books and articles. \n",
    "\n",
    "# - You have to practice."
   ]
  },
  {
   "cell_type": "code",
   "execution_count": 2,
   "metadata": {
    "collapsed": true
   },
   "outputs": [],
   "source": [
    "# 18.1 Practise Machine Learning With Projects"
   ]
  },
  {
   "cell_type": "code",
   "execution_count": 3,
   "metadata": {
    "collapsed": true
   },
   "outputs": [],
   "source": [
    "# - Working through machine learning problems from end-to-end is critically important.\n",
    "\n",
    "# - Working through a project forces you to think about how the model will be used, to challenge your \n",
    "# assumptions and to get good at all parts of a project, not just your favorite parts. \n",
    "\n",
    "# - The best way to practice predictive modeling machine learning projects is to use standardized datasets \n",
    "# from the UCI Machine Learning Repository. "
   ]
  },
  {
   "cell_type": "code",
   "execution_count": 4,
   "metadata": {
    "collapsed": true
   },
   "outputs": [],
   "source": [
    "# 18.1.1 Use a Structured Step-By-Step Process"
   ]
  },
  {
   "cell_type": "code",
   "execution_count": 5,
   "metadata": {
    "collapsed": true
   },
   "outputs": [],
   "source": [
    "# - 1. Define Problem. \n",
    "# - 2. Summarize Data. \n",
    "# - 3. Prepare Data.\n",
    "# - 4. Evaluate Algorithms. \n",
    "# - 5. Improve Results.\n",
    "# - 6. Present Results."
   ]
  },
  {
   "cell_type": "code",
   "execution_count": 6,
   "metadata": {
    "collapsed": true
   },
   "outputs": [],
   "source": [
    "# 18.2 Machine Learning Project Template in Python"
   ]
  },
  {
   "cell_type": "code",
   "execution_count": 7,
   "metadata": {
    "collapsed": false
   },
   "outputs": [],
   "source": [
    "# 18.2.1 Template Summary"
   ]
  },
  {
   "cell_type": "code",
   "execution_count": 8,
   "metadata": {
    "collapsed": true
   },
   "outputs": [],
   "source": [
    "# Python Project Template\n",
    "\n",
    "# 1. Prepare Problem\n",
    "    # a) Load libraries\n",
    "    # b) Load dataset\n",
    "\n",
    "# 2. Summarize Data\n",
    "    # a) Descriptive statistics\n",
    "    # b) Data visualizations\n",
    "\n",
    "# 3. Prepare Data\n",
    "    # a) Data Cleaning\n",
    "    # b) Feature Selection\n",
    "    # c) Data Transforms\n",
    "\n",
    "# 4. Evaluate Algorithms\n",
    "    # a) Split-out validation dataset\n",
    "    # b) Test options and evaluation metric\n",
    "    # c) Spot Check Algorithms\n",
    "    # d) Compare Algorithms\n",
    "\n",
    "# 5. Improve Accuracy\n",
    "    # a) Algorithm Tuning\n",
    "    # b) Ensembles\n",
    "\n",
    "# 6. Finalize Model\n",
    "    # a) Predictions on validation dataset\n",
    "    # b) Create standalone model on entire training dataset\n",
    "    # c) Save model for later use"
   ]
  },
  {
   "cell_type": "code",
   "execution_count": 9,
   "metadata": {
    "collapsed": true
   },
   "outputs": [],
   "source": [
    "# 18.2.2 How To Use The Project Template"
   ]
  },
  {
   "cell_type": "code",
   "execution_count": 10,
   "metadata": {
    "collapsed": true
   },
   "outputs": [],
   "source": [
    "# - Copy the template and paste it in your new project file or notebook and start filling in the relevant recipes."
   ]
  },
  {
   "cell_type": "code",
   "execution_count": 11,
   "metadata": {
    "collapsed": true
   },
   "outputs": [],
   "source": [
    "# 18.3 Machine Learning Project Template Steps"
   ]
  },
  {
   "cell_type": "code",
   "execution_count": 12,
   "metadata": {
    "collapsed": true
   },
   "outputs": [],
   "source": [
    "# 18.3.1 Prepare Problem"
   ]
  },
  {
   "cell_type": "code",
   "execution_count": 13,
   "metadata": {
    "collapsed": true
   },
   "outputs": [],
   "source": [
    "# - load libraries\n",
    "\n",
    "# - load data\n",
    "\n",
    "# - define global configurations\n",
    "\n",
    "# - you might need to make a reduced sample of your dataset if it is too large to work with. \n",
    "# Ideally, your dataset should be small enough to build a model or create a visualization within a minute, \n",
    "# ideally 30 seconds. You can always scale up well performing models later."
   ]
  },
  {
   "cell_type": "code",
   "execution_count": 14,
   "metadata": {
    "collapsed": true
   },
   "outputs": [],
   "source": [
    "# 18.3.2 Summarize Data"
   ]
  },
  {
   "cell_type": "code",
   "execution_count": 15,
   "metadata": {
    "collapsed": true
   },
   "outputs": [],
   "source": [
    "# - understanding your data using:\n",
    "    # - Descriptive statistics such as summaries.\n",
    "    # - Data visualizations such as plots with Matplotlib/seaborn, ideally using convenience functions from Pandas.\n",
    "    \n",
    "# - Take your time and use the results to prompt a lot of questions, assumptions and hypotheses that you can \n",
    "# investigate later with specialized models."
   ]
  },
  {
   "cell_type": "code",
   "execution_count": 16,
   "metadata": {
    "collapsed": true
   },
   "outputs": [],
   "source": [
    "# 18.3.3 Prepare Data"
   ]
  },
  {
   "cell_type": "code",
   "execution_count": 17,
   "metadata": {
    "collapsed": true
   },
   "outputs": [],
   "source": [
    "# - This includes tasks such as:\n",
    "    # - Cleaning data by removing duplicates, marking missing values and even imputing missing values.\n",
    "    # - Feature selection where redundant features may be removed and new features developed.\n",
    "    # - Data transforms where attributes are scaled or redistributed in order to best expose the structure of the problem later to \n",
    "    # learning algorithms.\n",
    "    \n",
    "# - Start simple. \n",
    "\n",
    "# - Revisit this step often and cycle with the next step until you converge on a subset of algorithms and a \n",
    "# presentation of the data that results in accurate or accurate-enough models to proceed."
   ]
  },
  {
   "cell_type": "code",
   "execution_count": 18,
   "metadata": {
    "collapsed": true
   },
   "outputs": [],
   "source": [
    "# 18.3.4 Evaluate Algorithms"
   ]
  },
  {
   "cell_type": "code",
   "execution_count": 19,
   "metadata": {
    "collapsed": true
   },
   "outputs": [],
   "source": [
    "# - This involves steps such as:\n",
    "    # - Separating out a validation dataset to use for later confirmation of the skill of your developed model.\n",
    "    # - Defining test options using scikit-learn such as cross-validation and the evaluation metric to use.\n",
    "    # - Spot-checking a suite of linear and nonlinear machine learning algorithms.   \n",
    "    # - Comparing the estimated accuracy of algorithms.\n",
    "\n",
    "# - On a given problem you will likely spend most of your time on this and the previous step until you converge \n",
    "# on a set of 3-to-5 well performing machine learning algorithms."
   ]
  },
  {
   "cell_type": "code",
   "execution_count": 20,
   "metadata": {
    "collapsed": true
   },
   "outputs": [],
   "source": [
    "# 18.3.5 Improve Accuracy"
   ]
  },
  {
   "cell_type": "code",
   "execution_count": 21,
   "metadata": {
    "collapsed": true
   },
   "outputs": [],
   "source": [
    "# - There are two different ways to improve the accuracy of your models:\n",
    "    # - Search for a combination of parameters for each algorithm using scikit-learn that yields the best results.\n",
    "    # - Combine the prediction of multiple models into an ensemble prediction using ensemble techniques.\n",
    "\n",
    "# - The line between this and the previous step can blur when a project becomes concrete. \n",
    "\n",
    "# - There may be a little algorithm tuning in the previous step. \n",
    "\n",
    "# - And in the case of ensembles, you may bring more than a shortlist of algorithms forward to combine their \n",
    "# predictions."
   ]
  },
  {
   "cell_type": "code",
   "execution_count": 22,
   "metadata": {
    "collapsed": true
   },
   "outputs": [],
   "source": [
    "# 18.3.6 Finalize Model"
   ]
  },
  {
   "cell_type": "code",
   "execution_count": 23,
   "metadata": {
    "collapsed": true
   },
   "outputs": [],
   "source": [
    "# - Finalizing a model may involve sub-tasks such as:\n",
    "    # - Using an optimal model tuned by scikit-learn to make predictions on unseen data.   \n",
    "    # - Creating a standalone model using the parameters tuned by scikit-learn.\n",
    "    # - Saving an optimal model to file for later use.\n",
    "    \n",
    "# - Once you make it this far you are ready to present results to stakeholders and/or deploy your \n",
    "# model to start making predictions on unseen data."
   ]
  },
  {
   "cell_type": "code",
   "execution_count": 24,
   "metadata": {
    "collapsed": true
   },
   "outputs": [],
   "source": [
    "# 18.4 Tips For Using The Template Well"
   ]
  },
  {
   "cell_type": "code",
   "execution_count": 25,
   "metadata": {
    "collapsed": true
   },
   "outputs": [],
   "source": [
    "# - Fast First Pass:\n",
    "    # - Make a first-pass through the project steps as fast as possible. \n",
    "    # - This will give you confidence that you have all the parts that you need and a baseline from which to improve.\n",
    "\n",
    "# - Cycles: \n",
    "    # - The process in not linear but cyclic. \n",
    "    # - You will loop between steps, and probably spend most of your time in tight loops between steps 3-4 or \n",
    "    # 3-4-5 until you achieve a level of accuracy that is sufficient or you run out of time.\n",
    "\n",
    "# - Attempt Every Step: \n",
    "    # - It is easy to skip steps, especially if you are not confident or familiar with the tasks of that step. \n",
    "    # - Try and do something at each step in the process, even if it does not improve accuracy. \n",
    "    # - You can always build upon it later. Don’t skip steps, just reduce their contribution.\n",
    "\n",
    "    # - Ratchet Accuracy:  \n",
    "        # - The goal of the project is model accuracy. \n",
    "        # - Every step contributes towards this goal. \n",
    "        # - Treat changes that you make as experiments that increase accuracy as the golden path in the process \n",
    "        # and reorganize other steps around them. \n",
    "        # - Accuracy is a ratchet that can only move in one direction (better, not worse).\n",
    "        \n",
    "# - Adapt As Needed:\n",
    "    # - Modify the steps as you need on a project, especially as you become more experienced with the template. \n",
    "    # - Blur the edges of tasks, such as steps 4-5 to best serve model accuracy."
   ]
  },
  {
   "cell_type": "code",
   "execution_count": null,
   "metadata": {
    "collapsed": true
   },
   "outputs": [],
   "source": []
  }
 ],
 "metadata": {
  "kernelspec": {
   "display_name": "Python 3",
   "language": "python",
   "name": "python3"
  },
  "language_info": {
   "codemirror_mode": {
    "name": "ipython",
    "version": 3
   },
   "file_extension": ".py",
   "mimetype": "text/x-python",
   "name": "python",
   "nbconvert_exporter": "python",
   "pygments_lexer": "ipython3",
   "version": "3.6.0"
  }
 },
 "nbformat": 4,
 "nbformat_minor": 2
}
