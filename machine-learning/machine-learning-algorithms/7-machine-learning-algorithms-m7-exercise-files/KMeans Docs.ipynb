{
 "cells": [
  {
   "cell_type": "code",
   "execution_count": null,
   "metadata": {
    "collapsed": true
   },
   "outputs": [],
   "source": [
    "import csv\n"
   ]
  },
  {
   "cell_type": "code",
   "execution_count": 1,
   "metadata": {
    "collapsed": true
   },
   "outputs": [],
   "source": [
    "with open(\"/Users/swethakolalapudi/Downloads/sentiment labelled sentences/imdb_labelled.txt\", \"r\") as text_file: \n",
    "    lines = text_file.read().split('\\n')\n",
    "\n",
    "lines = [line.split(\"\\t\") for line in lines if len(line.split(\"\\t\"))==2 and line.split(\"\\t\")[1]<>'']    "
   ]
  },
  {
   "cell_type": "code",
   "execution_count": 2,
   "metadata": {
    "collapsed": true
   },
   "outputs": [],
   "source": [
    "train_documents = [line[0] for line in lines]"
   ]
  },
  {
   "cell_type": "code",
   "execution_count": 3,
   "metadata": {
    "collapsed": true
   },
   "outputs": [],
   "source": [
    "from sklearn.feature_extraction.text import TfidfVectorizer"
   ]
  },
  {
   "cell_type": "code",
   "execution_count": 4,
   "metadata": {
    "collapsed": true
   },
   "outputs": [],
   "source": [
    "tfidf_vectorizer = TfidfVectorizer(max_df=0.5,min_df=2,stop_words='english')\n",
    "train_documents = tfidf_vectorizer.fit_transform(train_documents)"
   ]
  },
  {
   "cell_type": "code",
   "execution_count": 5,
   "metadata": {
    "collapsed": true
   },
   "outputs": [],
   "source": [
    "from sklearn.cluster import KMeans"
   ]
  },
  {
   "cell_type": "code",
   "execution_count": 6,
   "metadata": {
    "collapsed": false
   },
   "outputs": [
    {
     "name": "stdout",
     "output_type": "stream",
     "text": [
      "Initialization complete\n",
      "Iteration  0, inertia 1872.331\n",
      "Iteration  1, inertia 968.594\n",
      "Iteration  2, inertia 966.364\n",
      "Iteration  3, inertia 964.826\n",
      "Iteration  4, inertia 964.044\n",
      "Iteration  5, inertia 963.299\n",
      "Iteration  6, inertia 962.796\n",
      "Iteration  7, inertia 962.518\n",
      "Iteration  8, inertia 962.253\n",
      "Iteration  9, inertia 961.983\n",
      "Iteration 10, inertia 961.704\n",
      "Iteration 11, inertia 961.612\n",
      "Iteration 12, inertia 961.600\n",
      "Iteration 13, inertia 961.579\n",
      "Iteration 14, inertia 961.511\n",
      "Iteration 15, inertia 961.363\n",
      "Iteration 16, inertia 960.955\n",
      "Iteration 17, inertia 960.478\n",
      "Iteration 18, inertia 960.288\n",
      "Iteration 19, inertia 960.275\n",
      "Converged at iteration 19\n"
     ]
    },
    {
     "data": {
      "text/plain": [
       "KMeans(copy_x=True, init='k-means++', max_iter=100, n_clusters=3, n_init=1,\n",
       "    n_jobs=1, precompute_distances='auto', random_state=None, tol=0.0001,\n",
       "    verbose=True)"
      ]
     },
     "execution_count": 6,
     "metadata": {},
     "output_type": "execute_result"
    }
   ],
   "source": [
    "km = KMeans(n_clusters = 3, init = 'k-means++', max_iter = 100, n_init = 1, verbose = True)\n",
    "km.fit(train_documents)"
   ]
  },
  {
   "cell_type": "code",
   "execution_count": 9,
   "metadata": {
    "collapsed": false
   },
   "outputs": [
    {
     "name": "stdout",
     "output_type": "stream",
     "text": [
      "['A very, very, very slow-moving, aimless movie about a distressed, drifting young man.  ', '0']\n",
      "['The best scene in the movie was when Gerardo is trying to find a song that keeps running through his head.  ', '1']\n",
      "[\"The rest of the movie lacks art, charm, meaning... If it's about emptiness, it works I guess because it's empty.  \", '0']\n",
      "['Saw the movie today and thought it was a good effort, good messages for kids.  ', '1']\n"
     ]
    }
   ],
   "source": [
    "count=0\n",
    "for i in range(len(lines)): \n",
    "    if count>3:\n",
    "        break\n",
    "    if km.labels_[i]==2:\n",
    "        print(lines[i])\n",
    "        count+=1   "
   ]
  },
  {
   "cell_type": "code",
   "execution_count": null,
   "metadata": {
    "collapsed": true
   },
   "outputs": [],
   "source": []
  },
  {
   "cell_type": "code",
   "execution_count": null,
   "metadata": {
    "collapsed": true
   },
   "outputs": [],
   "source": []
  },
  {
   "cell_type": "code",
   "execution_count": null,
   "metadata": {
    "collapsed": true
   },
   "outputs": [],
   "source": []
  },
  {
   "cell_type": "code",
   "execution_count": null,
   "metadata": {
    "collapsed": true
   },
   "outputs": [],
   "source": []
  },
  {
   "cell_type": "code",
   "execution_count": null,
   "metadata": {
    "collapsed": true
   },
   "outputs": [],
   "source": []
  },
  {
   "cell_type": "code",
   "execution_count": null,
   "metadata": {
    "collapsed": true
   },
   "outputs": [],
   "source": []
  },
  {
   "cell_type": "code",
   "execution_count": null,
   "metadata": {
    "collapsed": true
   },
   "outputs": [],
   "source": []
  }
 ],
 "metadata": {
  "kernelspec": {
   "display_name": "Python 2",
   "language": "python",
   "name": "python2"
  },
  "language_info": {
   "codemirror_mode": {
    "name": "ipython",
    "version": 2
   },
   "file_extension": ".py",
   "mimetype": "text/x-python",
   "name": "python",
   "nbconvert_exporter": "python",
   "pygments_lexer": "ipython2",
   "version": "2.7.11"
  }
 },
 "nbformat": 4,
 "nbformat_minor": 0
}
