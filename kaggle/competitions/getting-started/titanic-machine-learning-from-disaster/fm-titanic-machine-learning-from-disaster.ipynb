{
 "cells": [
  {
   "cell_type": "code",
   "execution_count": 1,
   "metadata": {
    "collapsed": true
   },
   "outputs": [],
   "source": [
    "import pandas\n",
    "import numpy\n",
    "\n",
    "from matplotlib import pyplot\n",
    "%matplotlib inline\n",
    "\n",
    "import seaborn\n",
    "seaborn.set_style('whitegrid')\n",
    "\n",
    "from sklearn.model_selection import train_test_split\n",
    "from sklearn.model_selection import KFold\n",
    "from sklearn.model_selection import cross_val_score\n",
    "from sklearn.model_selection import GridSearchCV\n",
    "\n",
    "from sklearn.metrics import classification_report\n",
    "from sklearn.metrics import confusion_matrix\n",
    "from sklearn.metrics import accuracy_score\n",
    "\n",
    "from sklearn.pipeline import Pipeline\n",
    "\n",
    "from sklearn.linear_model import LogisticRegression\n",
    "from sklearn.linear_model import Perceptron\n",
    "from sklearn.linear_model import SGDClassifier\n",
    "from sklearn.tree import DecisionTreeClassifier\n",
    "from sklearn.neighbors import KNeighborsClassifier\n",
    "from sklearn.discriminant_analysis import LinearDiscriminantAnalysis\n",
    "from sklearn.naive_bayes import GaussianNB\n",
    "from sklearn.svm import SVC, LinearSVC\n",
    "\n",
    "from sklearn.ensemble import AdaBoostClassifier\n",
    "from sklearn.ensemble import GradientBoostingClassifier\n",
    "from sklearn.ensemble import RandomForestClassifier\n",
    "from sklearn.ensemble import ExtraTreesClassifier"
   ]
  },
  {
   "cell_type": "code",
   "execution_count": 2,
   "metadata": {
    "collapsed": true
   },
   "outputs": [],
   "source": [
    "def null_check_train(_feature):\n",
    "    print('Training dataframe feature [{}] has any nulls or missing values: {}\\n'.format(_feature, _df_train[_feature].isnull().any()))\n",
    "\n",
    "def null_check_test(_feature):\n",
    "    print('Test dataframe feature [{}] has any nulls or missing values: {}\\n'.format(_feature, _df_test[_feature].isnull().any()))\n",
    "    \n",
    "def null_check(_feature):\n",
    "    null_check_train(_feature)\n",
    "    null_check_test(_feature)\n",
    "\n",
    "def grid_feature(_feature):\n",
    "    return _df_train[[_feature, 'Survived']].groupby([_feature], as_index=False).mean().sort_values(by=[_feature,'Survived'])\n",
    "\n",
    "def grid_feature_hue(_feature):\n",
    "    return _df_train[[_feature, 'Sex', 'Survived']].groupby([_feature,'Sex'], as_index=False).mean().sort_values(by=[_feature,'Sex'])\n",
    "\n",
    "def grid(_feature):\n",
    "    print('{}\\n\\n\\n{}'.format(grid_feature(_feature), grid_feature_hue(_feature)))\n",
    "    \n",
    "def plot_feature(_feature):\n",
    "    seaborn.factorplot(x=_feature, y='Survived', data = _df_train, size = 4, aspect = 2)\n",
    "\n",
    "def plot_feature_hue(_feature):\n",
    "    seaborn.factorplot(x=_feature, y='Survived', hue='Sex', data = _df_train, size = 4, aspect = 2)\n",
    "\n",
    "def view_feature(_feature):\n",
    "    null_check(_feature)\n",
    "    grid(_feature)\n",
    "    plot_feature(_feature)\n",
    "    plot_feature_hue(_feature)\n",
    "    \n",
    "def print_shape():\n",
    "    print('_df_train: {}, _df_test: {}, _df_combine[0]:{}, _df_combine[1]:{}'.format(_df_train.shape, _df_test.shape, _df_combine[0].shape, _df_combine[1].shape))\n",
    "\n",
    "def print_ndim_array(_array):\n",
    "    print(_array[:5,:], len(_array), type(_array), _array.shape, _array.ndim, _array.dtype.name)\n",
    "\n",
    "def print_1dim_array(_array):\n",
    "    print(_array[:5], len(_array), type(_array), _array.shape, _array.ndim, _array.dtype.name)"
   ]
  },
  {
   "cell_type": "code",
   "execution_count": 3,
   "metadata": {
    "collapsed": true
   },
   "outputs": [],
   "source": [
    "_df_train = pandas.read_csv('./train.csv')"
   ]
  },
  {
   "cell_type": "code",
   "execution_count": 4,
   "metadata": {
    "collapsed": true
   },
   "outputs": [],
   "source": [
    "_df_test = pandas.read_csv('./test.csv')"
   ]
  },
  {
   "cell_type": "code",
   "execution_count": 5,
   "metadata": {},
   "outputs": [
    {
     "data": {
      "text/html": [
       "<div>\n",
       "<style>\n",
       "    .dataframe thead tr:only-child th {\n",
       "        text-align: right;\n",
       "    }\n",
       "\n",
       "    .dataframe thead th {\n",
       "        text-align: left;\n",
       "    }\n",
       "\n",
       "    .dataframe tbody tr th {\n",
       "        vertical-align: top;\n",
       "    }\n",
       "</style>\n",
       "<table border=\"1\" class=\"dataframe\">\n",
       "  <thead>\n",
       "    <tr style=\"text-align: right;\">\n",
       "      <th></th>\n",
       "      <th>PassengerId</th>\n",
       "      <th>Survived</th>\n",
       "      <th>Pclass</th>\n",
       "      <th>Name</th>\n",
       "      <th>Sex</th>\n",
       "      <th>Age</th>\n",
       "      <th>SibSp</th>\n",
       "      <th>Parch</th>\n",
       "      <th>Ticket</th>\n",
       "      <th>Fare</th>\n",
       "      <th>Cabin</th>\n",
       "      <th>Embarked</th>\n",
       "    </tr>\n",
       "  </thead>\n",
       "  <tbody>\n",
       "    <tr>\n",
       "      <th>0</th>\n",
       "      <td>1</td>\n",
       "      <td>0</td>\n",
       "      <td>3</td>\n",
       "      <td>Braund, Mr. Owen Harris</td>\n",
       "      <td>male</td>\n",
       "      <td>22.0</td>\n",
       "      <td>1</td>\n",
       "      <td>0</td>\n",
       "      <td>A/5 21171</td>\n",
       "      <td>7.2500</td>\n",
       "      <td>NaN</td>\n",
       "      <td>S</td>\n",
       "    </tr>\n",
       "    <tr>\n",
       "      <th>1</th>\n",
       "      <td>2</td>\n",
       "      <td>1</td>\n",
       "      <td>1</td>\n",
       "      <td>Cumings, Mrs. John Bradley (Florence Briggs Th...</td>\n",
       "      <td>female</td>\n",
       "      <td>38.0</td>\n",
       "      <td>1</td>\n",
       "      <td>0</td>\n",
       "      <td>PC 17599</td>\n",
       "      <td>71.2833</td>\n",
       "      <td>C85</td>\n",
       "      <td>C</td>\n",
       "    </tr>\n",
       "    <tr>\n",
       "      <th>2</th>\n",
       "      <td>3</td>\n",
       "      <td>1</td>\n",
       "      <td>3</td>\n",
       "      <td>Heikkinen, Miss. Laina</td>\n",
       "      <td>female</td>\n",
       "      <td>26.0</td>\n",
       "      <td>0</td>\n",
       "      <td>0</td>\n",
       "      <td>STON/O2. 3101282</td>\n",
       "      <td>7.9250</td>\n",
       "      <td>NaN</td>\n",
       "      <td>S</td>\n",
       "    </tr>\n",
       "    <tr>\n",
       "      <th>3</th>\n",
       "      <td>4</td>\n",
       "      <td>1</td>\n",
       "      <td>1</td>\n",
       "      <td>Futrelle, Mrs. Jacques Heath (Lily May Peel)</td>\n",
       "      <td>female</td>\n",
       "      <td>35.0</td>\n",
       "      <td>1</td>\n",
       "      <td>0</td>\n",
       "      <td>113803</td>\n",
       "      <td>53.1000</td>\n",
       "      <td>C123</td>\n",
       "      <td>S</td>\n",
       "    </tr>\n",
       "    <tr>\n",
       "      <th>4</th>\n",
       "      <td>5</td>\n",
       "      <td>0</td>\n",
       "      <td>3</td>\n",
       "      <td>Allen, Mr. William Henry</td>\n",
       "      <td>male</td>\n",
       "      <td>35.0</td>\n",
       "      <td>0</td>\n",
       "      <td>0</td>\n",
       "      <td>373450</td>\n",
       "      <td>8.0500</td>\n",
       "      <td>NaN</td>\n",
       "      <td>S</td>\n",
       "    </tr>\n",
       "    <tr>\n",
       "      <th>5</th>\n",
       "      <td>6</td>\n",
       "      <td>0</td>\n",
       "      <td>3</td>\n",
       "      <td>Moran, Mr. James</td>\n",
       "      <td>male</td>\n",
       "      <td>NaN</td>\n",
       "      <td>0</td>\n",
       "      <td>0</td>\n",
       "      <td>330877</td>\n",
       "      <td>8.4583</td>\n",
       "      <td>NaN</td>\n",
       "      <td>Q</td>\n",
       "    </tr>\n",
       "    <tr>\n",
       "      <th>6</th>\n",
       "      <td>7</td>\n",
       "      <td>0</td>\n",
       "      <td>1</td>\n",
       "      <td>McCarthy, Mr. Timothy J</td>\n",
       "      <td>male</td>\n",
       "      <td>54.0</td>\n",
       "      <td>0</td>\n",
       "      <td>0</td>\n",
       "      <td>17463</td>\n",
       "      <td>51.8625</td>\n",
       "      <td>E46</td>\n",
       "      <td>S</td>\n",
       "    </tr>\n",
       "    <tr>\n",
       "      <th>7</th>\n",
       "      <td>8</td>\n",
       "      <td>0</td>\n",
       "      <td>3</td>\n",
       "      <td>Palsson, Master. Gosta Leonard</td>\n",
       "      <td>male</td>\n",
       "      <td>2.0</td>\n",
       "      <td>3</td>\n",
       "      <td>1</td>\n",
       "      <td>349909</td>\n",
       "      <td>21.0750</td>\n",
       "      <td>NaN</td>\n",
       "      <td>S</td>\n",
       "    </tr>\n",
       "    <tr>\n",
       "      <th>8</th>\n",
       "      <td>9</td>\n",
       "      <td>1</td>\n",
       "      <td>3</td>\n",
       "      <td>Johnson, Mrs. Oscar W (Elisabeth Vilhelmina Berg)</td>\n",
       "      <td>female</td>\n",
       "      <td>27.0</td>\n",
       "      <td>0</td>\n",
       "      <td>2</td>\n",
       "      <td>347742</td>\n",
       "      <td>11.1333</td>\n",
       "      <td>NaN</td>\n",
       "      <td>S</td>\n",
       "    </tr>\n",
       "    <tr>\n",
       "      <th>9</th>\n",
       "      <td>10</td>\n",
       "      <td>1</td>\n",
       "      <td>2</td>\n",
       "      <td>Nasser, Mrs. Nicholas (Adele Achem)</td>\n",
       "      <td>female</td>\n",
       "      <td>14.0</td>\n",
       "      <td>1</td>\n",
       "      <td>0</td>\n",
       "      <td>237736</td>\n",
       "      <td>30.0708</td>\n",
       "      <td>NaN</td>\n",
       "      <td>C</td>\n",
       "    </tr>\n",
       "  </tbody>\n",
       "</table>\n",
       "</div>"
      ],
      "text/plain": [
       "   PassengerId  Survived  Pclass  \\\n",
       "0            1         0       3   \n",
       "1            2         1       1   \n",
       "2            3         1       3   \n",
       "3            4         1       1   \n",
       "4            5         0       3   \n",
       "5            6         0       3   \n",
       "6            7         0       1   \n",
       "7            8         0       3   \n",
       "8            9         1       3   \n",
       "9           10         1       2   \n",
       "\n",
       "                                                Name     Sex   Age  SibSp  \\\n",
       "0                            Braund, Mr. Owen Harris    male  22.0      1   \n",
       "1  Cumings, Mrs. John Bradley (Florence Briggs Th...  female  38.0      1   \n",
       "2                             Heikkinen, Miss. Laina  female  26.0      0   \n",
       "3       Futrelle, Mrs. Jacques Heath (Lily May Peel)  female  35.0      1   \n",
       "4                           Allen, Mr. William Henry    male  35.0      0   \n",
       "5                                   Moran, Mr. James    male   NaN      0   \n",
       "6                            McCarthy, Mr. Timothy J    male  54.0      0   \n",
       "7                     Palsson, Master. Gosta Leonard    male   2.0      3   \n",
       "8  Johnson, Mrs. Oscar W (Elisabeth Vilhelmina Berg)  female  27.0      0   \n",
       "9                Nasser, Mrs. Nicholas (Adele Achem)  female  14.0      1   \n",
       "\n",
       "   Parch            Ticket     Fare Cabin Embarked  \n",
       "0      0         A/5 21171   7.2500   NaN        S  \n",
       "1      0          PC 17599  71.2833   C85        C  \n",
       "2      0  STON/O2. 3101282   7.9250   NaN        S  \n",
       "3      0            113803  53.1000  C123        S  \n",
       "4      0            373450   8.0500   NaN        S  \n",
       "5      0            330877   8.4583   NaN        Q  \n",
       "6      0             17463  51.8625   E46        S  \n",
       "7      1            349909  21.0750   NaN        S  \n",
       "8      2            347742  11.1333   NaN        S  \n",
       "9      0            237736  30.0708   NaN        C  "
      ]
     },
     "execution_count": 5,
     "metadata": {},
     "output_type": "execute_result"
    }
   ],
   "source": [
    "_df_train.head(10)"
   ]
  },
  {
   "cell_type": "code",
   "execution_count": 6,
   "metadata": {},
   "outputs": [
    {
     "data": {
      "text/html": [
       "<div>\n",
       "<style>\n",
       "    .dataframe thead tr:only-child th {\n",
       "        text-align: right;\n",
       "    }\n",
       "\n",
       "    .dataframe thead th {\n",
       "        text-align: left;\n",
       "    }\n",
       "\n",
       "    .dataframe tbody tr th {\n",
       "        vertical-align: top;\n",
       "    }\n",
       "</style>\n",
       "<table border=\"1\" class=\"dataframe\">\n",
       "  <thead>\n",
       "    <tr style=\"text-align: right;\">\n",
       "      <th></th>\n",
       "      <th>PassengerId</th>\n",
       "      <th>Pclass</th>\n",
       "      <th>Name</th>\n",
       "      <th>Sex</th>\n",
       "      <th>Age</th>\n",
       "      <th>SibSp</th>\n",
       "      <th>Parch</th>\n",
       "      <th>Ticket</th>\n",
       "      <th>Fare</th>\n",
       "      <th>Cabin</th>\n",
       "      <th>Embarked</th>\n",
       "    </tr>\n",
       "  </thead>\n",
       "  <tbody>\n",
       "    <tr>\n",
       "      <th>0</th>\n",
       "      <td>892</td>\n",
       "      <td>3</td>\n",
       "      <td>Kelly, Mr. James</td>\n",
       "      <td>male</td>\n",
       "      <td>34.5</td>\n",
       "      <td>0</td>\n",
       "      <td>0</td>\n",
       "      <td>330911</td>\n",
       "      <td>7.8292</td>\n",
       "      <td>NaN</td>\n",
       "      <td>Q</td>\n",
       "    </tr>\n",
       "    <tr>\n",
       "      <th>1</th>\n",
       "      <td>893</td>\n",
       "      <td>3</td>\n",
       "      <td>Wilkes, Mrs. James (Ellen Needs)</td>\n",
       "      <td>female</td>\n",
       "      <td>47.0</td>\n",
       "      <td>1</td>\n",
       "      <td>0</td>\n",
       "      <td>363272</td>\n",
       "      <td>7.0000</td>\n",
       "      <td>NaN</td>\n",
       "      <td>S</td>\n",
       "    </tr>\n",
       "    <tr>\n",
       "      <th>2</th>\n",
       "      <td>894</td>\n",
       "      <td>2</td>\n",
       "      <td>Myles, Mr. Thomas Francis</td>\n",
       "      <td>male</td>\n",
       "      <td>62.0</td>\n",
       "      <td>0</td>\n",
       "      <td>0</td>\n",
       "      <td>240276</td>\n",
       "      <td>9.6875</td>\n",
       "      <td>NaN</td>\n",
       "      <td>Q</td>\n",
       "    </tr>\n",
       "    <tr>\n",
       "      <th>3</th>\n",
       "      <td>895</td>\n",
       "      <td>3</td>\n",
       "      <td>Wirz, Mr. Albert</td>\n",
       "      <td>male</td>\n",
       "      <td>27.0</td>\n",
       "      <td>0</td>\n",
       "      <td>0</td>\n",
       "      <td>315154</td>\n",
       "      <td>8.6625</td>\n",
       "      <td>NaN</td>\n",
       "      <td>S</td>\n",
       "    </tr>\n",
       "    <tr>\n",
       "      <th>4</th>\n",
       "      <td>896</td>\n",
       "      <td>3</td>\n",
       "      <td>Hirvonen, Mrs. Alexander (Helga E Lindqvist)</td>\n",
       "      <td>female</td>\n",
       "      <td>22.0</td>\n",
       "      <td>1</td>\n",
       "      <td>1</td>\n",
       "      <td>3101298</td>\n",
       "      <td>12.2875</td>\n",
       "      <td>NaN</td>\n",
       "      <td>S</td>\n",
       "    </tr>\n",
       "    <tr>\n",
       "      <th>5</th>\n",
       "      <td>897</td>\n",
       "      <td>3</td>\n",
       "      <td>Svensson, Mr. Johan Cervin</td>\n",
       "      <td>male</td>\n",
       "      <td>14.0</td>\n",
       "      <td>0</td>\n",
       "      <td>0</td>\n",
       "      <td>7538</td>\n",
       "      <td>9.2250</td>\n",
       "      <td>NaN</td>\n",
       "      <td>S</td>\n",
       "    </tr>\n",
       "    <tr>\n",
       "      <th>6</th>\n",
       "      <td>898</td>\n",
       "      <td>3</td>\n",
       "      <td>Connolly, Miss. Kate</td>\n",
       "      <td>female</td>\n",
       "      <td>30.0</td>\n",
       "      <td>0</td>\n",
       "      <td>0</td>\n",
       "      <td>330972</td>\n",
       "      <td>7.6292</td>\n",
       "      <td>NaN</td>\n",
       "      <td>Q</td>\n",
       "    </tr>\n",
       "    <tr>\n",
       "      <th>7</th>\n",
       "      <td>899</td>\n",
       "      <td>2</td>\n",
       "      <td>Caldwell, Mr. Albert Francis</td>\n",
       "      <td>male</td>\n",
       "      <td>26.0</td>\n",
       "      <td>1</td>\n",
       "      <td>1</td>\n",
       "      <td>248738</td>\n",
       "      <td>29.0000</td>\n",
       "      <td>NaN</td>\n",
       "      <td>S</td>\n",
       "    </tr>\n",
       "    <tr>\n",
       "      <th>8</th>\n",
       "      <td>900</td>\n",
       "      <td>3</td>\n",
       "      <td>Abrahim, Mrs. Joseph (Sophie Halaut Easu)</td>\n",
       "      <td>female</td>\n",
       "      <td>18.0</td>\n",
       "      <td>0</td>\n",
       "      <td>0</td>\n",
       "      <td>2657</td>\n",
       "      <td>7.2292</td>\n",
       "      <td>NaN</td>\n",
       "      <td>C</td>\n",
       "    </tr>\n",
       "    <tr>\n",
       "      <th>9</th>\n",
       "      <td>901</td>\n",
       "      <td>3</td>\n",
       "      <td>Davies, Mr. John Samuel</td>\n",
       "      <td>male</td>\n",
       "      <td>21.0</td>\n",
       "      <td>2</td>\n",
       "      <td>0</td>\n",
       "      <td>A/4 48871</td>\n",
       "      <td>24.1500</td>\n",
       "      <td>NaN</td>\n",
       "      <td>S</td>\n",
       "    </tr>\n",
       "  </tbody>\n",
       "</table>\n",
       "</div>"
      ],
      "text/plain": [
       "   PassengerId  Pclass                                          Name     Sex  \\\n",
       "0          892       3                              Kelly, Mr. James    male   \n",
       "1          893       3              Wilkes, Mrs. James (Ellen Needs)  female   \n",
       "2          894       2                     Myles, Mr. Thomas Francis    male   \n",
       "3          895       3                              Wirz, Mr. Albert    male   \n",
       "4          896       3  Hirvonen, Mrs. Alexander (Helga E Lindqvist)  female   \n",
       "5          897       3                    Svensson, Mr. Johan Cervin    male   \n",
       "6          898       3                          Connolly, Miss. Kate  female   \n",
       "7          899       2                  Caldwell, Mr. Albert Francis    male   \n",
       "8          900       3     Abrahim, Mrs. Joseph (Sophie Halaut Easu)  female   \n",
       "9          901       3                       Davies, Mr. John Samuel    male   \n",
       "\n",
       "    Age  SibSp  Parch     Ticket     Fare Cabin Embarked  \n",
       "0  34.5      0      0     330911   7.8292   NaN        Q  \n",
       "1  47.0      1      0     363272   7.0000   NaN        S  \n",
       "2  62.0      0      0     240276   9.6875   NaN        Q  \n",
       "3  27.0      0      0     315154   8.6625   NaN        S  \n",
       "4  22.0      1      1    3101298  12.2875   NaN        S  \n",
       "5  14.0      0      0       7538   9.2250   NaN        S  \n",
       "6  30.0      0      0     330972   7.6292   NaN        Q  \n",
       "7  26.0      1      1     248738  29.0000   NaN        S  \n",
       "8  18.0      0      0       2657   7.2292   NaN        C  \n",
       "9  21.0      2      0  A/4 48871  24.1500   NaN        S  "
      ]
     },
     "execution_count": 6,
     "metadata": {},
     "output_type": "execute_result"
    }
   ],
   "source": [
    "_df_test.head(10)"
   ]
  },
  {
   "cell_type": "code",
   "execution_count": 7,
   "metadata": {},
   "outputs": [
    {
     "name": "stdout",
     "output_type": "stream",
     "text": [
      "<class 'pandas.core.frame.DataFrame'>\n",
      "RangeIndex: 891 entries, 0 to 890\n",
      "Data columns (total 12 columns):\n",
      "PassengerId    891 non-null int64\n",
      "Survived       891 non-null int64\n",
      "Pclass         891 non-null int64\n",
      "Name           891 non-null object\n",
      "Sex            891 non-null object\n",
      "Age            714 non-null float64\n",
      "SibSp          891 non-null int64\n",
      "Parch          891 non-null int64\n",
      "Ticket         891 non-null object\n",
      "Fare           891 non-null float64\n",
      "Cabin          204 non-null object\n",
      "Embarked       889 non-null object\n",
      "dtypes: float64(2), int64(5), object(5)\n",
      "memory usage: 83.6+ KB\n"
     ]
    }
   ],
   "source": [
    "_df_train.info()"
   ]
  },
  {
   "cell_type": "code",
   "execution_count": 8,
   "metadata": {},
   "outputs": [
    {
     "name": "stdout",
     "output_type": "stream",
     "text": [
      "<class 'pandas.core.frame.DataFrame'>\n",
      "RangeIndex: 418 entries, 0 to 417\n",
      "Data columns (total 11 columns):\n",
      "PassengerId    418 non-null int64\n",
      "Pclass         418 non-null int64\n",
      "Name           418 non-null object\n",
      "Sex            418 non-null object\n",
      "Age            332 non-null float64\n",
      "SibSp          418 non-null int64\n",
      "Parch          418 non-null int64\n",
      "Ticket         418 non-null object\n",
      "Fare           417 non-null float64\n",
      "Cabin          91 non-null object\n",
      "Embarked       418 non-null object\n",
      "dtypes: float64(2), int64(4), object(5)\n",
      "memory usage: 36.0+ KB\n"
     ]
    }
   ],
   "source": [
    "_df_test.info()"
   ]
  },
  {
   "cell_type": "code",
   "execution_count": 9,
   "metadata": {},
   "outputs": [
    {
     "data": {
      "text/html": [
       "<div>\n",
       "<style>\n",
       "    .dataframe thead tr:only-child th {\n",
       "        text-align: right;\n",
       "    }\n",
       "\n",
       "    .dataframe thead th {\n",
       "        text-align: left;\n",
       "    }\n",
       "\n",
       "    .dataframe tbody tr th {\n",
       "        vertical-align: top;\n",
       "    }\n",
       "</style>\n",
       "<table border=\"1\" class=\"dataframe\">\n",
       "  <thead>\n",
       "    <tr style=\"text-align: right;\">\n",
       "      <th></th>\n",
       "      <th>PassengerId</th>\n",
       "      <th>Survived</th>\n",
       "      <th>Pclass</th>\n",
       "      <th>Age</th>\n",
       "      <th>SibSp</th>\n",
       "      <th>Parch</th>\n",
       "      <th>Fare</th>\n",
       "    </tr>\n",
       "  </thead>\n",
       "  <tbody>\n",
       "    <tr>\n",
       "      <th>count</th>\n",
       "      <td>891.000000</td>\n",
       "      <td>891.000000</td>\n",
       "      <td>891.000000</td>\n",
       "      <td>714.000000</td>\n",
       "      <td>891.000000</td>\n",
       "      <td>891.000000</td>\n",
       "      <td>891.000000</td>\n",
       "    </tr>\n",
       "    <tr>\n",
       "      <th>mean</th>\n",
       "      <td>446.000000</td>\n",
       "      <td>0.383838</td>\n",
       "      <td>2.308642</td>\n",
       "      <td>29.699118</td>\n",
       "      <td>0.523008</td>\n",
       "      <td>0.381594</td>\n",
       "      <td>32.204208</td>\n",
       "    </tr>\n",
       "    <tr>\n",
       "      <th>std</th>\n",
       "      <td>257.353842</td>\n",
       "      <td>0.486592</td>\n",
       "      <td>0.836071</td>\n",
       "      <td>14.526497</td>\n",
       "      <td>1.102743</td>\n",
       "      <td>0.806057</td>\n",
       "      <td>49.693429</td>\n",
       "    </tr>\n",
       "    <tr>\n",
       "      <th>min</th>\n",
       "      <td>1.000000</td>\n",
       "      <td>0.000000</td>\n",
       "      <td>1.000000</td>\n",
       "      <td>0.420000</td>\n",
       "      <td>0.000000</td>\n",
       "      <td>0.000000</td>\n",
       "      <td>0.000000</td>\n",
       "    </tr>\n",
       "    <tr>\n",
       "      <th>25%</th>\n",
       "      <td>223.500000</td>\n",
       "      <td>0.000000</td>\n",
       "      <td>2.000000</td>\n",
       "      <td>20.125000</td>\n",
       "      <td>0.000000</td>\n",
       "      <td>0.000000</td>\n",
       "      <td>7.910400</td>\n",
       "    </tr>\n",
       "    <tr>\n",
       "      <th>50%</th>\n",
       "      <td>446.000000</td>\n",
       "      <td>0.000000</td>\n",
       "      <td>3.000000</td>\n",
       "      <td>28.000000</td>\n",
       "      <td>0.000000</td>\n",
       "      <td>0.000000</td>\n",
       "      <td>14.454200</td>\n",
       "    </tr>\n",
       "    <tr>\n",
       "      <th>75%</th>\n",
       "      <td>668.500000</td>\n",
       "      <td>1.000000</td>\n",
       "      <td>3.000000</td>\n",
       "      <td>38.000000</td>\n",
       "      <td>1.000000</td>\n",
       "      <td>0.000000</td>\n",
       "      <td>31.000000</td>\n",
       "    </tr>\n",
       "    <tr>\n",
       "      <th>max</th>\n",
       "      <td>891.000000</td>\n",
       "      <td>1.000000</td>\n",
       "      <td>3.000000</td>\n",
       "      <td>80.000000</td>\n",
       "      <td>8.000000</td>\n",
       "      <td>6.000000</td>\n",
       "      <td>512.329200</td>\n",
       "    </tr>\n",
       "  </tbody>\n",
       "</table>\n",
       "</div>"
      ],
      "text/plain": [
       "       PassengerId    Survived      Pclass         Age       SibSp  \\\n",
       "count   891.000000  891.000000  891.000000  714.000000  891.000000   \n",
       "mean    446.000000    0.383838    2.308642   29.699118    0.523008   \n",
       "std     257.353842    0.486592    0.836071   14.526497    1.102743   \n",
       "min       1.000000    0.000000    1.000000    0.420000    0.000000   \n",
       "25%     223.500000    0.000000    2.000000   20.125000    0.000000   \n",
       "50%     446.000000    0.000000    3.000000   28.000000    0.000000   \n",
       "75%     668.500000    1.000000    3.000000   38.000000    1.000000   \n",
       "max     891.000000    1.000000    3.000000   80.000000    8.000000   \n",
       "\n",
       "            Parch        Fare  \n",
       "count  891.000000  891.000000  \n",
       "mean     0.381594   32.204208  \n",
       "std      0.806057   49.693429  \n",
       "min      0.000000    0.000000  \n",
       "25%      0.000000    7.910400  \n",
       "50%      0.000000   14.454200  \n",
       "75%      0.000000   31.000000  \n",
       "max      6.000000  512.329200  "
      ]
     },
     "execution_count": 9,
     "metadata": {},
     "output_type": "execute_result"
    }
   ],
   "source": [
    "_df_train.describe()"
   ]
  },
  {
   "cell_type": "code",
   "execution_count": 10,
   "metadata": {},
   "outputs": [
    {
     "data": {
      "text/html": [
       "<div>\n",
       "<style>\n",
       "    .dataframe thead tr:only-child th {\n",
       "        text-align: right;\n",
       "    }\n",
       "\n",
       "    .dataframe thead th {\n",
       "        text-align: left;\n",
       "    }\n",
       "\n",
       "    .dataframe tbody tr th {\n",
       "        vertical-align: top;\n",
       "    }\n",
       "</style>\n",
       "<table border=\"1\" class=\"dataframe\">\n",
       "  <thead>\n",
       "    <tr style=\"text-align: right;\">\n",
       "      <th></th>\n",
       "      <th>Name</th>\n",
       "      <th>Sex</th>\n",
       "      <th>Ticket</th>\n",
       "      <th>Cabin</th>\n",
       "      <th>Embarked</th>\n",
       "    </tr>\n",
       "  </thead>\n",
       "  <tbody>\n",
       "    <tr>\n",
       "      <th>count</th>\n",
       "      <td>891</td>\n",
       "      <td>891</td>\n",
       "      <td>891</td>\n",
       "      <td>204</td>\n",
       "      <td>889</td>\n",
       "    </tr>\n",
       "    <tr>\n",
       "      <th>unique</th>\n",
       "      <td>891</td>\n",
       "      <td>2</td>\n",
       "      <td>681</td>\n",
       "      <td>147</td>\n",
       "      <td>3</td>\n",
       "    </tr>\n",
       "    <tr>\n",
       "      <th>top</th>\n",
       "      <td>Connolly, Miss. Kate</td>\n",
       "      <td>male</td>\n",
       "      <td>347082</td>\n",
       "      <td>C23 C25 C27</td>\n",
       "      <td>S</td>\n",
       "    </tr>\n",
       "    <tr>\n",
       "      <th>freq</th>\n",
       "      <td>1</td>\n",
       "      <td>577</td>\n",
       "      <td>7</td>\n",
       "      <td>4</td>\n",
       "      <td>644</td>\n",
       "    </tr>\n",
       "  </tbody>\n",
       "</table>\n",
       "</div>"
      ],
      "text/plain": [
       "                        Name   Sex  Ticket        Cabin Embarked\n",
       "count                    891   891     891          204      889\n",
       "unique                   891     2     681          147        3\n",
       "top     Connolly, Miss. Kate  male  347082  C23 C25 C27        S\n",
       "freq                       1   577       7            4      644"
      ]
     },
     "execution_count": 10,
     "metadata": {},
     "output_type": "execute_result"
    }
   ],
   "source": [
    "_df_train.describe(include = ['O'])"
   ]
  },
  {
   "cell_type": "code",
   "execution_count": 11,
   "metadata": {},
   "outputs": [
    {
     "data": {
      "text/html": [
       "<div>\n",
       "<style>\n",
       "    .dataframe thead tr:only-child th {\n",
       "        text-align: right;\n",
       "    }\n",
       "\n",
       "    .dataframe thead th {\n",
       "        text-align: left;\n",
       "    }\n",
       "\n",
       "    .dataframe tbody tr th {\n",
       "        vertical-align: top;\n",
       "    }\n",
       "</style>\n",
       "<table border=\"1\" class=\"dataframe\">\n",
       "  <thead>\n",
       "    <tr style=\"text-align: right;\">\n",
       "      <th></th>\n",
       "      <th>PassengerId</th>\n",
       "      <th>Pclass</th>\n",
       "      <th>Age</th>\n",
       "      <th>SibSp</th>\n",
       "      <th>Parch</th>\n",
       "      <th>Fare</th>\n",
       "    </tr>\n",
       "  </thead>\n",
       "  <tbody>\n",
       "    <tr>\n",
       "      <th>count</th>\n",
       "      <td>418.000000</td>\n",
       "      <td>418.000000</td>\n",
       "      <td>332.000000</td>\n",
       "      <td>418.000000</td>\n",
       "      <td>418.000000</td>\n",
       "      <td>417.000000</td>\n",
       "    </tr>\n",
       "    <tr>\n",
       "      <th>mean</th>\n",
       "      <td>1100.500000</td>\n",
       "      <td>2.265550</td>\n",
       "      <td>30.272590</td>\n",
       "      <td>0.447368</td>\n",
       "      <td>0.392344</td>\n",
       "      <td>35.627188</td>\n",
       "    </tr>\n",
       "    <tr>\n",
       "      <th>std</th>\n",
       "      <td>120.810458</td>\n",
       "      <td>0.841838</td>\n",
       "      <td>14.181209</td>\n",
       "      <td>0.896760</td>\n",
       "      <td>0.981429</td>\n",
       "      <td>55.907576</td>\n",
       "    </tr>\n",
       "    <tr>\n",
       "      <th>min</th>\n",
       "      <td>892.000000</td>\n",
       "      <td>1.000000</td>\n",
       "      <td>0.170000</td>\n",
       "      <td>0.000000</td>\n",
       "      <td>0.000000</td>\n",
       "      <td>0.000000</td>\n",
       "    </tr>\n",
       "    <tr>\n",
       "      <th>25%</th>\n",
       "      <td>996.250000</td>\n",
       "      <td>1.000000</td>\n",
       "      <td>21.000000</td>\n",
       "      <td>0.000000</td>\n",
       "      <td>0.000000</td>\n",
       "      <td>7.895800</td>\n",
       "    </tr>\n",
       "    <tr>\n",
       "      <th>50%</th>\n",
       "      <td>1100.500000</td>\n",
       "      <td>3.000000</td>\n",
       "      <td>27.000000</td>\n",
       "      <td>0.000000</td>\n",
       "      <td>0.000000</td>\n",
       "      <td>14.454200</td>\n",
       "    </tr>\n",
       "    <tr>\n",
       "      <th>75%</th>\n",
       "      <td>1204.750000</td>\n",
       "      <td>3.000000</td>\n",
       "      <td>39.000000</td>\n",
       "      <td>1.000000</td>\n",
       "      <td>0.000000</td>\n",
       "      <td>31.500000</td>\n",
       "    </tr>\n",
       "    <tr>\n",
       "      <th>max</th>\n",
       "      <td>1309.000000</td>\n",
       "      <td>3.000000</td>\n",
       "      <td>76.000000</td>\n",
       "      <td>8.000000</td>\n",
       "      <td>9.000000</td>\n",
       "      <td>512.329200</td>\n",
       "    </tr>\n",
       "  </tbody>\n",
       "</table>\n",
       "</div>"
      ],
      "text/plain": [
       "       PassengerId      Pclass         Age       SibSp       Parch        Fare\n",
       "count   418.000000  418.000000  332.000000  418.000000  418.000000  417.000000\n",
       "mean   1100.500000    2.265550   30.272590    0.447368    0.392344   35.627188\n",
       "std     120.810458    0.841838   14.181209    0.896760    0.981429   55.907576\n",
       "min     892.000000    1.000000    0.170000    0.000000    0.000000    0.000000\n",
       "25%     996.250000    1.000000   21.000000    0.000000    0.000000    7.895800\n",
       "50%    1100.500000    3.000000   27.000000    0.000000    0.000000   14.454200\n",
       "75%    1204.750000    3.000000   39.000000    1.000000    0.000000   31.500000\n",
       "max    1309.000000    3.000000   76.000000    8.000000    9.000000  512.329200"
      ]
     },
     "execution_count": 11,
     "metadata": {},
     "output_type": "execute_result"
    }
   ],
   "source": [
    "_df_test.describe()"
   ]
  },
  {
   "cell_type": "code",
   "execution_count": 12,
   "metadata": {},
   "outputs": [
    {
     "data": {
      "text/html": [
       "<div>\n",
       "<style>\n",
       "    .dataframe thead tr:only-child th {\n",
       "        text-align: right;\n",
       "    }\n",
       "\n",
       "    .dataframe thead th {\n",
       "        text-align: left;\n",
       "    }\n",
       "\n",
       "    .dataframe tbody tr th {\n",
       "        vertical-align: top;\n",
       "    }\n",
       "</style>\n",
       "<table border=\"1\" class=\"dataframe\">\n",
       "  <thead>\n",
       "    <tr style=\"text-align: right;\">\n",
       "      <th></th>\n",
       "      <th>Name</th>\n",
       "      <th>Sex</th>\n",
       "      <th>Ticket</th>\n",
       "      <th>Cabin</th>\n",
       "      <th>Embarked</th>\n",
       "    </tr>\n",
       "  </thead>\n",
       "  <tbody>\n",
       "    <tr>\n",
       "      <th>count</th>\n",
       "      <td>418</td>\n",
       "      <td>418</td>\n",
       "      <td>418</td>\n",
       "      <td>91</td>\n",
       "      <td>418</td>\n",
       "    </tr>\n",
       "    <tr>\n",
       "      <th>unique</th>\n",
       "      <td>418</td>\n",
       "      <td>2</td>\n",
       "      <td>363</td>\n",
       "      <td>76</td>\n",
       "      <td>3</td>\n",
       "    </tr>\n",
       "    <tr>\n",
       "      <th>top</th>\n",
       "      <td>Connolly, Miss. Kate</td>\n",
       "      <td>male</td>\n",
       "      <td>PC 17608</td>\n",
       "      <td>B57 B59 B63 B66</td>\n",
       "      <td>S</td>\n",
       "    </tr>\n",
       "    <tr>\n",
       "      <th>freq</th>\n",
       "      <td>1</td>\n",
       "      <td>266</td>\n",
       "      <td>5</td>\n",
       "      <td>3</td>\n",
       "      <td>270</td>\n",
       "    </tr>\n",
       "  </tbody>\n",
       "</table>\n",
       "</div>"
      ],
      "text/plain": [
       "                        Name   Sex    Ticket            Cabin Embarked\n",
       "count                    418   418       418               91      418\n",
       "unique                   418     2       363               76        3\n",
       "top     Connolly, Miss. Kate  male  PC 17608  B57 B59 B63 B66        S\n",
       "freq                       1   266         5                3      270"
      ]
     },
     "execution_count": 12,
     "metadata": {},
     "output_type": "execute_result"
    }
   ],
   "source": [
    "_df_test.describe(include = ['O'])"
   ]
  },
  {
   "cell_type": "code",
   "execution_count": 13,
   "metadata": {
    "collapsed": true
   },
   "outputs": [],
   "source": [
    "_df_combine = [_df_train, _df_test]"
   ]
  },
  {
   "cell_type": "code",
   "execution_count": 14,
   "metadata": {
    "collapsed": true
   },
   "outputs": [],
   "source": [
    "# Feature Selection & Engineering"
   ]
  },
  {
   "cell_type": "code",
   "execution_count": 15,
   "metadata": {
    "collapsed": true
   },
   "outputs": [],
   "source": [
    "# Passengerid removal"
   ]
  },
  {
   "cell_type": "code",
   "execution_count": 16,
   "metadata": {},
   "outputs": [
    {
     "name": "stdout",
     "output_type": "stream",
     "text": [
      "_df_train: (891, 12), _df_test: (418, 11), _df_combine[0]:(891, 12), _df_combine[1]:(418, 11)\n",
      "_df_train: (891, 11), _df_test: (418, 11), _df_combine[0]:(891, 11), _df_combine[1]:(418, 11)\n"
     ]
    }
   ],
   "source": [
    "print_shape()\n",
    "_df_train = _df_train.drop('PassengerId', axis = 1)\n",
    "#_df_test = _df_test.drop('PassengerId', axis = 1)\n",
    "_df_combine = [_df_train, _df_test]\n",
    "print_shape()"
   ]
  },
  {
   "cell_type": "code",
   "execution_count": 17,
   "metadata": {
    "collapsed": true
   },
   "outputs": [],
   "source": [
    "# Pclass "
   ]
  },
  {
   "cell_type": "code",
   "execution_count": 18,
   "metadata": {},
   "outputs": [
    {
     "name": "stdout",
     "output_type": "stream",
     "text": [
      "Training dataframe feature [Pclass] has any nulls or missing values: False\n",
      "\n",
      "Test dataframe feature [Pclass] has any nulls or missing values: False\n",
      "\n",
      "   Pclass  Survived\n",
      "0       1  0.629630\n",
      "1       2  0.472826\n",
      "2       3  0.242363\n",
      "\n",
      "\n",
      "   Pclass     Sex  Survived\n",
      "0       1  female  0.968085\n",
      "1       1    male  0.368852\n",
      "2       2  female  0.921053\n",
      "3       2    male  0.157407\n",
      "4       3  female  0.500000\n",
      "5       3    male  0.135447\n"
     ]
    },
    {
     "data": {
      "image/png": "[encoded data removed]",
      "text/plain": [
       "<matplotlib.figure.Figure at 0x1111d42b0>"
      ]
     },
     "metadata": {},
     "output_type": "display_data"
    },
    {
     "data": {
      "image/png": "[encoded data removed]",
      "text/plain": [
       "<matplotlib.figure.Figure at 0x1113894e0>"
      ]
     },
     "metadata": {},
     "output_type": "display_data"
    }
   ],
   "source": [
    "view_feature('Pclass')"
   ]
  },
  {
   "cell_type": "code",
   "execution_count": 19,
   "metadata": {
    "collapsed": true
   },
   "outputs": [],
   "source": [
    "# Name"
   ]
  },
  {
   "cell_type": "code",
   "execution_count": 20,
   "metadata": {
    "collapsed": true
   },
   "outputs": [],
   "source": [
    "for _df in _df_combine:\n",
    "    _df['Title'] = _df.Name.str.extract(' ([A-Za-z]+)\\.', expand = False)"
   ]
  },
  {
   "cell_type": "code",
   "execution_count": 21,
   "metadata": {},
   "outputs": [
    {
     "data": {
      "text/html": [
       "<div>\n",
       "<style>\n",
       "    .dataframe thead tr:only-child th {\n",
       "        text-align: right;\n",
       "    }\n",
       "\n",
       "    .dataframe thead th {\n",
       "        text-align: left;\n",
       "    }\n",
       "\n",
       "    .dataframe tbody tr th {\n",
       "        vertical-align: top;\n",
       "    }\n",
       "</style>\n",
       "<table border=\"1\" class=\"dataframe\">\n",
       "  <thead>\n",
       "    <tr style=\"text-align: right;\">\n",
       "      <th>Sex</th>\n",
       "      <th>female</th>\n",
       "      <th>male</th>\n",
       "    </tr>\n",
       "    <tr>\n",
       "      <th>Title</th>\n",
       "      <th></th>\n",
       "      <th></th>\n",
       "    </tr>\n",
       "  </thead>\n",
       "  <tbody>\n",
       "    <tr>\n",
       "      <th>Capt</th>\n",
       "      <td>0</td>\n",
       "      <td>1</td>\n",
       "    </tr>\n",
       "    <tr>\n",
       "      <th>Col</th>\n",
       "      <td>0</td>\n",
       "      <td>2</td>\n",
       "    </tr>\n",
       "    <tr>\n",
       "      <th>Countess</th>\n",
       "      <td>1</td>\n",
       "      <td>0</td>\n",
       "    </tr>\n",
       "    <tr>\n",
       "      <th>Don</th>\n",
       "      <td>0</td>\n",
       "      <td>1</td>\n",
       "    </tr>\n",
       "    <tr>\n",
       "      <th>Dr</th>\n",
       "      <td>1</td>\n",
       "      <td>6</td>\n",
       "    </tr>\n",
       "    <tr>\n",
       "      <th>Jonkheer</th>\n",
       "      <td>0</td>\n",
       "      <td>1</td>\n",
       "    </tr>\n",
       "    <tr>\n",
       "      <th>Lady</th>\n",
       "      <td>1</td>\n",
       "      <td>0</td>\n",
       "    </tr>\n",
       "    <tr>\n",
       "      <th>Major</th>\n",
       "      <td>0</td>\n",
       "      <td>2</td>\n",
       "    </tr>\n",
       "    <tr>\n",
       "      <th>Master</th>\n",
       "      <td>0</td>\n",
       "      <td>40</td>\n",
       "    </tr>\n",
       "    <tr>\n",
       "      <th>Miss</th>\n",
       "      <td>182</td>\n",
       "      <td>0</td>\n",
       "    </tr>\n",
       "    <tr>\n",
       "      <th>Mlle</th>\n",
       "      <td>2</td>\n",
       "      <td>0</td>\n",
       "    </tr>\n",
       "    <tr>\n",
       "      <th>Mme</th>\n",
       "      <td>1</td>\n",
       "      <td>0</td>\n",
       "    </tr>\n",
       "    <tr>\n",
       "      <th>Mr</th>\n",
       "      <td>0</td>\n",
       "      <td>517</td>\n",
       "    </tr>\n",
       "    <tr>\n",
       "      <th>Mrs</th>\n",
       "      <td>125</td>\n",
       "      <td>0</td>\n",
       "    </tr>\n",
       "    <tr>\n",
       "      <th>Ms</th>\n",
       "      <td>1</td>\n",
       "      <td>0</td>\n",
       "    </tr>\n",
       "    <tr>\n",
       "      <th>Rev</th>\n",
       "      <td>0</td>\n",
       "      <td>6</td>\n",
       "    </tr>\n",
       "    <tr>\n",
       "      <th>Sir</th>\n",
       "      <td>0</td>\n",
       "      <td>1</td>\n",
       "    </tr>\n",
       "  </tbody>\n",
       "</table>\n",
       "</div>"
      ],
      "text/plain": [
       "Sex       female  male\n",
       "Title                 \n",
       "Capt           0     1\n",
       "Col            0     2\n",
       "Countess       1     0\n",
       "Don            0     1\n",
       "Dr             1     6\n",
       "Jonkheer       0     1\n",
       "Lady           1     0\n",
       "Major          0     2\n",
       "Master         0    40\n",
       "Miss         182     0\n",
       "Mlle           2     0\n",
       "Mme            1     0\n",
       "Mr             0   517\n",
       "Mrs          125     0\n",
       "Ms             1     0\n",
       "Rev            0     6\n",
       "Sir            0     1"
      ]
     },
     "execution_count": 21,
     "metadata": {},
     "output_type": "execute_result"
    }
   ],
   "source": [
    "pandas.crosstab(_df_train['Title'], _df_train['Sex'])"
   ]
  },
  {
   "cell_type": "code",
   "execution_count": 22,
   "metadata": {},
   "outputs": [
    {
     "data": {
      "text/html": [
       "<div>\n",
       "<style>\n",
       "    .dataframe thead tr:only-child th {\n",
       "        text-align: right;\n",
       "    }\n",
       "\n",
       "    .dataframe thead th {\n",
       "        text-align: left;\n",
       "    }\n",
       "\n",
       "    .dataframe tbody tr th {\n",
       "        vertical-align: top;\n",
       "    }\n",
       "</style>\n",
       "<table border=\"1\" class=\"dataframe\">\n",
       "  <thead>\n",
       "    <tr style=\"text-align: right;\">\n",
       "      <th>Sex</th>\n",
       "      <th>female</th>\n",
       "      <th>male</th>\n",
       "    </tr>\n",
       "    <tr>\n",
       "      <th>Title</th>\n",
       "      <th></th>\n",
       "      <th></th>\n",
       "    </tr>\n",
       "  </thead>\n",
       "  <tbody>\n",
       "    <tr>\n",
       "      <th>Col</th>\n",
       "      <td>0</td>\n",
       "      <td>2</td>\n",
       "    </tr>\n",
       "    <tr>\n",
       "      <th>Dona</th>\n",
       "      <td>1</td>\n",
       "      <td>0</td>\n",
       "    </tr>\n",
       "    <tr>\n",
       "      <th>Dr</th>\n",
       "      <td>0</td>\n",
       "      <td>1</td>\n",
       "    </tr>\n",
       "    <tr>\n",
       "      <th>Master</th>\n",
       "      <td>0</td>\n",
       "      <td>21</td>\n",
       "    </tr>\n",
       "    <tr>\n",
       "      <th>Miss</th>\n",
       "      <td>78</td>\n",
       "      <td>0</td>\n",
       "    </tr>\n",
       "    <tr>\n",
       "      <th>Mr</th>\n",
       "      <td>0</td>\n",
       "      <td>240</td>\n",
       "    </tr>\n",
       "    <tr>\n",
       "      <th>Mrs</th>\n",
       "      <td>72</td>\n",
       "      <td>0</td>\n",
       "    </tr>\n",
       "    <tr>\n",
       "      <th>Ms</th>\n",
       "      <td>1</td>\n",
       "      <td>0</td>\n",
       "    </tr>\n",
       "    <tr>\n",
       "      <th>Rev</th>\n",
       "      <td>0</td>\n",
       "      <td>2</td>\n",
       "    </tr>\n",
       "  </tbody>\n",
       "</table>\n",
       "</div>"
      ],
      "text/plain": [
       "Sex     female  male\n",
       "Title               \n",
       "Col          0     2\n",
       "Dona         1     0\n",
       "Dr           0     1\n",
       "Master       0    21\n",
       "Miss        78     0\n",
       "Mr           0   240\n",
       "Mrs         72     0\n",
       "Ms           1     0\n",
       "Rev          0     2"
      ]
     },
     "execution_count": 22,
     "metadata": {},
     "output_type": "execute_result"
    }
   ],
   "source": [
    "pandas.crosstab(_df_test['Title'], _df_test['Sex'])"
   ]
  },
  {
   "cell_type": "code",
   "execution_count": 23,
   "metadata": {
    "collapsed": true
   },
   "outputs": [],
   "source": [
    "for _df in _df_combine:\n",
    "    _df['Title'] = _df['Title'].replace('Mlle', 'Miss')\n",
    "    _df['Title'] = _df['Title'].replace('Ms', 'Miss')\n",
    "    _df['Title'] = _df['Title'].replace('Mme', 'Mrs')"
   ]
  },
  {
   "cell_type": "code",
   "execution_count": 24,
   "metadata": {
    "collapsed": true
   },
   "outputs": [],
   "source": [
    "_title_map = {'Master': 1, 'Miss': 2, 'Mrs': 3, 'Mr': 4}\n",
    "for _df in _df_combine:\n",
    "    _df['Title'] = _df['Title'].map(_title_map)\n",
    "    _df['Title'] = _df['Title'].fillna(5)"
   ]
  },
  {
   "cell_type": "code",
   "execution_count": 25,
   "metadata": {},
   "outputs": [
    {
     "data": {
      "text/html": [
       "<div>\n",
       "<style>\n",
       "    .dataframe thead tr:only-child th {\n",
       "        text-align: right;\n",
       "    }\n",
       "\n",
       "    .dataframe thead th {\n",
       "        text-align: left;\n",
       "    }\n",
       "\n",
       "    .dataframe tbody tr th {\n",
       "        vertical-align: top;\n",
       "    }\n",
       "</style>\n",
       "<table border=\"1\" class=\"dataframe\">\n",
       "  <thead>\n",
       "    <tr style=\"text-align: right;\">\n",
       "      <th>Sex</th>\n",
       "      <th>female</th>\n",
       "      <th>male</th>\n",
       "    </tr>\n",
       "    <tr>\n",
       "      <th>Title</th>\n",
       "      <th></th>\n",
       "      <th></th>\n",
       "    </tr>\n",
       "  </thead>\n",
       "  <tbody>\n",
       "    <tr>\n",
       "      <th>1.0</th>\n",
       "      <td>0</td>\n",
       "      <td>40</td>\n",
       "    </tr>\n",
       "    <tr>\n",
       "      <th>2.0</th>\n",
       "      <td>185</td>\n",
       "      <td>0</td>\n",
       "    </tr>\n",
       "    <tr>\n",
       "      <th>3.0</th>\n",
       "      <td>126</td>\n",
       "      <td>0</td>\n",
       "    </tr>\n",
       "    <tr>\n",
       "      <th>4.0</th>\n",
       "      <td>0</td>\n",
       "      <td>517</td>\n",
       "    </tr>\n",
       "    <tr>\n",
       "      <th>5.0</th>\n",
       "      <td>3</td>\n",
       "      <td>20</td>\n",
       "    </tr>\n",
       "  </tbody>\n",
       "</table>\n",
       "</div>"
      ],
      "text/plain": [
       "Sex    female  male\n",
       "Title              \n",
       "1.0         0    40\n",
       "2.0       185     0\n",
       "3.0       126     0\n",
       "4.0         0   517\n",
       "5.0         3    20"
      ]
     },
     "execution_count": 25,
     "metadata": {},
     "output_type": "execute_result"
    }
   ],
   "source": [
    "pandas.crosstab(_df_train['Title'], _df_train['Sex'])"
   ]
  },
  {
   "cell_type": "code",
   "execution_count": 26,
   "metadata": {},
   "outputs": [
    {
     "data": {
      "text/html": [
       "<div>\n",
       "<style>\n",
       "    .dataframe thead tr:only-child th {\n",
       "        text-align: right;\n",
       "    }\n",
       "\n",
       "    .dataframe thead th {\n",
       "        text-align: left;\n",
       "    }\n",
       "\n",
       "    .dataframe tbody tr th {\n",
       "        vertical-align: top;\n",
       "    }\n",
       "</style>\n",
       "<table border=\"1\" class=\"dataframe\">\n",
       "  <thead>\n",
       "    <tr style=\"text-align: right;\">\n",
       "      <th>Sex</th>\n",
       "      <th>female</th>\n",
       "      <th>male</th>\n",
       "    </tr>\n",
       "    <tr>\n",
       "      <th>Title</th>\n",
       "      <th></th>\n",
       "      <th></th>\n",
       "    </tr>\n",
       "  </thead>\n",
       "  <tbody>\n",
       "    <tr>\n",
       "      <th>1.0</th>\n",
       "      <td>0</td>\n",
       "      <td>21</td>\n",
       "    </tr>\n",
       "    <tr>\n",
       "      <th>2.0</th>\n",
       "      <td>79</td>\n",
       "      <td>0</td>\n",
       "    </tr>\n",
       "    <tr>\n",
       "      <th>3.0</th>\n",
       "      <td>72</td>\n",
       "      <td>0</td>\n",
       "    </tr>\n",
       "    <tr>\n",
       "      <th>4.0</th>\n",
       "      <td>0</td>\n",
       "      <td>240</td>\n",
       "    </tr>\n",
       "    <tr>\n",
       "      <th>5.0</th>\n",
       "      <td>1</td>\n",
       "      <td>5</td>\n",
       "    </tr>\n",
       "  </tbody>\n",
       "</table>\n",
       "</div>"
      ],
      "text/plain": [
       "Sex    female  male\n",
       "Title              \n",
       "1.0         0    21\n",
       "2.0        79     0\n",
       "3.0        72     0\n",
       "4.0         0   240\n",
       "5.0         1     5"
      ]
     },
     "execution_count": 26,
     "metadata": {},
     "output_type": "execute_result"
    }
   ],
   "source": [
    "pandas.crosstab(_df_test['Title'], _df_test['Sex'])"
   ]
  },
  {
   "cell_type": "code",
   "execution_count": 27,
   "metadata": {},
   "outputs": [
    {
     "name": "stdout",
     "output_type": "stream",
     "text": [
      "Training dataframe feature [Title] has any nulls or missing values: False\n",
      "\n",
      "Test dataframe feature [Title] has any nulls or missing values: False\n",
      "\n",
      "   Title  Survived\n",
      "0    1.0  0.575000\n",
      "1    2.0  0.702703\n",
      "2    3.0  0.793651\n",
      "3    4.0  0.156673\n",
      "4    5.0  0.347826\n",
      "\n",
      "\n",
      "   Title     Sex  Survived\n",
      "0    1.0    male  0.575000\n",
      "1    2.0  female  0.702703\n",
      "2    3.0  female  0.793651\n",
      "3    4.0    male  0.156673\n",
      "4    5.0  female  1.000000\n",
      "5    5.0    male  0.250000\n"
     ]
    },
    {
     "data": {
      "image/png": "[encoded data removed]",
      "text/plain": [
       "<matplotlib.figure.Figure at 0x1148be208>"
      ]
     },
     "metadata": {},
     "output_type": "display_data"
    },
    {
     "data": {
      "image/png": "[encoded data removed]",
      "text/plain": [
       "<matplotlib.figure.Figure at 0x114a633c8>"
      ]
     },
     "metadata": {},
     "output_type": "display_data"
    }
   ],
   "source": [
    "view_feature('Title')"
   ]
  },
  {
   "cell_type": "code",
   "execution_count": 28,
   "metadata": {},
   "outputs": [
    {
     "name": "stdout",
     "output_type": "stream",
     "text": [
      "_df_train: (891, 12), _df_test: (418, 12), _df_combine[0]:(891, 12), _df_combine[1]:(418, 12)\n",
      "_df_train: (891, 11), _df_test: (418, 11), _df_combine[0]:(891, 11), _df_combine[1]:(418, 11)\n"
     ]
    }
   ],
   "source": [
    "print_shape()\n",
    "_df_train = _df_train.drop('Name', axis = 1)\n",
    "_df_test = _df_test.drop('Name', axis = 1)\n",
    "_df_combine = [_df_train, _df_test]\n",
    "print_shape()"
   ]
  },
  {
   "cell_type": "code",
   "execution_count": 29,
   "metadata": {
    "collapsed": true
   },
   "outputs": [],
   "source": [
    "# Sex"
   ]
  },
  {
   "cell_type": "code",
   "execution_count": 30,
   "metadata": {},
   "outputs": [
    {
     "data": {
      "text/plain": [
       "<seaborn.axisgrid.FacetGrid at 0x114c1ec88>"
      ]
     },
     "execution_count": 30,
     "metadata": {},
     "output_type": "execute_result"
    },
    {
     "data": {
      "image/png": "[encoded data removed]",
      "text/plain": [
       "<matplotlib.figure.Figure at 0x114bfd828>"
      ]
     },
     "metadata": {},
     "output_type": "display_data"
    }
   ],
   "source": [
    "seaborn.factorplot('Sex', 'Survived', data = _df_train, size = 4, aspect = 2)"
   ]
  },
  {
   "cell_type": "code",
   "execution_count": 31,
   "metadata": {},
   "outputs": [
    {
     "name": "stdout",
     "output_type": "stream",
     "text": [
      "False\n",
      "False\n"
     ]
    }
   ],
   "source": [
    "print(_df_train['Sex'].isnull().any())\n",
    "print(_df_test['Sex'].isnull().any())"
   ]
  },
  {
   "cell_type": "code",
   "execution_count": 32,
   "metadata": {
    "collapsed": true
   },
   "outputs": [],
   "source": [
    "for _df in _df_combine:\n",
    "    _df['Sex'] = _df['Sex'].map({'male':0, 'female':1}).astype(int)"
   ]
  },
  {
   "cell_type": "code",
   "execution_count": 33,
   "metadata": {},
   "outputs": [
    {
     "data": {
      "text/plain": [
       "<seaborn.axisgrid.FacetGrid at 0x114eaceb8>"
      ]
     },
     "execution_count": 33,
     "metadata": {},
     "output_type": "execute_result"
    },
    {
     "data": {
      "image/png": "[encoded data removed]",
      "text/plain": [
       "<matplotlib.figure.Figure at 0x1148ad710>"
      ]
     },
     "metadata": {},
     "output_type": "display_data"
    }
   ],
   "source": [
    "seaborn.factorplot('Sex', 'Survived', data = _df_train, size = 4, aspect = 2)"
   ]
  },
  {
   "cell_type": "code",
   "execution_count": 34,
   "metadata": {},
   "outputs": [
    {
     "name": "stdout",
     "output_type": "stream",
     "text": [
      "False\n",
      "False\n"
     ]
    }
   ],
   "source": [
    "print(_df_train['Sex'].isnull().any())\n",
    "print(_df_test['Sex'].isnull().any())"
   ]
  },
  {
   "cell_type": "code",
   "execution_count": 35,
   "metadata": {},
   "outputs": [
    {
     "data": {
      "text/html": [
       "<div>\n",
       "<style>\n",
       "    .dataframe thead tr:only-child th {\n",
       "        text-align: right;\n",
       "    }\n",
       "\n",
       "    .dataframe thead th {\n",
       "        text-align: left;\n",
       "    }\n",
       "\n",
       "    .dataframe tbody tr th {\n",
       "        vertical-align: top;\n",
       "    }\n",
       "</style>\n",
       "<table border=\"1\" class=\"dataframe\">\n",
       "  <thead>\n",
       "    <tr style=\"text-align: right;\">\n",
       "      <th></th>\n",
       "      <th>Sex</th>\n",
       "      <th>Survived</th>\n",
       "    </tr>\n",
       "  </thead>\n",
       "  <tbody>\n",
       "    <tr>\n",
       "      <th>1</th>\n",
       "      <td>1</td>\n",
       "      <td>0.742038</td>\n",
       "    </tr>\n",
       "    <tr>\n",
       "      <th>0</th>\n",
       "      <td>0</td>\n",
       "      <td>0.188908</td>\n",
       "    </tr>\n",
       "  </tbody>\n",
       "</table>\n",
       "</div>"
      ],
      "text/plain": [
       "   Sex  Survived\n",
       "1    1  0.742038\n",
       "0    0  0.188908"
      ]
     },
     "execution_count": 35,
     "metadata": {},
     "output_type": "execute_result"
    }
   ],
   "source": [
    "_df_train[['Sex', 'Survived']].groupby(['Sex'], as_index=False).mean().sort_values(by='Survived', ascending=False)"
   ]
  },
  {
   "cell_type": "code",
   "execution_count": 36,
   "metadata": {
    "collapsed": true
   },
   "outputs": [],
   "source": [
    "# Age"
   ]
  },
  {
   "cell_type": "code",
   "execution_count": 37,
   "metadata": {},
   "outputs": [
    {
     "name": "stdout",
     "output_type": "stream",
     "text": [
      "<class 'pandas.core.frame.DataFrame'>\n"
     ]
    },
    {
     "data": {
      "text/html": [
       "<div>\n",
       "<style>\n",
       "    .dataframe thead tr:only-child th {\n",
       "        text-align: right;\n",
       "    }\n",
       "\n",
       "    .dataframe thead th {\n",
       "        text-align: left;\n",
       "    }\n",
       "\n",
       "    .dataframe tbody tr th {\n",
       "        vertical-align: top;\n",
       "    }\n",
       "</style>\n",
       "<table border=\"1\" class=\"dataframe\">\n",
       "  <thead>\n",
       "    <tr style=\"text-align: right;\">\n",
       "      <th></th>\n",
       "      <th>Title</th>\n",
       "      <th>Age</th>\n",
       "    </tr>\n",
       "  </thead>\n",
       "  <tbody>\n",
       "    <tr>\n",
       "      <th>0</th>\n",
       "      <td>1.0</td>\n",
       "      <td>4.574167</td>\n",
       "    </tr>\n",
       "    <tr>\n",
       "      <th>1</th>\n",
       "      <td>2.0</td>\n",
       "      <td>21.845638</td>\n",
       "    </tr>\n",
       "    <tr>\n",
       "      <th>2</th>\n",
       "      <td>3.0</td>\n",
       "      <td>35.788991</td>\n",
       "    </tr>\n",
       "    <tr>\n",
       "      <th>3</th>\n",
       "      <td>4.0</td>\n",
       "      <td>32.368090</td>\n",
       "    </tr>\n",
       "    <tr>\n",
       "      <th>4</th>\n",
       "      <td>5.0</td>\n",
       "      <td>45.545455</td>\n",
       "    </tr>\n",
       "  </tbody>\n",
       "</table>\n",
       "</div>"
      ],
      "text/plain": [
       "   Title        Age\n",
       "0    1.0   4.574167\n",
       "1    2.0  21.845638\n",
       "2    3.0  35.788991\n",
       "3    4.0  32.368090\n",
       "4    5.0  45.545455"
      ]
     },
     "execution_count": 37,
     "metadata": {},
     "output_type": "execute_result"
    }
   ],
   "source": [
    "_title_age_train = _df_train[['Title', 'Age']].groupby(['Title'], as_index=False).mean().sort_values(by='Title')\n",
    "print(type(_title_age_train))\n",
    "_title_age_train"
   ]
  },
  {
   "cell_type": "code",
   "execution_count": 38,
   "metadata": {},
   "outputs": [
    {
     "name": "stdout",
     "output_type": "stream",
     "text": [
      "<class 'pandas.core.frame.DataFrame'>\n"
     ]
    },
    {
     "data": {
      "text/html": [
       "<div>\n",
       "<style>\n",
       "    .dataframe thead tr:only-child th {\n",
       "        text-align: right;\n",
       "    }\n",
       "\n",
       "    .dataframe thead th {\n",
       "        text-align: left;\n",
       "    }\n",
       "\n",
       "    .dataframe tbody tr th {\n",
       "        vertical-align: top;\n",
       "    }\n",
       "</style>\n",
       "<table border=\"1\" class=\"dataframe\">\n",
       "  <thead>\n",
       "    <tr style=\"text-align: right;\">\n",
       "      <th></th>\n",
       "      <th>Title</th>\n",
       "      <th>Age</th>\n",
       "    </tr>\n",
       "  </thead>\n",
       "  <tbody>\n",
       "    <tr>\n",
       "      <th>0</th>\n",
       "      <td>1.0</td>\n",
       "      <td>7.406471</td>\n",
       "    </tr>\n",
       "    <tr>\n",
       "      <th>1</th>\n",
       "      <td>2.0</td>\n",
       "      <td>21.774844</td>\n",
       "    </tr>\n",
       "    <tr>\n",
       "      <th>2</th>\n",
       "      <td>3.0</td>\n",
       "      <td>38.903226</td>\n",
       "    </tr>\n",
       "    <tr>\n",
       "      <th>3</th>\n",
       "      <td>4.0</td>\n",
       "      <td>32.000000</td>\n",
       "    </tr>\n",
       "    <tr>\n",
       "      <th>4</th>\n",
       "      <td>5.0</td>\n",
       "      <td>43.833333</td>\n",
       "    </tr>\n",
       "  </tbody>\n",
       "</table>\n",
       "</div>"
      ],
      "text/plain": [
       "   Title        Age\n",
       "0    1.0   7.406471\n",
       "1    2.0  21.774844\n",
       "2    3.0  38.903226\n",
       "3    4.0  32.000000\n",
       "4    5.0  43.833333"
      ]
     },
     "execution_count": 38,
     "metadata": {},
     "output_type": "execute_result"
    }
   ],
   "source": [
    "_title_age_test = _df_test[['Title', 'Age']].groupby(['Title'], as_index=False).mean().sort_values(by='Title')\n",
    "print(type(_title_age_test))\n",
    "_title_age_test"
   ]
  },
  {
   "cell_type": "code",
   "execution_count": 39,
   "metadata": {
    "collapsed": true
   },
   "outputs": [],
   "source": [
    "_df_train_age_filledna =_df_train.set_index('Title').Age.fillna(_title_age_train.set_index('Title').Age).reset_index()\n",
    "_df_train['Age'] = _df_train_age_filledna['Age'].astype(int)"
   ]
  },
  {
   "cell_type": "code",
   "execution_count": 40,
   "metadata": {},
   "outputs": [
    {
     "data": {
      "text/html": [
       "<div>\n",
       "<style>\n",
       "    .dataframe thead tr:only-child th {\n",
       "        text-align: right;\n",
       "    }\n",
       "\n",
       "    .dataframe thead th {\n",
       "        text-align: left;\n",
       "    }\n",
       "\n",
       "    .dataframe tbody tr th {\n",
       "        vertical-align: top;\n",
       "    }\n",
       "</style>\n",
       "<table border=\"1\" class=\"dataframe\">\n",
       "  <thead>\n",
       "    <tr style=\"text-align: right;\">\n",
       "      <th></th>\n",
       "      <th>Survived</th>\n",
       "      <th>Pclass</th>\n",
       "      <th>Sex</th>\n",
       "      <th>Age</th>\n",
       "      <th>SibSp</th>\n",
       "      <th>Parch</th>\n",
       "      <th>Ticket</th>\n",
       "      <th>Fare</th>\n",
       "      <th>Cabin</th>\n",
       "      <th>Embarked</th>\n",
       "      <th>Title</th>\n",
       "    </tr>\n",
       "  </thead>\n",
       "  <tbody>\n",
       "    <tr>\n",
       "      <th>0</th>\n",
       "      <td>0</td>\n",
       "      <td>3</td>\n",
       "      <td>0</td>\n",
       "      <td>22</td>\n",
       "      <td>1</td>\n",
       "      <td>0</td>\n",
       "      <td>A/5 21171</td>\n",
       "      <td>7.2500</td>\n",
       "      <td>NaN</td>\n",
       "      <td>S</td>\n",
       "      <td>4.0</td>\n",
       "    </tr>\n",
       "    <tr>\n",
       "      <th>1</th>\n",
       "      <td>1</td>\n",
       "      <td>1</td>\n",
       "      <td>1</td>\n",
       "      <td>38</td>\n",
       "      <td>1</td>\n",
       "      <td>0</td>\n",
       "      <td>PC 17599</td>\n",
       "      <td>71.2833</td>\n",
       "      <td>C85</td>\n",
       "      <td>C</td>\n",
       "      <td>3.0</td>\n",
       "    </tr>\n",
       "    <tr>\n",
       "      <th>2</th>\n",
       "      <td>1</td>\n",
       "      <td>3</td>\n",
       "      <td>1</td>\n",
       "      <td>26</td>\n",
       "      <td>0</td>\n",
       "      <td>0</td>\n",
       "      <td>STON/O2. 3101282</td>\n",
       "      <td>7.9250</td>\n",
       "      <td>NaN</td>\n",
       "      <td>S</td>\n",
       "      <td>2.0</td>\n",
       "    </tr>\n",
       "    <tr>\n",
       "      <th>3</th>\n",
       "      <td>1</td>\n",
       "      <td>1</td>\n",
       "      <td>1</td>\n",
       "      <td>35</td>\n",
       "      <td>1</td>\n",
       "      <td>0</td>\n",
       "      <td>113803</td>\n",
       "      <td>53.1000</td>\n",
       "      <td>C123</td>\n",
       "      <td>S</td>\n",
       "      <td>3.0</td>\n",
       "    </tr>\n",
       "    <tr>\n",
       "      <th>4</th>\n",
       "      <td>0</td>\n",
       "      <td>3</td>\n",
       "      <td>0</td>\n",
       "      <td>35</td>\n",
       "      <td>0</td>\n",
       "      <td>0</td>\n",
       "      <td>373450</td>\n",
       "      <td>8.0500</td>\n",
       "      <td>NaN</td>\n",
       "      <td>S</td>\n",
       "      <td>4.0</td>\n",
       "    </tr>\n",
       "    <tr>\n",
       "      <th>5</th>\n",
       "      <td>0</td>\n",
       "      <td>3</td>\n",
       "      <td>0</td>\n",
       "      <td>32</td>\n",
       "      <td>0</td>\n",
       "      <td>0</td>\n",
       "      <td>330877</td>\n",
       "      <td>8.4583</td>\n",
       "      <td>NaN</td>\n",
       "      <td>Q</td>\n",
       "      <td>4.0</td>\n",
       "    </tr>\n",
       "    <tr>\n",
       "      <th>6</th>\n",
       "      <td>0</td>\n",
       "      <td>1</td>\n",
       "      <td>0</td>\n",
       "      <td>54</td>\n",
       "      <td>0</td>\n",
       "      <td>0</td>\n",
       "      <td>17463</td>\n",
       "      <td>51.8625</td>\n",
       "      <td>E46</td>\n",
       "      <td>S</td>\n",
       "      <td>4.0</td>\n",
       "    </tr>\n",
       "    <tr>\n",
       "      <th>7</th>\n",
       "      <td>0</td>\n",
       "      <td>3</td>\n",
       "      <td>0</td>\n",
       "      <td>2</td>\n",
       "      <td>3</td>\n",
       "      <td>1</td>\n",
       "      <td>349909</td>\n",
       "      <td>21.0750</td>\n",
       "      <td>NaN</td>\n",
       "      <td>S</td>\n",
       "      <td>1.0</td>\n",
       "    </tr>\n",
       "    <tr>\n",
       "      <th>8</th>\n",
       "      <td>1</td>\n",
       "      <td>3</td>\n",
       "      <td>1</td>\n",
       "      <td>27</td>\n",
       "      <td>0</td>\n",
       "      <td>2</td>\n",
       "      <td>347742</td>\n",
       "      <td>11.1333</td>\n",
       "      <td>NaN</td>\n",
       "      <td>S</td>\n",
       "      <td>3.0</td>\n",
       "    </tr>\n",
       "    <tr>\n",
       "      <th>9</th>\n",
       "      <td>1</td>\n",
       "      <td>2</td>\n",
       "      <td>1</td>\n",
       "      <td>14</td>\n",
       "      <td>1</td>\n",
       "      <td>0</td>\n",
       "      <td>237736</td>\n",
       "      <td>30.0708</td>\n",
       "      <td>NaN</td>\n",
       "      <td>C</td>\n",
       "      <td>3.0</td>\n",
       "    </tr>\n",
       "  </tbody>\n",
       "</table>\n",
       "</div>"
      ],
      "text/plain": [
       "   Survived  Pclass  Sex  Age  SibSp  Parch            Ticket     Fare Cabin  \\\n",
       "0         0       3    0   22      1      0         A/5 21171   7.2500   NaN   \n",
       "1         1       1    1   38      1      0          PC 17599  71.2833   C85   \n",
       "2         1       3    1   26      0      0  STON/O2. 3101282   7.9250   NaN   \n",
       "3         1       1    1   35      1      0            113803  53.1000  C123   \n",
       "4         0       3    0   35      0      0            373450   8.0500   NaN   \n",
       "5         0       3    0   32      0      0            330877   8.4583   NaN   \n",
       "6         0       1    0   54      0      0             17463  51.8625   E46   \n",
       "7         0       3    0    2      3      1            349909  21.0750   NaN   \n",
       "8         1       3    1   27      0      2            347742  11.1333   NaN   \n",
       "9         1       2    1   14      1      0            237736  30.0708   NaN   \n",
       "\n",
       "  Embarked  Title  \n",
       "0        S    4.0  \n",
       "1        C    3.0  \n",
       "2        S    2.0  \n",
       "3        S    3.0  \n",
       "4        S    4.0  \n",
       "5        Q    4.0  \n",
       "6        S    4.0  \n",
       "7        S    1.0  \n",
       "8        S    3.0  \n",
       "9        C    3.0  "
      ]
     },
     "execution_count": 40,
     "metadata": {},
     "output_type": "execute_result"
    }
   ],
   "source": [
    "_df_train.head(10)"
   ]
  },
  {
   "cell_type": "code",
   "execution_count": 41,
   "metadata": {
    "collapsed": true
   },
   "outputs": [],
   "source": [
    "_df_test_age_filledna =_df_test.set_index('Title').Age.fillna(_title_age_test.set_index('Title').Age).reset_index()\n",
    "_df_test['Age'] = _df_test_age_filledna['Age'].astype(int)"
   ]
  },
  {
   "cell_type": "code",
   "execution_count": 42,
   "metadata": {},
   "outputs": [
    {
     "data": {
      "text/html": [
       "<div>\n",
       "<style>\n",
       "    .dataframe thead tr:only-child th {\n",
       "        text-align: right;\n",
       "    }\n",
       "\n",
       "    .dataframe thead th {\n",
       "        text-align: left;\n",
       "    }\n",
       "\n",
       "    .dataframe tbody tr th {\n",
       "        vertical-align: top;\n",
       "    }\n",
       "</style>\n",
       "<table border=\"1\" class=\"dataframe\">\n",
       "  <thead>\n",
       "    <tr style=\"text-align: right;\">\n",
       "      <th></th>\n",
       "      <th>PassengerId</th>\n",
       "      <th>Pclass</th>\n",
       "      <th>Sex</th>\n",
       "      <th>Age</th>\n",
       "      <th>SibSp</th>\n",
       "      <th>Parch</th>\n",
       "      <th>Ticket</th>\n",
       "      <th>Fare</th>\n",
       "      <th>Cabin</th>\n",
       "      <th>Embarked</th>\n",
       "      <th>Title</th>\n",
       "    </tr>\n",
       "  </thead>\n",
       "  <tbody>\n",
       "    <tr>\n",
       "      <th>0</th>\n",
       "      <td>892</td>\n",
       "      <td>3</td>\n",
       "      <td>0</td>\n",
       "      <td>34</td>\n",
       "      <td>0</td>\n",
       "      <td>0</td>\n",
       "      <td>330911</td>\n",
       "      <td>7.8292</td>\n",
       "      <td>NaN</td>\n",
       "      <td>Q</td>\n",
       "      <td>4.0</td>\n",
       "    </tr>\n",
       "    <tr>\n",
       "      <th>1</th>\n",
       "      <td>893</td>\n",
       "      <td>3</td>\n",
       "      <td>1</td>\n",
       "      <td>47</td>\n",
       "      <td>1</td>\n",
       "      <td>0</td>\n",
       "      <td>363272</td>\n",
       "      <td>7.0000</td>\n",
       "      <td>NaN</td>\n",
       "      <td>S</td>\n",
       "      <td>3.0</td>\n",
       "    </tr>\n",
       "    <tr>\n",
       "      <th>2</th>\n",
       "      <td>894</td>\n",
       "      <td>2</td>\n",
       "      <td>0</td>\n",
       "      <td>62</td>\n",
       "      <td>0</td>\n",
       "      <td>0</td>\n",
       "      <td>240276</td>\n",
       "      <td>9.6875</td>\n",
       "      <td>NaN</td>\n",
       "      <td>Q</td>\n",
       "      <td>4.0</td>\n",
       "    </tr>\n",
       "    <tr>\n",
       "      <th>3</th>\n",
       "      <td>895</td>\n",
       "      <td>3</td>\n",
       "      <td>0</td>\n",
       "      <td>27</td>\n",
       "      <td>0</td>\n",
       "      <td>0</td>\n",
       "      <td>315154</td>\n",
       "      <td>8.6625</td>\n",
       "      <td>NaN</td>\n",
       "      <td>S</td>\n",
       "      <td>4.0</td>\n",
       "    </tr>\n",
       "    <tr>\n",
       "      <th>4</th>\n",
       "      <td>896</td>\n",
       "      <td>3</td>\n",
       "      <td>1</td>\n",
       "      <td>22</td>\n",
       "      <td>1</td>\n",
       "      <td>1</td>\n",
       "      <td>3101298</td>\n",
       "      <td>12.2875</td>\n",
       "      <td>NaN</td>\n",
       "      <td>S</td>\n",
       "      <td>3.0</td>\n",
       "    </tr>\n",
       "    <tr>\n",
       "      <th>5</th>\n",
       "      <td>897</td>\n",
       "      <td>3</td>\n",
       "      <td>0</td>\n",
       "      <td>14</td>\n",
       "      <td>0</td>\n",
       "      <td>0</td>\n",
       "      <td>7538</td>\n",
       "      <td>9.2250</td>\n",
       "      <td>NaN</td>\n",
       "      <td>S</td>\n",
       "      <td>4.0</td>\n",
       "    </tr>\n",
       "    <tr>\n",
       "      <th>6</th>\n",
       "      <td>898</td>\n",
       "      <td>3</td>\n",
       "      <td>1</td>\n",
       "      <td>30</td>\n",
       "      <td>0</td>\n",
       "      <td>0</td>\n",
       "      <td>330972</td>\n",
       "      <td>7.6292</td>\n",
       "      <td>NaN</td>\n",
       "      <td>Q</td>\n",
       "      <td>2.0</td>\n",
       "    </tr>\n",
       "    <tr>\n",
       "      <th>7</th>\n",
       "      <td>899</td>\n",
       "      <td>2</td>\n",
       "      <td>0</td>\n",
       "      <td>26</td>\n",
       "      <td>1</td>\n",
       "      <td>1</td>\n",
       "      <td>248738</td>\n",
       "      <td>29.0000</td>\n",
       "      <td>NaN</td>\n",
       "      <td>S</td>\n",
       "      <td>4.0</td>\n",
       "    </tr>\n",
       "    <tr>\n",
       "      <th>8</th>\n",
       "      <td>900</td>\n",
       "      <td>3</td>\n",
       "      <td>1</td>\n",
       "      <td>18</td>\n",
       "      <td>0</td>\n",
       "      <td>0</td>\n",
       "      <td>2657</td>\n",
       "      <td>7.2292</td>\n",
       "      <td>NaN</td>\n",
       "      <td>C</td>\n",
       "      <td>3.0</td>\n",
       "    </tr>\n",
       "    <tr>\n",
       "      <th>9</th>\n",
       "      <td>901</td>\n",
       "      <td>3</td>\n",
       "      <td>0</td>\n",
       "      <td>21</td>\n",
       "      <td>2</td>\n",
       "      <td>0</td>\n",
       "      <td>A/4 48871</td>\n",
       "      <td>24.1500</td>\n",
       "      <td>NaN</td>\n",
       "      <td>S</td>\n",
       "      <td>4.0</td>\n",
       "    </tr>\n",
       "    <tr>\n",
       "      <th>10</th>\n",
       "      <td>902</td>\n",
       "      <td>3</td>\n",
       "      <td>0</td>\n",
       "      <td>32</td>\n",
       "      <td>0</td>\n",
       "      <td>0</td>\n",
       "      <td>349220</td>\n",
       "      <td>7.8958</td>\n",
       "      <td>NaN</td>\n",
       "      <td>S</td>\n",
       "      <td>4.0</td>\n",
       "    </tr>\n",
       "    <tr>\n",
       "      <th>11</th>\n",
       "      <td>903</td>\n",
       "      <td>1</td>\n",
       "      <td>0</td>\n",
       "      <td>46</td>\n",
       "      <td>0</td>\n",
       "      <td>0</td>\n",
       "      <td>694</td>\n",
       "      <td>26.0000</td>\n",
       "      <td>NaN</td>\n",
       "      <td>S</td>\n",
       "      <td>4.0</td>\n",
       "    </tr>\n",
       "  </tbody>\n",
       "</table>\n",
       "</div>"
      ],
      "text/plain": [
       "    PassengerId  Pclass  Sex  Age  SibSp  Parch     Ticket     Fare Cabin  \\\n",
       "0           892       3    0   34      0      0     330911   7.8292   NaN   \n",
       "1           893       3    1   47      1      0     363272   7.0000   NaN   \n",
       "2           894       2    0   62      0      0     240276   9.6875   NaN   \n",
       "3           895       3    0   27      0      0     315154   8.6625   NaN   \n",
       "4           896       3    1   22      1      1    3101298  12.2875   NaN   \n",
       "5           897       3    0   14      0      0       7538   9.2250   NaN   \n",
       "6           898       3    1   30      0      0     330972   7.6292   NaN   \n",
       "7           899       2    0   26      1      1     248738  29.0000   NaN   \n",
       "8           900       3    1   18      0      0       2657   7.2292   NaN   \n",
       "9           901       3    0   21      2      0  A/4 48871  24.1500   NaN   \n",
       "10          902       3    0   32      0      0     349220   7.8958   NaN   \n",
       "11          903       1    0   46      0      0        694  26.0000   NaN   \n",
       "\n",
       "   Embarked  Title  \n",
       "0         Q    4.0  \n",
       "1         S    3.0  \n",
       "2         Q    4.0  \n",
       "3         S    4.0  \n",
       "4         S    3.0  \n",
       "5         S    4.0  \n",
       "6         Q    2.0  \n",
       "7         S    4.0  \n",
       "8         C    3.0  \n",
       "9         S    4.0  \n",
       "10        S    4.0  \n",
       "11        S    4.0  "
      ]
     },
     "execution_count": 42,
     "metadata": {},
     "output_type": "execute_result"
    }
   ],
   "source": [
    "_df_test.head(12)"
   ]
  },
  {
   "cell_type": "code",
   "execution_count": 43,
   "metadata": {},
   "outputs": [
    {
     "name": "stdout",
     "output_type": "stream",
     "text": [
      "False\n",
      "False\n"
     ]
    }
   ],
   "source": [
    "print(_df_train['Age'].isnull().any())\n",
    "print(_df_test['Age'].isnull().any())"
   ]
  },
  {
   "cell_type": "code",
   "execution_count": 44,
   "metadata": {
    "collapsed": true
   },
   "outputs": [],
   "source": [
    "_df_train['AgeBand'] = pandas.cut(_df_train['Age'],5)"
   ]
  },
  {
   "cell_type": "code",
   "execution_count": 45,
   "metadata": {},
   "outputs": [
    {
     "data": {
      "text/html": [
       "<div>\n",
       "<style>\n",
       "    .dataframe thead tr:only-child th {\n",
       "        text-align: right;\n",
       "    }\n",
       "\n",
       "    .dataframe thead th {\n",
       "        text-align: left;\n",
       "    }\n",
       "\n",
       "    .dataframe tbody tr th {\n",
       "        vertical-align: top;\n",
       "    }\n",
       "</style>\n",
       "<table border=\"1\" class=\"dataframe\">\n",
       "  <thead>\n",
       "    <tr style=\"text-align: right;\">\n",
       "      <th></th>\n",
       "      <th>AgeBand</th>\n",
       "      <th>Survived</th>\n",
       "    </tr>\n",
       "  </thead>\n",
       "  <tbody>\n",
       "    <tr>\n",
       "      <th>0</th>\n",
       "      <td>(-0.08, 16.0]</td>\n",
       "      <td>0.548077</td>\n",
       "    </tr>\n",
       "    <tr>\n",
       "      <th>1</th>\n",
       "      <td>(16.0, 32.0]</td>\n",
       "      <td>0.328032</td>\n",
       "    </tr>\n",
       "    <tr>\n",
       "      <th>2</th>\n",
       "      <td>(32.0, 48.0]</td>\n",
       "      <td>0.436275</td>\n",
       "    </tr>\n",
       "    <tr>\n",
       "      <th>3</th>\n",
       "      <td>(48.0, 64.0]</td>\n",
       "      <td>0.434783</td>\n",
       "    </tr>\n",
       "    <tr>\n",
       "      <th>4</th>\n",
       "      <td>(64.0, 80.0]</td>\n",
       "      <td>0.090909</td>\n",
       "    </tr>\n",
       "  </tbody>\n",
       "</table>\n",
       "</div>"
      ],
      "text/plain": [
       "         AgeBand  Survived\n",
       "0  (-0.08, 16.0]  0.548077\n",
       "1   (16.0, 32.0]  0.328032\n",
       "2   (32.0, 48.0]  0.436275\n",
       "3   (48.0, 64.0]  0.434783\n",
       "4   (64.0, 80.0]  0.090909"
      ]
     },
     "execution_count": 45,
     "metadata": {},
     "output_type": "execute_result"
    }
   ],
   "source": [
    "_df_train[['AgeBand', 'Survived']].groupby(['AgeBand'], as_index=False).mean().sort_values(by='AgeBand', ascending=True)"
   ]
  },
  {
   "cell_type": "code",
   "execution_count": 46,
   "metadata": {
    "collapsed": true
   },
   "outputs": [],
   "source": [
    "_df_test['AgeBand'] = pandas.cut(_df_test['Age'],5)"
   ]
  },
  {
   "cell_type": "code",
   "execution_count": 47,
   "metadata": {},
   "outputs": [
    {
     "data": {
      "text/plain": [
       "[(30.4, 45.6], (45.6, 60.8], (60.8, 76.0], (15.2, 30.4], (-0.076, 15.2]]\n",
       "Categories (5, interval[float64]): [(-0.076, 15.2] < (15.2, 30.4] < (30.4, 45.6] < (45.6, 60.8] < (60.8, 76.0]]"
      ]
     },
     "execution_count": 47,
     "metadata": {},
     "output_type": "execute_result"
    }
   ],
   "source": [
    "_df_test['AgeBand'].unique()"
   ]
  },
  {
   "cell_type": "code",
   "execution_count": 48,
   "metadata": {
    "collapsed": true
   },
   "outputs": [],
   "source": [
    "_df_train.loc[ _df_train['Age'] <= 16, 'Age'] = 0\n",
    "_df_train.loc[(_df_train['Age'] > 16) & (_df_train['Age'] <= 32), 'Age'] = 1\n",
    "_df_train.loc[(_df_train['Age'] > 32) & (_df_train['Age'] <= 48), 'Age'] = 2\n",
    "_df_train.loc[(_df_train['Age'] > 48) & (_df_train['Age'] <= 64), 'Age'] = 3\n",
    "_df_train.loc[ _df_train['Age'] > 64, 'Age'] = 4"
   ]
  },
  {
   "cell_type": "code",
   "execution_count": 49,
   "metadata": {},
   "outputs": [
    {
     "data": {
      "text/html": [
       "<div>\n",
       "<style>\n",
       "    .dataframe thead tr:only-child th {\n",
       "        text-align: right;\n",
       "    }\n",
       "\n",
       "    .dataframe thead th {\n",
       "        text-align: left;\n",
       "    }\n",
       "\n",
       "    .dataframe tbody tr th {\n",
       "        vertical-align: top;\n",
       "    }\n",
       "</style>\n",
       "<table border=\"1\" class=\"dataframe\">\n",
       "  <thead>\n",
       "    <tr style=\"text-align: right;\">\n",
       "      <th></th>\n",
       "      <th>Survived</th>\n",
       "      <th>Pclass</th>\n",
       "      <th>Sex</th>\n",
       "      <th>Age</th>\n",
       "      <th>SibSp</th>\n",
       "      <th>Parch</th>\n",
       "      <th>Ticket</th>\n",
       "      <th>Fare</th>\n",
       "      <th>Cabin</th>\n",
       "      <th>Embarked</th>\n",
       "      <th>Title</th>\n",
       "      <th>AgeBand</th>\n",
       "    </tr>\n",
       "  </thead>\n",
       "  <tbody>\n",
       "    <tr>\n",
       "      <th>0</th>\n",
       "      <td>0</td>\n",
       "      <td>3</td>\n",
       "      <td>0</td>\n",
       "      <td>1</td>\n",
       "      <td>1</td>\n",
       "      <td>0</td>\n",
       "      <td>A/5 21171</td>\n",
       "      <td>7.2500</td>\n",
       "      <td>NaN</td>\n",
       "      <td>S</td>\n",
       "      <td>4.0</td>\n",
       "      <td>(16.0, 32.0]</td>\n",
       "    </tr>\n",
       "    <tr>\n",
       "      <th>1</th>\n",
       "      <td>1</td>\n",
       "      <td>1</td>\n",
       "      <td>1</td>\n",
       "      <td>2</td>\n",
       "      <td>1</td>\n",
       "      <td>0</td>\n",
       "      <td>PC 17599</td>\n",
       "      <td>71.2833</td>\n",
       "      <td>C85</td>\n",
       "      <td>C</td>\n",
       "      <td>3.0</td>\n",
       "      <td>(32.0, 48.0]</td>\n",
       "    </tr>\n",
       "    <tr>\n",
       "      <th>2</th>\n",
       "      <td>1</td>\n",
       "      <td>3</td>\n",
       "      <td>1</td>\n",
       "      <td>1</td>\n",
       "      <td>0</td>\n",
       "      <td>0</td>\n",
       "      <td>STON/O2. 3101282</td>\n",
       "      <td>7.9250</td>\n",
       "      <td>NaN</td>\n",
       "      <td>S</td>\n",
       "      <td>2.0</td>\n",
       "      <td>(16.0, 32.0]</td>\n",
       "    </tr>\n",
       "    <tr>\n",
       "      <th>3</th>\n",
       "      <td>1</td>\n",
       "      <td>1</td>\n",
       "      <td>1</td>\n",
       "      <td>2</td>\n",
       "      <td>1</td>\n",
       "      <td>0</td>\n",
       "      <td>113803</td>\n",
       "      <td>53.1000</td>\n",
       "      <td>C123</td>\n",
       "      <td>S</td>\n",
       "      <td>3.0</td>\n",
       "      <td>(32.0, 48.0]</td>\n",
       "    </tr>\n",
       "    <tr>\n",
       "      <th>4</th>\n",
       "      <td>0</td>\n",
       "      <td>3</td>\n",
       "      <td>0</td>\n",
       "      <td>2</td>\n",
       "      <td>0</td>\n",
       "      <td>0</td>\n",
       "      <td>373450</td>\n",
       "      <td>8.0500</td>\n",
       "      <td>NaN</td>\n",
       "      <td>S</td>\n",
       "      <td>4.0</td>\n",
       "      <td>(32.0, 48.0]</td>\n",
       "    </tr>\n",
       "    <tr>\n",
       "      <th>5</th>\n",
       "      <td>0</td>\n",
       "      <td>3</td>\n",
       "      <td>0</td>\n",
       "      <td>1</td>\n",
       "      <td>0</td>\n",
       "      <td>0</td>\n",
       "      <td>330877</td>\n",
       "      <td>8.4583</td>\n",
       "      <td>NaN</td>\n",
       "      <td>Q</td>\n",
       "      <td>4.0</td>\n",
       "      <td>(16.0, 32.0]</td>\n",
       "    </tr>\n",
       "    <tr>\n",
       "      <th>6</th>\n",
       "      <td>0</td>\n",
       "      <td>1</td>\n",
       "      <td>0</td>\n",
       "      <td>3</td>\n",
       "      <td>0</td>\n",
       "      <td>0</td>\n",
       "      <td>17463</td>\n",
       "      <td>51.8625</td>\n",
       "      <td>E46</td>\n",
       "      <td>S</td>\n",
       "      <td>4.0</td>\n",
       "      <td>(48.0, 64.0]</td>\n",
       "    </tr>\n",
       "    <tr>\n",
       "      <th>7</th>\n",
       "      <td>0</td>\n",
       "      <td>3</td>\n",
       "      <td>0</td>\n",
       "      <td>0</td>\n",
       "      <td>3</td>\n",
       "      <td>1</td>\n",
       "      <td>349909</td>\n",
       "      <td>21.0750</td>\n",
       "      <td>NaN</td>\n",
       "      <td>S</td>\n",
       "      <td>1.0</td>\n",
       "      <td>(-0.08, 16.0]</td>\n",
       "    </tr>\n",
       "    <tr>\n",
       "      <th>8</th>\n",
       "      <td>1</td>\n",
       "      <td>3</td>\n",
       "      <td>1</td>\n",
       "      <td>1</td>\n",
       "      <td>0</td>\n",
       "      <td>2</td>\n",
       "      <td>347742</td>\n",
       "      <td>11.1333</td>\n",
       "      <td>NaN</td>\n",
       "      <td>S</td>\n",
       "      <td>3.0</td>\n",
       "      <td>(16.0, 32.0]</td>\n",
       "    </tr>\n",
       "    <tr>\n",
       "      <th>9</th>\n",
       "      <td>1</td>\n",
       "      <td>2</td>\n",
       "      <td>1</td>\n",
       "      <td>0</td>\n",
       "      <td>1</td>\n",
       "      <td>0</td>\n",
       "      <td>237736</td>\n",
       "      <td>30.0708</td>\n",
       "      <td>NaN</td>\n",
       "      <td>C</td>\n",
       "      <td>3.0</td>\n",
       "      <td>(-0.08, 16.0]</td>\n",
       "    </tr>\n",
       "  </tbody>\n",
       "</table>\n",
       "</div>"
      ],
      "text/plain": [
       "   Survived  Pclass  Sex  Age  SibSp  Parch            Ticket     Fare Cabin  \\\n",
       "0         0       3    0    1      1      0         A/5 21171   7.2500   NaN   \n",
       "1         1       1    1    2      1      0          PC 17599  71.2833   C85   \n",
       "2         1       3    1    1      0      0  STON/O2. 3101282   7.9250   NaN   \n",
       "3         1       1    1    2      1      0            113803  53.1000  C123   \n",
       "4         0       3    0    2      0      0            373450   8.0500   NaN   \n",
       "5         0       3    0    1      0      0            330877   8.4583   NaN   \n",
       "6         0       1    0    3      0      0             17463  51.8625   E46   \n",
       "7         0       3    0    0      3      1            349909  21.0750   NaN   \n",
       "8         1       3    1    1      0      2            347742  11.1333   NaN   \n",
       "9         1       2    1    0      1      0            237736  30.0708   NaN   \n",
       "\n",
       "  Embarked  Title        AgeBand  \n",
       "0        S    4.0   (16.0, 32.0]  \n",
       "1        C    3.0   (32.0, 48.0]  \n",
       "2        S    2.0   (16.0, 32.0]  \n",
       "3        S    3.0   (32.0, 48.0]  \n",
       "4        S    4.0   (32.0, 48.0]  \n",
       "5        Q    4.0   (16.0, 32.0]  \n",
       "6        S    4.0   (48.0, 64.0]  \n",
       "7        S    1.0  (-0.08, 16.0]  \n",
       "8        S    3.0   (16.0, 32.0]  \n",
       "9        C    3.0  (-0.08, 16.0]  "
      ]
     },
     "execution_count": 49,
     "metadata": {},
     "output_type": "execute_result"
    }
   ],
   "source": [
    "_df_train.head(10)"
   ]
  },
  {
   "cell_type": "code",
   "execution_count": 50,
   "metadata": {
    "collapsed": true
   },
   "outputs": [],
   "source": [
    "_df_test.loc[ _df_test['Age'] <= 15, 'Age'] = 0\n",
    "_df_test.loc[(_df_test['Age'] > 15) & (_df_test['Age'] <= 30), 'Age'] = 1\n",
    "_df_test.loc[(_df_test['Age'] > 30) & (_df_test['Age'] <= 45), 'Age'] = 2\n",
    "_df_test.loc[(_df_test['Age'] > 45) & (_df_test['Age'] <= 60), 'Age'] = 3\n",
    "_df_test.loc[ _df_test['Age'] > 60, 'Age'] = 4"
   ]
  },
  {
   "cell_type": "code",
   "execution_count": 51,
   "metadata": {},
   "outputs": [
    {
     "data": {
      "text/html": [
       "<div>\n",
       "<style>\n",
       "    .dataframe thead tr:only-child th {\n",
       "        text-align: right;\n",
       "    }\n",
       "\n",
       "    .dataframe thead th {\n",
       "        text-align: left;\n",
       "    }\n",
       "\n",
       "    .dataframe tbody tr th {\n",
       "        vertical-align: top;\n",
       "    }\n",
       "</style>\n",
       "<table border=\"1\" class=\"dataframe\">\n",
       "  <thead>\n",
       "    <tr style=\"text-align: right;\">\n",
       "      <th></th>\n",
       "      <th>PassengerId</th>\n",
       "      <th>Pclass</th>\n",
       "      <th>Sex</th>\n",
       "      <th>Age</th>\n",
       "      <th>SibSp</th>\n",
       "      <th>Parch</th>\n",
       "      <th>Ticket</th>\n",
       "      <th>Fare</th>\n",
       "      <th>Cabin</th>\n",
       "      <th>Embarked</th>\n",
       "      <th>Title</th>\n",
       "      <th>AgeBand</th>\n",
       "    </tr>\n",
       "  </thead>\n",
       "  <tbody>\n",
       "    <tr>\n",
       "      <th>0</th>\n",
       "      <td>892</td>\n",
       "      <td>3</td>\n",
       "      <td>0</td>\n",
       "      <td>2</td>\n",
       "      <td>0</td>\n",
       "      <td>0</td>\n",
       "      <td>330911</td>\n",
       "      <td>7.8292</td>\n",
       "      <td>NaN</td>\n",
       "      <td>Q</td>\n",
       "      <td>4.0</td>\n",
       "      <td>(30.4, 45.6]</td>\n",
       "    </tr>\n",
       "    <tr>\n",
       "      <th>1</th>\n",
       "      <td>893</td>\n",
       "      <td>3</td>\n",
       "      <td>1</td>\n",
       "      <td>3</td>\n",
       "      <td>1</td>\n",
       "      <td>0</td>\n",
       "      <td>363272</td>\n",
       "      <td>7.0000</td>\n",
       "      <td>NaN</td>\n",
       "      <td>S</td>\n",
       "      <td>3.0</td>\n",
       "      <td>(45.6, 60.8]</td>\n",
       "    </tr>\n",
       "    <tr>\n",
       "      <th>2</th>\n",
       "      <td>894</td>\n",
       "      <td>2</td>\n",
       "      <td>0</td>\n",
       "      <td>4</td>\n",
       "      <td>0</td>\n",
       "      <td>0</td>\n",
       "      <td>240276</td>\n",
       "      <td>9.6875</td>\n",
       "      <td>NaN</td>\n",
       "      <td>Q</td>\n",
       "      <td>4.0</td>\n",
       "      <td>(60.8, 76.0]</td>\n",
       "    </tr>\n",
       "    <tr>\n",
       "      <th>3</th>\n",
       "      <td>895</td>\n",
       "      <td>3</td>\n",
       "      <td>0</td>\n",
       "      <td>1</td>\n",
       "      <td>0</td>\n",
       "      <td>0</td>\n",
       "      <td>315154</td>\n",
       "      <td>8.6625</td>\n",
       "      <td>NaN</td>\n",
       "      <td>S</td>\n",
       "      <td>4.0</td>\n",
       "      <td>(15.2, 30.4]</td>\n",
       "    </tr>\n",
       "    <tr>\n",
       "      <th>4</th>\n",
       "      <td>896</td>\n",
       "      <td>3</td>\n",
       "      <td>1</td>\n",
       "      <td>1</td>\n",
       "      <td>1</td>\n",
       "      <td>1</td>\n",
       "      <td>3101298</td>\n",
       "      <td>12.2875</td>\n",
       "      <td>NaN</td>\n",
       "      <td>S</td>\n",
       "      <td>3.0</td>\n",
       "      <td>(15.2, 30.4]</td>\n",
       "    </tr>\n",
       "    <tr>\n",
       "      <th>5</th>\n",
       "      <td>897</td>\n",
       "      <td>3</td>\n",
       "      <td>0</td>\n",
       "      <td>0</td>\n",
       "      <td>0</td>\n",
       "      <td>0</td>\n",
       "      <td>7538</td>\n",
       "      <td>9.2250</td>\n",
       "      <td>NaN</td>\n",
       "      <td>S</td>\n",
       "      <td>4.0</td>\n",
       "      <td>(-0.076, 15.2]</td>\n",
       "    </tr>\n",
       "    <tr>\n",
       "      <th>6</th>\n",
       "      <td>898</td>\n",
       "      <td>3</td>\n",
       "      <td>1</td>\n",
       "      <td>1</td>\n",
       "      <td>0</td>\n",
       "      <td>0</td>\n",
       "      <td>330972</td>\n",
       "      <td>7.6292</td>\n",
       "      <td>NaN</td>\n",
       "      <td>Q</td>\n",
       "      <td>2.0</td>\n",
       "      <td>(15.2, 30.4]</td>\n",
       "    </tr>\n",
       "    <tr>\n",
       "      <th>7</th>\n",
       "      <td>899</td>\n",
       "      <td>2</td>\n",
       "      <td>0</td>\n",
       "      <td>1</td>\n",
       "      <td>1</td>\n",
       "      <td>1</td>\n",
       "      <td>248738</td>\n",
       "      <td>29.0000</td>\n",
       "      <td>NaN</td>\n",
       "      <td>S</td>\n",
       "      <td>4.0</td>\n",
       "      <td>(15.2, 30.4]</td>\n",
       "    </tr>\n",
       "    <tr>\n",
       "      <th>8</th>\n",
       "      <td>900</td>\n",
       "      <td>3</td>\n",
       "      <td>1</td>\n",
       "      <td>1</td>\n",
       "      <td>0</td>\n",
       "      <td>0</td>\n",
       "      <td>2657</td>\n",
       "      <td>7.2292</td>\n",
       "      <td>NaN</td>\n",
       "      <td>C</td>\n",
       "      <td>3.0</td>\n",
       "      <td>(15.2, 30.4]</td>\n",
       "    </tr>\n",
       "    <tr>\n",
       "      <th>9</th>\n",
       "      <td>901</td>\n",
       "      <td>3</td>\n",
       "      <td>0</td>\n",
       "      <td>1</td>\n",
       "      <td>2</td>\n",
       "      <td>0</td>\n",
       "      <td>A/4 48871</td>\n",
       "      <td>24.1500</td>\n",
       "      <td>NaN</td>\n",
       "      <td>S</td>\n",
       "      <td>4.0</td>\n",
       "      <td>(15.2, 30.4]</td>\n",
       "    </tr>\n",
       "    <tr>\n",
       "      <th>10</th>\n",
       "      <td>902</td>\n",
       "      <td>3</td>\n",
       "      <td>0</td>\n",
       "      <td>2</td>\n",
       "      <td>0</td>\n",
       "      <td>0</td>\n",
       "      <td>349220</td>\n",
       "      <td>7.8958</td>\n",
       "      <td>NaN</td>\n",
       "      <td>S</td>\n",
       "      <td>4.0</td>\n",
       "      <td>(30.4, 45.6]</td>\n",
       "    </tr>\n",
       "    <tr>\n",
       "      <th>11</th>\n",
       "      <td>903</td>\n",
       "      <td>1</td>\n",
       "      <td>0</td>\n",
       "      <td>3</td>\n",
       "      <td>0</td>\n",
       "      <td>0</td>\n",
       "      <td>694</td>\n",
       "      <td>26.0000</td>\n",
       "      <td>NaN</td>\n",
       "      <td>S</td>\n",
       "      <td>4.0</td>\n",
       "      <td>(45.6, 60.8]</td>\n",
       "    </tr>\n",
       "  </tbody>\n",
       "</table>\n",
       "</div>"
      ],
      "text/plain": [
       "    PassengerId  Pclass  Sex  Age  SibSp  Parch     Ticket     Fare Cabin  \\\n",
       "0           892       3    0    2      0      0     330911   7.8292   NaN   \n",
       "1           893       3    1    3      1      0     363272   7.0000   NaN   \n",
       "2           894       2    0    4      0      0     240276   9.6875   NaN   \n",
       "3           895       3    0    1      0      0     315154   8.6625   NaN   \n",
       "4           896       3    1    1      1      1    3101298  12.2875   NaN   \n",
       "5           897       3    0    0      0      0       7538   9.2250   NaN   \n",
       "6           898       3    1    1      0      0     330972   7.6292   NaN   \n",
       "7           899       2    0    1      1      1     248738  29.0000   NaN   \n",
       "8           900       3    1    1      0      0       2657   7.2292   NaN   \n",
       "9           901       3    0    1      2      0  A/4 48871  24.1500   NaN   \n",
       "10          902       3    0    2      0      0     349220   7.8958   NaN   \n",
       "11          903       1    0    3      0      0        694  26.0000   NaN   \n",
       "\n",
       "   Embarked  Title         AgeBand  \n",
       "0         Q    4.0    (30.4, 45.6]  \n",
       "1         S    3.0    (45.6, 60.8]  \n",
       "2         Q    4.0    (60.8, 76.0]  \n",
       "3         S    4.0    (15.2, 30.4]  \n",
       "4         S    3.0    (15.2, 30.4]  \n",
       "5         S    4.0  (-0.076, 15.2]  \n",
       "6         Q    2.0    (15.2, 30.4]  \n",
       "7         S    4.0    (15.2, 30.4]  \n",
       "8         C    3.0    (15.2, 30.4]  \n",
       "9         S    4.0    (15.2, 30.4]  \n",
       "10        S    4.0    (30.4, 45.6]  \n",
       "11        S    4.0    (45.6, 60.8]  "
      ]
     },
     "execution_count": 51,
     "metadata": {},
     "output_type": "execute_result"
    }
   ],
   "source": [
    "_df_test.head(12)"
   ]
  },
  {
   "cell_type": "code",
   "execution_count": 52,
   "metadata": {},
   "outputs": [
    {
     "name": "stdout",
     "output_type": "stream",
     "text": [
      "_df_train: (891, 12), _df_test: (418, 12), _df_combine[0]:(891, 12), _df_combine[1]:(418, 12)\n",
      "_df_train: (891, 11), _df_test: (418, 11), _df_combine[0]:(891, 11), _df_combine[1]:(418, 11)\n"
     ]
    }
   ],
   "source": [
    "print_shape()\n",
    "_df_train = _df_train.drop('AgeBand', axis = 1)\n",
    "_df_test = _df_test.drop('AgeBand', axis = 1)\n",
    "_df_combine = [_df_train, _df_test]\n",
    "print_shape()"
   ]
  },
  {
   "cell_type": "code",
   "execution_count": 53,
   "metadata": {},
   "outputs": [
    {
     "name": "stdout",
     "output_type": "stream",
     "text": [
      "Training dataframe feature [Age] has any nulls or missing values: False\n",
      "\n",
      "Test dataframe feature [Age] has any nulls or missing values: False\n",
      "\n",
      "   Age  Survived\n",
      "0    0  0.548077\n",
      "1    1  0.328032\n",
      "2    2  0.436275\n",
      "3    3  0.434783\n",
      "4    4  0.090909\n",
      "\n",
      "\n",
      "   Age  Sex  Survived\n",
      "0    0    0  0.436364\n",
      "1    0    1  0.673469\n",
      "2    1    0  0.156069\n",
      "3    1    1  0.707006\n",
      "4    2    0  0.183333\n",
      "5    2    1  0.797619\n",
      "6    3    0  0.177778\n",
      "7    3    1  0.916667\n",
      "8    4    0  0.090909\n"
     ]
    },
    {
     "data": {
      "image/png": "[encoded data removed]",
      "text/plain": [
       "<matplotlib.figure.Figure at 0x105e628d0>"
      ]
     },
     "metadata": {},
     "output_type": "display_data"
    },
    {
     "data": {
      "image/png": "[encoded data removed]",
      "text/plain": [
       "<matplotlib.figure.Figure at 0x11132b5f8>"
      ]
     },
     "metadata": {},
     "output_type": "display_data"
    }
   ],
   "source": [
    "view_feature('Age')"
   ]
  },
  {
   "cell_type": "code",
   "execution_count": 54,
   "metadata": {
    "collapsed": true
   },
   "outputs": [],
   "source": [
    "# SibSp"
   ]
  },
  {
   "cell_type": "code",
   "execution_count": 55,
   "metadata": {},
   "outputs": [
    {
     "name": "stdout",
     "output_type": "stream",
     "text": [
      "Training dataframe feature [SibSp] has any nulls or missing values: False\n",
      "\n",
      "Test dataframe feature [SibSp] has any nulls or missing values: False\n",
      "\n",
      "   SibSp  Survived\n",
      "0      0  0.345395\n",
      "1      1  0.535885\n",
      "2      2  0.464286\n",
      "3      3  0.250000\n",
      "4      4  0.166667\n",
      "5      5  0.000000\n",
      "6      8  0.000000\n",
      "\n",
      "\n",
      "    SibSp  Sex  Survived\n",
      "0       0    0  0.168203\n",
      "1       0    1  0.787356\n",
      "2       1    0  0.310680\n",
      "3       1    1  0.754717\n",
      "4       2    0  0.200000\n",
      "5       2    1  0.769231\n",
      "6       3    0  0.000000\n",
      "7       3    1  0.363636\n",
      "8       4    0  0.083333\n",
      "9       4    1  0.333333\n",
      "10      5    0  0.000000\n",
      "11      5    1  0.000000\n",
      "12      8    0  0.000000\n",
      "13      8    1  0.000000\n"
     ]
    },
    {
     "data": {
      "image/png": "[encoded data removed]",
      "text/plain": [
       "<matplotlib.figure.Figure at 0x1147d4d30>"
      ]
     },
     "metadata": {},
     "output_type": "display_data"
    },
    {
     "data": {
      "image/png": "[encoded data removed]",
      "text/plain": [
       "<matplotlib.figure.Figure at 0x1112bca20>"
      ]
     },
     "metadata": {},
     "output_type": "display_data"
    }
   ],
   "source": [
    "view_feature('SibSp')"
   ]
  },
  {
   "cell_type": "code",
   "execution_count": 56,
   "metadata": {},
   "outputs": [
    {
     "name": "stdout",
     "output_type": "stream",
     "text": [
      "Training dataframe feature [Parch] has any nulls or missing values: False\n",
      "\n",
      "Test dataframe feature [Parch] has any nulls or missing values: False\n",
      "\n",
      "   Parch  Survived\n",
      "0      0  0.343658\n",
      "1      1  0.550847\n",
      "2      2  0.500000\n",
      "3      3  0.600000\n",
      "4      4  0.000000\n",
      "5      5  0.200000\n",
      "6      6  0.000000\n",
      "\n",
      "\n",
      "    Parch  Sex  Survived\n",
      "0       0    0  0.165289\n",
      "1       0    1  0.788660\n",
      "2       1    0  0.327586\n",
      "3       1    1  0.766667\n",
      "4       2    0  0.322581\n",
      "5       2    1  0.612245\n",
      "6       3    0  0.000000\n",
      "7       3    1  0.750000\n",
      "8       4    0  0.000000\n",
      "9       4    1  0.000000\n",
      "10      5    0  0.000000\n",
      "11      5    1  0.250000\n",
      "12      6    1  0.000000\n"
     ]
    },
    {
     "data": {
      "image/png": "[encoded data removed]",
      "text/plain": [
       "<matplotlib.figure.Figure at 0x11504c358>"
      ]
     },
     "metadata": {},
     "output_type": "display_data"
    },
    {
     "data": {
      "image/png": "[encoded data removed]",
      "text/plain": [
       "<matplotlib.figure.Figure at 0x115119b38>"
      ]
     },
     "metadata": {},
     "output_type": "display_data"
    }
   ],
   "source": [
    "view_feature('Parch')"
   ]
  },
  {
   "cell_type": "code",
   "execution_count": 57,
   "metadata": {
    "collapsed": true
   },
   "outputs": [],
   "source": [
    "for _df in _df_combine:\n",
    "    _df['FamilySize'] = _df['SibSp'] + _df['Parch'] + 1"
   ]
  },
  {
   "cell_type": "code",
   "execution_count": 58,
   "metadata": {},
   "outputs": [
    {
     "name": "stdout",
     "output_type": "stream",
     "text": [
      "Training dataframe feature [FamilySize] has any nulls or missing values: False\n",
      "\n",
      "Test dataframe feature [FamilySize] has any nulls or missing values: False\n",
      "\n",
      "   FamilySize  Survived\n",
      "0           1  0.303538\n",
      "1           2  0.552795\n",
      "2           3  0.578431\n",
      "3           4  0.724138\n",
      "4           5  0.200000\n",
      "5           6  0.136364\n",
      "6           7  0.333333\n",
      "7           8  0.000000\n",
      "8          11  0.000000\n",
      "\n",
      "\n",
      "    FamilySize  Sex  Survived\n",
      "0            1    0  0.155718\n",
      "1            1    1  0.785714\n",
      "2            2    0  0.243243\n",
      "3            2    1  0.816092\n",
      "4            3    0  0.396226\n",
      "5            3    1  0.775510\n",
      "6            4    0  0.500000\n",
      "7            4    1  0.842105\n",
      "8            5    0  0.000000\n",
      "9            5    1  0.250000\n",
      "10           6    0  0.000000\n",
      "11           6    1  0.375000\n",
      "12           7    0  0.250000\n",
      "13           7    1  0.375000\n",
      "14           8    0  0.000000\n",
      "15           8    1  0.000000\n",
      "16          11    0  0.000000\n",
      "17          11    1  0.000000\n"
     ]
    },
    {
     "data": {
      "image/png": "[encoded data removed]",
      "text/plain": [
       "<matplotlib.figure.Figure at 0x115119550>"
      ]
     },
     "metadata": {},
     "output_type": "display_data"
    },
    {
     "data": {
      "image/png": "[encoded data removed]",
      "text/plain": [
       "<matplotlib.figure.Figure at 0x11574e860>"
      ]
     },
     "metadata": {},
     "output_type": "display_data"
    }
   ],
   "source": [
    "view_feature('FamilySize')"
   ]
  },
  {
   "cell_type": "code",
   "execution_count": 59,
   "metadata": {
    "collapsed": true
   },
   "outputs": [],
   "source": [
    "for _df in _df_combine:\n",
    "    _df['IsAlone'] = 0\n",
    "    _df.loc[_df['FamilySize'] == 1, 'IsAlone'] = 1"
   ]
  },
  {
   "cell_type": "code",
   "execution_count": 60,
   "metadata": {},
   "outputs": [
    {
     "name": "stdout",
     "output_type": "stream",
     "text": [
      "Training dataframe feature [IsAlone] has any nulls or missing values: False\n",
      "\n",
      "Test dataframe feature [IsAlone] has any nulls or missing values: False\n",
      "\n",
      "   IsAlone  Survived\n",
      "0        0  0.505650\n",
      "1        1  0.303538\n",
      "\n",
      "\n",
      "   IsAlone  Sex  Survived\n",
      "0        0    0  0.271084\n",
      "1        0    1  0.712766\n",
      "2        1    0  0.155718\n",
      "3        1    1  0.785714\n"
     ]
    },
    {
     "data": {
      "image/png": "[encoded data removed]",
      "text/plain": [
       "<matplotlib.figure.Figure at 0x11537c668>"
      ]
     },
     "metadata": {},
     "output_type": "display_data"
    },
    {
     "data": {
      "image/png": "[encoded data removed]",
      "text/plain": [
       "<matplotlib.figure.Figure at 0x114ab52b0>"
      ]
     },
     "metadata": {},
     "output_type": "display_data"
    }
   ],
   "source": [
    "view_feature('IsAlone')"
   ]
  },
  {
   "cell_type": "code",
   "execution_count": 61,
   "metadata": {},
   "outputs": [
    {
     "name": "stdout",
     "output_type": "stream",
     "text": [
      "_df_train: (891, 13), _df_test: (418, 13), _df_combine[0]:(891, 13), _df_combine[1]:(418, 13)\n",
      "_df_train: (891, 10), _df_test: (418, 10), _df_combine[0]:(891, 10), _df_combine[1]:(418, 10)\n"
     ]
    }
   ],
   "source": [
    "print_shape()\n",
    "_df_train = _df_train.drop(['Parch', 'SibSp', 'FamilySize'], axis=1)\n",
    "_df_test = _df_test.drop(['Parch', 'SibSp', 'FamilySize'], axis=1)\n",
    "_df_combine = [_df_train, _df_test]\n",
    "print_shape()"
   ]
  },
  {
   "cell_type": "code",
   "execution_count": 62,
   "metadata": {
    "collapsed": true
   },
   "outputs": [],
   "source": [
    "# Ticket"
   ]
  },
  {
   "cell_type": "code",
   "execution_count": 63,
   "metadata": {},
   "outputs": [
    {
     "name": "stdout",
     "output_type": "stream",
     "text": [
      "Training dataframe feature [Ticket] has any nulls or missing values: False\n",
      "\n",
      "Test dataframe feature [Ticket] has any nulls or missing values: False\n",
      "\n"
     ]
    }
   ],
   "source": [
    "null_check('Ticket')"
   ]
  },
  {
   "cell_type": "code",
   "execution_count": 64,
   "metadata": {},
   "outputs": [
    {
     "name": "stdout",
     "output_type": "stream",
     "text": [
      "Training dataframe feature [Ticket] has any nulls or missing values: False\n",
      "\n",
      "Test dataframe feature [Ticket] has any nulls or missing values: False\n",
      "\n",
      "                Ticket  Survived\n",
      "0               110152  1.000000\n",
      "1               110413  0.666667\n",
      "2               110465  0.000000\n",
      "3               110564  1.000000\n",
      "4               110813  1.000000\n",
      "5               111240  0.000000\n",
      "6               111320  0.000000\n",
      "7               111361  1.000000\n",
      "8               111369  1.000000\n",
      "9               111426  1.000000\n",
      "10              111427  1.000000\n",
      "11              111428  1.000000\n",
      "12              112050  0.000000\n",
      "13              112052  0.000000\n",
      "14              112053  1.000000\n",
      "15              112058  0.000000\n",
      "16              112059  0.000000\n",
      "17              112277  1.000000\n",
      "18              112379  0.000000\n",
      "19              113028  0.000000\n",
      "20              113043  0.000000\n",
      "21              113050  0.000000\n",
      "22              113051  0.000000\n",
      "23              113055  1.000000\n",
      "24              113056  0.000000\n",
      "25              113059  0.000000\n",
      "26              113501  0.000000\n",
      "27              113503  0.000000\n",
      "28              113505  1.000000\n",
      "29              113509  0.000000\n",
      "..                 ...       ...\n",
      "651    SOTON/OQ 392082  0.000000\n",
      "652    SOTON/OQ 392086  0.000000\n",
      "653    SOTON/OQ 392089  1.000000\n",
      "654    SOTON/OQ 392090  0.000000\n",
      "655  STON/O 2. 3101269  1.000000\n",
      "656  STON/O 2. 3101273  0.000000\n",
      "657  STON/O 2. 3101274  0.000000\n",
      "658  STON/O 2. 3101275  0.000000\n",
      "659  STON/O 2. 3101280  0.000000\n",
      "660  STON/O 2. 3101285  1.000000\n",
      "661  STON/O 2. 3101286  1.000000\n",
      "662  STON/O 2. 3101288  1.000000\n",
      "663  STON/O 2. 3101289  1.000000\n",
      "664  STON/O 2. 3101292  0.000000\n",
      "665  STON/O 2. 3101293  0.000000\n",
      "666  STON/O 2. 3101294  0.000000\n",
      "667   STON/O2. 3101271  0.000000\n",
      "668   STON/O2. 3101279  0.500000\n",
      "669   STON/O2. 3101282  1.000000\n",
      "670   STON/O2. 3101283  1.000000\n",
      "671   STON/O2. 3101290  0.000000\n",
      "672          SW/PP 751  1.000000\n",
      "673        W./C. 14258  1.000000\n",
      "674        W./C. 14263  0.000000\n",
      "675         W./C. 6607  0.000000\n",
      "676         W./C. 6608  0.000000\n",
      "677         W./C. 6609  0.000000\n",
      "678        W.E.P. 5734  0.000000\n",
      "679          W/C 14208  0.000000\n",
      "680          WE/P 5735  0.500000\n",
      "\n",
      "[681 rows x 2 columns]\n",
      "\n",
      "\n",
      "                Ticket  Sex  Survived\n",
      "0               110152    1       1.0\n",
      "1               110413    0       0.0\n",
      "2               110413    1       1.0\n",
      "3               110465    0       0.0\n",
      "4               110564    0       1.0\n",
      "5               110813    1       1.0\n",
      "6               111240    0       0.0\n",
      "7               111320    0       0.0\n",
      "8               111361    1       1.0\n",
      "9               111369    0       1.0\n",
      "10              111426    0       1.0\n",
      "11              111427    0       1.0\n",
      "12              111428    0       1.0\n",
      "13              112050    0       0.0\n",
      "14              112052    0       0.0\n",
      "15              112053    1       1.0\n",
      "16              112058    0       0.0\n",
      "17              112059    0       0.0\n",
      "18              112277    0       1.0\n",
      "19              112379    0       0.0\n",
      "20              113028    0       0.0\n",
      "21              113043    0       0.0\n",
      "22              113050    0       0.0\n",
      "23              113051    0       0.0\n",
      "24              113055    0       1.0\n",
      "25              113056    0       0.0\n",
      "26              113059    0       0.0\n",
      "27              113501    0       0.0\n",
      "28              113503    0       0.0\n",
      "29              113505    1       1.0\n",
      "..                 ...  ...       ...\n",
      "736  STON/O 2. 3101269    0       1.0\n",
      "737  STON/O 2. 3101273    0       0.0\n",
      "738  STON/O 2. 3101274    0       0.0\n",
      "739  STON/O 2. 3101275    0       0.0\n",
      "740  STON/O 2. 3101280    0       0.0\n",
      "741  STON/O 2. 3101285    0       1.0\n",
      "742  STON/O 2. 3101286    0       1.0\n",
      "743  STON/O 2. 3101288    0       1.0\n",
      "744  STON/O 2. 3101289    0       1.0\n",
      "745  STON/O 2. 3101292    0       0.0\n",
      "746  STON/O 2. 3101293    0       0.0\n",
      "747  STON/O 2. 3101294    0       0.0\n",
      "748   STON/O2. 3101271    1       0.0\n",
      "749   STON/O2. 3101279    0       0.0\n",
      "750   STON/O2. 3101279    1       1.0\n",
      "751   STON/O2. 3101282    1       1.0\n",
      "752   STON/O2. 3101283    1       1.0\n",
      "753   STON/O2. 3101290    1       0.0\n",
      "754          SW/PP 751    0       1.0\n",
      "755        W./C. 14258    1       1.0\n",
      "756        W./C. 14263    0       0.0\n",
      "757         W./C. 6607    0       0.0\n",
      "758         W./C. 6607    1       0.0\n",
      "759         W./C. 6608    0       0.0\n",
      "760         W./C. 6608    1       0.0\n",
      "761         W./C. 6609    1       0.0\n",
      "762        W.E.P. 5734    0       0.0\n",
      "763          W/C 14208    0       0.0\n",
      "764          WE/P 5735    0       0.0\n",
      "765          WE/P 5735    1       1.0\n",
      "\n",
      "[766 rows x 3 columns]\n"
     ]
    },
    {
     "data": {
      "image/png": "[encoded data removed]",
      "text/plain": [
       "<matplotlib.figure.Figure at 0x114aa6128>"
      ]
     },
     "metadata": {},
     "output_type": "display_data"
    },
    {
     "data": {
      "image/png": "[encoded data removed]",
      "text/plain": [
       "<matplotlib.figure.Figure at 0x11132b4a8>"
      ]
     },
     "metadata": {},
     "output_type": "display_data"
    }
   ],
   "source": [
    "view_feature('Ticket')"
   ]
  },
  {
   "cell_type": "code",
   "execution_count": 65,
   "metadata": {},
   "outputs": [
    {
     "name": "stdout",
     "output_type": "stream",
     "text": [
      "_df_train: (891, 10), _df_test: (418, 10), _df_combine[0]:(891, 10), _df_combine[1]:(418, 10)\n",
      "_df_train: (891, 9), _df_test: (418, 9), _df_combine[0]:(891, 9), _df_combine[1]:(418, 9)\n"
     ]
    }
   ],
   "source": [
    "print_shape()\n",
    "_df_train = _df_train.drop(['Ticket'], axis = 1)\n",
    "_df_test = _df_test.drop(['Ticket'], axis = 1)\n",
    "_df_combine = [_df_train, _df_test]\n",
    "print_shape()"
   ]
  },
  {
   "cell_type": "code",
   "execution_count": 66,
   "metadata": {
    "collapsed": true
   },
   "outputs": [],
   "source": [
    "# Fare"
   ]
  },
  {
   "cell_type": "code",
   "execution_count": 67,
   "metadata": {},
   "outputs": [
    {
     "name": "stdout",
     "output_type": "stream",
     "text": [
      "Training dataframe feature [Fare] has any nulls or missing values: False\n",
      "\n",
      "Test dataframe feature [Fare] has any nulls or missing values: True\n",
      "\n",
      "         Fare  Survived\n",
      "0      0.0000  0.066667\n",
      "1      4.0125  0.000000\n",
      "2      5.0000  0.000000\n",
      "3      6.2375  0.000000\n",
      "4      6.4375  0.000000\n",
      "5      6.4500  0.000000\n",
      "6      6.4958  0.000000\n",
      "7      6.7500  0.000000\n",
      "8      6.8583  0.000000\n",
      "9      6.9500  0.000000\n",
      "10     6.9750  0.500000\n",
      "11     7.0458  0.000000\n",
      "12     7.0500  0.000000\n",
      "13     7.0542  0.000000\n",
      "14     7.1250  0.000000\n",
      "15     7.1417  1.000000\n",
      "16     7.2250  0.250000\n",
      "17     7.2292  0.266667\n",
      "18     7.2500  0.076923\n",
      "19     7.3125  0.000000\n",
      "20     7.4958  0.333333\n",
      "21     7.5208  0.000000\n",
      "22     7.5500  0.250000\n",
      "23     7.6292  0.000000\n",
      "24     7.6500  0.250000\n",
      "25     7.7250  0.000000\n",
      "26     7.7292  0.000000\n",
      "27     7.7333  0.500000\n",
      "28     7.7375  0.500000\n",
      "29     7.7417  0.000000\n",
      "..        ...       ...\n",
      "218   80.0000  1.000000\n",
      "219   81.8583  1.000000\n",
      "220   82.1708  0.500000\n",
      "221   83.1583  1.000000\n",
      "222   83.4750  0.500000\n",
      "223   86.5000  1.000000\n",
      "224   89.1042  1.000000\n",
      "225   90.0000  0.750000\n",
      "226   91.0792  1.000000\n",
      "227   93.5000  1.000000\n",
      "228  106.4250  0.500000\n",
      "229  108.9000  0.500000\n",
      "230  110.8833  0.750000\n",
      "231  113.2750  0.666667\n",
      "232  120.0000  1.000000\n",
      "233  133.6500  1.000000\n",
      "234  134.5000  1.000000\n",
      "235  135.6333  0.666667\n",
      "236  146.5208  1.000000\n",
      "237  151.5500  0.500000\n",
      "238  153.4625  0.666667\n",
      "239  164.8667  1.000000\n",
      "240  211.3375  1.000000\n",
      "241  211.5000  0.000000\n",
      "242  221.7792  0.000000\n",
      "243  227.5250  0.750000\n",
      "244  247.5208  0.500000\n",
      "245  262.3750  1.000000\n",
      "246  263.0000  0.500000\n",
      "247  512.3292  1.000000\n",
      "\n",
      "[248 rows x 2 columns]\n",
      "\n",
      "\n",
      "         Fare  Sex  Survived\n",
      "0      0.0000    0  0.066667\n",
      "1      4.0125    0  0.000000\n",
      "2      5.0000    0  0.000000\n",
      "3      6.2375    0  0.000000\n",
      "4      6.4375    0  0.000000\n",
      "5      6.4500    0  0.000000\n",
      "6      6.4958    0  0.000000\n",
      "7      6.7500    0  0.000000\n",
      "8      6.7500    1  0.000000\n",
      "9      6.8583    0  0.000000\n",
      "10     6.9500    0  0.000000\n",
      "11     6.9750    0  0.500000\n",
      "12     7.0458    0  0.000000\n",
      "13     7.0500    0  0.000000\n",
      "14     7.0542    0  0.000000\n",
      "15     7.1250    0  0.000000\n",
      "16     7.1417    0  1.000000\n",
      "17     7.2250    0  0.100000\n",
      "18     7.2250    1  1.000000\n",
      "19     7.2292    0  0.153846\n",
      "20     7.2292    1  1.000000\n",
      "21     7.2500    0  0.000000\n",
      "22     7.2500    1  1.000000\n",
      "23     7.3125    0  0.000000\n",
      "24     7.4958    0  0.000000\n",
      "25     7.4958    1  1.000000\n",
      "26     7.5208    0  0.000000\n",
      "27     7.5500    0  0.000000\n",
      "28     7.5500    1  0.500000\n",
      "29     7.6292    1  0.000000\n",
      "..        ...  ...       ...\n",
      "319  108.9000    1  1.000000\n",
      "320  110.8833    0  0.500000\n",
      "321  110.8833    1  1.000000\n",
      "322  113.2750    0  0.000000\n",
      "323  113.2750    1  1.000000\n",
      "324  120.0000    0  1.000000\n",
      "325  120.0000    1  1.000000\n",
      "326  133.6500    0  1.000000\n",
      "327  133.6500    1  1.000000\n",
      "328  134.5000    1  1.000000\n",
      "329  135.6333    0  0.000000\n",
      "330  135.6333    1  1.000000\n",
      "331  146.5208    1  1.000000\n",
      "332  151.5500    0  1.000000\n",
      "333  151.5500    1  0.333333\n",
      "334  153.4625    0  0.000000\n",
      "335  153.4625    1  1.000000\n",
      "336  164.8667    1  1.000000\n",
      "337  211.3375    1  1.000000\n",
      "338  211.5000    0  0.000000\n",
      "339  221.7792    0  0.000000\n",
      "340  227.5250    0  0.000000\n",
      "341  227.5250    1  1.000000\n",
      "342  247.5208    0  0.000000\n",
      "343  247.5208    1  1.000000\n",
      "344  262.3750    1  1.000000\n",
      "345  263.0000    0  0.000000\n",
      "346  263.0000    1  1.000000\n",
      "347  512.3292    0  1.000000\n",
      "348  512.3292    1  1.000000\n",
      "\n",
      "[349 rows x 3 columns]\n"
     ]
    },
    {
     "data": {
      "image/png": "[encoded data removed]",
      "text/plain": [
       "<matplotlib.figure.Figure at 0x114bc3978>"
      ]
     },
     "metadata": {},
     "output_type": "display_data"
    },
    {
     "data": {
      "image/png": "[encoded data removed]",
      "text/plain": [
       "<matplotlib.figure.Figure at 0x117bc3f60>"
      ]
     },
     "metadata": {},
     "output_type": "display_data"
    }
   ],
   "source": [
    "view_feature('Fare')"
   ]
  },
  {
   "cell_type": "code",
   "execution_count": 68,
   "metadata": {
    "collapsed": true
   },
   "outputs": [],
   "source": [
    "_df_test['Fare'].fillna(_df_test['Fare'].dropna().median(), inplace = True)"
   ]
  },
  {
   "cell_type": "code",
   "execution_count": 69,
   "metadata": {},
   "outputs": [
    {
     "name": "stdout",
     "output_type": "stream",
     "text": [
      "Training dataframe feature [Fare] has any nulls or missing values: False\n",
      "\n",
      "Test dataframe feature [Fare] has any nulls or missing values: False\n",
      "\n"
     ]
    }
   ],
   "source": [
    "null_check('Fare')"
   ]
  },
  {
   "cell_type": "code",
   "execution_count": 70,
   "metadata": {
    "collapsed": true
   },
   "outputs": [],
   "source": [
    "_df_train['FareBand'] = pandas.qcut(_df_train['Fare'], 4)"
   ]
  },
  {
   "cell_type": "code",
   "execution_count": 71,
   "metadata": {
    "collapsed": true
   },
   "outputs": [],
   "source": [
    "_df_test['FareBand'] = pandas.qcut(_df_test['Fare'], 4)"
   ]
  },
  {
   "cell_type": "code",
   "execution_count": 72,
   "metadata": {},
   "outputs": [
    {
     "name": "stdout",
     "output_type": "stream",
     "text": [
      "Training dataframe feature [FareBand] has any nulls or missing values: False\n",
      "\n",
      "Test dataframe feature [FareBand] has any nulls or missing values: False\n",
      "\n",
      "          FareBand  Survived\n",
      "0   (-0.001, 7.91]  0.197309\n",
      "1   (7.91, 14.454]  0.303571\n",
      "2   (14.454, 31.0]  0.454955\n",
      "3  (31.0, 512.329]  0.581081\n",
      "\n",
      "\n",
      "          FareBand  Sex  Survived\n",
      "0   (-0.001, 7.91]    0  0.077778\n",
      "1   (-0.001, 7.91]    1  0.697674\n",
      "2   (7.91, 14.454]    0  0.159236\n",
      "3   (7.91, 14.454]    1  0.641791\n",
      "4   (14.454, 31.0]    0  0.279070\n",
      "5   (14.454, 31.0]    1  0.698925\n",
      "6  (31.0, 512.329]    0  0.306306\n",
      "7  (31.0, 512.329]    1  0.855856\n"
     ]
    },
    {
     "data": {
      "image/png": "[encoded data removed]",
      "text/plain": [
       "<matplotlib.figure.Figure at 0x11861c1d0>"
      ]
     },
     "metadata": {},
     "output_type": "display_data"
    },
    {
     "data": {
      "image/png": "[encoded data removed]",
      "text/plain": [
       "<matplotlib.figure.Figure at 0x1167f7f28>"
      ]
     },
     "metadata": {},
     "output_type": "display_data"
    }
   ],
   "source": [
    "view_feature('FareBand')"
   ]
  },
  {
   "cell_type": "code",
   "execution_count": 73,
   "metadata": {},
   "outputs": [
    {
     "data": {
      "text/plain": [
       "[(-0.001, 7.896], (7.896, 14.454], (14.454, 31.472], (31.472, 512.329]]\n",
       "Categories (4, interval[float64]): [(-0.001, 7.896] < (7.896, 14.454] < (14.454, 31.472] < (31.472, 512.329]]"
      ]
     },
     "execution_count": 73,
     "metadata": {},
     "output_type": "execute_result"
    }
   ],
   "source": [
    "_df_test['FareBand'].unique()"
   ]
  },
  {
   "cell_type": "code",
   "execution_count": 74,
   "metadata": {
    "collapsed": true
   },
   "outputs": [],
   "source": [
    "for _df in _df_combine:\n",
    "    _df.loc[ _df['Fare'] <= 7.91, 'Fare'] = 0\n",
    "    _df.loc[(_df['Fare'] > 7.91) & (_df['Fare'] <= 14.454), 'Fare'] = 1\n",
    "    _df.loc[(_df['Fare'] > 14.454) & (_df['Fare'] <= 31), 'Fare']   = 2\n",
    "    _df.loc[ _df['Fare'] > 31, 'Fare'] = 3\n",
    "    _df['Fare'] = _df['Fare'].astype(int)"
   ]
  },
  {
   "cell_type": "code",
   "execution_count": 75,
   "metadata": {},
   "outputs": [
    {
     "name": "stdout",
     "output_type": "stream",
     "text": [
      "_df_train: (891, 10), _df_test: (418, 10), _df_combine[0]:(891, 10), _df_combine[1]:(418, 10)\n",
      "_df_train: (891, 9), _df_test: (418, 9), _df_combine[0]:(891, 9), _df_combine[1]:(418, 9)\n"
     ]
    }
   ],
   "source": [
    "print_shape()\n",
    "_df_train = _df_train.drop(['FareBand'], axis = 1)\n",
    "_df_test = _df_test.drop(['FareBand'], axis = 1)\n",
    "_df_combine = [_df_train, _df_test]\n",
    "print_shape()"
   ]
  },
  {
   "cell_type": "code",
   "execution_count": 76,
   "metadata": {
    "collapsed": true
   },
   "outputs": [],
   "source": [
    "# Cabin"
   ]
  },
  {
   "cell_type": "code",
   "execution_count": 77,
   "metadata": {},
   "outputs": [
    {
     "name": "stdout",
     "output_type": "stream",
     "text": [
      "Training dataframe feature [Cabin] has any nulls or missing values: True\n",
      "\n",
      "Test dataframe feature [Cabin] has any nulls or missing values: True\n",
      "\n",
      "     Cabin  Survived\n",
      "0      A10  0.000000\n",
      "1      A14  0.000000\n",
      "2      A16  1.000000\n",
      "3      A19  0.000000\n",
      "4      A20  1.000000\n",
      "5      A23  1.000000\n",
      "6      A24  0.000000\n",
      "7      A26  1.000000\n",
      "8      A31  1.000000\n",
      "9      A32  0.000000\n",
      "10     A34  1.000000\n",
      "11     A36  0.000000\n",
      "12      A5  0.000000\n",
      "13      A6  1.000000\n",
      "14      A7  0.000000\n",
      "15    B101  1.000000\n",
      "16    B102  0.000000\n",
      "17     B18  1.000000\n",
      "18     B19  0.000000\n",
      "19     B20  1.000000\n",
      "20     B22  0.500000\n",
      "21     B28  1.000000\n",
      "22      B3  1.000000\n",
      "23     B30  0.000000\n",
      "24     B35  1.000000\n",
      "25     B37  0.000000\n",
      "26     B38  0.000000\n",
      "27     B39  1.000000\n",
      "28      B4  1.000000\n",
      "29     B41  1.000000\n",
      "..     ...       ...\n",
      "117    E12  1.000000\n",
      "118   E121  1.000000\n",
      "119    E17  1.000000\n",
      "120    E24  1.000000\n",
      "121    E25  1.000000\n",
      "122    E31  0.000000\n",
      "123    E33  1.000000\n",
      "124    E34  1.000000\n",
      "125    E36  1.000000\n",
      "126    E38  0.000000\n",
      "127    E40  1.000000\n",
      "128    E44  0.500000\n",
      "129    E46  0.000000\n",
      "130    E49  1.000000\n",
      "131    E50  1.000000\n",
      "132    E58  0.000000\n",
      "133    E63  0.000000\n",
      "134    E67  0.500000\n",
      "135    E68  1.000000\n",
      "136    E77  0.000000\n",
      "137     E8  1.000000\n",
      "138  F E69  1.000000\n",
      "139  F G63  0.000000\n",
      "140  F G73  0.000000\n",
      "141     F2  0.666667\n",
      "142    F33  1.000000\n",
      "143    F38  0.000000\n",
      "144     F4  1.000000\n",
      "145     G6  0.500000\n",
      "146      T  0.000000\n",
      "\n",
      "[147 rows x 2 columns]\n",
      "\n",
      "\n",
      "     Cabin  Sex  Survived\n",
      "0      A10    0  0.000000\n",
      "1      A14    0  0.000000\n",
      "2      A16    1  1.000000\n",
      "3      A19    0  0.000000\n",
      "4      A20    0  1.000000\n",
      "5      A23    0  1.000000\n",
      "6      A24    0  0.000000\n",
      "7      A26    0  1.000000\n",
      "8      A31    0  1.000000\n",
      "9      A32    0  0.000000\n",
      "10     A34    0  1.000000\n",
      "11     A36    0  0.000000\n",
      "12      A5    0  0.000000\n",
      "13      A6    0  1.000000\n",
      "14      A7    0  0.000000\n",
      "15    B101    0  1.000000\n",
      "16    B102    0  0.000000\n",
      "17     B18    1  1.000000\n",
      "18     B19    0  0.000000\n",
      "19     B20    0  1.000000\n",
      "20     B20    1  1.000000\n",
      "21     B22    0  0.000000\n",
      "22     B22    1  1.000000\n",
      "23     B28    1  1.000000\n",
      "24      B3    1  1.000000\n",
      "25     B30    0  0.000000\n",
      "26     B35    1  1.000000\n",
      "27     B37    0  0.000000\n",
      "28     B38    0  0.000000\n",
      "29     B39    1  1.000000\n",
      "..     ...  ...       ...\n",
      "141    E25    0  1.000000\n",
      "142    E31    0  0.000000\n",
      "143    E33    1  1.000000\n",
      "144    E34    1  1.000000\n",
      "145    E36    1  1.000000\n",
      "146    E38    0  0.000000\n",
      "147    E40    1  1.000000\n",
      "148    E44    0  0.000000\n",
      "149    E44    1  1.000000\n",
      "150    E46    0  0.000000\n",
      "151    E49    1  1.000000\n",
      "152    E50    0  1.000000\n",
      "153    E58    0  0.000000\n",
      "154    E63    0  0.000000\n",
      "155    E67    0  0.000000\n",
      "156    E67    1  1.000000\n",
      "157    E68    1  1.000000\n",
      "158    E77    1  0.000000\n",
      "159     E8    0  1.000000\n",
      "160     E8    1  1.000000\n",
      "161  F E69    1  1.000000\n",
      "162  F G63    0  0.000000\n",
      "163  F G73    0  0.000000\n",
      "164     F2    0  0.666667\n",
      "165    F33    1  1.000000\n",
      "166    F38    0  0.000000\n",
      "167     F4    0  1.000000\n",
      "168     F4    1  1.000000\n",
      "169     G6    1  0.500000\n",
      "170      T    0  0.000000\n",
      "\n",
      "[171 rows x 3 columns]\n"
     ]
    },
    {
     "data": {
      "image/png": "[encoded data removed]",
      "text/plain": [
       "<matplotlib.figure.Figure at 0x11692ad30>"
      ]
     },
     "metadata": {},
     "output_type": "display_data"
    },
    {
     "data": {
      "image/png": "[encoded data removed]",
      "text/plain": [
       "<matplotlib.figure.Figure at 0x114fc37f0>"
      ]
     },
     "metadata": {},
     "output_type": "display_data"
    }
   ],
   "source": [
    "view_feature('Cabin')"
   ]
  },
  {
   "cell_type": "code",
   "execution_count": 78,
   "metadata": {},
   "outputs": [
    {
     "name": "stdout",
     "output_type": "stream",
     "text": [
      "_df_train: (891, 9), _df_test: (418, 9), _df_combine[0]:(891, 9), _df_combine[1]:(418, 9)\n",
      "_df_train: (891, 8), _df_test: (418, 8), _df_combine[0]:(891, 8), _df_combine[1]:(418, 8)\n"
     ]
    }
   ],
   "source": [
    "print_shape()\n",
    "_df_train = _df_train.drop(['Cabin'], axis = 1)\n",
    "_df_test = _df_test.drop(['Cabin'], axis = 1)\n",
    "_df_combine = [_df_train, _df_test]\n",
    "print_shape()"
   ]
  },
  {
   "cell_type": "code",
   "execution_count": 79,
   "metadata": {
    "collapsed": true
   },
   "outputs": [],
   "source": [
    "# Embarked"
   ]
  },
  {
   "cell_type": "code",
   "execution_count": 80,
   "metadata": {},
   "outputs": [
    {
     "name": "stdout",
     "output_type": "stream",
     "text": [
      "Training dataframe feature [Embarked] has any nulls or missing values: True\n",
      "\n",
      "Test dataframe feature [Embarked] has any nulls or missing values: False\n",
      "\n"
     ]
    }
   ],
   "source": [
    "null_check('Embarked')"
   ]
  },
  {
   "cell_type": "code",
   "execution_count": 81,
   "metadata": {
    "collapsed": true
   },
   "outputs": [],
   "source": [
    "for _df in _df_combine:\n",
    "    _df['Embarked'] = _df['Embarked'].fillna('S')"
   ]
  },
  {
   "cell_type": "code",
   "execution_count": 82,
   "metadata": {
    "collapsed": true
   },
   "outputs": [],
   "source": [
    "for _df in _df_combine:\n",
    "    _df['Embarked'] = _df['Embarked'].map( {'S': 0, 'C': 1, 'Q': 2} ).astype(int)"
   ]
  },
  {
   "cell_type": "code",
   "execution_count": 83,
   "metadata": {},
   "outputs": [
    {
     "name": "stdout",
     "output_type": "stream",
     "text": [
      "Training dataframe feature [Embarked] has any nulls or missing values: False\n",
      "\n",
      "Test dataframe feature [Embarked] has any nulls or missing values: False\n",
      "\n",
      "   Embarked  Survived\n",
      "0         0  0.339009\n",
      "1         1  0.553571\n",
      "2         2  0.389610\n",
      "\n",
      "\n",
      "   Embarked  Sex  Survived\n",
      "0         0    0  0.174603\n",
      "1         0    1  0.692683\n",
      "2         1    0  0.305263\n",
      "3         1    1  0.876712\n",
      "4         2    0  0.073171\n",
      "5         2    1  0.750000\n"
     ]
    },
    {
     "data": {
      "image/png": "[encoded data removed]",
      "text/plain": [
       "<matplotlib.figure.Figure at 0x1156217f0>"
      ]
     },
     "metadata": {},
     "output_type": "display_data"
    },
    {
     "data": {
      "image/png": "[encoded data removed]",
      "text/plain": [
       "<matplotlib.figure.Figure at 0x1189d2d68>"
      ]
     },
     "metadata": {},
     "output_type": "display_data"
    }
   ],
   "source": [
    "view_feature('Embarked')"
   ]
  },
  {
   "cell_type": "code",
   "execution_count": 84,
   "metadata": {},
   "outputs": [
    {
     "data": {
      "text/html": [
       "<div>\n",
       "<style>\n",
       "    .dataframe thead tr:only-child th {\n",
       "        text-align: right;\n",
       "    }\n",
       "\n",
       "    .dataframe thead th {\n",
       "        text-align: left;\n",
       "    }\n",
       "\n",
       "    .dataframe tbody tr th {\n",
       "        vertical-align: top;\n",
       "    }\n",
       "</style>\n",
       "<table border=\"1\" class=\"dataframe\">\n",
       "  <thead>\n",
       "    <tr style=\"text-align: right;\">\n",
       "      <th></th>\n",
       "      <th>Survived</th>\n",
       "      <th>Pclass</th>\n",
       "      <th>Sex</th>\n",
       "      <th>Age</th>\n",
       "      <th>Fare</th>\n",
       "      <th>Embarked</th>\n",
       "      <th>Title</th>\n",
       "      <th>IsAlone</th>\n",
       "    </tr>\n",
       "  </thead>\n",
       "  <tbody>\n",
       "    <tr>\n",
       "      <th>0</th>\n",
       "      <td>0</td>\n",
       "      <td>3</td>\n",
       "      <td>0</td>\n",
       "      <td>1</td>\n",
       "      <td>0</td>\n",
       "      <td>0</td>\n",
       "      <td>4.0</td>\n",
       "      <td>0</td>\n",
       "    </tr>\n",
       "    <tr>\n",
       "      <th>1</th>\n",
       "      <td>1</td>\n",
       "      <td>1</td>\n",
       "      <td>1</td>\n",
       "      <td>2</td>\n",
       "      <td>3</td>\n",
       "      <td>1</td>\n",
       "      <td>3.0</td>\n",
       "      <td>0</td>\n",
       "    </tr>\n",
       "    <tr>\n",
       "      <th>2</th>\n",
       "      <td>1</td>\n",
       "      <td>3</td>\n",
       "      <td>1</td>\n",
       "      <td>1</td>\n",
       "      <td>1</td>\n",
       "      <td>0</td>\n",
       "      <td>2.0</td>\n",
       "      <td>1</td>\n",
       "    </tr>\n",
       "    <tr>\n",
       "      <th>3</th>\n",
       "      <td>1</td>\n",
       "      <td>1</td>\n",
       "      <td>1</td>\n",
       "      <td>2</td>\n",
       "      <td>3</td>\n",
       "      <td>0</td>\n",
       "      <td>3.0</td>\n",
       "      <td>0</td>\n",
       "    </tr>\n",
       "    <tr>\n",
       "      <th>4</th>\n",
       "      <td>0</td>\n",
       "      <td>3</td>\n",
       "      <td>0</td>\n",
       "      <td>2</td>\n",
       "      <td>1</td>\n",
       "      <td>0</td>\n",
       "      <td>4.0</td>\n",
       "      <td>1</td>\n",
       "    </tr>\n",
       "  </tbody>\n",
       "</table>\n",
       "</div>"
      ],
      "text/plain": [
       "   Survived  Pclass  Sex  Age  Fare  Embarked  Title  IsAlone\n",
       "0         0       3    0    1     0         0    4.0        0\n",
       "1         1       1    1    2     3         1    3.0        0\n",
       "2         1       3    1    1     1         0    2.0        1\n",
       "3         1       1    1    2     3         0    3.0        0\n",
       "4         0       3    0    2     1         0    4.0        1"
      ]
     },
     "execution_count": 84,
     "metadata": {},
     "output_type": "execute_result"
    }
   ],
   "source": [
    "_df_train.head()"
   ]
  },
  {
   "cell_type": "code",
   "execution_count": 85,
   "metadata": {},
   "outputs": [
    {
     "data": {
      "text/html": [
       "<div>\n",
       "<style>\n",
       "    .dataframe thead tr:only-child th {\n",
       "        text-align: right;\n",
       "    }\n",
       "\n",
       "    .dataframe thead th {\n",
       "        text-align: left;\n",
       "    }\n",
       "\n",
       "    .dataframe tbody tr th {\n",
       "        vertical-align: top;\n",
       "    }\n",
       "</style>\n",
       "<table border=\"1\" class=\"dataframe\">\n",
       "  <thead>\n",
       "    <tr style=\"text-align: right;\">\n",
       "      <th></th>\n",
       "      <th>PassengerId</th>\n",
       "      <th>Pclass</th>\n",
       "      <th>Sex</th>\n",
       "      <th>Age</th>\n",
       "      <th>Fare</th>\n",
       "      <th>Embarked</th>\n",
       "      <th>Title</th>\n",
       "      <th>IsAlone</th>\n",
       "    </tr>\n",
       "  </thead>\n",
       "  <tbody>\n",
       "    <tr>\n",
       "      <th>0</th>\n",
       "      <td>892</td>\n",
       "      <td>3</td>\n",
       "      <td>0</td>\n",
       "      <td>2</td>\n",
       "      <td>0</td>\n",
       "      <td>2</td>\n",
       "      <td>4.0</td>\n",
       "      <td>1</td>\n",
       "    </tr>\n",
       "    <tr>\n",
       "      <th>1</th>\n",
       "      <td>893</td>\n",
       "      <td>3</td>\n",
       "      <td>1</td>\n",
       "      <td>3</td>\n",
       "      <td>0</td>\n",
       "      <td>0</td>\n",
       "      <td>3.0</td>\n",
       "      <td>0</td>\n",
       "    </tr>\n",
       "    <tr>\n",
       "      <th>2</th>\n",
       "      <td>894</td>\n",
       "      <td>2</td>\n",
       "      <td>0</td>\n",
       "      <td>4</td>\n",
       "      <td>1</td>\n",
       "      <td>2</td>\n",
       "      <td>4.0</td>\n",
       "      <td>1</td>\n",
       "    </tr>\n",
       "    <tr>\n",
       "      <th>3</th>\n",
       "      <td>895</td>\n",
       "      <td>3</td>\n",
       "      <td>0</td>\n",
       "      <td>1</td>\n",
       "      <td>1</td>\n",
       "      <td>0</td>\n",
       "      <td>4.0</td>\n",
       "      <td>1</td>\n",
       "    </tr>\n",
       "    <tr>\n",
       "      <th>4</th>\n",
       "      <td>896</td>\n",
       "      <td>3</td>\n",
       "      <td>1</td>\n",
       "      <td>1</td>\n",
       "      <td>1</td>\n",
       "      <td>0</td>\n",
       "      <td>3.0</td>\n",
       "      <td>0</td>\n",
       "    </tr>\n",
       "  </tbody>\n",
       "</table>\n",
       "</div>"
      ],
      "text/plain": [
       "   PassengerId  Pclass  Sex  Age  Fare  Embarked  Title  IsAlone\n",
       "0          892       3    0    2     0         2    4.0        1\n",
       "1          893       3    1    3     0         0    3.0        0\n",
       "2          894       2    0    4     1         2    4.0        1\n",
       "3          895       3    0    1     1         0    4.0        1\n",
       "4          896       3    1    1     1         0    3.0        0"
      ]
     },
     "execution_count": 85,
     "metadata": {},
     "output_type": "execute_result"
    }
   ],
   "source": [
    "_df_test.head()"
   ]
  },
  {
   "cell_type": "code",
   "execution_count": 86,
   "metadata": {
    "collapsed": true
   },
   "outputs": [],
   "source": [
    "# prepare data"
   ]
  },
  {
   "cell_type": "code",
   "execution_count": 87,
   "metadata": {
    "collapsed": true
   },
   "outputs": [],
   "source": [
    "_array = _df_train.values"
   ]
  },
  {
   "cell_type": "code",
   "execution_count": 88,
   "metadata": {},
   "outputs": [
    {
     "name": "stdout",
     "output_type": "stream",
     "text": [
      "[[ 0.  3.  0.  1.  0.  0.  4.  0.]\n",
      " [ 1.  1.  1.  2.  3.  1.  3.  0.]\n",
      " [ 1.  3.  1.  1.  1.  0.  2.  1.]\n",
      " [ 1.  1.  1.  2.  3.  0.  3.  0.]\n",
      " [ 0.  3.  0.  2.  1.  0.  4.  1.]] 891 <class 'numpy.ndarray'> (891, 8) 2 float64\n"
     ]
    }
   ],
   "source": [
    "print(_array[:5,:], len(_array), type(_array), _array.shape, _array.ndim, _array.dtype.name)"
   ]
  },
  {
   "cell_type": "code",
   "execution_count": 89,
   "metadata": {
    "collapsed": true
   },
   "outputs": [],
   "source": [
    "_X = _array[:,1:8]"
   ]
  },
  {
   "cell_type": "code",
   "execution_count": 90,
   "metadata": {},
   "outputs": [
    {
     "name": "stdout",
     "output_type": "stream",
     "text": [
      "[[ 3.  0.  1.  0.  0.  4.  0.]\n",
      " [ 1.  1.  2.  3.  1.  3.  0.]\n",
      " [ 3.  1.  1.  1.  0.  2.  1.]\n",
      " [ 1.  1.  2.  3.  0.  3.  0.]\n",
      " [ 3.  0.  2.  1.  0.  4.  1.]] 891 <class 'numpy.ndarray'> (891, 7) 2 float64\n"
     ]
    }
   ],
   "source": [
    "print(_X[:5,:], len(_X), type(_X), _X.shape, _X.ndim, _X.dtype.name)"
   ]
  },
  {
   "cell_type": "code",
   "execution_count": 91,
   "metadata": {
    "collapsed": true
   },
   "outputs": [],
   "source": [
    "_y = _array[:,0:1]"
   ]
  },
  {
   "cell_type": "code",
   "execution_count": 92,
   "metadata": {},
   "outputs": [
    {
     "name": "stdout",
     "output_type": "stream",
     "text": [
      "[[ 0.]\n",
      " [ 1.]\n",
      " [ 1.]\n",
      " [ 1.]\n",
      " [ 0.]] 891 <class 'numpy.ndarray'> (891, 1) 2 float64\n"
     ]
    }
   ],
   "source": [
    "print(_y[:5,:], len(_y), type(_y), _y.shape, _y.ndim, _y.dtype.name)"
   ]
  },
  {
   "cell_type": "code",
   "execution_count": 93,
   "metadata": {
    "collapsed": true
   },
   "outputs": [],
   "source": [
    "_y = numpy.ravel(_y)"
   ]
  },
  {
   "cell_type": "code",
   "execution_count": 94,
   "metadata": {},
   "outputs": [
    {
     "name": "stdout",
     "output_type": "stream",
     "text": [
      "[ 0.  1.  1.  1.  0.] 891 <class 'numpy.ndarray'> (891,) 1 float64\n"
     ]
    }
   ],
   "source": [
    "print(_y[:5], len(_y), type(_y), _y.shape, _y.ndim, _y.dtype.name)"
   ]
  },
  {
   "cell_type": "code",
   "execution_count": 95,
   "metadata": {
    "collapsed": true
   },
   "outputs": [],
   "source": [
    "# Splitting data into training and validation sets"
   ]
  },
  {
   "cell_type": "code",
   "execution_count": 96,
   "metadata": {
    "collapsed": true
   },
   "outputs": [],
   "source": [
    "_test_size = 20"
   ]
  },
  {
   "cell_type": "code",
   "execution_count": 97,
   "metadata": {
    "collapsed": true
   },
   "outputs": [],
   "source": [
    "_random_seed = 7"
   ]
  },
  {
   "cell_type": "code",
   "execution_count": 98,
   "metadata": {
    "collapsed": true
   },
   "outputs": [],
   "source": [
    "_X_train, _X_val, _y_train, _y_val = train_test_split(_X, _y, test_size=_test_size, random_state=_random_seed)"
   ]
  },
  {
   "cell_type": "code",
   "execution_count": 99,
   "metadata": {},
   "outputs": [
    {
     "name": "stdout",
     "output_type": "stream",
     "text": [
      "[[ 1.  0.  1. ...,  1.  4.  1.]\n",
      " [ 3.  0.  1. ...,  0.  4.  1.]\n",
      " [ 1.  0.  4. ...,  0.  4.  1.]\n",
      " ..., \n",
      " [ 1.  1.  1. ...,  1.  2.  1.]\n",
      " [ 3.  0.  1. ...,  2.  4.  1.]\n",
      " [ 3.  0.  1. ...,  0.  4.  0.]] 871 <class 'numpy.ndarray'> (871, 7) 2 float64\n"
     ]
    }
   ],
   "source": [
    "print(_X_train, len(_X_train), type(_X_train), _X_train.shape, _X_train.ndim, _X_train.dtype.name)"
   ]
  },
  {
   "cell_type": "code",
   "execution_count": 100,
   "metadata": {},
   "outputs": [
    {
     "name": "stdout",
     "output_type": "stream",
     "text": [
      "[[ 3.  0.  1.  1.  0.  4.  1.]\n",
      " [ 2.  0.  1.  1.  0.  4.  0.]\n",
      " [ 3.  0.  2.  1.  0.  4.  1.]\n",
      " [ 3.  0.  1.  2.  2.  4.  0.]\n",
      " [ 1.  1.  1.  3.  0.  2.  1.]\n",
      " [ 2.  1.  2.  1.  0.  2.  1.]\n",
      " [ 3.  0.  1.  0.  2.  4.  1.]\n",
      " [ 3.  0.  2.  0.  0.  4.  1.]\n",
      " [ 2.  0.  1.  1.  0.  4.  1.]\n",
      " [ 1.  1.  3.  3.  1.  3.  0.]\n",
      " [ 2.  1.  1.  2.  0.  3.  0.]\n",
      " [ 3.  0.  0.  3.  0.  1.  0.]\n",
      " [ 2.  1.  2.  2.  0.  3.  0.]\n",
      " [ 2.  1.  0.  2.  0.  2.  0.]\n",
      " [ 3.  0.  1.  1.  0.  4.  1.]\n",
      " [ 3.  0.  1.  0.  2.  4.  1.]\n",
      " [ 3.  0.  1.  0.  1.  4.  1.]\n",
      " [ 2.  0.  1.  0.  0.  4.  1.]\n",
      " [ 3.  0.  2.  1.  0.  4.  0.]\n",
      " [ 2.  0.  1.  1.  0.  4.  1.]] 20 <class 'numpy.ndarray'> (20, 7) 2 float64\n"
     ]
    }
   ],
   "source": [
    "print(_X_val, len(_X_val), type(_X_val), _X_val.shape, _X_val.ndim, _X_val.dtype.name)"
   ]
  },
  {
   "cell_type": "code",
   "execution_count": 101,
   "metadata": {},
   "outputs": [
    {
     "name": "stdout",
     "output_type": "stream",
     "text": [
      "[ 1.  0.  1.  1.  0.] 871 <class 'numpy.ndarray'> (871,) 1 float64\n"
     ]
    }
   ],
   "source": [
    "print(_y_train[0:5], len(_y_train), type(_y_train), _y_train.shape, _y_train.ndim, _y_train.dtype.name)"
   ]
  },
  {
   "cell_type": "code",
   "execution_count": 102,
   "metadata": {},
   "outputs": [
    {
     "name": "stdout",
     "output_type": "stream",
     "text": [
      "[ 0.  0.  0.  0.  1.] 20 <class 'numpy.ndarray'> (20,) 1 float64\n"
     ]
    }
   ],
   "source": [
    "print(_y_val[0:5], len(_y_val), type(_y_val), _y_val.shape, _y_val.ndim, _y_val.dtype.name)"
   ]
  },
  {
   "cell_type": "code",
   "execution_count": 103,
   "metadata": {
    "collapsed": true
   },
   "outputs": [],
   "source": [
    "# Evaluate algorithms - baseline"
   ]
  },
  {
   "cell_type": "code",
   "execution_count": 104,
   "metadata": {
    "collapsed": true
   },
   "outputs": [],
   "source": [
    "_num_folds = 10"
   ]
  },
  {
   "cell_type": "code",
   "execution_count": 105,
   "metadata": {
    "collapsed": true
   },
   "outputs": [],
   "source": [
    "_scoring = 'accuracy'"
   ]
  },
  {
   "cell_type": "code",
   "execution_count": 106,
   "metadata": {
    "collapsed": true
   },
   "outputs": [],
   "source": [
    "# spot check algorithms"
   ]
  },
  {
   "cell_type": "code",
   "execution_count": 107,
   "metadata": {},
   "outputs": [],
   "source": [
    "_models = []\n",
    "\n",
    "# linear algorithms\n",
    "_models.append(('LR', LogisticRegression())) \n",
    "_models.append(('LDA', LinearDiscriminantAnalysis())) \n",
    "_models.append(('P', Perceptron()))\n",
    "_models.append(('SGD', SGDClassifier()))\n",
    "_models.append(('LSVC', LinearSVC()))\n",
    "\n",
    "# non-linear algorithms\n",
    "_models.append(('KNN', KNeighborsClassifier())) \n",
    "_models.append(('CART', DecisionTreeClassifier())) \n",
    "_models.append(('NB', GaussianNB())) \n",
    "_models.append(('SVM', SVC()))"
   ]
  },
  {
   "cell_type": "code",
   "execution_count": 108,
   "metadata": {},
   "outputs": [
    {
     "name": "stdout",
     "output_type": "stream",
     "text": [
      "LR: 79.340%, 0.048\n",
      "LDA: 79.688%, 0.055\n",
      "P: 75.205%, 0.050\n",
      "SGD: 72.220%, 0.104\n",
      "LSVC: 79.803%, 0.056\n",
      "KNN: 81.289%, 0.041\n",
      "CART: 81.290%, 0.037\n",
      "NB: 77.850%, 0.050\n",
      "SVM: 81.408%, 0.049\n"
     ]
    }
   ],
   "source": [
    "_results = []\n",
    "_names = []\n",
    "\n",
    "for _name, _model in _models:\n",
    "    _kfold = KFold(n_splits=_num_folds, random_state=_random_seed)\n",
    "    _cv_results = cross_val_score(_model, _X_train, _y_train, cv=_kfold, scoring=_scoring)\n",
    "    _results.append(_cv_results)\n",
    "    _names.append(_name)\n",
    "    _msg = '{}: {:.3%}, {:.3f}'.format(_name, _cv_results.mean(), _cv_results.std())\n",
    "    print(_msg)"
   ]
  },
  {
   "cell_type": "code",
   "execution_count": 109,
   "metadata": {},
   "outputs": [
    {
     "data": {
      "text/plain": [
       "<matplotlib.axes._subplots.AxesSubplot at 0x115336898>"
      ]
     },
     "execution_count": 109,
     "metadata": {},
     "output_type": "execute_result"
    },
    {
     "data": {
      "image/png": "[encoded data removed]",
      "text/plain": [
       "<matplotlib.figure.Figure at 0x1152ffcf8>"
      ]
     },
     "metadata": {},
     "output_type": "display_data"
    }
   ],
   "source": [
    "seaborn.boxplot(_names, _results)"
   ]
  },
  {
   "cell_type": "code",
   "execution_count": 110,
   "metadata": {
    "collapsed": true
   },
   "outputs": [],
   "source": [
    "# Ensemble methods"
   ]
  },
  {
   "cell_type": "code",
   "execution_count": 111,
   "metadata": {
    "collapsed": true
   },
   "outputs": [],
   "source": [
    "# ensembles\n",
    "ensembles = []\n",
    "\n",
    "# boosting methods\n",
    "ensembles.append(('AB', AdaBoostClassifier())) \n",
    "ensembles.append(('GBM', GradientBoostingClassifier())) \n",
    "\n",
    "# bagging methods\n",
    "ensembles.append(('RF', RandomForestClassifier())) \n",
    "ensembles.append(('ET', ExtraTreesClassifier()))"
   ]
  },
  {
   "cell_type": "code",
   "execution_count": 112,
   "metadata": {},
   "outputs": [
    {
     "name": "stdout",
     "output_type": "stream",
     "text": [
      "AB: 79.799%, 0.046\n",
      "GBM: 80.598%, 0.037\n",
      "RF: 81.637%, 0.037\n",
      "ET: 80.717%, 0.038\n"
     ]
    }
   ],
   "source": [
    "_results_en = []\n",
    "_names_en = []\n",
    "\n",
    "for _name, _model in ensembles:\n",
    "    _kfold = KFold(n_splits=_num_folds, random_state=_random_seed)\n",
    "    _cv_results = cross_val_score(_model, _X_train, _y_train, cv=_kfold, scoring=_scoring)\n",
    "    _results_en.append(_cv_results)\n",
    "    _names_en.append(_name)\n",
    "    _msg = '{}: {:.3%}, {:.3f}'.format(_name, _cv_results.mean(), _cv_results.std())\n",
    "    print(_msg)"
   ]
  },
  {
   "cell_type": "code",
   "execution_count": 140,
   "metadata": {},
   "outputs": [
    {
     "data": {
      "text/plain": [
       "<matplotlib.axes._subplots.AxesSubplot at 0x118c5c5f8>"
      ]
     },
     "execution_count": 140,
     "metadata": {},
     "output_type": "execute_result"
    },
    {
     "data": {
      "image/png": "[encoded data removed]",
      "text/plain": [
       "<matplotlib.figure.Figure at 0x118c52400>"
      ]
     },
     "metadata": {},
     "output_type": "display_data"
    }
   ],
   "source": [
    "seaborn.boxplot(x=_names_en, y=_results_en)"
   ]
  },
  {
   "cell_type": "code",
   "execution_count": 141,
   "metadata": {},
   "outputs": [
    {
     "name": "stdout",
     "output_type": "stream",
     "text": [
      "0.95\n",
      "[[14  1]\n",
      " [ 0  5]]\n",
      "             precision    recall  f1-score   support\n",
      "\n",
      "        0.0       1.00      0.93      0.97        15\n",
      "        1.0       0.83      1.00      0.91         5\n",
      "\n",
      "avg / total       0.96      0.95      0.95        20\n",
      "\n"
     ]
    }
   ],
   "source": [
    "# validate\n",
    "_model_val = RandomForestClassifier()\n",
    "_model_val.fit(_X_train, _y_train)\n",
    "\n",
    "# estimate accuracy on val data\n",
    "_pred = _model_val.predict(_X_val)\n",
    "print(accuracy_score(_y_val, _pred))\n",
    "print(confusion_matrix(_y_val, _pred))\n",
    "print(classification_report(_y_val, _pred))"
   ]
  },
  {
   "cell_type": "code",
   "execution_count": 142,
   "metadata": {},
   "outputs": [
    {
     "data": {
      "text/html": [
       "<div>\n",
       "<style>\n",
       "    .dataframe thead tr:only-child th {\n",
       "        text-align: right;\n",
       "    }\n",
       "\n",
       "    .dataframe thead th {\n",
       "        text-align: left;\n",
       "    }\n",
       "\n",
       "    .dataframe tbody tr th {\n",
       "        vertical-align: top;\n",
       "    }\n",
       "</style>\n",
       "<table border=\"1\" class=\"dataframe\">\n",
       "  <thead>\n",
       "    <tr style=\"text-align: right;\">\n",
       "      <th></th>\n",
       "      <th>PassengerId</th>\n",
       "      <th>Pclass</th>\n",
       "      <th>Sex</th>\n",
       "      <th>Age</th>\n",
       "      <th>Fare</th>\n",
       "      <th>Embarked</th>\n",
       "      <th>Title</th>\n",
       "      <th>IsAlone</th>\n",
       "    </tr>\n",
       "  </thead>\n",
       "  <tbody>\n",
       "    <tr>\n",
       "      <th>0</th>\n",
       "      <td>892</td>\n",
       "      <td>3</td>\n",
       "      <td>0</td>\n",
       "      <td>2</td>\n",
       "      <td>0</td>\n",
       "      <td>2</td>\n",
       "      <td>4.0</td>\n",
       "      <td>1</td>\n",
       "    </tr>\n",
       "    <tr>\n",
       "      <th>1</th>\n",
       "      <td>893</td>\n",
       "      <td>3</td>\n",
       "      <td>1</td>\n",
       "      <td>3</td>\n",
       "      <td>0</td>\n",
       "      <td>0</td>\n",
       "      <td>3.0</td>\n",
       "      <td>0</td>\n",
       "    </tr>\n",
       "    <tr>\n",
       "      <th>2</th>\n",
       "      <td>894</td>\n",
       "      <td>2</td>\n",
       "      <td>0</td>\n",
       "      <td>4</td>\n",
       "      <td>1</td>\n",
       "      <td>2</td>\n",
       "      <td>4.0</td>\n",
       "      <td>1</td>\n",
       "    </tr>\n",
       "    <tr>\n",
       "      <th>3</th>\n",
       "      <td>895</td>\n",
       "      <td>3</td>\n",
       "      <td>0</td>\n",
       "      <td>1</td>\n",
       "      <td>1</td>\n",
       "      <td>0</td>\n",
       "      <td>4.0</td>\n",
       "      <td>1</td>\n",
       "    </tr>\n",
       "    <tr>\n",
       "      <th>4</th>\n",
       "      <td>896</td>\n",
       "      <td>3</td>\n",
       "      <td>1</td>\n",
       "      <td>1</td>\n",
       "      <td>1</td>\n",
       "      <td>0</td>\n",
       "      <td>3.0</td>\n",
       "      <td>0</td>\n",
       "    </tr>\n",
       "  </tbody>\n",
       "</table>\n",
       "</div>"
      ],
      "text/plain": [
       "   PassengerId  Pclass  Sex  Age  Fare  Embarked  Title  IsAlone\n",
       "0          892       3    0    2     0         2    4.0        1\n",
       "1          893       3    1    3     0         0    3.0        0\n",
       "2          894       2    0    4     1         2    4.0        1\n",
       "3          895       3    0    1     1         0    4.0        1\n",
       "4          896       3    1    1     1         0    3.0        0"
      ]
     },
     "execution_count": 142,
     "metadata": {},
     "output_type": "execute_result"
    }
   ],
   "source": [
    "_df_test.head()"
   ]
  },
  {
   "cell_type": "code",
   "execution_count": 143,
   "metadata": {
    "collapsed": true
   },
   "outputs": [],
   "source": [
    "_arr_test = _df_test.values"
   ]
  },
  {
   "cell_type": "code",
   "execution_count": 144,
   "metadata": {},
   "outputs": [
    {
     "name": "stdout",
     "output_type": "stream",
     "text": [
      "[[ 892.    3.    0.    2.    0.    2.    4.    1.]\n",
      " [ 893.    3.    1.    3.    0.    0.    3.    0.]\n",
      " [ 894.    2.    0.    4.    1.    2.    4.    1.]\n",
      " [ 895.    3.    0.    1.    1.    0.    4.    1.]\n",
      " [ 896.    3.    1.    1.    1.    0.    3.    0.]] 418 <class 'numpy.ndarray'> (418, 8) 2 float64\n"
     ]
    }
   ],
   "source": [
    "print_ndim_array(_arr_test)"
   ]
  },
  {
   "cell_type": "code",
   "execution_count": 145,
   "metadata": {
    "collapsed": true
   },
   "outputs": [],
   "source": [
    "_X_test = _arr_test[:,1:]"
   ]
  },
  {
   "cell_type": "code",
   "execution_count": 146,
   "metadata": {},
   "outputs": [
    {
     "name": "stdout",
     "output_type": "stream",
     "text": [
      "[[ 3.  0.  2.  0.  2.  4.  1.]\n",
      " [ 3.  1.  3.  0.  0.  3.  0.]\n",
      " [ 2.  0.  4.  1.  2.  4.  1.]\n",
      " [ 3.  0.  1.  1.  0.  4.  1.]\n",
      " [ 3.  1.  1.  1.  0.  3.  0.]] 418 <class 'numpy.ndarray'> (418, 7) 2 float64\n"
     ]
    }
   ],
   "source": [
    "print_ndim_array(_X_test)"
   ]
  },
  {
   "cell_type": "code",
   "execution_count": 147,
   "metadata": {
    "collapsed": true
   },
   "outputs": [],
   "source": [
    "_pred_test = (_model_val.predict(_X_test)).astype(int)"
   ]
  },
  {
   "cell_type": "code",
   "execution_count": 148,
   "metadata": {},
   "outputs": [
    {
     "name": "stdout",
     "output_type": "stream",
     "text": [
      "[0 0 0 0 1] 418 <class 'numpy.ndarray'> (418,) 1 int64\n"
     ]
    }
   ],
   "source": [
    "print_1dim_array(_pred_test)"
   ]
  },
  {
   "cell_type": "code",
   "execution_count": 149,
   "metadata": {
    "collapsed": true
   },
   "outputs": [],
   "source": [
    "_passenger_id = _arr_test[:,0:1]"
   ]
  },
  {
   "cell_type": "code",
   "execution_count": 150,
   "metadata": {},
   "outputs": [
    {
     "name": "stdout",
     "output_type": "stream",
     "text": [
      "[[ 892.]\n",
      " [ 893.]\n",
      " [ 894.]\n",
      " [ 895.]\n",
      " [ 896.]] 418 <class 'numpy.ndarray'> (418, 1) 2 float64\n"
     ]
    }
   ],
   "source": [
    "print_ndim_array(_passenger_id)"
   ]
  },
  {
   "cell_type": "code",
   "execution_count": 151,
   "metadata": {
    "collapsed": true
   },
   "outputs": [],
   "source": [
    "_passenger_id = numpy.ravel(_passenger_id.astype(int))"
   ]
  },
  {
   "cell_type": "code",
   "execution_count": 152,
   "metadata": {},
   "outputs": [
    {
     "name": "stdout",
     "output_type": "stream",
     "text": [
      "[892 893 894 895 896] 418 <class 'numpy.ndarray'> (418,) 1 int64\n"
     ]
    }
   ],
   "source": [
    "print_1dim_array(_passenger_id)"
   ]
  },
  {
   "cell_type": "code",
   "execution_count": 153,
   "metadata": {},
   "outputs": [],
   "source": [
    "_gender_submission = pandas.DataFrame({'PassengerId':_passenger_id, 'Survived':_pred_test})"
   ]
  },
  {
   "cell_type": "code",
   "execution_count": 154,
   "metadata": {},
   "outputs": [
    {
     "data": {
      "text/html": [
       "<div>\n",
       "<style>\n",
       "    .dataframe thead tr:only-child th {\n",
       "        text-align: right;\n",
       "    }\n",
       "\n",
       "    .dataframe thead th {\n",
       "        text-align: left;\n",
       "    }\n",
       "\n",
       "    .dataframe tbody tr th {\n",
       "        vertical-align: top;\n",
       "    }\n",
       "</style>\n",
       "<table border=\"1\" class=\"dataframe\">\n",
       "  <thead>\n",
       "    <tr style=\"text-align: right;\">\n",
       "      <th></th>\n",
       "      <th>PassengerId</th>\n",
       "      <th>Survived</th>\n",
       "    </tr>\n",
       "  </thead>\n",
       "  <tbody>\n",
       "    <tr>\n",
       "      <th>0</th>\n",
       "      <td>892</td>\n",
       "      <td>0</td>\n",
       "    </tr>\n",
       "    <tr>\n",
       "      <th>1</th>\n",
       "      <td>893</td>\n",
       "      <td>0</td>\n",
       "    </tr>\n",
       "    <tr>\n",
       "      <th>2</th>\n",
       "      <td>894</td>\n",
       "      <td>0</td>\n",
       "    </tr>\n",
       "    <tr>\n",
       "      <th>3</th>\n",
       "      <td>895</td>\n",
       "      <td>0</td>\n",
       "    </tr>\n",
       "    <tr>\n",
       "      <th>4</th>\n",
       "      <td>896</td>\n",
       "      <td>1</td>\n",
       "    </tr>\n",
       "  </tbody>\n",
       "</table>\n",
       "</div>"
      ],
      "text/plain": [
       "   PassengerId  Survived\n",
       "0          892         0\n",
       "1          893         0\n",
       "2          894         0\n",
       "3          895         0\n",
       "4          896         1"
      ]
     },
     "execution_count": 154,
     "metadata": {},
     "output_type": "execute_result"
    }
   ],
   "source": [
    "_gender_submission.head()"
   ]
  },
  {
   "cell_type": "code",
   "execution_count": 156,
   "metadata": {
    "collapsed": true
   },
   "outputs": [],
   "source": [
    "_gender_submission.to_csv('gender_submission.csv', index = False)"
   ]
  },
  {
   "cell_type": "code",
   "execution_count": null,
   "metadata": {
    "collapsed": true
   },
   "outputs": [],
   "source": []
  }
 ],
 "metadata": {
  "kernelspec": {
   "display_name": "Python 3",
   "language": "python",
   "name": "python3"
  },
  "language_info": {
   "codemirror_mode": {
    "name": "ipython",
    "version": 3
   },
   "file_extension": ".py",
   "mimetype": "text/x-python",
   "name": "python",
   "nbconvert_exporter": "python",
   "pygments_lexer": "ipython3",
   "version": "3.6.1"
  }
 },
 "nbformat": 4,
 "nbformat_minor": 2
}
