{
 "cells": [
  {
   "cell_type": "markdown",
   "metadata": {},
   "source": [
    "+ [MOOC Home](http://course.fast.ai/index.html)\n",
    "+ [MOOC Blog](http://www.fast.ai/)\n",
    "+ [Getting Started](http://course.fast.ai/start.html)\n",
    "+ [Video Lessons](http://course.fast.ai/lessons/lessons.html)\n",
    "+ [Notebooks](https://github.com/fastai/courses/tree/master/deeplearning1/nbs)\n",
    "+ [Course Notes](http://wiki.fast.ai/index.php/Lesson_1_Notes)\n",
    "+ [Homework Assignments](http://wiki.fast.ai/index.php/Lesson_1#Overview_of_homework_assignment)\n",
    "+ [Forum](http://forums.fast.ai/)\n",
    "+ [Wiki](http://wiki.fast.ai/index.php/Main_Page)"
   ]
  },
  {
   "cell_type": "code",
   "execution_count": null,
   "metadata": {
    "collapsed": true
   },
   "outputs": [],
   "source": []
  }
 ],
 "metadata": {
  "kernelspec": {
   "display_name": "Python [default]",
   "language": "python",
   "name": "python3"
  },
  "language_info": {
   "codemirror_mode": {
    "name": "ipython",
    "version": 3
   },
   "file_extension": ".py",
   "mimetype": "text/x-python",
   "name": "python",
   "nbconvert_exporter": "python",
   "pygments_lexer": "ipython3",
   "version": "3.5.3"
  }
 },
 "nbformat": 4,
 "nbformat_minor": 2
}
