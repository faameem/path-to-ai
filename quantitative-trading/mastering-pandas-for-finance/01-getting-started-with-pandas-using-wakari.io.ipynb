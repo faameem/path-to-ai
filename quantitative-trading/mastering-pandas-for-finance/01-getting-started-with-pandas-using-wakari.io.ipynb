{
 "cells": [
  {
   "cell_type": "markdown",
   "metadata": {
    "collapsed": true
   },
   "source": [
    "+ [Continuum-Anaconda-Wakari](https://www.continuum.io/anaconda-enterprise-notebooks)"
   ]
  },
  {
   "cell_type": "markdown",
   "metadata": {},
   "source": [
    "The book exercises can be on Wakari.io cloud (free service) or local Anaconda installation.\n",
    "\n",
    "The specific packages that either need updating or installing are as follows:\n",
    "\n",
    "+ matplotlib [conda update matplotlib]\n",
    "+ Zipline [conda install -c Quantopian zipline]\n",
    "    + Zipline is a backtesting/trading simulator.\n",
    "    + Had errors with above, so went to https://pypi.python.org/pypi/zipline\n",
    "    + Right clicked on button and copy url\n",
    "    + In Anaconda3 prompt: > pip install (uri from above)\n",
    "    + Still had errors\n",
    "    + Downloaded the gz file\n",
    "    + unzipped it in a directory accessible by Anaconda3 prompt\n",
    "    + Found setup.py file\n",
    "    + Ran: > python setup.py install\n",
    "    + it installed without errors\n",
    "    + Then tried in the notebook: import zipline\n",
    "    + Got error for bcolz module not found\n",
    "    + Did: pip install bcolz\n",
    "    + In the notebook, import was fine after that: import zipline\n",
    "+ Quandl [conda install quandl]\n",
    "    +  [Quandl](https://www.quandl.com/) is a provider of data that you can integrate into your applications via download or the API. \n",
    "    + The Python API that we will use to access S&P 500 data is free.\n",
    "+ html5lib [conda install html5lib]\n",
    "    + The samples do not use html5lib directly, but other libraries do use it indirectly. \n",
    "    + We will use these libraries to read and parse data.\n",
    "+ Mibian [pip install mibian]\n",
    "    + A small library that computes Black-Scholes and its derivatives.\n",
    "+ tzlocal [pip install tzlocal]"
   ]
  },
  {
   "cell_type": "code",
   "execution_count": 2,
   "metadata": {},
   "outputs": [],
   "source": [
    "import zipline"
   ]
  },
  {
   "cell_type": "code",
   "execution_count": null,
   "metadata": {
    "collapsed": true
   },
   "outputs": [],
   "source": []
  }
 ],
 "metadata": {
  "kernelspec": {
   "display_name": "Python [conda root]",
   "language": "python",
   "name": "conda-root-py"
  },
  "language_info": {
   "codemirror_mode": {
    "name": "ipython",
    "version": 3
   },
   "file_extension": ".py",
   "mimetype": "text/x-python",
   "name": "python",
   "nbconvert_exporter": "python",
   "pygments_lexer": "ipython3",
   "version": "3.5.3"
  }
 },
 "nbformat": 4,
 "nbformat_minor": 2
}
