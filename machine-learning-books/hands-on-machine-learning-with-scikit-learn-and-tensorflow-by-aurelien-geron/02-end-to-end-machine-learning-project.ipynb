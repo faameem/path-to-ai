{
 "cells": [
  {
   "cell_type": "markdown",
   "metadata": {},
   "source": [
    "> * [Code Notebook](https://github.com/ageron/handson-ml/blob/master/02_end_to_end_machine_learning_project.ipynb)\n",
    "\n",
    "### Working with Real Data ###\n",
    "\n",
    "* When you are learning about Machine Learning it is best to actually experiment with real-world data, not just artificial datasets. Here are a few places you can look to get data:\n",
    "    > * Popular open data repositories:\n",
    "        * UC Irvine Machine Learning Repository\n",
    "        * Kaggle datasets\n",
    "        * Amazon’s AWS datasets\n",
    "    > * Meta portals (they list open data repositories):\n",
    "        * http://dataportals.org/\n",
    "        * http://opendatamonitor.eu/\n",
    "        * http://quandl.com/\n",
    "    > * Other pages listing many popular open data repositories:\n",
    "        * Wikipedia’s list of Machine Learning datasets\n",
    "        * Quora.com question\n",
    "        * Datasets subreddit"
   ]
  },
  {
   "cell_type": "code",
   "execution_count": null,
   "metadata": {
    "collapsed": true
   },
   "outputs": [],
   "source": []
  }
 ],
 "metadata": {
  "kernelspec": {
   "display_name": "Python [conda root]",
   "language": "python",
   "name": "conda-root-py"
  },
  "language_info": {
   "codemirror_mode": {
    "name": "ipython",
    "version": 3
   },
   "file_extension": ".py",
   "mimetype": "text/x-python",
   "name": "python",
   "nbconvert_exporter": "python",
   "pygments_lexer": "ipython3",
   "version": "3.5.3"
  }
 },
 "nbformat": 4,
 "nbformat_minor": 2
}
