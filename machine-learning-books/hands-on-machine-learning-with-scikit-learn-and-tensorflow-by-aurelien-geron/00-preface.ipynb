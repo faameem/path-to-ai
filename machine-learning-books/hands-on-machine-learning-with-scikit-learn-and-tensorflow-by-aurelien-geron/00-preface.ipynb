{
 "cells": [
  {
   "cell_type": "markdown",
   "metadata": {},
   "source": [
    "# Resources #\n",
    "\n",
    "* [Code]( https://github.com/ageron/handson-ml) \n",
    "\n",
    "\n",
    "\n",
    "* [Andrew Ng’s ML course on Coursera](https://www.coursera.org/learn/machine-learning/)\n",
    "* [Geoffrey Hinton’s course on neural networks and Deep Learning](https://www.coursera.org/course/neuralnets)\n",
    "\n",
    "\n",
    "\n",
    "* [Scikit-Learn’s User Guide](http://scikit-learn.org/stable/user_guide.html)\n",
    "* [TensorFlow](https://www.tensorflow.org/)\n",
    "* [Deep Learning](http://deeplearning.net/)\n",
    "\n",
    "\n",
    "\n",
    "\n",
    "* Data Science from Scratch by Joel Grus\n",
    "* Machine Learning: An Algorithmic Perspective by Stephen Marsland\n",
    "* Python Machine Learning by Sebastian Raschka\n",
    "* Learning from Data by Yaser S. Abu-Mostafa, Malik Magdon-Ismail, and Hsuan-Tien Lin\n",
    "* Artificial Intelligence: A Modern Approach, 3rd Edition by Stuart Russell and Peter Norvig\n",
    "\n",
    "\n",
    "\n",
    "\n",
    "* Kaggle"
   ]
  },
  {
   "cell_type": "code",
   "execution_count": null,
   "metadata": {
    "collapsed": true
   },
   "outputs": [],
   "source": []
  }
 ],
 "metadata": {
  "kernelspec": {
   "display_name": "Python 3",
   "language": "python",
   "name": "python3"
  },
  "language_info": {
   "codemirror_mode": {
    "name": "ipython",
    "version": 3
   },
   "file_extension": ".py",
   "mimetype": "text/x-python",
   "name": "python",
   "nbconvert_exporter": "python",
   "pygments_lexer": "ipython3",
   "version": "3.6.1"
  }
 },
 "nbformat": 4,
 "nbformat_minor": 2
}
