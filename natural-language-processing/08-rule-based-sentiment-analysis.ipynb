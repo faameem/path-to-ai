{
 "cells": [
  {
   "cell_type": "code",
   "execution_count": 1,
   "metadata": {
    "collapsed": true
   },
   "outputs": [],
   "source": [
    "import nltk"
   ]
  },
  {
   "cell_type": "code",
   "execution_count": 2,
   "metadata": {
    "collapsed": false
   },
   "outputs": [],
   "source": [
    "from nltk.sentiment import vader"
   ]
  },
  {
   "cell_type": "code",
   "execution_count": 3,
   "metadata": {
    "collapsed": true
   },
   "outputs": [],
   "source": [
    "# in anaconda cmd or bin dir: python -m nltk.downloader vader_lexicon\n",
    "\n",
    "_sia = vader.SentimentIntensityAnalyzer()"
   ]
  },
  {
   "cell_type": "code",
   "execution_count": 4,
   "metadata": {
    "collapsed": false
   },
   "outputs": [
    {
     "name": "stdout",
     "output_type": "stream",
     "text": [
      "How terrible: {'compound': -0.4767, 'pos': 0.0, 'neu': 0.244, 'neg': 0.756}\n",
      "terrible: {'compound': -0.4767, 'pos': 0.0, 'neu': 0.0, 'neg': 1.0}\n",
      ":D: {'compound': 0.5106, 'pos': 1.0, 'neu': 0.0, 'neg': 0.0}\n",
      ":-/: {'compound': -0.296, 'pos': 0.0, 'neu': 0.0, 'neg': 1.0}\n",
      "the cumin was the kiss of death: {'compound': -0.6124, 'pos': 0.0, 'neu': 0.5, 'neg': 0.5}\n",
      "the food was good: {'compound': 0.4404, 'pos': 0.492, 'neu': 0.508, 'neg': 0.0}\n",
      "the food was good!: {'compound': 0.4926, 'pos': 0.516, 'neu': 0.484, 'neg': 0.0}\n",
      "the food was good!!: {'compound': 0.5399, 'pos': 0.537, 'neu': 0.463, 'neg': 0.0}\n",
      "the food was not good!!: {'compound': -0.457, 'pos': 0.0, 'neu': 0.572, 'neg': 0.428}\n",
      "the food was not the worst!!: {'compound': 0.5964, 'pos': 0.437, 'neu': 0.563, 'neg': 0.0}\n",
      "the food was good: {'compound': 0.4404, 'pos': 0.492, 'neu': 0.508, 'neg': 0.0}\n",
      "the food was GOOD: {'compound': 0.5622, 'pos': 0.548, 'neu': 0.452, 'neg': 0.0}\n",
      "the food was so good: {'compound': 0.5777, 'pos': 0.483, 'neu': 0.517, 'neg': 0.0}\n",
      "I usually hate seafood but I liked this: {'compound': 0.3291, 'pos': 0.368, 'neu': 0.398, 'neg': 0.234}\n",
      "I usually hate seafood and I liked this: {'compound': -0.2263, 'pos': 0.267, 'neu': 0.381, 'neg': 0.352}\n"
     ]
    }
   ],
   "source": [
    "# polarity scores for different phrases\n",
    "\n",
    "print('How terrible: {}'.format(_sia.polarity_scores('How terrible')))\n",
    "print('terrible: {}'.format(_sia.polarity_scores('terrible')))\n",
    "print(':D: {}'.format(_sia.polarity_scores(':D')))\n",
    "print(':-/: {}'.format(_sia.polarity_scores(':-/')))\n",
    "print('the cumin was the kiss of death: {}'.format(_sia.polarity_scores('the cumin was the kiss of death')))\n",
    "print('the food was good: {}'.format(_sia.polarity_scores('the food was good')))\n",
    "print('the food was good!: {}'.format(_sia.polarity_scores('the food was good!')))\n",
    "print('the food was good!!: {}'.format(_sia.polarity_scores('the food was good!!')))\n",
    "print('the food was not good!!: {}'.format(_sia.polarity_scores('the food was not good!!')))\n",
    "print('the food was not the worst!!: {}'.format(_sia.polarity_scores('the food was not the worst!!')))\n",
    "print('the food was good: {}'.format(_sia.polarity_scores('the food was good')))\n",
    "print('the food was GOOD: {}'.format(_sia.polarity_scores('the food was GOOD')))\n",
    "print('the food was so good: {}'.format(_sia.polarity_scores('the food was so good')))\n",
    "print('I usually hate seafood but I liked this: {}'.format(_sia.polarity_scores('I usually hate seafood but I liked this')))\n",
    "print('I usually hate seafood and I liked this: {}'.format(_sia.polarity_scores('I usually hate seafood and I liked this')))"
   ]
  },
  {
   "cell_type": "code",
   "execution_count": 5,
   "metadata": {
    "collapsed": false
   },
   "outputs": [],
   "source": [
    "from nltk.corpus import sentiwordnet as swn"
   ]
  },
  {
   "cell_type": "code",
   "execution_count": 6,
   "metadata": {
    "collapsed": false
   },
   "outputs": [
    {
     "data": {
      "text/plain": [
       "<filter at 0x111cba20>"
      ]
     },
     "execution_count": 6,
     "metadata": {},
     "output_type": "execute_result"
    }
   ],
   "source": [
    "# in anaconda cmd or bin dir: python -m nltk.downloader sentiwordnet\n",
    "\n",
    "#print('dog: {}'.format(swn.senti_synsets('dog')))\n",
    "swn.senti_synsets('dog')"
   ]
  },
  {
   "cell_type": "code",
   "execution_count": 7,
   "metadata": {
    "collapsed": false
   },
   "outputs": [
    {
     "name": "stdout",
     "output_type": "stream",
     "text": [
      "<dog.n.01: PosScore=0.0 NegScore=0.0>\n",
      "<frump.n.01: PosScore=0.0 NegScore=0.5>\n",
      "<dog.n.03: PosScore=0.0 NegScore=0.0>\n",
      "<cad.n.01: PosScore=0.0 NegScore=1.0>\n",
      "<frank.n.02: PosScore=0.0 NegScore=0.0>\n",
      "<pawl.n.01: PosScore=0.0 NegScore=0.0>\n",
      "<andiron.n.01: PosScore=0.0 NegScore=0.0>\n",
      "<chase.v.01: PosScore=0.0 NegScore=0.0>\n"
     ]
    }
   ],
   "source": [
    "for ss in swn.senti_synsets('dog'):\n",
    "    print(ss)"
   ]
  },
  {
   "cell_type": "code",
   "execution_count": 8,
   "metadata": {
    "collapsed": false
   },
   "outputs": [
    {
     "data": {
      "text/plain": [
       "[SentiSynset('dog.n.01'),\n",
       " SentiSynset('frump.n.01'),\n",
       " SentiSynset('dog.n.03'),\n",
       " SentiSynset('cad.n.01'),\n",
       " SentiSynset('frank.n.02'),\n",
       " SentiSynset('pawl.n.01'),\n",
       " SentiSynset('andiron.n.01'),\n",
       " SentiSynset('chase.v.01')]"
      ]
     },
     "execution_count": 8,
     "metadata": {},
     "output_type": "execute_result"
    }
   ],
   "source": [
    "list_dog = list(swn.senti_synsets('dog'))\n",
    "list_dog"
   ]
  },
  {
   "cell_type": "code",
   "execution_count": 9,
   "metadata": {
    "collapsed": false
   },
   "outputs": [
    {
     "data": {
      "text/plain": [
       "SentiSynset('dog.n.03')"
      ]
     },
     "execution_count": 9,
     "metadata": {},
     "output_type": "execute_result"
    }
   ],
   "source": [
    "list_dog[2]"
   ]
  },
  {
   "cell_type": "code",
   "execution_count": 10,
   "metadata": {
    "collapsed": true
   },
   "outputs": [],
   "source": [
    "def vader_sentiment(_review):\n",
    "  return _sia.polarity_scores(_review)['compound']"
   ]
  },
  {
   "cell_type": "code",
   "execution_count": 11,
   "metadata": {
    "collapsed": false
   },
   "outputs": [
    {
     "data": {
      "text/plain": [
       "0.6369"
      ]
     },
     "execution_count": 11,
     "metadata": {},
     "output_type": "execute_result"
    }
   ],
   "source": [
    "_review = \"this is the best restaurant in the city\"\n",
    "vader_sentiment(_review)"
   ]
  },
  {
   "cell_type": "code",
   "execution_count": 12,
   "metadata": {
    "collapsed": false
   },
   "outputs": [
    {
     "data": {
      "text/plain": [
       "-0.5216"
      ]
     },
     "execution_count": 12,
     "metadata": {},
     "output_type": "execute_result"
    }
   ],
   "source": [
    "_negatedReview = \"this is not the best restaurant in the city\"\n",
    "vader_sentiment(_negatedReview)"
   ]
  },
  {
   "cell_type": "code",
   "execution_count": 13,
   "metadata": {
    "collapsed": false
   },
   "outputs": [
    {
     "data": {
      "text/plain": [
       "0.5096"
      ]
     },
     "execution_count": 13,
     "metadata": {},
     "output_type": "execute_result"
    }
   ],
   "source": [
    "_negatedReview = \"this is not the worst restaurant in the city\"\n",
    "vader_sentiment(_negatedReview)"
   ]
  },
  {
   "cell_type": "code",
   "execution_count": 14,
   "metadata": {
    "collapsed": false
   },
   "outputs": [],
   "source": [
    "# pos reviews\n",
    "\n",
    "import os, glob\n",
    "\n",
    "_pos_rev_path = 'U:/GitHubHome/path-to-ai/natural-language-processing/data/review_polarity.tar/review_polarity/txt_sentoken/pos'\n",
    "_pos_revs = []\n",
    "for _idx, _infile in enumerate(glob.glob(os.path.join(_pos_rev_path,'*.txt'))):\n",
    "    _pos_rev = open(_infile, 'r')\n",
    "    _pos_rev_lines = _pos_rev.readlines()    \n",
    "    _pos_revs.append((str(_idx) + ': ' + _infile, ''.join(_pos_rev_lines))) # join list of lines read into a string\n",
    "    _pos_rev.close()"
   ]
  },
  {
   "cell_type": "code",
   "execution_count": 15,
   "metadata": {
    "collapsed": false
   },
   "outputs": [
    {
     "data": {
      "text/plain": [
       "1000"
      ]
     },
     "execution_count": 15,
     "metadata": {},
     "output_type": "execute_result"
    }
   ],
   "source": [
    "len(_pos_revs)"
   ]
  },
  {
   "cell_type": "code",
   "execution_count": 16,
   "metadata": {
    "collapsed": false
   },
   "outputs": [
    {
     "data": {
      "text/plain": [
       "'0: U:/GitHubHome/path-to-ai/natural-language-processing/data/review_polarity.tar/review_polarity/txt_sentoken/pos\\\\cv000_29590.txt'"
      ]
     },
     "execution_count": 16,
     "metadata": {},
     "output_type": "execute_result"
    }
   ],
   "source": [
    "# first pos rev file name\n",
    "_pos_revs[0][0]"
   ]
  },
  {
   "cell_type": "code",
   "execution_count": 17,
   "metadata": {
    "collapsed": false
   },
   "outputs": [
    {
     "data": {
      "text/plain": [
       "'films adapted from comic books have had plenty of success , whether they\\'re about superheroes ( batman , superman , spawn ) , or geared toward kids ( casper ) or the arthouse crowd ( ghost world ) , but there\\'s never really been a comic book like from hell before . \\nfor starters , it was created by alan moore ( and eddie campbell ) , who brought the medium to a whole new level in the mid \\'80s with a 12-part series called the watchmen . \\nto say moore and campbell thoroughly researched the subject of jack the ripper would be like saying michael jackson is starting to look a little odd . \\nthe book ( or \" graphic novel , \" if you will ) is over 500 pages long and includes nearly 30 more that consist of nothing but footnotes . \\nin other words , don\\'t dismiss this film because of its source . \\nif you can get past the whole comic book thing , you might find another stumbling block in from hell\\'s directors , albert and allen hughes . \\ngetting the hughes brothers to direct this seems almost as ludicrous as casting carrot top in , well , anything , but riddle me this : who better to direct a film that\\'s set in the ghetto and features really violent street crime than the mad geniuses behind menace ii society ? \\nthe ghetto in question is , of course , whitechapel in 1888 london\\'s east end . \\nit\\'s a filthy , sooty place where the whores ( called \" unfortunates \" ) are starting to get a little nervous about this mysterious psychopath who has been carving through their profession with surgical precision . \\nwhen the first stiff turns up , copper peter godley ( robbie coltrane , the world is not enough ) calls in inspector frederick abberline ( johnny depp , blow ) to crack the case . \\nabberline , a widower , has prophetic dreams he unsuccessfully tries to quell with copious amounts of absinthe and opium . \\nupon arriving in whitechapel , he befriends an unfortunate named mary kelly ( heather graham , say it isn\\'t so ) and proceeds to investigate the horribly gruesome crimes that even the police surgeon can\\'t stomach . \\ni don\\'t think anyone needs to be briefed on jack the ripper , so i won\\'t go into the particulars here , other than to say moore and campbell have a unique and interesting theory about both the identity of the killer and the reasons he chooses to slay . \\nin the comic , they don\\'t bother cloaking the identity of the ripper , but screenwriters terry hayes ( vertical limit ) and rafael yglesias ( les mis ? rables ) do a good job of keeping him hidden from viewers until the very end . \\nit\\'s funny to watch the locals blindly point the finger of blame at jews and indians because , after all , an englishman could never be capable of committing such ghastly acts . \\nand from hell\\'s ending had me whistling the stonecutters song from the simpsons for days ( \" who holds back the electric car/who made steve guttenberg a star ? \" ) . \\ndon\\'t worry - it\\'ll all make sense when you see it . \\nnow onto from hell\\'s appearance : it\\'s certainly dark and bleak enough , and it\\'s surprising to see how much more it looks like a tim burton film than planet of the apes did ( at times , it seems like sleepy hollow 2 ) . \\nthe print i saw wasn\\'t completely finished ( both color and music had not been finalized , so no comments about marilyn manson ) , but cinematographer peter deming ( don\\'t say a word ) ably captures the dreariness of victorian-era london and helped make the flashy killing scenes remind me of the crazy flashbacks in twin peaks , even though the violence in the film pales in comparison to that in the black-and-white comic . \\noscar winner martin childs\\' ( shakespeare in love ) production design turns the original prague surroundings into one creepy place . \\neven the acting in from hell is solid , with the dreamy depp turning in a typically strong performance and deftly handling a british accent . \\nians holm ( joe gould\\'s secret ) and richardson ( 102 dalmatians ) log in great supporting roles , but the big surprise here is graham . \\ni cringed the first time she opened her mouth , imagining her attempt at an irish accent , but it actually wasn\\'t half bad . \\nthe film , however , is all good . \\n2 : 00 - r for strong violence/gore , sexuality , language and drug content \\n'"
      ]
     },
     "execution_count": 17,
     "metadata": {},
     "output_type": "execute_result"
    }
   ],
   "source": [
    "# first pos rev file content\n",
    "_pos_revs[0][1]"
   ]
  },
  {
   "cell_type": "code",
   "execution_count": 18,
   "metadata": {
    "collapsed": false
   },
   "outputs": [],
   "source": [
    "# neg reviews\n",
    "\n",
    "_neg_rev_path = 'U:/GitHubHome/path-to-ai/natural-language-processing/data/review_polarity.tar/review_polarity/txt_sentoken/neg'\n",
    "_neg_revs = []\n",
    "for _idx, _infile in enumerate(glob.glob(os.path.join(_neg_rev_path,'*.txt'))):\n",
    "    _neg_rev = open(_infile, 'r')\n",
    "    _neg_rev_lines = _neg_rev.readlines()    \n",
    "    _neg_revs.append((str(_idx) + ': ' + _infile, ''.join(_neg_rev_lines))) # join the list of lines read into a string\n",
    "    _neg_rev.close()"
   ]
  },
  {
   "cell_type": "code",
   "execution_count": 19,
   "metadata": {
    "collapsed": false
   },
   "outputs": [
    {
     "data": {
      "text/plain": [
       "1000"
      ]
     },
     "execution_count": 19,
     "metadata": {},
     "output_type": "execute_result"
    }
   ],
   "source": [
    "len(_neg_revs)"
   ]
  },
  {
   "cell_type": "code",
   "execution_count": 20,
   "metadata": {
    "collapsed": false
   },
   "outputs": [
    {
     "data": {
      "text/plain": [
       "'0: U:/GitHubHome/path-to-ai/natural-language-processing/data/review_polarity.tar/review_polarity/txt_sentoken/neg\\\\cv000_29416.txt'"
      ]
     },
     "execution_count": 20,
     "metadata": {},
     "output_type": "execute_result"
    }
   ],
   "source": [
    "_neg_revs[0][0]"
   ]
  },
  {
   "cell_type": "code",
   "execution_count": 21,
   "metadata": {
    "collapsed": false
   },
   "outputs": [
    {
     "data": {
      "text/plain": [
       "'plot : two teen couples go to a church party , drink and then drive . \\nthey get into an accident . \\none of the guys dies , but his girlfriend continues to see him in her life , and has nightmares . \\nwhat\\'s the deal ? \\nwatch the movie and \" sorta \" find out . . . \\ncritique : a mind-fuck movie for the teen generation that touches on a very cool idea , but presents it in a very bad package . \\nwhich is what makes this review an even harder one to write , since i generally applaud films which attempt to break the mold , mess with your head and such ( lost highway & memento ) , but there are good and bad ways of making all types of films , and these folks just didn\\'t snag this one correctly . \\nthey seem to have taken this pretty neat concept , but executed it terribly . \\nso what are the problems with the movie ? \\nwell , its main problem is that it\\'s simply too jumbled . \\nit starts off \" normal \" but then downshifts into this \" fantasy \" world in which you , as an audience member , have no idea what\\'s going on . \\nthere are dreams , there are characters coming back from the dead , there are others who look like the dead , there are strange apparitions , there are disappearances , there are a looooot of chase scenes , there are tons of weird things that happen , and most of it is simply not explained . \\nnow i personally don\\'t mind trying to unravel a film every now and then , but when all it does is give me the same clue over and over again , i get kind of fed up after a while , which is this film\\'s biggest problem . \\nit\\'s obviously got this big secret to hide , but it seems to want to hide it completely until its final five minutes . \\nand do they make things entertaining , thrilling or even engaging , in the meantime ? \\nnot really . \\nthe sad part is that the arrow and i both dig on flicks like this , so we actually figured most of it out by the half-way point , so all of the strangeness after that did start to make a little bit of sense , but it still didn\\'t the make the film all that more entertaining . \\ni guess the bottom line with movies like this is that you should always make sure that the audience is \" into it \" even before they are given the secret password to enter your world of understanding . \\ni mean , showing melissa sagemiller running away from visions for about 20 minutes throughout the movie is just plain lazy ! ! \\nokay , we get it . . . there \\nare people chasing her and we don\\'t know who they are . \\ndo we really need to see it over and over again ? \\nhow about giving us different scenes offering further insight into all of the strangeness going down in the movie ? \\napparently , the studio took this film away from its director and chopped it up themselves , and it shows . \\nthere might\\'ve been a pretty decent teen mind-fuck movie in here somewhere , but i guess \" the suits \" decided that turning it into a music video with little edge , would make more sense . \\nthe actors are pretty good for the most part , although wes bentley just seemed to be playing the exact same character that he did in american beauty , only in a new neighborhood . \\nbut my biggest kudos go out to sagemiller , who holds her own throughout the entire film , and actually has you feeling her character\\'s unraveling . \\noverall , the film doesn\\'t stick because it doesn\\'t entertain , it\\'s confusing , it rarely excites and it feels pretty redundant for most of its runtime , despite a pretty cool ending and explanation to all of the craziness that came before it . \\noh , and by the way , this is not a horror or teen slasher flick . . . it\\'s \\njust packaged to look that way because someone is apparently assuming that the genre is still hot with the kids . \\nit also wrapped production two years ago and has been sitting on the shelves ever since . \\nwhatever . . . skip \\nit ! \\nwhere\\'s joblo coming from ? \\na nightmare of elm street 3 ( 7/10 ) - blair witch 2 ( 7/10 ) - the crow ( 9/10 ) - the crow : salvation ( 4/10 ) - lost highway ( 10/10 ) - memento ( 10/10 ) - the others ( 9/10 ) - stir of echoes ( 8/10 ) \\n'"
      ]
     },
     "execution_count": 21,
     "metadata": {},
     "output_type": "execute_result"
    }
   ],
   "source": [
    "_neg_revs[0][1]"
   ]
  },
  {
   "cell_type": "code",
   "execution_count": 22,
   "metadata": {
    "collapsed": false
   },
   "outputs": [],
   "source": [
    "def get_review_sentiments(_sentiment_calculator): \n",
    "  _neg_rev_res = [_sentiment_calculator(_neg_rev) for (_file,_neg_rev) in _neg_revs]\n",
    "  _pos_rev_res = [_sentiment_calculator(_pos_rev) for (_file,_pos_rev) in _pos_revs]\n",
    "  return {'results-on-positive':_pos_rev_res, 'results-on-negative':_neg_rev_res}"
   ]
  },
  {
   "cell_type": "code",
   "execution_count": 23,
   "metadata": {
    "collapsed": false
   },
   "outputs": [],
   "source": [
    "def run_diagnostics(_rev_res):\n",
    "  _pos_revs_res = _rev_res['results-on-positive']\n",
    "  _neg_revs_res = _rev_res['results-on-negative']\n",
    "  _pct_true_pos = float(sum(x > 0 for x in _pos_revs_res))/len(_pos_revs_res)\n",
    "  _pct_true_neg = float(sum(x < 0 for x in _neg_revs_res))/len(_neg_revs_res)\n",
    "  _total_accurate = float(sum(x > 0 for x in _pos_revs_res)) + float(sum(x < 0 for x in _neg_revs_res))\n",
    "  total = len(_pos_revs_res) + len(_neg_revs_res)\n",
    "  print(\"Accuracy on positive reviews = \" +\"%.2f\" % (_pct_true_pos*100) + \"%\")\n",
    "  print(\"Accurance on negative reviews = \" +\"%.2f\" % (_pct_true_neg*100) + \"%\")\n",
    "  print(\"Overall accuracy = \" + \"%.2f\" % (_total_accurate*100/total) + \"%\")"
   ]
  },
  {
   "cell_type": "code",
   "execution_count": 24,
   "metadata": {
    "collapsed": false
   },
   "outputs": [
    {
     "name": "stdout",
     "output_type": "stream",
     "text": [
      "Accuracy on positive reviews = 82.80%\n",
      "Accurance on negative reviews = 44.50%\n",
      "Overall accuracy = 63.65%\n"
     ]
    }
   ],
   "source": [
    "run_diagnostics(get_review_sentiments(vader_sentiment))"
   ]
  },
  {
   "cell_type": "code",
   "execution_count": 24,
   "metadata": {
    "collapsed": true
   },
   "outputs": [],
   "source": [
    "from nltk import word_tokenize"
   ]
  },
  {
   "cell_type": "code",
   "execution_count": 25,
   "metadata": {
    "collapsed": false
   },
   "outputs": [],
   "source": [
    "def super_naive_sentiment(_rev):\n",
    " _rev_polarity = 0.0\n",
    " _num_exceptions = 0\n",
    " for word in _rev.lower().split():\n",
    "   _weight = 0.0\n",
    "   try:\n",
    "     _common_meaning = list(swn.senti_synsets(word))[0]\n",
    "     if _common_meaning.pos_score()>_common_meaning.neg_score():\n",
    "        _weight = _weight + _common_meaning.pos_score()\n",
    "     elif _common_meaning.pos_score()<_common_meaning.neg_score():\n",
    "        _weight = _weight - _common_meaning.neg_score()\n",
    "   except:\n",
    "       _num_exceptions = _num_exceptions + 1\n",
    "   #print(\"Word: \" + word + \" weight: \" + str(_weight))\n",
    "   _rev_polarity = _rev_polarity + _weight\n",
    " return _rev_polarity"
   ]
  },
  {
   "cell_type": "code",
   "execution_count": 26,
   "metadata": {
    "collapsed": false
   },
   "outputs": [
    {
     "data": {
      "text/plain": [
       "0.5"
      ]
     },
     "execution_count": 26,
     "metadata": {},
     "output_type": "execute_result"
    }
   ],
   "source": [
    "_review = \"this is the best restaurant in the city\"\n",
    "super_naive_sentiment(_review)"
   ]
  },
  {
   "cell_type": "code",
   "execution_count": 27,
   "metadata": {
    "collapsed": false
   },
   "outputs": [
    {
     "data": {
      "text/plain": [
       "-0.125"
      ]
     },
     "execution_count": 27,
     "metadata": {},
     "output_type": "execute_result"
    }
   ],
   "source": [
    "negatedReview = \"this is not the best restaurant in the city\"\n",
    "super_naive_sentiment(negatedReview)"
   ]
  },
  {
   "cell_type": "code",
   "execution_count": 28,
   "metadata": {
    "collapsed": false
   },
   "outputs": [
    {
     "data": {
      "text/plain": [
       "-1.375"
      ]
     },
     "execution_count": 28,
     "metadata": {},
     "output_type": "execute_result"
    }
   ],
   "source": [
    "negatedReview = \"this is not the worst restaurant in the city\"\n",
    "super_naive_sentiment(negatedReview)"
   ]
  },
  {
   "cell_type": "code",
   "execution_count": 29,
   "metadata": {
    "collapsed": false
   },
   "outputs": [
    {
     "name": "stdout",
     "output_type": "stream",
     "text": [
      "Accuracy on positive reviews = 93.00%\n",
      "Accurance on negative reviews = 24.40%\n",
      "Overall accuracy = 58.70%\n"
     ]
    }
   ],
   "source": [
    "run_diagnostics(get_review_sentiments(super_naive_sentiment))"
   ]
  },
  {
   "cell_type": "code",
   "execution_count": 33,
   "metadata": {
    "collapsed": true
   },
   "outputs": [],
   "source": [
    "from string import punctuation\n",
    "from nltk.corpus import stopwords"
   ]
  },
  {
   "cell_type": "code",
   "execution_count": 35,
   "metadata": {
    "collapsed": false
   },
   "outputs": [],
   "source": [
    "stopwords = set(stopwords.words('english')+list(punctuation))"
   ]
  },
  {
   "cell_type": "code",
   "execution_count": 40,
   "metadata": {
    "collapsed": false
   },
   "outputs": [],
   "source": [
    "def naive_sentiment(_rev):\n",
    "    _rev_polarity = 0.0\n",
    "    _num_exceptions = 0\n",
    "    for _word in _rev.lower().split():\n",
    "        _num_meanings = 0\n",
    "        if _word in stopwords:\n",
    "            continue\n",
    "        _weight = 0.0\n",
    "        try:\n",
    "            for _meaning in swn.senti_synsets(_word):\n",
    "                if _meaning.pos_score()>_meaning.neg_score():\n",
    "                    _weight = _weight + (_meaning.pos_score() - _meaning.neg_score())\n",
    "                    _num_meanings = _num_meanings + 1\n",
    "                elif _meaning.pos_score()<_meaning.neg_score():\n",
    "                    _weight = _weight - (_meaning.neg_score() - _meaning.pos_score())\n",
    "                    _num_meanings = _num_meanings + 1\n",
    "        except:\n",
    "            _num_exceptions = _num_exceptions + 1\n",
    "            #print(\"Word: \" + _word + \" weight: \" + str(_weight))\n",
    "        if _num_meanings > 0:\n",
    "            _rev_polarity = _rev_polarity + (_weight/_num_meanings)\n",
    "    return _rev_polarity"
   ]
  },
  {
   "cell_type": "code",
   "execution_count": 41,
   "metadata": {
    "collapsed": false
   },
   "outputs": [
    {
     "data": {
      "text/plain": [
       "0.5630810810810811"
      ]
     },
     "execution_count": 41,
     "metadata": {},
     "output_type": "execute_result"
    }
   ],
   "source": [
    "review = \"this is the best restaurant in the city\"\n",
    "naive_sentiment(review)"
   ]
  },
  {
   "cell_type": "code",
   "execution_count": 42,
   "metadata": {
    "collapsed": false
   },
   "outputs": [
    {
     "data": {
      "text/plain": [
       "0.5630810810810811"
      ]
     },
     "execution_count": 42,
     "metadata": {},
     "output_type": "execute_result"
    }
   ],
   "source": [
    "negatedReview = \"this is not the best restaurant in the city\"\n",
    "naive_sentiment(negatedReview)"
   ]
  },
  {
   "cell_type": "code",
   "execution_count": 43,
   "metadata": {
    "collapsed": false
   },
   "outputs": [
    {
     "data": {
      "text/plain": [
       "-0.6644736842105263"
      ]
     },
     "execution_count": 43,
     "metadata": {},
     "output_type": "execute_result"
    }
   ],
   "source": [
    "negatedReview = \"this is not the worst restaurant in the city\"\n",
    "naive_sentiment(negatedReview)"
   ]
  },
  {
   "cell_type": "code",
   "execution_count": 44,
   "metadata": {
    "collapsed": false
   },
   "outputs": [
    {
     "name": "stdout",
     "output_type": "stream",
     "text": [
      "Accuracy on positive reviews = 97.50%\n",
      "Accurance on negative reviews = 9.80%\n",
      "Overall accuracy = 53.65%\n"
     ]
    }
   ],
   "source": [
    "run_diagnostics(get_review_sentiments(naive_sentiment))"
   ]
  },
  {
   "cell_type": "code",
   "execution_count": null,
   "metadata": {
    "collapsed": true
   },
   "outputs": [],
   "source": []
  }
 ],
 "metadata": {
  "anaconda-cloud": {},
  "kernelspec": {
   "display_name": "Python 3",
   "language": "python",
   "name": "python3"
  },
  "language_info": {
   "codemirror_mode": {
    "name": "ipython",
    "version": 3
   },
   "file_extension": ".py",
   "mimetype": "text/x-python",
   "name": "python",
   "nbconvert_exporter": "python",
   "pygments_lexer": "ipython3",
   "version": "3.5.2"
  }
 },
 "nbformat": 4,
 "nbformat_minor": 1
}
