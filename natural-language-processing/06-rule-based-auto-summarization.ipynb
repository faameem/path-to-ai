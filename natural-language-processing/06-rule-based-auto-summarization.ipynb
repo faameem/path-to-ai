{
 "cells": [
  {
   "cell_type": "code",
   "execution_count": 1,
   "metadata": {
    "collapsed": true
   },
   "outputs": [],
   "source": [
    "import requests, lxml\n",
    "from bs4 import BeautifulSoup\n",
    "from nltk.tokenize import sent_tokenize, word_tokenize\n",
    "from nltk.corpus import stopwords\n",
    "from string import punctuation\n",
    "from nltk.probability import FreqDist\n",
    "from heapq import nlargest\n",
    "from collections import defaultdict"
   ]
  },
  {
   "cell_type": "code",
   "execution_count": 50,
   "metadata": {
    "collapsed": false
   },
   "outputs": [],
   "source": [
    "def get_article_text(_url):\n",
    "    _response = requests.get(_url)\n",
    "    _response.raise_for_status()\n",
    "    _soup = BeautifulSoup(_response.content,'lxml')\n",
    "    # use article for washingtonpost, and p for nytimes\n",
    "    _text = ' '.join(map(lambda a: a.text, _soup.find_all('article')))\\\n",
    "                .encode('ascii', errors='replace') \\\n",
    "                .decode().replace(\"?\",\" \")\n",
    "    return _text"
   ]
  },
  {
   "cell_type": "code",
   "execution_count": 51,
   "metadata": {
    "collapsed": true
   },
   "outputs": [],
   "source": [
    "def summarize(_text, _summary_lines):\n",
    "    _sentences = sent_tokenize(_text)    \n",
    "    assert _summary_lines <= len(_sentences)\n",
    "    \n",
    "    _stopwords = set(stopwords.words('english') + list(punctuation))\n",
    "\n",
    "    _words = word_tokenize(_text.lower())    \n",
    "    _words = [_word for _word in _words if _word not in _stopwords]\n",
    "    _words_freq_dist = FreqDist(_words)\n",
    "       \n",
    "    _sentence_rankings = defaultdict(int)\n",
    "    for _idx, _sentence in enumerate(_sentences):\n",
    "        for _word in word_tokenize(_sentence.lower()):\n",
    "            if _word in _words_freq_dist:\n",
    "                _sentence_rankings[_idx] += _words_freq_dist[_word]            \n",
    "        \n",
    "    _summary = nlargest(_summary_lines, _sentence_rankings, key=_sentence_rankings.get)\n",
    "    return [_sentences[_idx] for _idx in sorted(_summary)]"
   ]
  },
  {
   "cell_type": "code",
   "execution_count": 53,
   "metadata": {
    "collapsed": false
   },
   "outputs": [
    {
     "name": "stdout",
     "output_type": "stream",
     "text": [
      "0: (Kevin Frayer/Getty Images)  Continuing to burn fossil fuels at the current rate could bring atmospheric carbon dioxide to its highest concentration in 50 million years, jumping from about 400 parts per million now to more than 900 parts per million by the end of this century, a new study warns.\n",
      "\n",
      "1: A business-as-usual trajectory suggests that carbon dioxide levels could exceed 2,000 parts per million by the year 2250, concentrations that were last seen about 200 million years ago.\n",
      "\n",
      "2: Additionally, at least one study has suggested that concentrations could be as high as 5,000 parts per million by the year 2400 if humans were to burn through all the fossil fuels on Earth, and that would result in both the highest carbon dioxide levels and the highest temperatures seen throughout the study period.\n",
      "\n"
     ]
    }
   ],
   "source": [
    "'''\n",
    "_article_url = \"https://www.washingtonpost.com/news/the-switch/wp/2016/10/18/the-pentagons-massive-new-telescope-is-designed-to-track-space-junk-and-watch-out-for-killer-asteroids/\"\n",
    "_article_url = 'https://www.washingtonpost.com/world/national-security/trump-weighing-military-options-following-chemical-weapons-attack-in-syria/2017/04/06/0c59603a-1ae8-11e7-9887-1a5314b56a08_story.html?hpid=hp_hp-banner-main_syria-315pm-banner%3Ahomepage%2Fstory&utm_term=.c5c336272fcc'\n",
    "_article_url = \"https://www.washingtonpost.com/news/energy-environment/wp/2017/04/05/carbon-dioxide-levels-could-reach-their-highest-point-in-50-million-years-by-the-end-of-the-century/?tid=hybrid_collaborative_1_na&utm_term=.c0f2be7313ef\"\n",
    "_article_url = 'https://www.nytimes.com/2017/04/07/world/middleeast/missile-strike-syria-russia.html?hp&action=click&pgtype=Homepage&clickSource=story-heading&module=span-ab-top-region&region=top-news&WT.nav=top-news&_r=0'\n",
    "'''\n",
    "\n",
    "_article_url = \"https://www.washingtonpost.com/news/energy-environment/wp/2017/04/05/carbon-dioxide-levels-could-reach-their-highest-point-in-50-million-years-by-the-end-of-the-century/?tid=hybrid_collaborative_1_na&utm_term=.c0f2be7313ef\"\n",
    "_article_text = get_article_text(_article_url)\n",
    "_summary = summarize(_article_text, 3)\n",
    "\n",
    "for _idx, _sentence in enumerate(_summary):\n",
    "    print('{}: {}\\n'.format(_idx,_sentence))\n",
    "    "
   ]
  },
  {
   "cell_type": "code",
   "execution_count": null,
   "metadata": {
    "collapsed": true
   },
   "outputs": [],
   "source": []
  }
 ],
 "metadata": {
  "kernelspec": {
   "display_name": "Python 3",
   "language": "python",
   "name": "python3"
  },
  "language_info": {
   "codemirror_mode": {
    "name": "ipython",
    "version": 3
   },
   "file_extension": ".py",
   "mimetype": "text/x-python",
   "name": "python",
   "nbconvert_exporter": "python",
   "pygments_lexer": "ipython3",
   "version": "3.5.2"
  }
 },
 "nbformat": 4,
 "nbformat_minor": 0
}
