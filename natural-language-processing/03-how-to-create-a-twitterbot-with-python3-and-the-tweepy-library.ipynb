{
 "cells": [
  {
   "cell_type": "markdown",
   "metadata": {},
   "source": [
    "> Notes: [How To Create a Twitterbot with Python 3 and the Tweepy Library](https://www.digitalocean.com/community/tutorials/how-to-create-a-twitterbot-with-python-3-and-the-tweepy-library)"
   ]
  },
  {
   "cell_type": "code",
   "execution_count": null,
   "metadata": {
    "collapsed": true
   },
   "outputs": [],
   "source": [
    "# store the twitter app credentials in credentials.py and add it to .gitignore\n",
    "\n",
    "# global .gitignore:\n",
    "# if you find yourself consistently creating a .gitignore for the same files on \n",
    "# every project? Create a global .gitignore!\n",
    "# Create a typical .gitignore containing the files you want to ignore and name it \n",
    "# whatever you want, typcially .gitignore_global, and put it wherever you want, \n",
    "# typically at ~/. Once you have done that then type the following command into \n",
    "# terminal:\n",
    "# git config --global core.excludesfile '~/.gitignore_global'"
   ]
  }
 ],
 "metadata": {
  "kernelspec": {
   "display_name": "Python 3",
   "language": "python",
   "name": "python3"
  },
  "language_info": {
   "codemirror_mode": {
    "name": "ipython",
    "version": 3
   },
   "file_extension": ".py",
   "mimetype": "text/x-python",
   "name": "python",
   "nbconvert_exporter": "python",
   "pygments_lexer": "ipython3",
   "version": "3.5.2"
  }
 },
 "nbformat": 4,
 "nbformat_minor": 0
}
