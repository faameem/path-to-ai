{
 "cells": [
  {
   "cell_type": "markdown",
   "metadata": {},
   "source": [
    "> Notes: [How To Create a Twitterbot with Python 3 and the Tweepy Library](https://www.digitalocean.com/community/tutorials/how-to-create-a-twitterbot-with-python-3-and-the-tweepy-library)"
   ]
  },
  {
   "cell_type": "code",
   "execution_count": 1,
   "metadata": {
    "collapsed": false
   },
   "outputs": [],
   "source": [
    "# store the twitter app credentials in credentials.py and add it to .gitignore\n",
    "\n",
    "# global .gitignore:\n",
    "# if you find yourself consistently creating a .gitignore for the same files on \n",
    "# every project? Create a global .gitignore!\n",
    "# Create a typical .gitignore containing the files you want to ignore and name it \n",
    "# whatever you want, typcially .gitignore_global, and put it wherever you want, \n",
    "# typically at ~/. Once you have done that then type the following command into \n",
    "# terminal:\n",
    "# git config --global core.excludesfile '~/.gitignore_global'\n",
    "\n",
    "# to get free book text from gutenberg library, use:\n",
    "# curl http://www.gutenberg.org/cache/epub/164/pg164.txt --output verne.txt\n",
    "# or we can use library from https://pypi.python.org/pypi/Gutenberg\n",
    "\n",
    "from credentials import *\n",
    "from time import sleep\n",
    "import tweepy"
   ]
  },
  {
   "cell_type": "code",
   "execution_count": 3,
   "metadata": {
    "collapsed": false
   },
   "outputs": [
    {
     "name": "stdout",
     "output_type": "stream",
     "text": [
      "﻿Project Gutenberg's Twenty Thousand Leagues under the Sea\n",
      "\n",
      "[{'code': 187, 'message': 'Status is a duplicate.'}]\n",
      "(slightly abridged), by Jules Verne\n",
      "\n",
      "[{'code': 187, 'message': 'Status is a duplicate.'}]\n",
      "\n",
      "\n",
      "This eBook is for the use of anyone anywhere at no cost and with\n",
      "\n",
      "[{'code': 187, 'message': 'Status is a duplicate.'}]\n",
      "almost no restrictions whatsoever.  You may copy it, give it away or\n",
      "\n",
      "[{'code': 187, 'message': 'Status is a duplicate.'}]\n",
      "re-use it under the terms of the Project Gutenberg License included\n",
      "\n",
      "[{'code': 187, 'message': 'Status is a duplicate.'}]\n",
      "with this eBook or online at www.gutenberg.net\n",
      "\n",
      "[{'code': 187, 'message': 'Status is a duplicate.'}]\n",
      "\n",
      "\n",
      "\n",
      "\n",
      "Title: Twenty Thousand Leagues under the Sea (slightly abridged)\n",
      "\n",
      "[{'code': 187, 'message': 'Status is a duplicate.'}]\n",
      "\n",
      "\n",
      "Author: Jules Verne\n",
      "\n",
      "[{'code': 187, 'message': 'Status is a duplicate.'}]\n",
      "\n",
      "\n",
      "Release Date: Sep 1, 1994 [EBook #164]\n",
      "\n",
      "[{'code': 187, 'message': 'Status is a duplicate.'}]\n",
      "Last Updated: December 13, 2016\n",
      "\n",
      "[{'code': 187, 'message': 'Status is a duplicate.'}]\n",
      "\n",
      "\n",
      "Language: English\n",
      "\n",
      "[{'code': 187, 'message': 'Status is a duplicate.'}]\n",
      "\n",
      "\n",
      "\n",
      "\n",
      "*** START OF THIS PROJECT GUTENBERG EBOOK 20000 LEAGUES UNDER THE SEA ***\n",
      "\n",
      "[{'code': 187, 'message': 'Status is a duplicate.'}]\n"
     ]
    }
   ],
   "source": [
    "def get_api():\n",
    "    auth = tweepy.OAuthHandler(consumer_key, consumer_secret)\n",
    "    auth.set_access_token(access_token, access_token_secret)\n",
    "    api_r = tweepy.API(auth)\n",
    "    return api_r\n",
    "\n",
    "def get_text():\n",
    "    file_content = ''\n",
    "    try:\n",
    "        file_handle = open('verne.txt','r')\n",
    "        file_content = file_handle.readlines()\n",
    "    finally:\n",
    "        file_handle.close()\n",
    "    return file_content\n",
    "\n",
    "def tweet(api_p, text_p):\n",
    "    for line in text_p[:20]:\n",
    "        try:\n",
    "             print(line)\n",
    "             if line != '\\n':\n",
    "                 api_p.update_status('test: '+line)\n",
    "                 sleep(2)\n",
    "             else:\n",
    "                pass\n",
    "        except tweepy.TweepError as e:\n",
    "            print(e.reason)\n",
    "            sleep(2)\n",
    "            \n",
    "api_v = get_api()\n",
    "text_v = get_text()\n",
    "tweet(api_v, text_v)"
   ]
  }
 ],
 "metadata": {
  "kernelspec": {
   "display_name": "Python 3",
   "language": "python",
   "name": "python3"
  },
  "language_info": {
   "codemirror_mode": {
    "name": "ipython",
    "version": 3
   },
   "file_extension": ".py",
   "mimetype": "text/x-python",
   "name": "python",
   "nbconvert_exporter": "python",
   "pygments_lexer": "ipython3",
   "version": "3.5.2"
  }
 },
 "nbformat": 4,
 "nbformat_minor": 0
}
