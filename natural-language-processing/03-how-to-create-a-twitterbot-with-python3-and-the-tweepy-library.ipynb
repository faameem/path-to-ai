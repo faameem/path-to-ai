{
 "cells": [
  {
   "cell_type": "markdown",
   "metadata": {},
   "source": [
    "> Notes: [How To Create a Twitterbot with Python 3 and the Tweepy Library](https://www.digitalocean.com/community/tutorials/how-to-create-a-twitterbot-with-python-3-and-the-tweepy-library)"
   ]
  },
  {
   "cell_type": "code",
   "execution_count": 2,
   "metadata": {
    "collapsed": false
   },
   "outputs": [],
   "source": [
    "# store the twitter app credentials in credentials.py and add it to .gitignore\n",
    "\n",
    "# global .gitignore:\n",
    "# if you find yourself consistently creating a .gitignore for the same files on \n",
    "# every project? Create a global .gitignore!\n",
    "# Create a typical .gitignore containing the files you want to ignore and name it \n",
    "# whatever you want, typcially .gitignore_global, and put it wherever you want, \n",
    "# typically at ~/. Once you have done that then type the following command into \n",
    "# terminal:\n",
    "# git config --global core.excludesfile '~/.gitignore_global'\n",
    "\n",
    "# to get free book text from gutenberg library, use:\n",
    "# curl http://www.gutenberg.org/cache/epub/164/pg164.txt --output verne.txt\n",
    "# or we can use library from https://pypi.python.org/pypi/Gutenberg\n",
    "\n",
    "from credentials import *\n",
    "from time import sleep\n",
    "import tweepy"
   ]
  },
  {
   "cell_type": "code",
   "execution_count": 3,
   "metadata": {
    "collapsed": true
   },
   "outputs": [],
   "source": [
    "def get_api():\n",
    "    auth = tweepy.OAuthHandler(consumer_key, consumer_secret)\n",
    "    auth.set_access_token(access_token, access_token_secret)\n",
    "    api_r = tweepy.API(auth)\n",
    "    return api_r"
   ]
  },
  {
   "cell_type": "code",
   "execution_count": 4,
   "metadata": {
    "collapsed": true
   },
   "outputs": [],
   "source": [
    "def get_text():\n",
    "    file_content = ''\n",
    "    try:\n",
    "        file_handle = open('verne.txt','r')\n",
    "        file_content = file_handle.readlines()\n",
    "    finally:\n",
    "        file_handle.close()\n",
    "    return file_content"
   ]
  },
  {
   "cell_type": "code",
   "execution_count": 5,
   "metadata": {
    "collapsed": false
   },
   "outputs": [],
   "source": [
    "def tweet(api_p, text_p):\n",
    "    for line in text_p[:5]:\n",
    "        try:\n",
    "             print(line)\n",
    "             if line != '\\n':\n",
    "                 api_p.update_status('test: '+line)\n",
    "                 sleep(2)\n",
    "             else:\n",
    "                pass\n",
    "        except tweepy.TweepError as e:\n",
    "            print(e.reason)\n",
    "            sleep(2)            "
   ]
  },
  {
   "cell_type": "code",
   "execution_count": 6,
   "metadata": {
    "collapsed": false
   },
   "outputs": [],
   "source": [
    "def search_tweets(api_v):\n",
    "    for tweet in tweepy.Cursor(api_v.search,\n",
    "                           q='#ocean',\n",
    "                           since='2017-01-01',\n",
    "                           until='2017-02-28',\n",
    "                           geocode='1.3552217,103.8231561,100km',\n",
    "                           lang='fr').items(10):\n",
    "        print('Tweet by: @' + tweet.user.screen_name)\n",
    "    \n",
    "# There are a lot of additional parameters we can add to our for loop, including:\n",
    "# http://docs.tweepy.org/en/v3.5.0/api.html"
   ]
  },
  {
   "cell_type": "code",
   "execution_count": 7,
   "metadata": {
    "collapsed": false
   },
   "outputs": [],
   "source": [
    "def search_action(api_v):\n",
    "    for tweet in tweepy.Cursor(api_v.search, q='#ocean').items(2):\n",
    "        try:\n",
    "            print('\\nTweet by: @' + tweet.user.screen_name)\n",
    "            tweet.retweet()\n",
    "            print('Retweeted the tweet')\n",
    "            tweet.favorite()\n",
    "            print('Favorited the tweet')\n",
    "            if not tweet.user.following:\n",
    "                tweet.user.follow()\n",
    "                print('Followed the user')\n",
    "            sleep(5)\n",
    "        except tweepy.TweepError as e:\n",
    "            print(e.reason)\n",
    "        except StopIteration:\n",
    "            break"
   ]
  },
  {
   "cell_type": "code",
   "execution_count": 8,
   "metadata": {
    "collapsed": false
   },
   "outputs": [
    {
     "ename": "UnboundLocalError",
     "evalue": "local variable 'file_handle' referenced before assignment",
     "output_type": "error",
     "traceback": [
      "\u001b[0;31m---------------------------------------------------------------------------\u001b[0m",
      "\u001b[0;31mFileNotFoundError\u001b[0m                         Traceback (most recent call last)",
      "\u001b[0;32m<ipython-input-4-441297f5fc01>\u001b[0m in \u001b[0;36mget_text\u001b[0;34m()\u001b[0m\n\u001b[1;32m      3\u001b[0m     \u001b[0;32mtry\u001b[0m\u001b[0;34m:\u001b[0m\u001b[0;34m\u001b[0m\u001b[0m\n\u001b[0;32m----> 4\u001b[0;31m         \u001b[0mfile_handle\u001b[0m \u001b[0;34m=\u001b[0m \u001b[0mopen\u001b[0m\u001b[0;34m(\u001b[0m\u001b[0;34m'verne.txt'\u001b[0m\u001b[0;34m,\u001b[0m\u001b[0;34m'r'\u001b[0m\u001b[0;34m)\u001b[0m\u001b[0;34m\u001b[0m\u001b[0m\n\u001b[0m\u001b[1;32m      5\u001b[0m         \u001b[0mfile_content\u001b[0m \u001b[0;34m=\u001b[0m \u001b[0mfile_handle\u001b[0m\u001b[0;34m.\u001b[0m\u001b[0mreadlines\u001b[0m\u001b[0;34m(\u001b[0m\u001b[0;34m)\u001b[0m\u001b[0;34m\u001b[0m\u001b[0m\n",
      "\u001b[0;31mFileNotFoundError\u001b[0m: [Errno 2] No such file or directory: 'verne.txt'",
      "\nDuring handling of the above exception, another exception occurred:\n",
      "\u001b[0;31mUnboundLocalError\u001b[0m                         Traceback (most recent call last)",
      "\u001b[0;32m<ipython-input-8-91debff2c3a8>\u001b[0m in \u001b[0;36m<module>\u001b[0;34m()\u001b[0m\n\u001b[1;32m      1\u001b[0m \u001b[0mapi_v\u001b[0m \u001b[0;34m=\u001b[0m \u001b[0mget_api\u001b[0m\u001b[0;34m(\u001b[0m\u001b[0;34m)\u001b[0m\u001b[0;34m\u001b[0m\u001b[0m\n\u001b[0;32m----> 2\u001b[0;31m \u001b[0mtext_v\u001b[0m \u001b[0;34m=\u001b[0m \u001b[0mget_text\u001b[0m\u001b[0;34m(\u001b[0m\u001b[0;34m)\u001b[0m\u001b[0;34m\u001b[0m\u001b[0m\n\u001b[0m\u001b[1;32m      3\u001b[0m \u001b[0mtweet\u001b[0m\u001b[0;34m(\u001b[0m\u001b[0mapi_v\u001b[0m\u001b[0;34m,\u001b[0m \u001b[0mtext_v\u001b[0m\u001b[0;34m)\u001b[0m\u001b[0;34m\u001b[0m\u001b[0m\n\u001b[1;32m      4\u001b[0m \u001b[0msearch_tweets\u001b[0m\u001b[0;34m(\u001b[0m\u001b[0mapi_v\u001b[0m\u001b[0;34m)\u001b[0m\u001b[0;34m\u001b[0m\u001b[0m\n\u001b[1;32m      5\u001b[0m \u001b[0msearch_action\u001b[0m\u001b[0;34m(\u001b[0m\u001b[0mapi_v\u001b[0m\u001b[0;34m)\u001b[0m\u001b[0;34m\u001b[0m\u001b[0m\n",
      "\u001b[0;32m<ipython-input-4-441297f5fc01>\u001b[0m in \u001b[0;36mget_text\u001b[0;34m()\u001b[0m\n\u001b[1;32m      5\u001b[0m         \u001b[0mfile_content\u001b[0m \u001b[0;34m=\u001b[0m \u001b[0mfile_handle\u001b[0m\u001b[0;34m.\u001b[0m\u001b[0mreadlines\u001b[0m\u001b[0;34m(\u001b[0m\u001b[0;34m)\u001b[0m\u001b[0;34m\u001b[0m\u001b[0m\n\u001b[1;32m      6\u001b[0m     \u001b[0;32mfinally\u001b[0m\u001b[0;34m:\u001b[0m\u001b[0;34m\u001b[0m\u001b[0m\n\u001b[0;32m----> 7\u001b[0;31m         \u001b[0mfile_handle\u001b[0m\u001b[0;34m.\u001b[0m\u001b[0mclose\u001b[0m\u001b[0;34m(\u001b[0m\u001b[0;34m)\u001b[0m\u001b[0;34m\u001b[0m\u001b[0m\n\u001b[0m\u001b[1;32m      8\u001b[0m     \u001b[0;32mreturn\u001b[0m \u001b[0mfile_content\u001b[0m\u001b[0;34m\u001b[0m\u001b[0m\n",
      "\u001b[0;31mUnboundLocalError\u001b[0m: local variable 'file_handle' referenced before assignment"
     ]
    }
   ],
   "source": [
    "api_v = get_api()\n",
    "text_v = get_text()\n",
    "tweet(api_v, text_v)\n",
    "search_tweets(api_v)\n",
    "search_action(api_v)"
   ]
  },
  {
   "cell_type": "code",
   "execution_count": 9,
   "metadata": {
    "collapsed": true
   },
   "outputs": [],
   "source": [
    "# keep running the bot on the server, use no hangup command (nohup)\n",
    "# so it is not attached to your login session\n",
    "# $ nohup python twitterbot_retweet.py &\n",
    "\n",
    "# to stop the bot, use -x to get processes not attached to terminals\n",
    "# $ ps -x\n",
    "# $ kill <process id>\n",
    "\n",
    "# From here, you can also go deeper into the Tweepy library and Twitter API to create \n",
    "# lists, add users to lists, engage with direct messages, and streaming with Twitter \n",
    "# to download tweets in real time. You may also consider combining the functionality \n",
    "# of the two Twitterbots we created above. In addition to making interactive Twitterbots, \n",
    "# you can also do substantial data mining by making use of the Twitter API."
   ]
  },
  {
   "cell_type": "code",
   "execution_count": null,
   "metadata": {
    "collapsed": true
   },
   "outputs": [],
   "source": []
  }
 ],
 "metadata": {
  "kernelspec": {
   "display_name": "Python 3",
   "language": "python",
   "name": "python3"
  },
  "language_info": {
   "codemirror_mode": {
    "name": "ipython",
    "version": 3
   },
   "file_extension": ".py",
   "mimetype": "text/x-python",
   "name": "python",
   "nbconvert_exporter": "python",
   "pygments_lexer": "ipython3",
   "version": "3.6.0"
  }
 },
 "nbformat": 4,
 "nbformat_minor": 0
}
