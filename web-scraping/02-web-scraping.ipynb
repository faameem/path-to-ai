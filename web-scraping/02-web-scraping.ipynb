{
 "cells": [
  {
   "cell_type": "markdown",
   "metadata": {},
   "source": [
    "> Notes: [Web Scraping](https://automatetheboringstuff.com/chapter11/)"
   ]
  },
  {
   "cell_type": "code",
   "execution_count": 6,
   "metadata": {
    "collapsed": true
   },
   "outputs": [],
   "source": [
    "# modules that make it easy to scrape web pages in Python.\n",
    "# (1) webbrowser: comes with Python and opens a browser to a specific page.\n",
    "# (2) Requests: downloads files and web pages from the Internet.\n",
    "#     Requests is easier and faster to use then urllib2.\n",
    "# (3) Beautiful Soup: parses HTML, the format that web pages are written in.\n",
    "# (4) Selenium: launches and controls a web browser. \n",
    "#     Selenium is able to fill in forms and simulate mouse clicks in this browser.\n",
    "# (5) pyperclip: A cross-platform clipboard module for Python. (only handles plain text for now)"
   ]
  },
  {
   "cell_type": "code",
   "execution_count": 7,
   "metadata": {
    "collapsed": true
   },
   "outputs": [],
   "source": [
    "import webbrowser"
   ]
  },
  {
   "cell_type": "code",
   "execution_count": 8,
   "metadata": {
    "collapsed": false
   },
   "outputs": [
    {
     "data": {
      "text/plain": [
       "True"
      ]
     },
     "execution_count": 8,
     "metadata": {},
     "output_type": "execute_result"
    }
   ],
   "source": [
    "webbrowser.open('http://inventwithpython.com/')"
   ]
  },
  {
   "cell_type": "code",
   "execution_count": 10,
   "metadata": {
    "collapsed": false
   },
   "outputs": [],
   "source": [
    "import webbrowser, sys, pyperclip "
   ]
  },
  {
   "cell_type": "code",
   "execution_count": 54,
   "metadata": {
    "collapsed": false
   },
   "outputs": [
    {
     "name": "stdout",
     "output_type": "stream",
     "text": [
      "pyperclip: address: '870 Valencia St, San Francisco, CA 94110'\n"
     ]
    }
   ],
   "source": [
    "def map_it(*args, **kwargs):\n",
    "    if (len(args)>0):\n",
    "        address = ''.join(args[:])\n",
    "        print('args: address: {}'.format(address))\n",
    "    elif (len(kwargs)>0):\n",
    "        values = []\n",
    "        for k,v in kwargs.items():\n",
    "            values.append(v)\n",
    "        address = ''.join(values)\n",
    "        print('kwargs: address: {}'.format(address))\n",
    "    #elif (len(sys.argv)>1):\n",
    "        #address = ' '.join(sys.argv[1:])\n",
    "        #print('argv: address: {}'.format(address))\n",
    "    else:\n",
    "        address = pyperclip.paste()\n",
    "        print('pyperclip: address: {}'.format(address))\n",
    "    webbrowser.open('https://www.google.com/maps/place/' + address)\n",
    "\n",
    "#map_it('870 Valencia St,',' San Francisco,',' CA 94110')    \n",
    "#map_it(add1='870 Valencia St,',add2=' San Francisco,',add3=' CA 94110')    \n",
    "#map_it()\n"
   ]
  },
  {
   "cell_type": "code",
   "execution_count": 81,
   "metadata": {
    "collapsed": true
   },
   "outputs": [],
   "source": [
    "from lxml import html\n",
    "import requests, webbrowser, time"
   ]
  },
  {
   "cell_type": "code",
   "execution_count": 95,
   "metadata": {
    "collapsed": true
   },
   "outputs": [],
   "source": [
    "def open_tab(url, sleep_time):\n",
    "    print('sleeping for {} before opening {}'.format(sleep_time, url))\n",
    "    time.sleep(sleep_time)\n",
    "    webbrowser.open_new_tab(url)\n",
    "    \n",
    "def open_page_links_in_browser_tabs(url, max_page_urls_to_open, sleep_time):\n",
    "    page = requests.get(url)\n",
    "    tree = html.fromstring(page.content)\n",
    "    hrefs = tree.xpath('//a/@href')\n",
    "    hrefs_non_relative = []\n",
    "    for href in hrefs:\n",
    "        if 'http' in href:\n",
    "            hrefs_non_relative.append(href)\n",
    "    for href in hrefs_non_relative[:max_page_urls_to_open]:\n",
    "        open_tab(href,sleep_time)"
   ]
  },
  {
   "cell_type": "code",
   "execution_count": 96,
   "metadata": {
    "collapsed": false
   },
   "outputs": [
    {
     "name": "stdout",
     "output_type": "stream",
     "text": [
      "sleeping for 2 before opening https://automatetheboringstuff.com/\n",
      "sleeping for 2 before opening https://www.nostarch.com/automatestuff\n",
      "sleeping for 2 before opening http://www.amazon.com/gp/product/1593275994/ref=as_li_tl?ie=UTF8&camp=1789&creative=9325&creativeASIN=1593275994&linkCode=as2&tag=playwithpyth-20&linkId=HDM7V3T6RHC5VVN4\n",
      "sleeping for 2 before opening https://twitter.com/AlSweigart\n",
      "sleeping for 2 before opening https://creativecommons.org/licenses/by-nc-sa/3.0/\n"
     ]
    }
   ],
   "source": [
    "open_page_links_in_browser_tabs('https://automatetheboringstuff.com/',5,2)"
   ]
  },
  {
   "cell_type": "code",
   "execution_count": 169,
   "metadata": {
    "collapsed": false
   },
   "outputs": [
    {
     "name": "stdout",
     "output_type": "stream",
     "text": [
      "['Search', 'Zip Code', 'zip', 'Zip Codes', 'Zip Code', 'Zip Code', 'zip', 'Zip Codes', 'Zip Code', 'zip', 'Zip Codes', 'zip code', 'zip', 'ZIP code', 'ZIP Code', 'zipcodes', '06902', '06902', 'ZIP code', 'zip code', 'zipcodes', 'Zip Codes', 'zip code', 'zip codes', 'local', 'Zip Code', 'zip', 'Zip Code', 'Zip Codes', 'Zip Code', 'zip', 'Zip code', 'zip code', 'Zip code', 'Zip code', 'Zip Code', 'zip', 'Zip Code', 'zip code', 'local', 'Zip Codes', 'ZipCode', 'zipcode', 'Zip Codes', 'zip codes', 'local zip code', 'stamford', 'map', 'stamford', '06902', 'downtown stamford', 'stamford ny', 'stamford ct', 'area', 'stamford tx', 'stamford ct area', 'stamford ct 9 digit', '1']\n"
     ]
    }
   ],
   "source": [
    "# parsing json - http://docs.python-guide.org/en/latest/scenarios/json/\n",
    "import requests, json, webbrowser\n",
    "#res = requests.get('https://ipinfo.io/')\n",
    "res = requests.get('http://www.google.com/search?q=local zip code')\n",
    "tree = html.fromstring(res.content)\n",
    "divs = tree.xpath('//b/text()')\n",
    "print(divs)\n",
    "#print(type(res))\n",
    "#print(res.status_code == requests.codes.ok)\n",
    "#print(len(res.text))\n",
    "#print(res.text)\n",
    "#txt = json.loads(res.text[:])\n",
    "#local_zip = txt['postal']\n",
    "#print(local_zip)\n",
    "#webbrowser.open('https://weather.com/weather/today/l/'+local_zip)"
   ]
  },
  {
   "cell_type": "code",
   "execution_count": null,
   "metadata": {
    "collapsed": true
   },
   "outputs": [],
   "source": []
  }
 ],
 "metadata": {
  "anaconda-cloud": {},
  "kernelspec": {
   "display_name": "Python 3",
   "language": "python",
   "name": "python3"
  },
  "language_info": {
   "codemirror_mode": {
    "name": "ipython",
    "version": 3
   },
   "file_extension": ".py",
   "mimetype": "text/x-python",
   "name": "python",
   "nbconvert_exporter": "python",
   "pygments_lexer": "ipython3",
   "version": "3.5.2"
  }
 },
 "nbformat": 4,
 "nbformat_minor": 1
}
