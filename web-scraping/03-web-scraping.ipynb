{
 "cells": [
  {
   "cell_type": "markdown",
   "metadata": {},
   "source": [
    "> Notes:\n",
    "> + [Greg Reda: Web Scraping 101 with Python](http://www.gregreda.com/2013/03/03/web-scraping-101-with-python/)\n",
    "> + [Greg Reda: More web scraping with Python (and a map)](http://www.gregreda.com/2013/04/29/more-web-scraping-with-python/)"
   ]
  },
  {
   "cell_type": "code",
   "execution_count": 33,
   "metadata": {
    "collapsed": true
   },
   "outputs": [],
   "source": [
    "# A few scraping rules\n",
    "# ====================\n",
    "\n",
    "# (1) You should check a site's terms and conditions before you scrape them. \n",
    "# It's their data and they likely have some rules to govern it.\n",
    "\n",
    "# (2) Be nice - A computer will send web requests much quicker than a user can. \n",
    "# Make sure you space out your requests a bit so that you don't hammer the site's server.\n",
    "\n",
    "# (3) Scrapers break - Sites change their layout all the time. \n",
    "# If that happens, be prepared to rewrite your code.\n",
    "\n",
    "# (4) Web pages are inconsistent - There's sometimes some manual clean up that has to \n",
    "# happen even after you've gotten your data."
   ]
  },
  {
   "cell_type": "markdown",
   "metadata": {},
   "source": [
    "> Data:\n",
    "> + Food and Drink section of [Chicago Reader's Best of 2011](http://www.chicagoreader.com/chicago/best-of-chicago-2011/BestOf?oid=4100483) ('Inspect Element' each link)"
   ]
  },
  {
   "cell_type": "code",
   "execution_count": 34,
   "metadata": {
    "collapsed": true
   },
   "outputs": [],
   "source": [
    "from bs4 import BeautifulSoup\n",
    "import requests # using requests instead of urllib2\n",
    "\n",
    "BASE_URL = \"http://www.chicagoreader.com\"\n",
    "\n",
    "# using DRY (don't repeat yourself), refactored url getting into soup\n",
    "def make_soup(url):\n",
    "    res = requests.get(url)\n",
    "    res.raise_for_status()\n",
    "    return BeautifulSoup(res.text, \"lxml\")\n",
    "\n",
    "# getting the category links\n",
    "def get_category_links(section_url):\n",
    "    soup = make_soup(section_url)\n",
    "    boccat = soup.find(\"dl\", \"boccat\")\n",
    "    category_links = [BASE_URL + dd.a[\"href\"] for dd in boccat.findAll(\"dd\")]\n",
    "    return category_links\n",
    "\n",
    "# getting the category, winner, and runners-up\n",
    "def get_category_winner(category_url):\n",
    "    soup = make_soup(category_url)\n",
    "    category = soup.find(\"h1\", \"headline\").string\n",
    "    print('category: {}'.format(category))\n",
    "    winner = [h2.string for h2 in soup.findAll(\"h2\", \"boc1\")]\n",
    "    print('winner: {}'.format(winner))\n",
    "    runners_up = [h2.string for h2 in soup.findAll(\"h2\", \"boc2\")]\n",
    "    print('runners_up: {}'.format(runners_up))\n",
    "    print('category_url: {}'.format(category_url))\n",
    "    return {\"category\": category,\n",
    "            \"category_url\": category_url,\n",
    "            \"winner\": winner,\n",
    "            \"runners_up\": runners_up}"
   ]
  },
  {
   "cell_type": "code",
   "execution_count": 35,
   "metadata": {
    "collapsed": false,
    "scrolled": true
   },
   "outputs": [
    {
     "name": "stdout",
     "output_type": "stream",
     "text": [
      "idx: 0\n",
      "category: Best restaurant that's been around forever and is still worth the trip \n",
      "winner: ['Lula Cafe']\n",
      "runners_up: ['Frontera Grill', 'Chicago Diner  ', 'Sabatino’s', 'Twin Anchors']\n",
      "category_url: http://www.chicagoreader.com/chicago/BestOf?category=1979894&year=2011\n",
      "sleeping for 1ms...\n",
      "idx: 1\n",
      "category: Best fancy restaurant in Chicago \n",
      "winner: ['Alinea ']\n",
      "runners_up: ['Blackbird', 'Girl & the Goat', 'Green Zebra', 'The Publican']\n",
      "category_url: http://www.chicagoreader.com/chicago/best-fancy-restaurant-in-chicago/BestOf?oid=4088017\n",
      "sleeping for 1ms...\n",
      "idx: 2\n",
      "category: Best bang for your buck \n",
      "winner: ['Big Star', 'Sultan’s Market']\n",
      "runners_up: ['Frasca Pizzeria & Wine Bar', 'Chutney Joe’s', '\"My boyfriend!\"']\n",
      "category_url: http://www.chicagoreader.com/chicago/best-bang-for-your-buck/BestOf?oid=4088018\n",
      "sleeping for 1ms...\n",
      "idx: 3\n",
      "category: Best chef \n",
      "winner: ['Rick Bayless (Frontera Grill, Topolobampo, Xoco)']\n",
      "runners_up: ['Grant Achatz (Alinea, Next, The Aviary)', 'Stephanie Izard (Girl & the Goat)']\n",
      "category_url: http://www.chicagoreader.com/chicago/best-chef/BestOf?oid=4088191\n",
      "sleeping for 1ms...\n",
      "idx: 4\n",
      "category: Best up-and-coming chef \n",
      "winner: ['Jeremy Kiens, \\nDunlays on Clark']\n",
      "runners_up: ['Jimmy Bannos Jr., The Purple Pig', 'Cesar Pineda, Ciao Amore Ristorante', 'Rodney Staton, Bite Cafe']\n",
      "category_url: http://www.chicagoreader.com/chicago/best-up-and-coming-chef/BestOf?oid=4088225\n",
      "sleeping for 1ms...\n",
      "[   {   'category': \"Best restaurant that's been around forever and is still \"\n",
      "                    'worth the trip\\xa0',\n",
      "        'category_url': 'http://www.chicagoreader.com/chicago/BestOf?category=1979894&year=2011',\n",
      "        'runners_up': [   'Frontera Grill',\n",
      "                          'Chicago Diner  ',\n",
      "                          'Sabatino’s',\n",
      "                          'Twin Anchors'],\n",
      "        'winner': ['Lula Cafe']},\n",
      "    {   'category': 'Best fancy restaurant in Chicago\\xa0',\n",
      "        'category_url': 'http://www.chicagoreader.com/chicago/best-fancy-restaurant-in-chicago/BestOf?oid=4088017',\n",
      "        'runners_up': [   'Blackbird',\n",
      "                          'Girl & the Goat',\n",
      "                          'Green Zebra',\n",
      "                          'The Publican'],\n",
      "        'winner': ['Alinea ']},\n",
      "    {   'category': 'Best bang for your buck\\xa0',\n",
      "        'category_url': 'http://www.chicagoreader.com/chicago/best-bang-for-your-buck/BestOf?oid=4088018',\n",
      "        'runners_up': [   'Frasca Pizzeria & Wine Bar',\n",
      "                          'Chutney Joe’s',\n",
      "                          '\"My boyfriend!\"'],\n",
      "        'winner': ['Big Star', 'Sultan’s Market']},\n",
      "    {   'category': 'Best chef\\xa0',\n",
      "        'category_url': 'http://www.chicagoreader.com/chicago/best-chef/BestOf?oid=4088191',\n",
      "        'runners_up': [   'Grant Achatz (Alinea, Next, The Aviary)',\n",
      "                          'Stephanie Izard (Girl & the Goat)'],\n",
      "        'winner': ['Rick Bayless (Frontera Grill, Topolobampo, Xoco)']},\n",
      "    {   'category': 'Best up-and-coming chef\\xa0',\n",
      "        'category_url': 'http://www.chicagoreader.com/chicago/best-up-and-coming-chef/BestOf?oid=4088225',\n",
      "        'runners_up': [   'Jimmy Bannos Jr., The Purple Pig',\n",
      "                          'Cesar Pineda, Ciao Amore Ristorante',\n",
      "                          'Rodney Staton, Bite Cafe'],\n",
      "        'winner': ['Jeremy Kiens, \\nDunlays on Clark']}]\n"
     ]
    }
   ],
   "source": [
    "from time import sleep\n",
    "import pprint # pretty printer\n",
    "\n",
    "food_n_drink = (\"http://www.chicagoreader.com/chicago/best-of-chicago-2011-food-drink/BestOf?oid=4106228\")\n",
    "    \n",
    "categories = get_category_links(food_n_drink)\n",
    "\n",
    "data = [] # a list to store our dictionaries\n",
    "for idx, category in enumerate(categories[:5]):\n",
    "    print('idx: {}'.format(idx))\n",
    "    winner = get_category_winner(category)\n",
    "    data.append(winner)\n",
    "    print('sleeping for 1ms...')\n",
    "    sleep(1) # be nice\n",
    "\n",
    "pp = pprint.PrettyPrinter(indent=4)\n",
    "pp.pprint(data)\n"
   ]
  },
  {
   "cell_type": "markdown",
   "metadata": {},
   "source": [
    "> Data:\n",
    "> + [Chicago Magazine's Best Sandwiches list](http://www.chicagomag.com/Chicago-Magazine/November-2012/Best-Sandwiches-Chicago/)"
   ]
  },
  {
   "cell_type": "code",
   "execution_count": 100,
   "metadata": {
    "collapsed": false
   },
   "outputs": [
    {
     "name": "stdout",
     "output_type": "stream",
     "text": [
      "[('/Chicago-Magazine/November-2012/Best-Sandwiches-in-Chicago-Old-Oak-Tap-BLT/', 'BLT', <br/>), ('/Chicago-Magazine/November-2012/Best-Sandwiches-in-Chicago-Au-Cheval-Fried-Bologna/', 'Fried Bologna', <br/>), ('/Chicago-Magazine/November-2012/Best-Sandwiches-in-Chicago-Xoco-Woodland-Mushroom/', 'Woodland Mushroom', <br/>), ('/Chicago-Magazine/November-2012/Best-Sandwiches-in-Chicago-Als-Deli-Roast-Beef/', 'Roast Beef', <br/>), ('/Chicago-Magazine/November-2012/Best-Sandwiches-in-Chicago-Publican-Quality-Meats-PB-L/', 'PB&L', <br/>), ('http://www.chicagomag.com/Chicago-Magazine/November-2012/Best-Sandwiches-in-Chicago-Hendrickx-Belgian-Bread-Crafter-Belgian-Chicken-Curry-Salad/', 'Belgian Chicken Curry Salad', <br/>), ('/Chicago-Magazine/November-2012/Best-Sandwiches-in-Chicago-Acadia-Lobster-Roll/', 'Lobster Roll', <br/>), ('/Chicago-Magazine/November-2012/Best-Sandwiches-in-Chicago-Birchwood-Kitchen-Smoked-Salmon-Salad/', 'Smoked Salmon Salad', <br/>), ('/Chicago-Magazine/November-2012/Best-Sandwiches-in-Chicago-Cemitas-Puebla-Atomica-Cemitas/', 'Atomica Cemitas', <br/>), ('/Chicago-Magazine/November-2012/Best-Sandwiches-in-Chicago-Nana-Grilled-Laughing-Bird-Shrimp-and-Fried-Oyster-Po-Boy/', 'Grilled Laughing Bird Shrimp and Fried Po’ Boy', <br/>), ('http://www.chicagomag.com/Chicago-Magazine/November-2012/Best-Sandwiches-in-Chicago-Lula-Cafe-Ham-and-Raclette-Panino/', 'Ham and Raclette Panino', <br/>), ('http://www.chicagomag.com/Chicago-Magazine/November-2012/Best-Sandwiches-in-Chicago-Ricobenes-Breaded-Steak/', 'Breaded Steak', <br/>), ('http://www.chicagomag.com/Chicago-Magazine/November-2012/Best-Sandwiches-in-Chicago-Frog-n-Snail-The-Hawkeye/', 'The Hawkeye', <br/>), ('http://www.chicagomag.com/Chicago-Magazine/November-2012/Best-Sandwiches-in-Chicago-Crosbys-Kitchen-Chicken-Dip/', 'Chicken Dip', <br/>), ('http://www.chicagomag.com/Chicago-Magazine/November-2012/Best-Sandwiches-in-Chicago-Longman-and-Eagle-Wild-Boar-Sloppy-Joe/', 'Wild Boar Sloppy Joe', <br/>), ('http://www.chicagomag.com/Chicago-Magazine/November-2012/Best-Sandwiches-in-Chicago-Bari-Meatball-Sub/', 'Meatball Sub', <br/>), ('http://www.chicagomag.com/Chicago-Magazine/November-2012/Best-Sandwiches-in-Chicago-Mannys-Corned-Beef/', 'Corned Beef', <br/>), ('http://www.chicagomag.com/Chicago-Magazine/November-2012/Best-Sandwiches-in-Chicago-Eggys-Turkey-Club/', 'Turkey Club', <br/>), ('http://www.chicagomag.com/Chicago-Magazine/November-2012/Best-Sandwiches-in-Chicago-Old-Jerusalem-Falafel/', 'Falafel', <br/>), ('http://www.chicagomag.com/Chicago-Magazine/November-2012/Best-Sandwiches-in-Chicago-Mindys-HotChocolate-Crab-Cake/', 'Crab Cake', <br/>), ('http://www.chicagomag.com/Chicago-Magazine/November-2012/Best-Sandwiches-in-Chicago-Olgas-Delicatessen-Chicken-Schnitzel/', 'Chicken Schnitzel', <br/>), ('http://www.chicagomag.com/Chicago-Magazine/November-2012/Best-Sandwiches-in-Chicago-Dawali-Mediterranean-Kitchen-Shawarma/', 'Shawarma', <br/>), ('http://www.chicagomag.com/Chicago-Magazine/November-2012/Best-Sandwiches-in-Chicago-Big-Jones-Toasted-Pimiento-Cheese/', 'Toasted Pimiento Cheese', <br/>), ('http://www.chicagomag.com/Chicago-Magazine/November-2012/Best-Sandwiches-in-Chicago-La-Pane-Vegetarian-Panino/', 'Vegetarian Panino', <br/>), ('/Chicago-Magazine/November-2012/Best-Sandwiches-in-Chicago-Pastoral-Cali-Chevre/', 'Cali Chèvre', <br/>), ('http://www.chicagomag.com/Chicago-Magazine/November-2012/Best-Sandwiches-in-Chicago-Maxs-Deli-Pastrami/', 'Pastrami', <br/>), ('http://www.chicagomag.com/Chicago-Magazine/November-2012/Best-Sandwiches-in-Chicago-Luckys-Sandwich-Co-The-Fredo/', 'The Fredo', <br/>), ('http://www.chicagomag.com/Chicago-Magazine/November-2012/Best-Sandwiches-in-Chicago-City-Provisions-Smoked-Ham/', 'Smoked Ham', <br/>), ('http://www.chicagomag.com/Chicago-Magazine/November-2012/Best-Sandwiches-in-Chicago-Papas-Cache-Sabroso-Jibarito/', 'Jibarito', <br/>), ('http://www.chicagomag.com/Chicago-Magazine/November-2012/Best-Sandwiches-in-Chicago-Bavettes-Bar-and-Boeuf-Shaved-Prime-Rib/', 'Shaved Prime Rib', <br/>), ('http://www.chicagomag.com/Chicago-Magazine/November-2012/Best-Sandwiches-in-Chicago-Hannahs-Bretzel-Serrano-Ham-and-Manchego-Cheese/', 'Serrano Ham and Manchego Cheese', <br/>), ('http://www.chicagomag.com/Chicago-Magazine/November-2012/Best-Sandwiches-in-Chicago-La-Fournette-Tuna-Salad/', 'Tuna Salad', <br/>), ('http://www.chicagomag.com/Chicago-Magazine/November-2012/Best-Sandwiches-in-Chicago-Paramount-Room-Paramount-Reuben/', 'Paramount Reuben', <br/>), ('http://www.chicagomag.com/Chicago-Magazine/November-2012/Best-Sandwiches-in-Chicago-Melt-Sandwich-Shoppe-The-Istanbul/', 'The Istanbul', <br/>), ('http://www.chicagomag.com/Chicago-Magazine/November-2012/Best-Sandwiches-in-Chicago-Floriole-Cafe-and-Bakery-BAD/', 'B.A.D.', <br/>), ('http://www.chicagomag.com/Chicago-Magazine/November-2012/Best-Sandwiches-in-Chicago-First-Slice-Pie-Cafe-Duck-Confit-and-Mozzarella/', 'Duck Confit and Mozzarella', <br/>), ('http://www.chicagomag.com/Chicago-Magazine/November-2012/Best-Sandwiches-in-Chicago-Troquet-Croque-Monsieur/', 'Croque Monsieur', <br/>), ('http://www.chicagomag.com/Chicago-Magazine/November-2012/Best-Sandwiches-in-Chicago-Grahamwich-Green-Garbanzo/', 'Green Garbanzo', <br/>), ('http://www.chicagomag.com/Chicago-Magazine/November-2012/Best-Sandwiches-in-Chicago-Saigon-Sisters-The-Hen-House/', 'The Hen House', <br/>), ('http://www.chicagomag.com/Chicago-Magazine/November-2012/Best-Sandwiches-in-Chicago-Rosalias-Deli-Tuscan-Chicken/', 'Tuscan Chicken', <br/>), ('http://www.chicagomag.com/Chicago-Magazine/November-2012/Best-Sandwiches-in-Chicago-Z-and-H-MarketCafe-The-Marty/', 'The Marty ', <br/>), ('http://www.chicagomag.com/Chicago-Magazine/November-2012/Best-Sandwiches-in-Chicago-Market-House-on-the-Square-Whitefish/', 'Whitefish', <br/>), ('http://www.chicagomag.com/Chicago-Magazine/November-2012/Best-Sandwiches-in-Chicago-Elaines-Coffee-Call-Oat-Bread-Pecan-Butter-and-Fruit-Jam/', 'Oat Bread, Pecan Butter, and Fruit Jam', <br/>), ('http://www.chicagomag.com/Chicago-Magazine/November-2012/Best-Sandwiches-in-Chicago-Marion-Street-Cheese-Market-Cauliflower-Melt/', 'Cauliflower Melt', <br/>), ('http://www.chicagomag.com/Chicago-Magazine/November-2012/Best-Sandwiches-in-Chicago-Cafecito-Cubano/', 'Cubana', <br/>), ('http://www.chicagomag.com/Chicago-Magazine/November-2012/Best-Sandwiches-in-Chicago-Chickpea-Kufta/', 'Kufta', <br/>), ('http://www.chicagomag.com/Chicago-Magazine/November-2012/Best-Sandwiches-in-Chicago-The-Goddess-and-Grocer-Debbies-Egg-Salad/', 'Debbie’s Egg Salad', <br/>), ('http://www.chicagomag.com/Chicago-Magazine/November-2012/Best-Sandwiches-in-Chicago-Zenwich-Beef-Curry/', 'Beef Curry', <br/>), ('http://www.chicagomag.com/Chicago-Magazine/November-2012/Best-Sandwiches-in-Chicago-Toni-Patisserie-Le-Vegetarien/', 'Le Végétarien', <br/>), ('http://www.chicagomag.com/Chicago-Magazine/November-2012/Best-Sandwiches-in-Chicago-Phoebes-Bakery-The-Gatsby/', 'The Gatsby', <br/>)]\n"
     ]
    },
    {
     "ename": "SyntaxError",
     "evalue": "'return' outside function (<ipython-input-100-8dbfb76d6fa8>, line 18)",
     "output_type": "error",
     "traceback": [
      "\u001b[0;36m  File \u001b[0;32m\"<ipython-input-100-8dbfb76d6fa8>\"\u001b[0;36m, line \u001b[0;32m18\u001b[0m\n\u001b[0;31m    return\u001b[0m\n\u001b[0m          ^\u001b[0m\n\u001b[0;31mSyntaxError\u001b[0m\u001b[0;31m:\u001b[0m 'return' outside function\n"
     ]
    }
   ],
   "source": [
    "# Apart from BeautifulSoup, python scraping libraries worth looking into:\n",
    "# (1) Scrapy\n",
    "# (2) PyQuery\n",
    "\n",
    "# objective: get data and write to a csv file\n",
    "\n",
    "from bs4 import BeautifulSoup\n",
    "import requests\n",
    "import csv\n",
    "\n",
    "base_url = (\"http://www.chicagomag.com/Chicago-Magazine/November-2012/Best-Sandwiches-Chicago/\")\n",
    "\n",
    "soup = make_soup(base_url)\n",
    "sammies = soup.find_all(\"div\", \"sammy\")\n",
    "sammy_urls = [(div.a[\"href\"], div.a.b.text, div.a.b.find_next()) for div in sammies]\n",
    "\n",
    "print(sammy_urls)\n",
    "return\n",
    "\n",
    "with open(\"src-best-sandwiches.tsv\", \"w\") as f:\n",
    "    fieldnames = (\"rank\", \"sandwich\", \"restaurant\", \"description\", \"price\",\n",
    "                    \"address\", \"phone\", \"website\")\n",
    "    output = csv.writer(f, delimiter=\"\\t\")\n",
    "    output.writerow(fieldnames)\n",
    "\n",
    "    for url in sammy_urls:\n",
    "        url = url.replace(\"http://www.chicagomag.com\", \"\")  # inconsistent URL\n",
    "        page = make_soup(\"http://www.chicagomag.com{0}\".format(url))\n",
    "        \n",
    "        headline = page.find('h1','headline').text.split(maxsplit=1)\n",
    "        rank = headline[0].strip().replace('.','')\n",
    "        sandwich = headline[1].strip()\n",
    "        restaurant = '' # no restaurant information available on the page anymore\n",
    "\n",
    "        description = page.find('div','fb-like fb-like-top').find_next().text.strip()\n",
    "\n",
    "        addy = page.find('p','addy').em.text.split(',')\n",
    "        price = addy[0].partition(' ')[0].strip()       \n",
    "        address = addy[0].partition(' ')[2].strip()\n",
    "        phone = addy[1].strip()\n",
    "        \n",
    "        if page.find('p', 'addy').em.a:\n",
    "            website = page.find('p','addy').em.a['href']\n",
    "        else:\n",
    "            website = ''\n",
    "\n",
    "        output.writerow([rank, sandwich, restaurant, description, price,\n",
    "                        address, phone, website])\n",
    "\n",
    "print(\"Done writing file\")"
   ]
  },
  {
   "cell_type": "code",
   "execution_count": null,
   "metadata": {
    "collapsed": true
   },
   "outputs": [],
   "source": [
    "# While the scraper did a good job of getting all of the sandwiches and restaurants, a couple of restaurants \n",
    "# had \"multiple locations\" listed as their address. If we were to need this data, we'll have to find another \n",
    "# way to get it (like checking each restaurant's website and manually adding their locations to our dataset). \n",
    "# We'll also need to manually fix some oddities that wound up in our data due some inconsistent HTML on the \n",
    "# other end (addresses and URLs winding up in the phone numbers column).\n"
   ]
  }
 ],
 "metadata": {
  "kernelspec": {
   "display_name": "Python 3",
   "language": "python",
   "name": "python3"
  },
  "language_info": {
   "codemirror_mode": {
    "name": "ipython",
    "version": 3
   },
   "file_extension": ".py",
   "mimetype": "text/x-python",
   "name": "python",
   "nbconvert_exporter": "python",
   "pygments_lexer": "ipython3",
   "version": "3.5.2"
  }
 },
 "nbformat": 4,
 "nbformat_minor": 1
}
