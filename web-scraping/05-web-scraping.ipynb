{
 "cells": [
  {
   "cell_type": "markdown",
   "metadata": {},
   "source": [
    "> Notes:\n",
    "> + [dataquest: Python Web Scraping Tutorial using BeautifulSoup](https://www.dataquest.io/blog/web-scraping-tutorial-python/)\n",
    "> + [python generators](https://wiki.python.org/moin/Generators)\n",
    "> + [html status_codes](https://en.wikipedia.org/wiki/List_of_HTTP_status_codes)\n",
    "> + [css selectors](https://developer.mozilla.org/en-US/docs/Learn/CSS/Introduction_to_CSS/Selectors)\n",
    "> + [Series.str.extract](http://pandas.pydata.org/pandas-docs/stable/generated/pandas.Series.str.extract.html)"
   ]
  },
  {
   "cell_type": "code",
   "execution_count": 1,
   "metadata": {
    "collapsed": true
   },
   "outputs": [],
   "source": [
    "# objective:\n",
    "# scrape weather forecasts from National Weather Service (http://www.weather.gov/)\n",
    "# analyze data using pandas library"
   ]
  },
  {
   "cell_type": "code",
   "execution_count": 2,
   "metadata": {
    "collapsed": false
   },
   "outputs": [
    {
     "name": "stdout",
     "output_type": "stream",
     "text": [
      "page status code: 200\n",
      "page content: b'<!DOCTYPE html>\\n<html>\\n    <head>\\n        <title>A simple example page</title>\\n    </head>\\n    <body>\\n        <p>Here is some simple content for this page.</p>\\n    </body>\\n</html>'\n"
     ]
    }
   ],
   "source": [
    "# requests library\n",
    "\n",
    "import requests\n",
    "\n",
    "page = requests.get(\"http://dataquestio.github.io/web-scraping-pages/simple.html\")\n",
    "# html status_codes - https://en.wikipedia.org/wiki/List_of_HTTP_status_codes\n",
    "# 2xx = success\n",
    "# 3xx = redirection\n",
    "# 4xx = client errors\n",
    "# 5xx = server errors\n",
    "print('page status code: {}'.format(page.status_code))\n",
    "print('page content: {}'.format(page.content))"
   ]
  },
  {
   "cell_type": "code",
   "execution_count": 3,
   "metadata": {
    "collapsed": false
   },
   "outputs": [
    {
     "data": {
      "text/plain": [
       "<!DOCTYPE html>\n",
       "\n",
       "<html>\n",
       "<head>\n",
       "<title>A simple example page</title>\n",
       "</head>\n",
       "<body>\n",
       "<p>Here is some simple content for this page.</p>\n",
       "</body>\n",
       "</html>"
      ]
     },
     "execution_count": 3,
     "metadata": {},
     "output_type": "execute_result"
    }
   ],
   "source": [
    "# beautiful soup\n",
    "\n",
    "from bs4 import BeautifulSoup\n",
    "\n",
    "# get soup\n",
    "soup = BeautifulSoup(page.content, 'html.parser')\n",
    "soup"
   ]
  },
  {
   "cell_type": "code",
   "execution_count": 4,
   "metadata": {
    "collapsed": false
   },
   "outputs": [
    {
     "name": "stdout",
     "output_type": "stream",
     "text": [
      "<!DOCTYPE html>\n",
      "<html>\n",
      " <head>\n",
      "  <title>\n",
      "   A simple example page\n",
      "  </title>\n",
      " </head>\n",
      " <body>\n",
      "  <p>\n",
      "   Here is some simple content for this page.\n",
      "  </p>\n",
      " </body>\n",
      "</html>\n"
     ]
    }
   ],
   "source": [
    "# print soup content\n",
    "print(soup.prettify())"
   ]
  },
  {
   "cell_type": "code",
   "execution_count": 5,
   "metadata": {
    "collapsed": false
   },
   "outputs": [
    {
     "data": {
      "text/plain": [
       "['html', '\\n', <html>\n",
       " <head>\n",
       " <title>A simple example page</title>\n",
       " </head>\n",
       " <body>\n",
       " <p>Here is some simple content for this page.</p>\n",
       " </body>\n",
       " </html>]"
      ]
     },
     "execution_count": 5,
     "metadata": {},
     "output_type": "execute_result"
    }
   ],
   "source": [
    "# soup children\n",
    "\n",
    "# soup.children returns python list generator, hence calling the list function on it\n",
    "# check the python generators link in Notes: above\n",
    "soup_children = list(soup.children)\n",
    "soup_children\n",
    "# The above tells us that there are two tags at the top level of the page – the initial \n",
    "# <!DOCTYPE html> tag, and the <html> tag. There is a newline character (\\n) in the list as well"
   ]
  },
  {
   "cell_type": "code",
   "execution_count": 6,
   "metadata": {
    "collapsed": false
   },
   "outputs": [
    {
     "data": {
      "text/plain": [
       "[bs4.element.Doctype, bs4.element.NavigableString, bs4.element.Tag]"
      ]
     },
     "execution_count": 6,
     "metadata": {},
     "output_type": "execute_result"
    }
   ],
   "source": [
    "# soup children element type\n",
    "[type(elem) for elem in soup_children]"
   ]
  },
  {
   "cell_type": "code",
   "execution_count": 7,
   "metadata": {
    "collapsed": false
   },
   "outputs": [
    {
     "data": {
      "text/plain": [
       "['\\n', <head>\n",
       " <title>A simple example page</title>\n",
       " </head>, '\\n', <body>\n",
       " <p>Here is some simple content for this page.</p>\n",
       " </body>, '\\n']"
      ]
     },
     "execution_count": 7,
     "metadata": {},
     "output_type": "execute_result"
    }
   ],
   "source": [
    "# The third element [bs4.element.Tag] is most important for us\n",
    "html_children = list(soup_children[2].children)\n",
    "html_children"
   ]
  },
  {
   "cell_type": "code",
   "execution_count": 8,
   "metadata": {
    "collapsed": false
   },
   "outputs": [
    {
     "data": {
      "text/plain": [
       "['\\n', <p>Here is some simple content for this page.</p>, '\\n']"
      ]
     },
     "execution_count": 8,
     "metadata": {},
     "output_type": "execute_result"
    }
   ],
   "source": [
    "# body element\n",
    "body_children = list(html_children[3].children)\n",
    "body_children"
   ]
  },
  {
   "cell_type": "code",
   "execution_count": 9,
   "metadata": {
    "collapsed": false
   },
   "outputs": [
    {
     "data": {
      "text/plain": [
       "<p>Here is some simple content for this page.</p>"
      ]
     },
     "execution_count": 9,
     "metadata": {},
     "output_type": "execute_result"
    }
   ],
   "source": [
    "# p element\n",
    "p_element = body_children[1]\n",
    "p_element"
   ]
  },
  {
   "cell_type": "code",
   "execution_count": 10,
   "metadata": {
    "collapsed": false
   },
   "outputs": [
    {
     "data": {
      "text/plain": [
       "'Here is some simple content for this page.'"
      ]
     },
     "execution_count": 10,
     "metadata": {},
     "output_type": "execute_result"
    }
   ],
   "source": [
    "# p element text\n",
    "p_text = p_element.get_text()\n",
    "p_text"
   ]
  },
  {
   "cell_type": "code",
   "execution_count": 11,
   "metadata": {
    "collapsed": false
   },
   "outputs": [
    {
     "data": {
      "text/plain": [
       "[<p>Here is some simple content for this page.</p>]"
      ]
     },
     "execution_count": 11,
     "metadata": {},
     "output_type": "execute_result"
    }
   ],
   "source": [
    "# finding all instances of a tag at once\n",
    "soup.find_all('p')"
   ]
  },
  {
   "cell_type": "code",
   "execution_count": 12,
   "metadata": {
    "collapsed": false
   },
   "outputs": [
    {
     "data": {
      "text/plain": [
       "'Here is some simple content for this page.'"
      ]
     },
     "execution_count": 12,
     "metadata": {},
     "output_type": "execute_result"
    }
   ],
   "source": [
    "soup.find_all('p')[0].get_text()"
   ]
  },
  {
   "cell_type": "code",
   "execution_count": 13,
   "metadata": {
    "collapsed": false
   },
   "outputs": [
    {
     "data": {
      "text/plain": [
       "<p>Here is some simple content for this page.</p>"
      ]
     },
     "execution_count": 13,
     "metadata": {},
     "output_type": "execute_result"
    }
   ],
   "source": [
    "# first instance only\n",
    "soup.find('p')"
   ]
  },
  {
   "cell_type": "code",
   "execution_count": 14,
   "metadata": {
    "collapsed": false
   },
   "outputs": [
    {
     "data": {
      "text/plain": [
       "<html>\n",
       "<head>\n",
       "<title>A simple example page</title>\n",
       "</head>\n",
       "<body>\n",
       "<div>\n",
       "<p class=\"inner-text first-item\" id=\"first\">\n",
       "                First paragraph.\n",
       "            </p>\n",
       "<p class=\"inner-text\">\n",
       "                Second paragraph.\n",
       "            </p>\n",
       "</div>\n",
       "<p class=\"outer-text first-item\" id=\"second\">\n",
       "<b>\n",
       "                First outer paragraph.\n",
       "            </b>\n",
       "</p>\n",
       "<p class=\"outer-text\">\n",
       "<b>\n",
       "                Second outer paragraph.\n",
       "            </b>\n",
       "</p>\n",
       "</body>\n",
       "</html>"
      ]
     },
     "execution_count": 14,
     "metadata": {},
     "output_type": "execute_result"
    }
   ],
   "source": [
    "# searching for tags by class and id\n",
    "page2 = requests.get(\"http://dataquestio.github.io/web-scraping-pages/ids_and_classes.html\")\n",
    "soup2 = BeautifulSoup(page2.content, 'html.parser')\n",
    "soup2"
   ]
  },
  {
   "cell_type": "code",
   "execution_count": 15,
   "metadata": {
    "collapsed": false
   },
   "outputs": [
    {
     "data": {
      "text/plain": [
       "[<p class=\"outer-text first-item\" id=\"second\">\n",
       " <b>\n",
       "                 First outer paragraph.\n",
       "             </b>\n",
       " </p>, <p class=\"outer-text\">\n",
       " <b>\n",
       "                 Second outer paragraph.\n",
       "             </b>\n",
       " </p>]"
      ]
     },
     "execution_count": 15,
     "metadata": {},
     "output_type": "execute_result"
    }
   ],
   "source": [
    "soup2.find_all('p', class_='outer-text')"
   ]
  },
  {
   "cell_type": "code",
   "execution_count": 16,
   "metadata": {
    "collapsed": false
   },
   "outputs": [
    {
     "data": {
      "text/plain": [
       "[<p class=\"outer-text first-item\" id=\"second\">\n",
       " <b>\n",
       "                 First outer paragraph.\n",
       "             </b>\n",
       " </p>, <p class=\"outer-text\">\n",
       " <b>\n",
       "                 Second outer paragraph.\n",
       "             </b>\n",
       " </p>]"
      ]
     },
     "execution_count": 16,
     "metadata": {},
     "output_type": "execute_result"
    }
   ],
   "source": [
    "soup2.find_all(class_='outer-text')"
   ]
  },
  {
   "cell_type": "code",
   "execution_count": 17,
   "metadata": {
    "collapsed": false
   },
   "outputs": [
    {
     "data": {
      "text/plain": [
       "[<p class=\"inner-text first-item\" id=\"first\">\n",
       "                 First paragraph.\n",
       "             </p>]"
      ]
     },
     "execution_count": 17,
     "metadata": {},
     "output_type": "execute_result"
    }
   ],
   "source": [
    "soup2.find_all(id='first')"
   ]
  },
  {
   "cell_type": "code",
   "execution_count": 18,
   "metadata": {
    "collapsed": false
   },
   "outputs": [
    {
     "data": {
      "text/plain": [
       "[<p class=\"inner-text first-item\" id=\"first\">\n",
       "                 First paragraph.\n",
       "             </p>, <p class=\"inner-text\">\n",
       "                 Second paragraph.\n",
       "             </p>, <p class=\"outer-text first-item\" id=\"second\">\n",
       " <b>\n",
       "                 First outer paragraph.\n",
       "             </b>\n",
       " </p>, <p class=\"outer-text\">\n",
       " <b>\n",
       "                 Second outer paragraph.\n",
       "             </b>\n",
       " </p>]"
      ]
     },
     "execution_count": 18,
     "metadata": {},
     "output_type": "execute_result"
    }
   ],
   "source": [
    "# using css selectors - https://developer.mozilla.org/en-US/docs/Learn/CSS/Introduction_to_CSS/Selectors\n",
    "# p a – finds all a tags inside of a p tag.\n",
    "# body p a – finds all a tags inside of a p tag inside of a body tag.\n",
    "# html body – finds all body tags inside of an html tag.\n",
    "# p.outer-text – finds all p tags with a class of outer-text.\n",
    "# p#first – finds all p tags with an id of first.\n",
    "# body p.outer-text – finds any p tags with a class of outer-text inside of a body tag.\n",
    "\n",
    "soup2.select('p')"
   ]
  },
  {
   "cell_type": "code",
   "execution_count": 19,
   "metadata": {
    "collapsed": false
   },
   "outputs": [
    {
     "data": {
      "text/plain": [
       "[<p class=\"inner-text first-item\" id=\"first\">\n",
       "                 First paragraph.\n",
       "             </p>, <p class=\"inner-text\">\n",
       "                 Second paragraph.\n",
       "             </p>]"
      ]
     },
     "execution_count": 19,
     "metadata": {},
     "output_type": "execute_result"
    }
   ],
   "source": [
    "soup2.select('div p')"
   ]
  },
  {
   "cell_type": "code",
   "execution_count": 20,
   "metadata": {
    "collapsed": false
   },
   "outputs": [
    {
     "name": "stdout",
     "output_type": "stream",
     "text": [
      "<div class=\"tombstone-container\">\n",
      " <p class=\"period-name\">\n",
      "  Today\n",
      "  <br>\n",
      "   <br/>\n",
      "  </br>\n",
      " </p>\n",
      " <p>\n",
      "  <img alt=\"Today: Sunny, with a high near 69. North wind 5 to 14 mph becoming west in the afternoon. Winds could gust as high as 18 mph. \" class=\"forecast-icon\" src=\"newimages/medium/few.png\" title=\"Today: Sunny, with a high near 69. North wind 5 to 14 mph becoming west in the afternoon. Winds could gust as high as 18 mph. \"/>\n",
      " </p>\n",
      " <p class=\"short-desc\">\n",
      "  Sunny\n",
      " </p>\n",
      " <p class=\"temp temp-high\">\n",
      "  High: 69 °F\n",
      " </p>\n",
      "</div>\n"
     ]
    }
   ],
   "source": [
    "# weather data\n",
    "\n",
    "page_weather = requests.get(\"http://forecast.weather.gov/MapClick.php?lat=37.7772&lon=-122.4168\")\n",
    "page_weather.raise_for_status()\n",
    "soup_weather = BeautifulSoup(page_weather.content, 'html.parser')\n",
    "seven_day = soup_weather.find(id='seven-day-forecast')\n",
    "forecast_items = seven_day.find_all(class_='tombstone-container')\n",
    "first_forecast_item = forecast_items[0]\n",
    "print(first_forecast_item.prettify())"
   ]
  },
  {
   "cell_type": "code",
   "execution_count": 21,
   "metadata": {
    "collapsed": false
   },
   "outputs": [
    {
     "data": {
      "text/plain": [
       "'Today'"
      ]
     },
     "execution_count": 21,
     "metadata": {},
     "output_type": "execute_result"
    }
   ],
   "source": [
    "period_name = first_forecast_item.find(class_='period-name')\n",
    "period_name.get_text()"
   ]
  },
  {
   "cell_type": "code",
   "execution_count": 22,
   "metadata": {
    "collapsed": false
   },
   "outputs": [
    {
     "data": {
      "text/plain": [
       "'Today: Sunny, with a high near 69. North wind 5 to 14 mph becoming west in the afternoon. Winds could gust as high as 18 mph. '"
      ]
     },
     "execution_count": 22,
     "metadata": {},
     "output_type": "execute_result"
    }
   ],
   "source": [
    "desc = first_forecast_item.find('img').get('title')\n",
    "desc"
   ]
  },
  {
   "cell_type": "code",
   "execution_count": 23,
   "metadata": {
    "collapsed": false
   },
   "outputs": [
    {
     "data": {
      "text/plain": [
       "'Sunny'"
      ]
     },
     "execution_count": 23,
     "metadata": {},
     "output_type": "execute_result"
    }
   ],
   "source": [
    "short_desc = first_forecast_item.find(class_='short-desc')\n",
    "short_desc.get_text()"
   ]
  },
  {
   "cell_type": "code",
   "execution_count": 24,
   "metadata": {
    "collapsed": false
   },
   "outputs": [
    {
     "data": {
      "text/plain": [
       "'High: 69 °F'"
      ]
     },
     "execution_count": 24,
     "metadata": {},
     "output_type": "execute_result"
    }
   ],
   "source": [
    "temp = first_forecast_item.find(class_='temp')\n",
    "temp.get_text()"
   ]
  },
  {
   "cell_type": "code",
   "execution_count": 25,
   "metadata": {
    "collapsed": false
   },
   "outputs": [
    {
     "name": "stdout",
     "output_type": "stream",
     "text": [
      "['Today', 'Tonight', 'Tuesday', 'TuesdayNight', 'Wednesday', 'WednesdayNight', 'Thursday', 'ThursdayNight', 'Friday']\n",
      "\n",
      "<p class=\"short-desc\">Sunny</p>\n",
      "\n",
      "<p class=\"temp temp-high\">High: 69 °F</p>\n",
      "\n",
      "Today: Sunny, with a high near 69. North wind 5 to 14 mph becoming west in the afternoon. Winds could gust as high as 18 mph. \n",
      "\n"
     ]
    }
   ],
   "source": [
    "# extracting all information from page\n",
    "\n",
    "period_names = [pn.get_text() for pn in seven_day.select('.tombstone-container .period-name')]\n",
    "print(period_names)\n",
    "print()\n",
    "short_descs = [sd.get_text() for sd in seven_day.select('.tombstone-container .short-desc')]\n",
    "print(short_desc)\n",
    "print()\n",
    "temps = [t.get_text() for t in seven_day.select('.tombstone-container .temp')]\n",
    "print(temp)\n",
    "print()\n",
    "descs = [i.get('title') for i in seven_day.select('.tombstone-container img')]\n",
    "print(desc)\n",
    "print()"
   ]
  },
  {
   "cell_type": "code",
   "execution_count": 26,
   "metadata": {
    "collapsed": false
   },
   "outputs": [
    {
     "data": {
      "text/html": [
       "<div>\n",
       "<table border=\"1\" class=\"dataframe\">\n",
       "  <thead>\n",
       "    <tr style=\"text-align: right;\">\n",
       "      <th></th>\n",
       "      <th>desc</th>\n",
       "      <th>period</th>\n",
       "      <th>short_desc</th>\n",
       "      <th>temp</th>\n",
       "    </tr>\n",
       "  </thead>\n",
       "  <tbody>\n",
       "    <tr>\n",
       "      <th>0</th>\n",
       "      <td>Today: Sunny, with a high near 69. North wind ...</td>\n",
       "      <td>Today</td>\n",
       "      <td>Sunny</td>\n",
       "      <td>High: 69 °F</td>\n",
       "    </tr>\n",
       "    <tr>\n",
       "      <th>1</th>\n",
       "      <td>Tonight: Partly cloudy, with a low around 51. ...</td>\n",
       "      <td>Tonight</td>\n",
       "      <td>Partly Cloudy</td>\n",
       "      <td>Low: 51 °F</td>\n",
       "    </tr>\n",
       "    <tr>\n",
       "      <th>2</th>\n",
       "      <td>Tuesday: Mostly sunny, with a high near 67. Ca...</td>\n",
       "      <td>Tuesday</td>\n",
       "      <td>Mostly Sunny</td>\n",
       "      <td>High: 67 °F</td>\n",
       "    </tr>\n",
       "    <tr>\n",
       "      <th>3</th>\n",
       "      <td>Tuesday Night: Partly cloudy, with a low aroun...</td>\n",
       "      <td>TuesdayNight</td>\n",
       "      <td>Partly Cloudy</td>\n",
       "      <td>Low: 52 °F</td>\n",
       "    </tr>\n",
       "    <tr>\n",
       "      <th>4</th>\n",
       "      <td>Wednesday: Partly sunny, with a high near 70. ...</td>\n",
       "      <td>Wednesday</td>\n",
       "      <td>Partly Sunny</td>\n",
       "      <td>High: 70 °F</td>\n",
       "    </tr>\n",
       "    <tr>\n",
       "      <th>5</th>\n",
       "      <td>Wednesday Night: Mostly cloudy, with a low aro...</td>\n",
       "      <td>WednesdayNight</td>\n",
       "      <td>Mostly Cloudy</td>\n",
       "      <td>Low: 53 °F</td>\n",
       "    </tr>\n",
       "    <tr>\n",
       "      <th>6</th>\n",
       "      <td>Thursday: A 20 percent chance of rain.  Partly...</td>\n",
       "      <td>Thursday</td>\n",
       "      <td>Slight ChanceRain</td>\n",
       "      <td>High: 67 °F</td>\n",
       "    </tr>\n",
       "    <tr>\n",
       "      <th>7</th>\n",
       "      <td>Thursday Night: Rain.  Mostly cloudy, with a l...</td>\n",
       "      <td>ThursdayNight</td>\n",
       "      <td>Rain</td>\n",
       "      <td>Low: 54 °F</td>\n",
       "    </tr>\n",
       "    <tr>\n",
       "      <th>8</th>\n",
       "      <td>Friday: Rain.  Cloudy, with a high near 64. Wi...</td>\n",
       "      <td>Friday</td>\n",
       "      <td>Rain andWindy</td>\n",
       "      <td>High: 64 °F</td>\n",
       "    </tr>\n",
       "  </tbody>\n",
       "</table>\n",
       "</div>"
      ],
      "text/plain": [
       "                                                desc          period  \\\n",
       "0  Today: Sunny, with a high near 69. North wind ...           Today   \n",
       "1  Tonight: Partly cloudy, with a low around 51. ...         Tonight   \n",
       "2  Tuesday: Mostly sunny, with a high near 67. Ca...         Tuesday   \n",
       "3  Tuesday Night: Partly cloudy, with a low aroun...    TuesdayNight   \n",
       "4  Wednesday: Partly sunny, with a high near 70. ...       Wednesday   \n",
       "5  Wednesday Night: Mostly cloudy, with a low aro...  WednesdayNight   \n",
       "6  Thursday: A 20 percent chance of rain.  Partly...        Thursday   \n",
       "7  Thursday Night: Rain.  Mostly cloudy, with a l...   ThursdayNight   \n",
       "8  Friday: Rain.  Cloudy, with a high near 64. Wi...          Friday   \n",
       "\n",
       "          short_desc         temp  \n",
       "0              Sunny  High: 69 °F  \n",
       "1      Partly Cloudy   Low: 51 °F  \n",
       "2       Mostly Sunny  High: 67 °F  \n",
       "3      Partly Cloudy   Low: 52 °F  \n",
       "4       Partly Sunny  High: 70 °F  \n",
       "5      Mostly Cloudy   Low: 53 °F  \n",
       "6  Slight ChanceRain  High: 67 °F  \n",
       "7               Rain   Low: 54 °F  \n",
       "8      Rain andWindy  High: 64 °F  "
      ]
     },
     "execution_count": 26,
     "metadata": {},
     "output_type": "execute_result"
    }
   ],
   "source": [
    "# pandas dataframe using data dictionary\n",
    "import pandas as pd\n",
    "weather = pd.DataFrame({\n",
    "        'period' : period_names,\n",
    "        'short_desc' :  short_descs,\n",
    "        'temp' : temps,\n",
    "        'desc' : descs        \n",
    "    })\n",
    "weather"
   ]
  },
  {
   "cell_type": "code",
   "execution_count": 27,
   "metadata": {
    "collapsed": false
   },
   "outputs": [
    {
     "data": {
      "text/html": [
       "<div>\n",
       "<table border=\"1\" class=\"dataframe\">\n",
       "  <thead>\n",
       "    <tr style=\"text-align: right;\">\n",
       "      <th></th>\n",
       "      <th>desc</th>\n",
       "      <th>period</th>\n",
       "      <th>short_desc</th>\n",
       "      <th>temp</th>\n",
       "      <th>temp_num</th>\n",
       "    </tr>\n",
       "  </thead>\n",
       "  <tbody>\n",
       "    <tr>\n",
       "      <th>0</th>\n",
       "      <td>Today: Sunny, with a high near 69. North wind ...</td>\n",
       "      <td>Today</td>\n",
       "      <td>Sunny</td>\n",
       "      <td>High: 69 °F</td>\n",
       "      <td>69</td>\n",
       "    </tr>\n",
       "    <tr>\n",
       "      <th>1</th>\n",
       "      <td>Tonight: Partly cloudy, with a low around 51. ...</td>\n",
       "      <td>Tonight</td>\n",
       "      <td>Partly Cloudy</td>\n",
       "      <td>Low: 51 °F</td>\n",
       "      <td>51</td>\n",
       "    </tr>\n",
       "    <tr>\n",
       "      <th>2</th>\n",
       "      <td>Tuesday: Mostly sunny, with a high near 67. Ca...</td>\n",
       "      <td>Tuesday</td>\n",
       "      <td>Mostly Sunny</td>\n",
       "      <td>High: 67 °F</td>\n",
       "      <td>67</td>\n",
       "    </tr>\n",
       "    <tr>\n",
       "      <th>3</th>\n",
       "      <td>Tuesday Night: Partly cloudy, with a low aroun...</td>\n",
       "      <td>TuesdayNight</td>\n",
       "      <td>Partly Cloudy</td>\n",
       "      <td>Low: 52 °F</td>\n",
       "      <td>52</td>\n",
       "    </tr>\n",
       "    <tr>\n",
       "      <th>4</th>\n",
       "      <td>Wednesday: Partly sunny, with a high near 70. ...</td>\n",
       "      <td>Wednesday</td>\n",
       "      <td>Partly Sunny</td>\n",
       "      <td>High: 70 °F</td>\n",
       "      <td>70</td>\n",
       "    </tr>\n",
       "    <tr>\n",
       "      <th>5</th>\n",
       "      <td>Wednesday Night: Mostly cloudy, with a low aro...</td>\n",
       "      <td>WednesdayNight</td>\n",
       "      <td>Mostly Cloudy</td>\n",
       "      <td>Low: 53 °F</td>\n",
       "      <td>53</td>\n",
       "    </tr>\n",
       "    <tr>\n",
       "      <th>6</th>\n",
       "      <td>Thursday: A 20 percent chance of rain.  Partly...</td>\n",
       "      <td>Thursday</td>\n",
       "      <td>Slight ChanceRain</td>\n",
       "      <td>High: 67 °F</td>\n",
       "      <td>67</td>\n",
       "    </tr>\n",
       "    <tr>\n",
       "      <th>7</th>\n",
       "      <td>Thursday Night: Rain.  Mostly cloudy, with a l...</td>\n",
       "      <td>ThursdayNight</td>\n",
       "      <td>Rain</td>\n",
       "      <td>Low: 54 °F</td>\n",
       "      <td>54</td>\n",
       "    </tr>\n",
       "    <tr>\n",
       "      <th>8</th>\n",
       "      <td>Friday: Rain.  Cloudy, with a high near 64. Wi...</td>\n",
       "      <td>Friday</td>\n",
       "      <td>Rain andWindy</td>\n",
       "      <td>High: 64 °F</td>\n",
       "      <td>64</td>\n",
       "    </tr>\n",
       "  </tbody>\n",
       "</table>\n",
       "</div>"
      ],
      "text/plain": [
       "                                                desc          period  \\\n",
       "0  Today: Sunny, with a high near 69. North wind ...           Today   \n",
       "1  Tonight: Partly cloudy, with a low around 51. ...         Tonight   \n",
       "2  Tuesday: Mostly sunny, with a high near 67. Ca...         Tuesday   \n",
       "3  Tuesday Night: Partly cloudy, with a low aroun...    TuesdayNight   \n",
       "4  Wednesday: Partly sunny, with a high near 70. ...       Wednesday   \n",
       "5  Wednesday Night: Mostly cloudy, with a low aro...  WednesdayNight   \n",
       "6  Thursday: A 20 percent chance of rain.  Partly...        Thursday   \n",
       "7  Thursday Night: Rain.  Mostly cloudy, with a l...   ThursdayNight   \n",
       "8  Friday: Rain.  Cloudy, with a high near 64. Wi...          Friday   \n",
       "\n",
       "          short_desc         temp  temp_num  \n",
       "0              Sunny  High: 69 °F        69  \n",
       "1      Partly Cloudy   Low: 51 °F        51  \n",
       "2       Mostly Sunny  High: 67 °F        67  \n",
       "3      Partly Cloudy   Low: 52 °F        52  \n",
       "4       Partly Sunny  High: 70 °F        70  \n",
       "5      Mostly Cloudy   Low: 53 °F        53  \n",
       "6  Slight ChanceRain  High: 67 °F        67  \n",
       "7               Rain   Low: 54 °F        54  \n",
       "8      Rain andWindy  High: 64 °F        64  "
      ]
     },
     "execution_count": 27,
     "metadata": {},
     "output_type": "execute_result"
    }
   ],
   "source": [
    "# data analysis\n",
    "\n",
    "# Named groups will become column names in the result. Check the link up top\n",
    "# $ s.str.extract('(?P<letter>[ab])(?P<digit>\\d)')\n",
    "#   letter digit\n",
    "# 0      a     1\n",
    "# 1      b     2\n",
    "# 2    NaN   NaN\n",
    "\n",
    "# numeric temp\n",
    "temp_nums = weather['temp'].str.extract('(?P<temp_num>\\d+)', expand=False)\n",
    "weather['temp_num'] = temp_nums.astype('int')\n",
    "weather"
   ]
  },
  {
   "cell_type": "code",
   "execution_count": 28,
   "metadata": {
    "collapsed": false
   },
   "outputs": [
    {
     "data": {
      "text/plain": [
       "60.77777777777778"
      ]
     },
     "execution_count": 28,
     "metadata": {},
     "output_type": "execute_result"
    }
   ],
   "source": [
    "# temp mean\n",
    "weather['temp_num'].mean()"
   ]
  },
  {
   "cell_type": "code",
   "execution_count": 29,
   "metadata": {
    "collapsed": false
   },
   "outputs": [
    {
     "data": {
      "text/html": [
       "<div>\n",
       "<table border=\"1\" class=\"dataframe\">\n",
       "  <thead>\n",
       "    <tr style=\"text-align: right;\">\n",
       "      <th></th>\n",
       "      <th>desc</th>\n",
       "      <th>period</th>\n",
       "      <th>short_desc</th>\n",
       "      <th>temp</th>\n",
       "      <th>temp_num</th>\n",
       "      <th>is_night</th>\n",
       "    </tr>\n",
       "  </thead>\n",
       "  <tbody>\n",
       "    <tr>\n",
       "      <th>0</th>\n",
       "      <td>Today: Sunny, with a high near 69. North wind ...</td>\n",
       "      <td>Today</td>\n",
       "      <td>Sunny</td>\n",
       "      <td>High: 69 °F</td>\n",
       "      <td>69</td>\n",
       "      <td>False</td>\n",
       "    </tr>\n",
       "    <tr>\n",
       "      <th>1</th>\n",
       "      <td>Tonight: Partly cloudy, with a low around 51. ...</td>\n",
       "      <td>Tonight</td>\n",
       "      <td>Partly Cloudy</td>\n",
       "      <td>Low: 51 °F</td>\n",
       "      <td>51</td>\n",
       "      <td>True</td>\n",
       "    </tr>\n",
       "    <tr>\n",
       "      <th>2</th>\n",
       "      <td>Tuesday: Mostly sunny, with a high near 67. Ca...</td>\n",
       "      <td>Tuesday</td>\n",
       "      <td>Mostly Sunny</td>\n",
       "      <td>High: 67 °F</td>\n",
       "      <td>67</td>\n",
       "      <td>False</td>\n",
       "    </tr>\n",
       "    <tr>\n",
       "      <th>3</th>\n",
       "      <td>Tuesday Night: Partly cloudy, with a low aroun...</td>\n",
       "      <td>TuesdayNight</td>\n",
       "      <td>Partly Cloudy</td>\n",
       "      <td>Low: 52 °F</td>\n",
       "      <td>52</td>\n",
       "      <td>True</td>\n",
       "    </tr>\n",
       "    <tr>\n",
       "      <th>4</th>\n",
       "      <td>Wednesday: Partly sunny, with a high near 70. ...</td>\n",
       "      <td>Wednesday</td>\n",
       "      <td>Partly Sunny</td>\n",
       "      <td>High: 70 °F</td>\n",
       "      <td>70</td>\n",
       "      <td>False</td>\n",
       "    </tr>\n",
       "    <tr>\n",
       "      <th>5</th>\n",
       "      <td>Wednesday Night: Mostly cloudy, with a low aro...</td>\n",
       "      <td>WednesdayNight</td>\n",
       "      <td>Mostly Cloudy</td>\n",
       "      <td>Low: 53 °F</td>\n",
       "      <td>53</td>\n",
       "      <td>True</td>\n",
       "    </tr>\n",
       "    <tr>\n",
       "      <th>6</th>\n",
       "      <td>Thursday: A 20 percent chance of rain.  Partly...</td>\n",
       "      <td>Thursday</td>\n",
       "      <td>Slight ChanceRain</td>\n",
       "      <td>High: 67 °F</td>\n",
       "      <td>67</td>\n",
       "      <td>False</td>\n",
       "    </tr>\n",
       "    <tr>\n",
       "      <th>7</th>\n",
       "      <td>Thursday Night: Rain.  Mostly cloudy, with a l...</td>\n",
       "      <td>ThursdayNight</td>\n",
       "      <td>Rain</td>\n",
       "      <td>Low: 54 °F</td>\n",
       "      <td>54</td>\n",
       "      <td>True</td>\n",
       "    </tr>\n",
       "    <tr>\n",
       "      <th>8</th>\n",
       "      <td>Friday: Rain.  Cloudy, with a high near 64. Wi...</td>\n",
       "      <td>Friday</td>\n",
       "      <td>Rain andWindy</td>\n",
       "      <td>High: 64 °F</td>\n",
       "      <td>64</td>\n",
       "      <td>False</td>\n",
       "    </tr>\n",
       "  </tbody>\n",
       "</table>\n",
       "</div>"
      ],
      "text/plain": [
       "                                                desc          period  \\\n",
       "0  Today: Sunny, with a high near 69. North wind ...           Today   \n",
       "1  Tonight: Partly cloudy, with a low around 51. ...         Tonight   \n",
       "2  Tuesday: Mostly sunny, with a high near 67. Ca...         Tuesday   \n",
       "3  Tuesday Night: Partly cloudy, with a low aroun...    TuesdayNight   \n",
       "4  Wednesday: Partly sunny, with a high near 70. ...       Wednesday   \n",
       "5  Wednesday Night: Mostly cloudy, with a low aro...  WednesdayNight   \n",
       "6  Thursday: A 20 percent chance of rain.  Partly...        Thursday   \n",
       "7  Thursday Night: Rain.  Mostly cloudy, with a l...   ThursdayNight   \n",
       "8  Friday: Rain.  Cloudy, with a high near 64. Wi...          Friday   \n",
       "\n",
       "          short_desc         temp  temp_num is_night  \n",
       "0              Sunny  High: 69 °F        69    False  \n",
       "1      Partly Cloudy   Low: 51 °F        51     True  \n",
       "2       Mostly Sunny  High: 67 °F        67    False  \n",
       "3      Partly Cloudy   Low: 52 °F        52     True  \n",
       "4       Partly Sunny  High: 70 °F        70    False  \n",
       "5      Mostly Cloudy   Low: 53 °F        53     True  \n",
       "6  Slight ChanceRain  High: 67 °F        67    False  \n",
       "7               Rain   Low: 54 °F        54     True  \n",
       "8      Rain andWindy  High: 64 °F        64    False  "
      ]
     },
     "execution_count": 29,
     "metadata": {},
     "output_type": "execute_result"
    }
   ],
   "source": [
    "# is night?\n",
    "is_night = weather['period'].str.upper().str.lower().str.contains('night')\n",
    "weather['is_night'] = is_night\n",
    "weather"
   ]
  },
  {
   "cell_type": "code",
   "execution_count": 30,
   "metadata": {
    "collapsed": true
   },
   "outputs": [],
   "source": [
    "# A good next step would be to pick a site and try some web scraping on your own. \n",
    "# Some good examples of data to scrape are:\n",
    "# (1) News articles\n",
    "# (2) Sports scores\n",
    "# (3) Weather forecasts\n",
    "# (4) Stock prices\n",
    "# (5) Online retailer prices\n",
    "# You may also want to keep scraping the National Weather Service, \n",
    "# and see what other data you can extract from the page, or about your own city."
   ]
  }
 ],
 "metadata": {
  "anaconda-cloud": {},
  "kernelspec": {
   "display_name": "Python [default]",
   "language": "python",
   "name": "python3"
  },
  "language_info": {
   "codemirror_mode": {
    "name": "ipython",
    "version": 3
   },
   "file_extension": ".py",
   "mimetype": "text/x-python",
   "name": "python",
   "nbconvert_exporter": "python",
   "pygments_lexer": "ipython3",
   "version": "3.5.2"
  }
 },
 "nbformat": 4,
 "nbformat_minor": 1
}
