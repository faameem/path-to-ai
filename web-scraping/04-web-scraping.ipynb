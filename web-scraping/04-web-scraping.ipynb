{
 "cells": [
  {
   "cell_type": "markdown",
   "metadata": {},
   "source": [
    "> Notes:\n",
    "> + [First web scraper](https://first-web-scraper.readthedocs.io/en/latest/)"
   ]
  },
  {
   "cell_type": "code",
   "execution_count": 1,
   "metadata": {
    "collapsed": true
   },
   "outputs": [],
   "source": [
    "# objective:\n",
    "# Extract the roster of inmates at the Boone County Jail in Missouri from a local government website \n",
    "# and save it as comma-delimited text ready for analysis."
   ]
  },
  {
   "cell_type": "code",
   "execution_count": 27,
   "metadata": {
    "collapsed": false
   },
   "outputs": [],
   "source": [
    "import requests, csv, sys\n",
    "from bs4 import BeautifulSoup\n",
    "\n",
    "url = 'http://www.showmeboone.com/sheriff/JailResidents/JailResidents.asp'\n",
    "response = requests.get(url)\n",
    "response.raise_for_status()\n",
    "html = response.content\n",
    "soup = BeautifulSoup(html,'lxml')\n",
    "table = soup.find('tbody', attrs={'class': 'stripe'})\n",
    "list_of_rows = []\n",
    "for row in table.findAll('tr'):\n",
    "    list_of_cells = []\n",
    "    for cell in row.findAll('td')[1:]:\n",
    "        text = cell.text.replace('&nbsp;', '')\n",
    "        list_of_cells.append(text)\n",
    "    list_of_rows.append(list_of_cells)\n",
    "\n",
    "filename = 'inmates.csv'\n",
    "with open(filename,'w') as f:\n",
    "    writer = csv.writer(f)\n",
    "    try:\n",
    "        writer.writerow([\"Last\", \"First\", \"Middle\", \"Gender\", \"Race\", \"Age\", \"City\", \"State\"])\n",
    "        writer.writerows(list_of_rows)\n",
    "    except csv.Error as e:\n",
    "        sys.exit('file {}, error {}'.format(filename, e))"
   ]
  },
  {
   "cell_type": "code",
   "execution_count": null,
   "metadata": {
    "collapsed": true
   },
   "outputs": [],
   "source": []
  },
  {
   "cell_type": "code",
   "execution_count": null,
   "metadata": {
    "collapsed": true
   },
   "outputs": [],
   "source": []
  }
 ],
 "metadata": {
  "kernelspec": {
   "display_name": "Python 3",
   "language": "python",
   "name": "python3"
  },
  "language_info": {
   "codemirror_mode": {
    "name": "ipython",
    "version": 3
   },
   "file_extension": ".py",
   "mimetype": "text/x-python",
   "name": "python",
   "nbconvert_exporter": "python",
   "pygments_lexer": "ipython3",
   "version": "3.5.2"
  }
 },
 "nbformat": 4,
 "nbformat_minor": 1
}
