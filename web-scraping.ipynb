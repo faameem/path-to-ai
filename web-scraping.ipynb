{
 "cells": [
  {
   "cell_type": "markdown",
   "metadata": {},
   "source": [
    "> Notes: \n",
    "\n",
    "> + [HTML Scraping](http://docs.python-guide.org/en/latest/scenarios/scrape/)\n",
    "> + [Speed (concurrency)](http://docs.python-guide.org/en/latest/scenarios/speed/)"
   ]
  },
  {
   "cell_type": "code",
   "execution_count": 1,
   "metadata": {
    "collapsed": true
   },
   "outputs": [],
   "source": [
    "# lxml is a library written for parsing XML and HTML documents.\n",
    "# Requests module provides more speed and readability than the built-in urllib2 module."
   ]
  },
  {
   "cell_type": "code",
   "execution_count": 8,
   "metadata": {
    "collapsed": true
   },
   "outputs": [],
   "source": [
    "from lxml import html\n",
    "import requests\n",
    "import timeit"
   ]
  },
  {
   "cell_type": "code",
   "execution_count": 9,
   "metadata": {
    "collapsed": false
   },
   "outputs": [
    {
     "name": "stdout",
     "output_type": "stream",
     "text": [
      "url: http://econpy.pythonanywhere.com/ex/001.html\n",
      "url: http://econpy.pythonanywhere.com/ex/002.html\n",
      "url: http://econpy.pythonanywhere.com/ex/003.html\n",
      "url: http://econpy.pythonanywhere.com/ex/004.html\n",
      "url: http://econpy.pythonanywhere.com/ex/005.html\n",
      "buyers: [['Carson Busses', 'Earl E. Byrd', 'Patty Cakes', 'Derri Anne Connecticut', 'Moe Dess', 'Leda Doggslife', 'Dan Druff', 'Al Fresco', 'Ido Hoe', 'Howie Kisses', 'Len Lease', 'Phil Meup', 'Ira Pent', 'Ben D. Rules', 'Ave Sectomy', 'Gary Shattire', 'Bobbi Soks', 'Sheila Takya', 'Rose Tattoo', 'Moe Tell'], ['Les Toil', 'Lionel Train', 'N.V. Ubble', 'Mayflower van Lines', 'Chad A. While', 'Larry Yet Ann Arbor', 'Ted D. Baer', 'Etta Burger', 'Doris Closed', 'Bard Dahl', 'Barry Dellive', 'Robin Droppings', 'Io Ewe', 'May Flye', 'Alma Gedon', 'Hy Marks', 'Holly Hox', 'Chris Kraft', 'Ellis I. Land', 'Penny Loafer'], ['Dell Monte', 'Baxter Nature', 'Agatha L. Outtahere', 'Bunny Pellits', 'Cheri Pitts', 'Forrest Ranger', 'Ron Rico', 'Cole Shute', 'Gracie Spoon', 'May Zola Penny Ante', 'Ray Beeze', 'Barbara Blacksheep', 'Petey Bowt', 'Warner Brothers', 'Mel N. Colic', 'Petey Cue', 'B.V. Dease', 'Benny Fitt', 'Bette R. Haff', 'Desi Krashum'], ['Gill D. Lily', 'Cole Mines', 'Phil R. Monik', 'L.O. Quency', 'Connel Radd', 'Ben D. Rules', 'Cleon Sheets', 'Renata Tampaks', 'Justin Thyme', 'Matt Tress', 'Vic Trola', 'Al Truist', 'Aaron Tyres', 'U.N. Wattarmey', 'Abe L.N. Willing', 'Jerry Atrick', 'Hy Ball', 'Jill E. Bean', 'Kitty Car', 'Phil Coe'], ['Stella Constellation', 'Lee Derhosen', 'Stan Dupp', 'Hammond Ecks', 'Fanny Farmer', 'Golda Fish', 'Shirley U. Geste', 'Lou Gubrious', 'Beverly Hills', 'Castor Hoyle', 'Bella Katt', 'Al Lergy', 'Ida Lowers', 'Pete Moss', 'Rhoda Mule', 'Missy Perriad', 'Carolina Rice', 'Anna Septic', 'Cass Tigate', 'Val Voline']]\n",
      "\n",
      "prices: [['$29.95', '$8.37', '$15.26', '$19.25', '$19.25', '$13.99', '$31.57', '$8.49', '$14.47', '$15.86', '$11.11', '$15.98', '$16.27', '$7.50', '$50.85', '$14.26', '$5.68', '$15.00', '$114.07', '$10.09'], ['$19.25', '$13.99', '$8.47', '$16.28', '$9.60', '$9.49', '$12.47', '$10.99', '$10.09', '$21.03', '$16.13', '$17.47', '$16.71', '$34.33', '$14.61', '$14.67', '$9.49', '$8.99', '$20.47', '$6.47'], ['$12.00', '$6.47', '$8.99', '$18.75', '$16.93', '$12.51', '$60.98', '$4.99', '$11.10', '$9.34', '$55.82', '$10.00', '$8.79', '$8.09', '$16.66', '$14.36', '$11.98', '$16.75', '$8.79', '$9.99'], ['$21.21', '$11.56', '$8.99', '$14.30', '$4.99', '$45.00', '$16.27', '$14.24', '$10.98', '$18.47', '$11.43', '$17.63', '$25.00', '$16.13', '$4.99', '$14.11', '$16.61', '$9.49', '$11.13', '$11.10'], ['$25.00', '$8.49', '$15.04', '$17.14', '$15.68', '$10.60', '$14.98', '$8.99', '$20.74', '$25.95', '$17.98', '$4.99', '$8.49', '$15.36', '$9.89', '$15.60', '$28.12', '$19.97', '$25.70', '$26.28']]\n",
      "\n",
      "time: 0.0005859110387973487\n"
     ]
    }
   ],
   "source": [
    "# looking at the 5 pages, these are the tags of interest\n",
    "# <div title=\"buyer-name\">Carson Busses</div>\n",
    "# <span class=\"item-price\">$29.95</span>\n",
    "\n",
    "# using XPath(https://www.w3schools.com/xml/xpath_intro.asp) \n",
    "# (can also use CSSSelect)\n",
    "def get_econpy():\n",
    "    start = timeit.timeit()\n",
    "    buyers = []\n",
    "    prices = []\n",
    "    for pageno in range(1,6):\n",
    "        url = 'http://econpy.pythonanywhere.com/ex/00'+str(pageno)+'.html'\n",
    "        print('url: {}'.format(url))\n",
    "        page = requests.get(url)\n",
    "        tree = html.fromstring(page.content)\n",
    "        b = tree.xpath('//div[@title=\"buyer-name\"]/text()')\n",
    "        p = tree.xpath('//span[@class=\"item-price\"]/text()')\n",
    "        buyers.append(b)\n",
    "        prices.append(p)\n",
    "    end = timeit.timeit()\n",
    "    print('buyers: {}'.format(buyers))\n",
    "    print('\\nprices: {}'.format(prices))\n",
    "    print('\\ntime: {}'.format(end-start))\n",
    "get_econpy()"
   ]
  },
  {
   "cell_type": "code",
   "execution_count": 4,
   "metadata": {
    "collapsed": false
   },
   "outputs": [
    {
     "name": "stdout",
     "output_type": "stream",
     "text": [
      "buyers: []\n",
      "\n",
      "prices: []\n",
      "url: http://econpy.pythonanywhere.com/ex/001.html\n",
      "url: http://econpy.pythonanywhere.com/ex/003.html\n",
      "url: http://econpy.pythonanywhere.com/ex/005.html\n",
      "url: http://econpy.pythonanywhere.com/ex/002.html\n",
      "url: http://econpy.pythonanywhere.com/ex/004.html\n"
     ]
    }
   ],
   "source": [
    "from threading import Thread, Lock\n",
    "from lxml import html\n",
    "import requests\n",
    "\n",
    "buyers = []\n",
    "prices = []\n",
    "print('buyers: {}'.format(buyers))\n",
    "print('\\nprices: {}'.format(prices))\n",
    "\n",
    "t_lock = Lock()\n",
    "def get_econpy_thread(url):\n",
    "    page = requests.get(url)\n",
    "    tree = html.fromstring(page.content)\n",
    "    b = tree.xpath('//div[@title=\"buyer-name\"]/text()')\n",
    "    p = tree.xpath('//span[@class=\"item-price\"]/text()')\n",
    "    with t_lock:\n",
    "        print('url: {}'.format(url))\n",
    "        buyers.append(b)\n",
    "        prices.append(p)\n",
    "\n",
    "for pageno in range(1,6):\n",
    "    url = 'http://econpy.pythonanywhere.com/ex/00'+str(pageno)+'.html'\n",
    "    t = Thread(target=get_econpy_thread,args=(url,))\n",
    "    t.start()"
   ]
  },
  {
   "cell_type": "code",
   "execution_count": 5,
   "metadata": {
    "collapsed": false
   },
   "outputs": [
    {
     "name": "stdout",
     "output_type": "stream",
     "text": [
      "buyers: [['Carson Busses', 'Earl E. Byrd', 'Patty Cakes', 'Derri Anne Connecticut', 'Moe Dess', 'Leda Doggslife', 'Dan Druff', 'Al Fresco', 'Ido Hoe', 'Howie Kisses', 'Len Lease', 'Phil Meup', 'Ira Pent', 'Ben D. Rules', 'Ave Sectomy', 'Gary Shattire', 'Bobbi Soks', 'Sheila Takya', 'Rose Tattoo', 'Moe Tell'], ['Dell Monte', 'Baxter Nature', 'Agatha L. Outtahere', 'Bunny Pellits', 'Cheri Pitts', 'Forrest Ranger', 'Ron Rico', 'Cole Shute', 'Gracie Spoon', 'May Zola Penny Ante', 'Ray Beeze', 'Barbara Blacksheep', 'Petey Bowt', 'Warner Brothers', 'Mel N. Colic', 'Petey Cue', 'B.V. Dease', 'Benny Fitt', 'Bette R. Haff', 'Desi Krashum'], ['Stella Constellation', 'Lee Derhosen', 'Stan Dupp', 'Hammond Ecks', 'Fanny Farmer', 'Golda Fish', 'Shirley U. Geste', 'Lou Gubrious', 'Beverly Hills', 'Castor Hoyle', 'Bella Katt', 'Al Lergy', 'Ida Lowers', 'Pete Moss', 'Rhoda Mule', 'Missy Perriad', 'Carolina Rice', 'Anna Septic', 'Cass Tigate', 'Val Voline'], ['Les Toil', 'Lionel Train', 'N.V. Ubble', 'Mayflower van Lines', 'Chad A. While', 'Larry Yet Ann Arbor', 'Ted D. Baer', 'Etta Burger', 'Doris Closed', 'Bard Dahl', 'Barry Dellive', 'Robin Droppings', 'Io Ewe', 'May Flye', 'Alma Gedon', 'Hy Marks', 'Holly Hox', 'Chris Kraft', 'Ellis I. Land', 'Penny Loafer'], ['Gill D. Lily', 'Cole Mines', 'Phil R. Monik', 'L.O. Quency', 'Connel Radd', 'Ben D. Rules', 'Cleon Sheets', 'Renata Tampaks', 'Justin Thyme', 'Matt Tress', 'Vic Trola', 'Al Truist', 'Aaron Tyres', 'U.N. Wattarmey', 'Abe L.N. Willing', 'Jerry Atrick', 'Hy Ball', 'Jill E. Bean', 'Kitty Car', 'Phil Coe']]\n",
      "\n",
      "prices: [['$29.95', '$8.37', '$15.26', '$19.25', '$19.25', '$13.99', '$31.57', '$8.49', '$14.47', '$15.86', '$11.11', '$15.98', '$16.27', '$7.50', '$50.85', '$14.26', '$5.68', '$15.00', '$114.07', '$10.09'], ['$12.00', '$6.47', '$8.99', '$18.75', '$16.93', '$12.51', '$60.98', '$4.99', '$11.10', '$9.34', '$55.82', '$10.00', '$8.79', '$8.09', '$16.66', '$14.36', '$11.98', '$16.75', '$8.79', '$9.99'], ['$25.00', '$8.49', '$15.04', '$17.14', '$15.68', '$10.60', '$14.98', '$8.99', '$20.74', '$25.95', '$17.98', '$4.99', '$8.49', '$15.36', '$9.89', '$15.60', '$28.12', '$19.97', '$25.70', '$26.28'], ['$19.25', '$13.99', '$8.47', '$16.28', '$9.60', '$9.49', '$12.47', '$10.99', '$10.09', '$21.03', '$16.13', '$17.47', '$16.71', '$34.33', '$14.61', '$14.67', '$9.49', '$8.99', '$20.47', '$6.47'], ['$21.21', '$11.56', '$8.99', '$14.30', '$4.99', '$45.00', '$16.27', '$14.24', '$10.98', '$18.47', '$11.43', '$17.63', '$25.00', '$16.13', '$4.99', '$14.11', '$16.61', '$9.49', '$11.13', '$11.10']]\n"
     ]
    }
   ],
   "source": [
    "print('buyers: {}'.format(buyers))\n",
    "print('\\nprices: {}'.format(prices))"
   ]
  },
  {
   "cell_type": "code",
   "execution_count": 6,
   "metadata": {
    "collapsed": false
   },
   "outputs": [
    {
     "name": "stdout",
     "output_type": "stream",
     "text": [
      "buyers: []\n",
      "\n",
      "prices: []\n",
      "url: http://econpy.pythonanywhere.com/ex/003.html\n",
      "url: http://econpy.pythonanywhere.com/ex/001.html\n",
      "url: http://econpy.pythonanywhere.com/ex/002.html\n",
      "url: http://econpy.pythonanywhere.com/ex/004.html\n",
      "url: http://econpy.pythonanywhere.com/ex/005.html\n"
     ]
    }
   ],
   "source": [
    "from concurrent.futures import ThreadPoolExecutor\n",
    "import requests\n",
    "\n",
    "buyers = []\n",
    "prices = []\n",
    "print('buyers: {}'.format(buyers))\n",
    "print('\\nprices: {}'.format(prices))\n",
    "urls = []\n",
    "\n",
    "def get_econpy_futures(url):\n",
    "    page = requests.get(url)\n",
    "    tree = html.fromstring(page.content)\n",
    "    b = tree.xpath('//div[@title=\"buyer-name\"]/text()')\n",
    "    p = tree.xpath('//span[@class=\"item-price\"]/text()')\n",
    "    print('url: {}'.format(url))\n",
    "    return (b,p)\n",
    "\n",
    "pool = ThreadPoolExecutor(max_workers=5)\n",
    "\n",
    "for pageno in range(1,6):\n",
    "    url = 'http://econpy.pythonanywhere.com/ex/00'+str(pageno)+'.html'\n",
    "    urls.append(url)\n",
    "\n",
    "for (b,p) in pool.map(get_econpy_futures,urls):\n",
    "    buyers.append(b)\n",
    "    prices.append(p)"
   ]
  },
  {
   "cell_type": "code",
   "execution_count": 7,
   "metadata": {
    "collapsed": false
   },
   "outputs": [
    {
     "name": "stdout",
     "output_type": "stream",
     "text": [
      "buyers: [['Carson Busses', 'Earl E. Byrd', 'Patty Cakes', 'Derri Anne Connecticut', 'Moe Dess', 'Leda Doggslife', 'Dan Druff', 'Al Fresco', 'Ido Hoe', 'Howie Kisses', 'Len Lease', 'Phil Meup', 'Ira Pent', 'Ben D. Rules', 'Ave Sectomy', 'Gary Shattire', 'Bobbi Soks', 'Sheila Takya', 'Rose Tattoo', 'Moe Tell'], ['Les Toil', 'Lionel Train', 'N.V. Ubble', 'Mayflower van Lines', 'Chad A. While', 'Larry Yet Ann Arbor', 'Ted D. Baer', 'Etta Burger', 'Doris Closed', 'Bard Dahl', 'Barry Dellive', 'Robin Droppings', 'Io Ewe', 'May Flye', 'Alma Gedon', 'Hy Marks', 'Holly Hox', 'Chris Kraft', 'Ellis I. Land', 'Penny Loafer'], ['Dell Monte', 'Baxter Nature', 'Agatha L. Outtahere', 'Bunny Pellits', 'Cheri Pitts', 'Forrest Ranger', 'Ron Rico', 'Cole Shute', 'Gracie Spoon', 'May Zola Penny Ante', 'Ray Beeze', 'Barbara Blacksheep', 'Petey Bowt', 'Warner Brothers', 'Mel N. Colic', 'Petey Cue', 'B.V. Dease', 'Benny Fitt', 'Bette R. Haff', 'Desi Krashum'], ['Gill D. Lily', 'Cole Mines', 'Phil R. Monik', 'L.O. Quency', 'Connel Radd', 'Ben D. Rules', 'Cleon Sheets', 'Renata Tampaks', 'Justin Thyme', 'Matt Tress', 'Vic Trola', 'Al Truist', 'Aaron Tyres', 'U.N. Wattarmey', 'Abe L.N. Willing', 'Jerry Atrick', 'Hy Ball', 'Jill E. Bean', 'Kitty Car', 'Phil Coe'], ['Stella Constellation', 'Lee Derhosen', 'Stan Dupp', 'Hammond Ecks', 'Fanny Farmer', 'Golda Fish', 'Shirley U. Geste', 'Lou Gubrious', 'Beverly Hills', 'Castor Hoyle', 'Bella Katt', 'Al Lergy', 'Ida Lowers', 'Pete Moss', 'Rhoda Mule', 'Missy Perriad', 'Carolina Rice', 'Anna Septic', 'Cass Tigate', 'Val Voline']]\n",
      "\n",
      "prices: [['$29.95', '$8.37', '$15.26', '$19.25', '$19.25', '$13.99', '$31.57', '$8.49', '$14.47', '$15.86', '$11.11', '$15.98', '$16.27', '$7.50', '$50.85', '$14.26', '$5.68', '$15.00', '$114.07', '$10.09'], ['$19.25', '$13.99', '$8.47', '$16.28', '$9.60', '$9.49', '$12.47', '$10.99', '$10.09', '$21.03', '$16.13', '$17.47', '$16.71', '$34.33', '$14.61', '$14.67', '$9.49', '$8.99', '$20.47', '$6.47'], ['$12.00', '$6.47', '$8.99', '$18.75', '$16.93', '$12.51', '$60.98', '$4.99', '$11.10', '$9.34', '$55.82', '$10.00', '$8.79', '$8.09', '$16.66', '$14.36', '$11.98', '$16.75', '$8.79', '$9.99'], ['$21.21', '$11.56', '$8.99', '$14.30', '$4.99', '$45.00', '$16.27', '$14.24', '$10.98', '$18.47', '$11.43', '$17.63', '$25.00', '$16.13', '$4.99', '$14.11', '$16.61', '$9.49', '$11.13', '$11.10'], ['$25.00', '$8.49', '$15.04', '$17.14', '$15.68', '$10.60', '$14.98', '$8.99', '$20.74', '$25.95', '$17.98', '$4.99', '$8.49', '$15.36', '$9.89', '$15.60', '$28.12', '$19.97', '$25.70', '$26.28']]\n"
     ]
    }
   ],
   "source": [
    "print('buyers: {}'.format(buyers))\n",
    "print('\\nprices: {}'.format(prices))"
   ]
  },
  {
   "cell_type": "code",
   "execution_count": null,
   "metadata": {
    "collapsed": true
   },
   "outputs": [],
   "source": []
  }
 ],
 "metadata": {
  "kernelspec": {
   "display_name": "Python 3",
   "language": "python",
   "name": "python3"
  },
  "language_info": {
   "codemirror_mode": {
    "name": "ipython",
    "version": 3
   },
   "file_extension": ".py",
   "mimetype": "text/x-python",
   "name": "python",
   "nbconvert_exporter": "python",
   "pygments_lexer": "ipython3",
   "version": "3.5.2"
  }
 },
 "nbformat": 4,
 "nbformat_minor": 0
}
